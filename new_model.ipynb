{
 "cells": [
  {
   "cell_type": "code",
   "execution_count": 1,
   "metadata": {},
   "outputs": [
    {
     "name": "stderr",
     "output_type": "stream",
     "text": [
      "2022-08-18 06:36:04.845292: I tensorflow/stream_executor/platform/default/dso_loader.cc:49] Successfully opened dynamic library libcudart.so.10.1\n",
      "/home/lunet/conm/.conda/envs/stenosispyv/lib/python3.9/site-packages/scipy/__init__.py:146: UserWarning: A NumPy version >=1.16.5 and <1.23.0 is required for this version of SciPy (detected version 1.23.1\n",
      "  warnings.warn(f\"A NumPy version >={np_minversion} and <{np_maxversion}\"\n"
     ]
    }
   ],
   "source": [
    "import os\n",
    "import numpy as np\n",
    "import pandas as pd\n",
    "import cv2\n",
    "import splitfolders\n",
    "import tensorflow as tf\n",
    "import matplotlib.pyplot as plt\n",
    "from tensorflow.python.client import device_lib\n",
    "from tensorflow import keras\n",
    "from tensorflow.keras import regularizers\n",
    "from tensorflow.python.keras import backend as K\n",
    "from tensorflow.keras.layers import Dense, Dropout, Conv2D, MaxPool2D, Flatten, BatchNormalization, LeakyReLU\n",
    "from tensorflow.keras.layers.experimental.preprocessing import RandomFlip\n",
    "from tensorflow.keras.models import Sequential\n",
    "from tensorflow.keras import models\n",
    "from tensorflow.keras.optimizers import Adam as Adam\n",
    "from tensorflow.keras.optimizers import SGD as SGD\n",
    "from tensorflow.keras.optimizers import RMSprop as RMSprop\n",
    "from tensorflow.keras.optimizers import Adagrad as Adagrad\n",
    "from tensorflow.keras.optimizers import Adadelta as Adadelta\n",
    "from tensorflow.keras.optimizers import Adamax as Adamax\n",
    "from tensorflow.keras.optimizers import Nadam as Nadam\n",
    "from tensorflow.keras.optimizers.schedules import ExponentialDecay\n",
    "import shutil\n",
    "import tensorflow_ranking as tfr\n",
    "from tensorflow_ranking.python.keras.metrics import MeanAveragePrecisionMetric\n",
    "from tensorflow.keras.preprocessing.image import ImageDataGenerator\n",
    "from tensorflow.keras.optimizers import Adam\n",
    "from tensorflow.keras.callbacks import EarlyStopping\n",
    "from tensorflow.keras import initializers"
   ]
  },
  {
   "cell_type": "code",
   "execution_count": 2,
   "metadata": {},
   "outputs": [
    {
     "name": "stdout",
     "output_type": "stream",
     "text": [
      "[name: \"/device:CPU:0\"\n",
      "device_type: \"CPU\"\n",
      "memory_limit: 268435456\n",
      "locality {\n",
      "}\n",
      "incarnation: 13258164964381394115\n",
      ", name: \"/device:GPU:0\"\n",
      "device_type: \"GPU\"\n",
      "memory_limit: 10507766976\n",
      "locality {\n",
      "  bus_id: 1\n",
      "  links {\n",
      "  }\n",
      "}\n",
      "incarnation: 17200872725404378085\n",
      "physical_device_desc: \"device: 0, name: NVIDIA GeForce RTX 2080 Ti, pci bus id: 0000:01:00.0, compute capability: 7.5\"\n",
      "]\n"
     ]
    },
    {
     "name": "stderr",
     "output_type": "stream",
     "text": [
      "2022-08-18 06:36:20.133024: I tensorflow/core/platform/cpu_feature_guard.cc:142] This TensorFlow binary is optimized with oneAPI Deep Neural Network Library (oneDNN) to use the following CPU instructions in performance-critical operations:  SSE4.1 SSE4.2 AVX AVX2 FMA\n",
      "To enable them in other operations, rebuild TensorFlow with the appropriate compiler flags.\n",
      "2022-08-18 06:36:20.152640: I tensorflow/compiler/jit/xla_gpu_device.cc:99] Not creating XLA devices, tf_xla_enable_xla_devices not set\n",
      "2022-08-18 06:36:20.155005: I tensorflow/stream_executor/platform/default/dso_loader.cc:49] Successfully opened dynamic library libcuda.so.1\n",
      "2022-08-18 06:36:20.475663: I tensorflow/stream_executor/cuda/cuda_gpu_executor.cc:941] successful NUMA node read from SysFS had negative value (-1), but there must be at least one NUMA node, so returning NUMA node zero\n",
      "2022-08-18 06:36:20.477306: I tensorflow/core/common_runtime/gpu/gpu_device.cc:1720] Found device 0 with properties: \n",
      "pciBusID: 0000:01:00.0 name: NVIDIA GeForce RTX 2080 Ti computeCapability: 7.5\n",
      "coreClock: 1.545GHz coreCount: 68 deviceMemorySize: 10.76GiB deviceMemoryBandwidth: 573.69GiB/s\n",
      "2022-08-18 06:36:20.477390: I tensorflow/stream_executor/platform/default/dso_loader.cc:49] Successfully opened dynamic library libcudart.so.10.1\n",
      "2022-08-18 06:36:21.149879: I tensorflow/stream_executor/platform/default/dso_loader.cc:49] Successfully opened dynamic library libcublas.so.10\n",
      "2022-08-18 06:36:21.149954: I tensorflow/stream_executor/platform/default/dso_loader.cc:49] Successfully opened dynamic library libcublasLt.so.10\n",
      "2022-08-18 06:36:21.586858: I tensorflow/stream_executor/platform/default/dso_loader.cc:49] Successfully opened dynamic library libcufft.so.10\n",
      "2022-08-18 06:36:21.651662: I tensorflow/stream_executor/platform/default/dso_loader.cc:49] Successfully opened dynamic library libcurand.so.10\n",
      "2022-08-18 06:36:22.336045: I tensorflow/stream_executor/platform/default/dso_loader.cc:49] Successfully opened dynamic library libcusolver.so.10\n",
      "2022-08-18 06:36:22.434878: I tensorflow/stream_executor/platform/default/dso_loader.cc:49] Successfully opened dynamic library libcusparse.so.10\n",
      "2022-08-18 06:36:23.587418: I tensorflow/stream_executor/platform/default/dso_loader.cc:49] Successfully opened dynamic library libcudnn.so.7\n",
      "2022-08-18 06:36:23.587562: I tensorflow/stream_executor/cuda/cuda_gpu_executor.cc:941] successful NUMA node read from SysFS had negative value (-1), but there must be at least one NUMA node, so returning NUMA node zero\n",
      "2022-08-18 06:36:23.588066: I tensorflow/stream_executor/cuda/cuda_gpu_executor.cc:941] successful NUMA node read from SysFS had negative value (-1), but there must be at least one NUMA node, so returning NUMA node zero\n",
      "2022-08-18 06:36:23.588519: I tensorflow/core/common_runtime/gpu/gpu_device.cc:1862] Adding visible gpu devices: 0\n",
      "2022-08-18 06:36:23.603941: I tensorflow/stream_executor/platform/default/dso_loader.cc:49] Successfully opened dynamic library libcudart.so.10.1\n",
      "2022-08-18 06:36:27.671774: I tensorflow/core/common_runtime/gpu/gpu_device.cc:1261] Device interconnect StreamExecutor with strength 1 edge matrix:\n",
      "2022-08-18 06:36:27.671836: I tensorflow/core/common_runtime/gpu/gpu_device.cc:1267]      0 \n",
      "2022-08-18 06:36:27.671855: I tensorflow/core/common_runtime/gpu/gpu_device.cc:1280] 0:   N \n",
      "2022-08-18 06:36:"
     ]
    }
   ],
   "source": [
    "print(device_lib.list_local_devices())\n",
    "# check available GPU with tensorflow\n",
    "# print(\"Num GPUs Available: \", len(tf.config.list_physical_devices('GPU')))\n"
   ]
  },
  {
   "cell_type": "code",
   "execution_count": 3,
   "metadata": {},
   "outputs": [
    {
     "name": "stderr",
     "output_type": "stream",
     "text": [
      "27.678970: I tensorflow/stream_executor/cuda/cuda_gpu_executor.cc:941] successful NUMA node read from SysFS had negative value (-1), but there must be at least one NUMA node, so returning NUMA node zero\n",
      "2022-08-18 06:36:27.680551: I tensorflow/stream_executor/cuda/cuda_gpu_executor.cc:941] successful NUMA node read from SysFS had negative value (-1), but there must be at least one NUMA node, so returning NUMA node zero\n",
      "2022-08-18 06:36:27.682009: I tensorflow/stream_executor/cuda/cuda_gpu_executor.cc:941] successful NUMA node read from SysFS had negative value (-1), but there must be at least one NUMA node, so returning NUMA node zero\n",
      "2022-08-18 06:36:27.683343: I tensorflow/core/common_runtime/gpu/gpu_device.cc:1406] Created TensorFlow device (/device:GPU:0 with 10020 MB memory) -> physical GPU (device: 0, name: NVIDIA GeForce RTX 2080 Ti, pci bus id: 0000:01:00.0, compute capability: 7.5)\n"
     ]
    }
   ],
   "source": [
    "train_path = '/home/lunet/conm/Desktop/Stenosis-Project/output/train/stenosis'\n",
    "\n",
    "test_path = '/home/lunet/conm/Desktop/Stenosis-Project/test_images'\n",
    "\n",
    "val_path = '/home/lunet/conm/Desktop/Stenosis-Project/output/val/stenosis'\n",
    "\n",
    "train_path2 = '/home/lunet/conm/Desktop/Stenosis-Project/output2/train/stenosis'\n",
    "\n",
    "val_path2 = '/home/lunet/conm/Desktop/Stenosis-Project/output2/val/stenosis'"
   ]
  },
  {
   "cell_type": "code",
   "execution_count": 4,
   "metadata": {},
   "outputs": [
    {
     "data": {
      "text/plain": [
       "5993"
      ]
     },
     "execution_count": 4,
     "metadata": {},
     "output_type": "execute_result"
    }
   ],
   "source": [
    "# Read train_labels.csv\n",
    "train_labels_csv = pd.read_csv('train_labels.csv')\n",
    "train_labels_csv_3 = pd.read_csv('train_labels_3.csv')\n",
    "len(train_labels_csv_3)"
   ]
  },
  {
   "cell_type": "code",
   "execution_count": 5,
   "metadata": {},
   "outputs": [],
   "source": [
    "test_labels_csv = pd.read_csv('test_labels.csv')"
   ]
  },
  {
   "cell_type": "code",
   "execution_count": 6,
   "metadata": {},
   "outputs": [
    {
     "data": {
      "text/plain": [
       "1499"
      ]
     },
     "execution_count": 6,
     "metadata": {},
     "output_type": "execute_result"
    }
   ],
   "source": [
    "val_labels_csv = pd.read_csv('val_labels.csv')\n",
    "val_labels_csv_2 = pd.read_csv('val_labels_2.csv')\n",
    "len(val_labels_csv_2)"
   ]
  },
  {
   "cell_type": "code",
   "execution_count": 7,
   "metadata": {},
   "outputs": [],
   "source": [
    "train_images = []\n",
    "train_targets = []"
   ]
  },
  {
   "cell_type": "code",
   "execution_count": 8,
   "metadata": {},
   "outputs": [],
   "source": [
    "val_images = []\n",
    "val_targets = []"
   ]
  },
  {
   "cell_type": "code",
   "execution_count": 9,
   "metadata": {},
   "outputs": [],
   "source": [
    "test_images = []\n",
    "test_targets = []"
   ]
  },
  {
   "cell_type": "code",
   "execution_count": 10,
   "metadata": {},
   "outputs": [],
   "source": [
    "for index, row in train_labels_csv_3.iterrows():\n",
    "    (filename, width, height, class_name, xmin, ymin, xmax, ymax) = row\n",
    "\n",
    "    pic = cv2.imread(os.path.join(train_path2,filename))\n",
    "    pic = cv2.resize(pic, (400, 400))\n",
    "    # pic_arr = keras.preprocessing.image.img_to_array(pic)\n",
    "\n",
    "    train_images.append(pic)\n",
    "    train_targets.append((xmin, ymin, xmax, ymax))"
   ]
  },
  {
   "cell_type": "code",
   "execution_count": 11,
   "metadata": {},
   "outputs": [],
   "source": [
    "for index, row in val_labels_csv_2.iterrows():\n",
    "    (filename, width, height, class_name, xmin, ymin, xmax, ymax) = row\n",
    "\n",
    "    pic = cv2.imread(os.path.join(val_path2,filename))\n",
    "    pic = cv2.resize(pic, (400, 400))\n",
    "    # pic_arr = keras.preprocessing.image.img_to_array(pic)\n",
    "\n",
    "    val_images.append(pic)\n",
    "    val_targets.append((xmin, ymin, xmax, ymax))"
   ]
  },
  {
   "cell_type": "code",
   "execution_count": 12,
   "metadata": {},
   "outputs": [],
   "source": [
    "for index, row in test_labels_csv.iterrows():\n",
    "    (filename, width, height, class_name, xmin, ymin, xmax, ymax) = row\n",
    "\n",
    "    pic = cv2.imread(os.path.join(test_path,filename))\n",
    "    pic = cv2.resize(pic, (400, 400))\n",
    "    # pic_arr = keras.preprocessing.image.img_to_array(pic)\n",
    "\n",
    "    test_images.append(pic)\n",
    "    test_targets.append((xmin, ymin, xmax, ymax))"
   ]
  },
  {
   "cell_type": "code",
   "execution_count": 13,
   "metadata": {},
   "outputs": [],
   "source": [
    "train_images = np.asarray(train_images).astype('float32')\n",
    "train_targets = np.asarray(train_targets).astype('float32')"
   ]
  },
  {
   "cell_type": "code",
   "execution_count": 14,
   "metadata": {},
   "outputs": [],
   "source": [
    "val_images = np.asarray(val_images).astype('float32')\n",
    "val_targets = np.asarray(val_targets).astype('float32')"
   ]
  },
  {
   "cell_type": "code",
   "execution_count": 15,
   "metadata": {},
   "outputs": [],
   "source": [
    "test_images = np.asarray(test_images).astype('float32')\n",
    "test_targets = np.asarray(test_targets).astype('float32')"
   ]
  },
  {
   "cell_type": "code",
   "execution_count": 16,
   "metadata": {},
   "outputs": [
    {
     "data": {
      "text/plain": [
       "(833, 400, 400, 3)"
      ]
     },
     "execution_count": 16,
     "metadata": {},
     "output_type": "execute_result"
    }
   ],
   "source": [
    "test_images.shape"
   ]
  },
  {
   "cell_type": "code",
   "execution_count": 17,
   "metadata": {},
   "outputs": [
    {
     "data": {
      "text/plain": [
       "(1499, 400, 400, 3)"
      ]
     },
     "execution_count": 17,
     "metadata": {},
     "output_type": "execute_result"
    }
   ],
   "source": [
    "val_images.shape"
   ]
  },
  {
   "cell_type": "code",
   "execution_count": 18,
   "metadata": {},
   "outputs": [
    {
     "data": {
      "text/plain": [
       "(5993, 400, 400, 3)"
      ]
     },
     "execution_count": 18,
     "metadata": {},
     "output_type": "execute_result"
    }
   ],
   "source": [
    "train_images.shape"
   ]
  },
  {
   "cell_type": "code",
   "execution_count": 19,
   "metadata": {},
   "outputs": [],
   "source": [
    "# Normalize targets\n",
    "train_targets /= 256\n",
    "val_targets /= 256\n",
    "\n",
    "# Normalize images\n",
    "train_images /= 255\n",
    "val_images /= 255\n",
    "\n",
    "# Normalize test images\n",
    "test_images /= 255\n",
    "test_targets /= 256"
   ]
  },
  {
   "cell_type": "code",
   "execution_count": 20,
   "metadata": {},
   "outputs": [],
   "source": [
    "dataGenerator = ImageDataGenerator(rotation_range=0, \n",
    "                                   zoom_range=0, \n",
    "                                   width_shift_range=0, \n",
    "                                   height_shift_range=0, \n",
    "                                   horizontal_flip=False,\n",
    "                                   vertical_flip=False,)"
   ]
  },
  {
   "cell_type": "code",
   "execution_count": 21,
   "metadata": {},
   "outputs": [],
   "source": [
    "es = EarlyStopping(monitor='val_loss', mode='min', verbose=1, patience=10)"
   ]
  },
  {
   "cell_type": "code",
   "execution_count": 22,
   "metadata": {},
   "outputs": [
    {
     "name": "stderr",
     "output_type": "stream",
     "text": [
      "2022-08-14 01:45:05.518390: I tensorflow/compiler/jit/xla_cpu_device.cc:41] Not creating XLA devices, tf_xla_enable_xla_devices not set\n",
      "2022-08-14 01:45:05.735911: I tensorflow/stream_executor/cuda/cuda_gpu_executor.cc:941] successful NUMA node read from SysFS had negative value (-1), but there must be at least one NUMA node, so returning NUMA node zero\n",
      "2022-08-14 01:45:05.737386: I tensorflow/core/common_runtime/gpu/gpu_device.cc:1720] Found device 0 with properties: \n",
      "pciBusID: 0000:01:00.0 name: NVIDIA GeForce RTX 2080 Ti computeCapability: 7.5\n",
      "coreClock: 1.545GHz coreCount: 68 deviceMemorySize: 10.76GiB deviceMemoryBandwidth: 573.69GiB/s\n",
      "2022-08-14 01:45:06.377753: I tensorflow/stream_executor/platform/default/dso_loader.cc:49] Successfully opened dynamic library libcudart.so.10.1\n",
      "2022-08-14 01:45:06.509686: I tensorflow/stream_executor/platform/default/dso_loader.cc:49] Successfully opened dynamic library libcublas.so.10\n",
      "2022-08-14 01:45:06.520983: I tensorflow/stream_executor/platform/default/dso_loader.cc:49] Successfully opened dynamic library libcublasLt.so.10\n",
      "2022-08-14 01:45:06.523495: I tensorflow/stream_executor/platform/default/dso_loader.cc:49] Successfully opened dynamic library libcufft.so.10\n",
      "2022-08-14 01:45:06.545995: I tensorflow/stream_executor/platform/default/dso_loader.cc:49] Successfully opened dynamic library libcurand.so.10\n",
      "2022-08-14 01:45:06.546109: I tensorflow/stream_executor/platform/default/dso_loader.cc:49] Successfully opened dynamic library libcusolver.so.10\n",
      "2022-08-14 01:45:06.573864: I tensorflow/stream_executor/platform/default/dso_loader.cc:49] Successfully opened dynamic library libcusparse.so.10\n",
      "2022-08-14 01:45:06.584509: I tensorflow/stream_executor/platform/default/dso_loader.cc:49] Successfully opened dynamic library libcudnn.so.7\n",
      "2022-08-14 01:45:06.584588: I tensorflow/stream_executor/cuda/cuda_gpu_executor.cc:941] successful NUMA node read from SysFS had negative value (-1), but there must be at least one NUMA node, so returning NUMA node zero\n",
      "2022-08-14 01:45:06.584973: I tensorflow/stream_executor/cuda/cuda_gpu_executor.cc:941] successful NUMA node read from SysFS had negative value (-1), but there must be at least one NUMA node, so returning NUMA node zero\n",
      "2022-08-14 01:45:06.585278: I tensorflow/core/common_runtime/gpu/gpu_device.cc:1862] Adding visible gpu devices: 0\n",
      "2022-08-14 01:45:06.585628: I tensorflow/compiler/jit/xla_gpu_device.cc:99] Not creating XLA devices, tf_xla_enable_xla_devices not set\n",
      "2022-08-14 01:45:06.585691: I tensorflow/stream_executor/cuda/cuda_gpu_executor.cc:941] successful NUMA node read from SysFS had negative value (-1), but there must be at least one NUMA node, so returning NUMA node zero\n",
      "2022-08-14 01:45:06.586009: I tensorflow/core/common_runtime/gpu/gpu_device.cc:1720] Found device 0 with properties: \n",
      "pciBusID: 0000:01:00.0 name: NVIDIA GeForce RTX 2080 Ti computeCapability: 7.5\n",
      "coreClock: 1.545GHz coreCount: 68 deviceMemorySize: 10.76GiB deviceMemoryBandwidth: 573.69GiB/s\n",
      "2022-08-14 01:45:06.586026: I tensorflow/stream_executor/platform/default/dso_loader.cc:49] Successfully opened dynamic library libcudart.so.10.1\n",
      "2022-08-14 01:45:06.586040: I tensorflow/stream_executor/platform/default/dso_loader.cc:49] Successfully opened dynamic library libcublas.so.10\n",
      "2022-08-14 01:45:06.586051: I tensorflow/stream_executor/platform/default/dso_loader.cc:49] Successfully opened dynamic library libcublasLt.so.10\n",
      "2022-08-14 01:45:06.586062: I tensorflow/stream_executor/platform/default/dso_loader.cc:49] Successfully opened dynamic library libcufft.so.10\n",
      "2022-08-14 01:45:06.586074: I tensorflow/stream_executor/platform/default/dso_loader.cc:49] Successfully opened dynamic library libcurand.so.10\n",
      "2022-08-14 01:45:06.586085: I tensorflow/stream_executor/platform/default/dso_loader.cc:49] Successfully opened dynamic library libcusolver.so.10\n",
      "2022-08-14 01:45:06.586096: I tensorflow/stream_executor/platform/default/dso_loader.cc:49] Successfully opened dynamic library libcusparse.so.10\n",
      "2022-08-14 01:45:06.586107: I tensorflow/stream_executor/platform/default/dso_loader.cc:49] Successfully opened dynamic library libcudnn.so.7\n",
      "2022-08-14 01:45:06.586145: I tensorflow/stream_executor/cuda/cuda_gpu_executor.cc:941] successful NUMA node read from SysFS had negative value (-1), but there must be at least one NUMA node, so returning NUMA node zero\n",
      "2022-08-14 01:45:06.586478: I tensorflow/stream_executor/cuda/cuda_gpu_executor.cc:941] successful NUMA node read from SysFS had negative value (-1), but there must be at least one NUMA node, so returning NUMA node zero\n",
      "2022-08-14 01:45:06.586777: I tensorflow/core/common_runtime/gpu/gpu_device.cc:1862] Adding visible gpu devices: 0\n",
      "2022-08-14 01:45:06.586805: I tensorflow/core/common_runtime/gpu/gpu_device.cc:1261] Device interconnect StreamExecutor with strength 1 edge matrix:\n",
      "2022-08-14 01:45:06.586809: I tensorflow/core/common_runtime/gpu/gpu_device.cc:1267]      0 \n",
      "2022-08-14 01:45:06.586812: I tensorflow/core/common_runtime/gpu/gpu_device.cc:1280] 0:   N \n",
      "2022-08-14 01:45:06.586870: I tensorflow/stream_executor/cuda/cuda_gpu_executor.cc:941] successful NUMA node read from SysFS had negative value (-1), but there must be at least one NUMA node, so returning NUMA node zero\n",
      "2022-08-14 01:45:06.587205: I tensorflow/stream_executor/cuda/cuda_gpu_executor.cc:941] successful NUMA node read from SysFS had negative value (-1), but there must be at least one NUMA node, so returning NUMA node zero\n",
      "2022-08-14 01:45:06.587515: I tensorflow/core/common_runtime/gpu/gpu_device.cc:1406] Created TensorFlow device (/job:localhost/replica:0/task:0/device:GPU:0 with 9967 MB memory) -> physical GPU (device: 0, name: NVIDIA GeForce RTX 2080 Ti, pci bus id: 0000:01:00.0, compute capability: 7.5)\n"
     ]
    }
   ],
   "source": [
    "# Create a new model for object detection and transfer learning\n",
    "initializer = tf.keras.initializers.HeUniform()\n",
    "model = Sequential()\n",
    "\n",
    "model.add(Conv2D(32, (3, 3), activation='relu', input_shape=(350, 350, 3)))\n",
    "model.add(BatchNormalization())\n",
    "model.add(MaxPool2D(pool_size=(2, 2)))\n",
    "\n",
    "model.add(Conv2D(32, (3, 3), activation='relu'))\n",
    "model.add(BatchNormalization())\n",
    "model.add(MaxPool2D(pool_size=(2, 2)))\n",
    "\n",
    "model.add(Conv2D(64, (3, 3), activation='relu'))\n",
    "model.add(BatchNormalization())\n",
    "model.add(MaxPool2D(pool_size=(2, 2)))\n",
    "\n",
    "model.add(Conv2D(64, (3, 3), activation='relu'))\n",
    "model.add(BatchNormalization())\n",
    "model.add(MaxPool2D(pool_size=(2, 2)))\n",
    "\n",
    "model.add(Conv2D(128, (3, 3), activation='relu'))\n",
    "model.add(BatchNormalization())\n",
    "model.add(MaxPool2D(pool_size=(2, 2)))\n",
    "\n",
    "model.add(Conv2D(128, (3, 3), activation='relu'))\n",
    "model.add(MaxPool2D(pool_size=(2, 2)))\n",
    "\n",
    "model.add(Flatten())\n",
    "model.add(Dense(256, activation='relu', kernel_initializer=initializer))\n",
    "model.add(Dropout(0.5))\n",
    "model.add(Dense(4))\n",
    "\n",
    "model.compile(loss='mse', optimizer='adam', metrics=[tfr.keras.metrics.MeanAveragePrecisionMetric()])"
   ]
  },
  {
   "cell_type": "code",
   "execution_count": 24,
   "metadata": {},
   "outputs": [
    {
     "name": "stderr",
     "output_type": "stream",
     "text": [
      "2022-08-14 01:45:09.437649: I tensorflow/compiler/mlir/mlir_graph_optimization_pass.cc:116] None of the MLIR optimization passes are enabled (registered 2)\n",
      "2022-08-14 01:45:09.488425: I tensorflow/core/platform/profile_utils/cpu_utils.cc:112] CPU Frequency: 3000000000 Hz\n"
     ]
    },
    {
     "name": "stdout",
     "output_type": "stream",
     "text": [
      "Epoch 1/150\n",
      "WARNING:tensorflow:AutoGraph could not transform <bound method MeanAveragePrecisionMetric._compute_impl of <tensorflow_ranking.python.metrics_impl.MeanAveragePrecisionMetric object at 0x7fa67c1e13a0>> and will run it as-is.\n",
      "Please report this to the TensorFlow team. When filing the bug, set the verbosity to 10 (on Linux, `export AUTOGRAPH_VERBOSITY=10`) and attach the full output.\n",
      "Cause: module 'gast' has no attribute 'Index'\n",
      "To silence this warning, decorate the function with @tf.autograph.experimental.do_not_convert\n",
      "WARNING: AutoGraph could not transform <bound method MeanAveragePrecisionMetric._compute_impl of <tensorflow_ranking.python.metrics_impl.MeanAveragePrecisionMetric object at 0x7fa67c1e13a0>> and will run it as-is.\n",
      "Please report this to the TensorFlow team. When filing the bug, set the verbosity to 10 (on Linux, `export AUTOGRAPH_VERBOSITY=10`) and attach the full output.\n",
      "Cause: module 'gast' has no attribute 'Index'\n",
      "To silence this warning, decorate the function with @tf.autograph.experimental.do_not_convert\n"
     ]
    },
    {
     "name": "stderr",
     "output_type": "stream",
     "text": [
      "2022-08-14 01:45:10.996149: I tensorflow/stream_executor/platform/default/dso_loader.cc:49] Successfully opened dynamic library libcublas.so.10\n",
      "2022-08-14 01:45:12.430962: I tensorflow/stream_executor/platform/default/dso_loader.cc:49] Successfully opened dynamic library libcudnn.so.7\n"
     ]
    },
    {
     "name": "stdout",
     "output_type": "stream",
     "text": [
      "843/843 [==============================] - 27s 22ms/step - loss: 1.0291 - mean_average_precision_metric: 0.6585 - val_loss: 0.2676 - val_mean_average_precision_metric: 0.6670\n",
      "Epoch 2/150\n",
      "843/843 [==============================] - 12s 15ms/step - loss: 0.2267 - mean_average_precision_metric: 0.7132 - val_loss: 0.1905 - val_mean_average_precision_metric: 0.7329\n",
      "Epoch 3/150\n",
      "843/843 [==============================] - 13s 15ms/step - loss: 0.1793 - mean_average_precision_metric: 0.7259 - val_loss: 0.1311 - val_mean_average_precision_metric: 0.7427\n",
      "Epoch 4/150\n",
      "843/843 [==============================] - 13s 15ms/step - loss: 0.1548 - mean_average_precision_metric: 0.7495 - val_loss: 0.1047 - val_mean_average_precision_metric: 0.7561\n",
      "Epoch 5/150\n",
      "843/843 [==============================] - 12s 15ms/step - loss: 0.1242 - mean_average_precision_metric: 0.7488 - val_loss: 0.0880 - val_mean_average_precision_metric: 0.7589\n",
      "Epoch 6/150\n",
      "843/843 [==============================] - 13s 15ms/step - loss: 0.1095 - mean_average_precision_metric: 0.7627 - val_loss: 0.1654 - val_mean_average_precision_metric: 0.7156\n",
      "Epoch 7/150\n",
      "843/843 [==============================] - 13s 15ms/step - loss: 0.1103 - mean_average_precision_metric: 0.7640 - val_loss: 0.1932 - val_mean_average_precision_metric: 0.7317\n",
      "Epoch 8/150\n",
      "843/843 [==============================] - 13s 15ms/step - loss: 0.1023 - mean_average_precision_metric: 0.7640 - val_loss: 0.1042 - val_mean_average_precision_metric: 0.7580\n",
      "Epoch 9/150\n",
      "843/843 [==============================] - 13s 15ms/step - loss: 0.0971 - mean_average_precision_metric: 0.7665 - val_loss: 0.1881 - val_mean_average_precision_metric: 0.7331\n",
      "Epoch 10/150\n",
      "843/843 [==============================] - 13s 15ms/step - loss: 0.0931 - mean_average_precision_metric: 0.7695 - val_loss: 0.1536 - val_mean_average_precision_metric: 0.7384\n",
      "Epoch 11/150\n",
      "843/843 [==============================] - 13s 15ms/step - loss: 0.0862 - mean_average_precision_metric: 0.7749 - val_loss: 0.4617 - val_mean_average_precision_metric: 0.7114\n",
      "Epoch 12/150\n",
      "843/843 [==============================] - 13s 15ms/step - loss: 0.0857 - mean_average_precision_metric: 0.7833 - val_loss: 0.2945 - val_mean_average_precision_metric: 0.6343\n",
      "Epoch 13/150\n",
      "843/843 [==============================] - 13s 15ms/step - loss: 0.0772 - mean_average_precision_metric: 0.7768 - val_loss: 0.1419 - val_mean_average_precision_metric: 0.7559\n",
      "Epoch 14/150\n",
      "843/843 [==============================] - 13s 15ms/step - loss: 0.0707 - mean_average_precision_metric: 0.7670 - val_loss: 0.0829 - val_mean_average_precision_metric: 0.7744\n",
      "Epoch 15/150\n",
      "843/843 [==============================] - 13s 15ms/step - loss: 0.0709 - mean_average_precision_metric: 0.7840 - val_loss: 0.0686 - val_mean_average_precision_metric: 0.7780\n",
      "Epoch 16/150\n",
      "843/843 [==============================] - 13s 15ms/step - loss: 0.0654 - mean_average_precision_metric: 0.7840 - val_loss: 0.0453 - val_mean_average_precision_metric: 0.7871\n",
      "Epoch 17/150\n",
      "843/843 [==============================] - 13s 15ms/step - loss: 0.0639 - mean_average_precision_metric: 0.7736 - val_loss: 0.5093 - val_mean_average_precision_metric: 0.7145\n",
      "Epoch 18/150\n",
      "843/843 [==============================] - 13s 15ms/step - loss: 0.0619 - mean_average_precision_metric: 0.7934 - val_loss: 0.0327 - val_mean_average_precision_metric: 0.7864\n",
      "Epoch 19/150\n",
      "843/843 [==============================] - 13s 15ms/step - loss: 0.0561 - mean_average_precision_metric: 0.7870 - val_loss: 0.0436 - val_mean_average_precision_metric: 0.7806\n",
      "Epoch 20/150\n",
      "843/843 [==============================] - 13s 15ms/step - loss: 0.0571 - mean_average_precision_metric: 0.7935 - val_loss: 0.0741 - val_mean_average_precision_metric: 0.7701\n",
      "Epoch 21/150\n",
      "843/843 [==============================] - 13s 15ms/step - loss: 0.0561 - mean_average_precision_metric: 0.7841 - val_loss: 0.1111 - val_mean_average_precision_metric: 0.7705\n",
      "Epoch 22/150\n",
      "843/843 [==============================] - 13s 15ms/step - loss: 0.0544 - mean_average_precision_metric: 0.7863 - val_loss: 0.2655 - val_mean_average_precision_metric: 0.7337\n",
      "Epoch 23/150\n",
      "843/843 [==============================] - 13s 15ms/step - loss: 0.0515 - mean_average_precision_metric: 0.7965 - val_loss: 0.1618 - val_mean_average_precision_metric: 0.7506\n",
      "Epoch 24/150\n",
      "843/843 [==============================] - 13s 15ms/step - loss: 0.0473 - mean_average_precision_metric: 0.8011 - val_loss: 0.0646 - val_mean_average_precision_metric: 0.7838\n",
      "Epoch 25/150\n",
      "843/843 [==============================] - 13s 15ms/step - loss: 0.0451 - mean_average_precision_metric: 0.7912 - val_loss: 0.0284 - val_mean_average_precision_metric: 0.7856\n",
      "Epoch 26/150\n",
      "843/843 [==============================] - 13s 15ms/step - loss: 0.0466 - mean_average_precision_metric: 0.7998 - val_loss: 0.2373 - val_mean_average_precision_metric: 0.7182\n",
      "Epoch 27/150\n",
      "843/843 [==============================] - 13s 15ms/step - loss: 0.0430 - mean_average_precision_metric: 0.7881 - val_loss: 0.1906 - val_mean_average_precision_metric: 0.7492\n",
      "Epoch 28/150\n",
      "843/843 [==============================] - 13s 15ms/step - loss: 0.0422 - mean_average_precision_metric: 0.7950 - val_loss: 0.2288 - val_mean_average_precision_metric: 0.7452\n",
      "Epoch 29/150\n",
      "843/843 [==============================] - 13s 15ms/step - loss: 0.0416 - mean_average_precision_metric: 0.7976 - val_loss: 0.1823 - val_mean_average_precision_metric: 0.7520\n",
      "Epoch 30/150\n",
      "843/843 [==============================] - 13s 15ms/step - loss: 0.0394 - mean_average_precision_metric: 0.7807 - val_loss: 0.0290 - val_mean_average_precision_metric: 0.7816\n",
      "Epoch 31/150\n",
      "843/843 [==============================] - 13s 15ms/step - loss: 0.0425 - mean_average_precision_metric: 0.7859 - val_loss: 0.0273 - val_mean_average_precision_metric: 0.7890\n",
      "Epoch 32/150\n",
      "843/843 [==============================] - 13s 15ms/step - loss: 0.0373 - mean_average_precision_metric: 0.7909 - val_loss: 0.0540 - val_mean_average_precision_metric: 0.7846\n",
      "Epoch 33/150\n",
      "843/843 [==============================] - 13s 15ms/step - loss: 0.0364 - mean_average_precision_metric: 0.7985 - val_loss: 0.0714 - val_mean_average_precision_metric: 0.7693\n",
      "Epoch 34/150\n",
      "843/843 [==============================] - 13s 15ms/step - loss: 0.0369 - mean_average_precision_metric: 0.7981 - val_loss: 0.0268 - val_mean_average_precision_metric: 0.7880\n",
      "Epoch 35/150\n",
      "843/843 [==============================] - 13s 15ms/step - loss: 0.0349 - mean_average_precision_metric: 0.7892 - val_loss: 0.1973 - val_mean_average_precision_metric: 0.7065\n",
      "Epoch 36/150\n",
      "843/843 [==============================] - 13s 15ms/step - loss: 0.0347 - mean_average_precision_metric: 0.7982 - val_loss: 0.0620 - val_mean_average_precision_metric: 0.7819\n",
      "Epoch 37/150\n",
      "843/843 [==============================] - 13s 15ms/step - loss: 0.0325 - mean_average_precision_metric: 0.7956 - val_loss: 0.0175 - val_mean_average_precision_metric: 0.7911\n",
      "Epoch 38/150\n",
      "843/843 [==============================] - 13s 15ms/step - loss: 0.0310 - mean_average_precision_metric: 0.8017 - val_loss: 0.0203 - val_mean_average_precision_metric: 0.7890\n",
      "Epoch 39/150\n",
      "843/843 [==============================] - 13s 15ms/step - loss: 0.0310 - mean_average_precision_metric: 0.7974 - val_loss: 0.1082 - val_mean_average_precision_metric: 0.7754\n",
      "Epoch 40/150\n",
      "843/843 [==============================] - 13s 15ms/step - loss: 0.0303 - mean_average_precision_metric: 0.8020 - val_loss: 0.0769 - val_mean_average_precision_metric: 0.7825\n",
      "Epoch 41/150\n",
      "843/843 [==============================] - 13s 15ms/step - loss: 0.0289 - mean_average_precision_metric: 0.7956 - val_loss: 0.1338 - val_mean_average_precision_metric: 0.7527\n",
      "Epoch 42/150\n",
      "843/843 [==============================] - 13s 15ms/step - loss: 0.0315 - mean_average_precision_metric: 0.7947 - val_loss: 0.0236 - val_mean_average_precision_metric: 0.7867\n",
      "Epoch 43/150\n",
      "843/843 [==============================] - 13s 15ms/step - loss: 0.0301 - mean_average_precision_metric: 0.8013 - val_loss: 0.2074 - val_mean_average_precision_metric: 0.7156\n",
      "Epoch 44/150\n",
      "843/843 [==============================] - 13s 15ms/step - loss: 0.0280 - mean_average_precision_metric: 0.7957 - val_loss: 0.0200 - val_mean_average_precision_metric: 0.7867\n",
      "Epoch 45/150\n",
      "843/843 [==============================] - 13s 15ms/step - loss: 0.0282 - mean_average_precision_metric: 0.7967 - val_loss: 0.1008 - val_mean_average_precision_metric: 0.7835\n",
      "Epoch 46/150\n",
      "843/843 [==============================] - 13s 15ms/step - loss: 0.0264 - mean_average_precision_metric: 0.8009 - val_loss: 0.0178 - val_mean_average_precision_metric: 0.7887\n",
      "Epoch 47/150\n",
      "843/843 [==============================] - 13s 15ms/step - loss: 0.0265 - mean_average_precision_metric: 0.7924 - val_loss: 0.1600 - val_mean_average_precision_metric: 0.7616\n",
      "Epoch 00047: early stopping\n"
     ]
    }
   ],
   "source": [
    "keras.backend.clear_session()\n",
    "np.random.seed(15)\n",
    "tf.random.set_seed(15)\n",
    "# Model training\n",
    "# Add confidence threshold to filter out false positives\n",
    "# model.fit(train_images, train_targets, validation_data=(val_images, val_targets), epochs=100, batch_size=32, callbacks=[es])\n",
    "\n",
    "\n",
    "# confidence_threshold = 0.5\n",
    "\n",
    "history = model.fit(dataGenerator.flow(train_images, train_targets, batch_size=8),\n",
    "                            validation_data=(val_images, val_targets), \n",
    "                            epochs=150, callbacks=es, verbose=1)"
   ]
  },
  {
   "cell_type": "code",
   "execution_count": 26,
   "metadata": {},
   "outputs": [],
   "source": [
    "# Save model\n",
    "model.save('model.h5')\n"
   ]
  },
  {
   "cell_type": "code",
   "execution_count": 27,
   "metadata": {},
   "outputs": [
    {
     "data": {
      "image/png": "[encoded data removed]",
      "text/plain": [
       "<Figure size 432x288 with 1 Axes>"
      ]
     },
     "metadata": {
      "needs_background": "light"
     },
     "output_type": "display_data"
    }
   ],
   "source": [
    "# Create line plot of mean average precision\n",
    "import matplotlib.pyplot as plt\n",
    "plt.plot(history.history['mean_average_precision_metric'])\n",
    "plt.plot(history.history['val_mean_average_precision_metric'])\n",
    "plt.title('Model mean average precision')\n",
    "plt.ylabel('mean average precision')\n",
    "plt.xlabel('epoch')\n",
    "plt.legend(['train', 'val'], loc='lower right')\n",
    "plt.show()"
   ]
  },
  {
   "cell_type": "code",
   "execution_count": null,
   "metadata": {},
   "outputs": [],
   "source": [
    "# Visualize the model prediction images with bounding box dimensions predicted by the model and ground truth bounding box dimensions\n",
    "# Create a figure with subplots of the images and bounding box dimensions\n",
    "import matplotlib.pyplot as plt\n",
    "model.evaluate(test_images, test_targets, verbose=1)\n",
    "plt.figure(figsize=(20, 20))\n",
    "for i in range(25):\n",
    "    plt.subplot(5, 5, i+1)\n",
    "    plt.xticks([])\n",
    "    plt.yticks([])\n",
    "    plt.grid(False)\n",
    "    plt.imshow(test_images[i])\n",
    "    plt.xlabel('Stenosis')\n",
    "plt.show()"
   ]
  },
  {
   "cell_type": "code",
   "execution_count": 25,
   "metadata": {},
   "outputs": [
    {
     "name": "stdout",
     "output_type": "stream",
     "text": [
      "Model: \"sequential_4\"\n",
      "_________________________________________________________________\n",
      "Layer (type)                 Output Shape              Param #   \n",
      "=================================================================\n",
      "conv2d_20 (Conv2D)           (None, 298, 298, 16)      448       \n",
      "_________________________________________________________________\n",
      "random_flip_4 (RandomFlip)   (None, 298, 298, 16)      0         \n",
      "_________________________________________________________________\n",
      "batch_normalization_16 (Batc (None, 298, 298, 16)      64        \n",
      "_________________________________________________________________\n",
      "max_pooling2d_20 (MaxPooling (None, 149, 149, 16)      0         \n",
      "_________________________________________________________________\n",
      "conv2d_21 (Conv2D)           (None, 147, 147, 32)      4640      \n",
      "_________________________________________________________________\n",
      "batch_normalization_17 (Batc (None, 147, 147, 32)      128       \n",
      "_________________________________________________________________\n",
      "max_pooling2d_21 (MaxPooling (None, 73, 73, 32)        0         \n",
      "_________________________________________________________________\n",
      "conv2d_22 (Conv2D)           (None, 71, 71, 64)        18496     \n",
      "_________________________________________________________________\n",
      "batch_normalization_18 (Batc (None, 71, 71, 64)        256       \n",
      "_________________________________________________________________\n",
      "max_pooling2d_22 (MaxPooling (None, 35, 35, 64)        0         \n",
      "_________________________________________________________________\n",
      "conv2d_23 (Conv2D)           (None, 33, 33, 64)        36928     \n",
      "_________________________________________________________________\n",
      "batch_normalization_19 (Batc (None, 33, 33, 64)        256       \n",
      "_________________________________________________________________\n",
      "max_pooling2d_23 (MaxPooling (None, 16, 16, 64)        0         \n",
      "_________________________________________________________________\n",
      "conv2d_24 (Conv2D)           (None, 14, 14, 128)       73856     \n",
      "_________________________________________________________________\n",
      "max_pooling2d_24 (MaxPooling (None, 7, 7, 128)         0         \n",
      "_________________________________________________________________\n",
      "flatten_4 (Flatten)          (None, 6272)              0         \n",
      "_________________________________________________________________\n",
      "dropout_8 (Dropout)          (None, 6272)              0         \n",
      "_________________________________________________________________\n",
      "dense_8 (Dense)              (None, 256)               1605888   \n",
      "_________________________________________________________________\n",
      "dropout_9 (Dropout)          (None, 256)               0         \n",
      "_________________________________________________________________\n",
      "dense_9 (Dense)              (None, 4)                 1028      \n",
      "=================================================================\n",
      "Total params: 1,741,988\n",
      "Trainable params: 1,741,636\n",
      "Non-trainable params: 352\n",
      "_________________________________________________________________\n"
     ]
    }
   ],
   "source": [
    "initializer = tf.keras.initializers.HeUniform()\n",
    "\n",
    "model_1 = Sequential()\n",
    "\n",
    "model_1.add(Conv2D(16, (3, 3), activation='relu', input_shape=(300, 300, 3)))\n",
    "model_1.add(RandomFlip(mode='horizontal_and_vertical', seed=None))\n",
    "model_1.add(BatchNormalization())\n",
    "model_1.add(MaxPool2D(pool_size=(2, 2)))\n",
    "# model_1.add(Dropout(0.25))\n",
    "\n",
    "model_1.add(Conv2D(32, (3, 3), activation='relu'))\n",
    "model_1.add(BatchNormalization())\n",
    "model_1.add(MaxPool2D(pool_size=(2, 2)))\n",
    "# model_1.add(Dropout(0.25))\n",
    "\n",
    "model_1.add(Conv2D(64, (3, 3), activation='relu'))\n",
    "model_1.add(BatchNormalization())\n",
    "model_1.add(MaxPool2D(pool_size=(2, 2)))\n",
    "# model_1.add(Dropout(0.25))\n",
    "\n",
    "model_1.add(Conv2D(64, (3, 3), activation='relu'))\n",
    "model_1.add(BatchNormalization())\n",
    "model_1.add(MaxPool2D(pool_size=(2, 2)))\n",
    "# model_1.add(Dropout(0.25))\n",
    "\n",
    "model_1.add(Conv2D(128, (3, 3), activation='relu'))\n",
    "# model_1.add(BatchNormalization())\n",
    "model_1.add(MaxPool2D(pool_size=(2, 2)))\n",
    "# model_1.add(Dropout(0.25))\n",
    "\n",
    "# model_1.add(Conv2D(128, (3, 3), activation='relu'))\n",
    "# model_1.add(MaxPool2D(pool_size=(2, 2)))\n",
    "# model_1.add(Dropout(0.25))\n",
    "\n",
    "model_1.add(Flatten())\n",
    "model_1.add(Dropout(0.35))\n",
    "model_1.add(Dense(256, activation='relu', kernel_regularizer='l2'))\n",
    "model_1.add(Dropout(0.35))\n",
    "\n",
    "model_1.add(Dense(4))\n",
    "\n",
    "model_1.compile(loss='mse', optimizer='adam', metrics=[tfr.keras.metrics.MeanAveragePrecisionMetric()])\n",
    "\n",
    "model_1.summary()"
   ]
  },
  {
   "cell_type": "code",
   "execution_count": 28,
   "metadata": {},
   "outputs": [
    {
     "name": "stderr",
     "output_type": "stream",
     "text": [
      "2022-08-14 17:34:37.447914: I tensorflow/compiler/mlir/mlir_graph_optimization_pass.cc:116] None of the MLIR optimization passes are enabled (registered 2)\n",
      "2022-08-14 17:34:37.468424: I tensorflow/core/platform/profile_utils/cpu_utils.cc:112] CPU Frequency: 3000000000 Hz\n"
     ]
    },
    {
     "name": "stdout",
     "output_type": "stream",
     "text": [
      "Epoch 1/150\n",
      "WARNING:tensorflow:AutoGraph could not transform <bound method MeanAveragePrecisionMetric._compute_impl of <tensorflow_ranking.python.metrics_impl.MeanAveragePrecisionMetric object at 0x7f52d76aabb0>> and will run it as-is.\n",
      "Please report this to the TensorFlow team. When filing the bug, set the verbosity to 10 (on Linux, `export AUTOGRAPH_VERBOSITY=10`) and attach the full output.\n",
      "Cause: module 'gast' has no attribute 'Index'\n",
      "To silence this warning, decorate the function with @tf.autograph.experimental.do_not_convert\n",
      "WARNING: AutoGraph could not transform <bound method MeanAveragePrecisionMetric._compute_impl of <tensorflow_ranking.python.metrics_impl.MeanAveragePrecisionMetric object at 0x7f52d76aabb0>> and will run it as-is.\n",
      "Please report this to the TensorFlow team. When filing the bug, set the verbosity to 10 (on Linux, `export AUTOGRAPH_VERBOSITY=10`) and attach the full output.\n",
      "Cause: module 'gast' has no attribute 'Index'\n",
      "To silence this warning, decorate the function with @tf.autograph.experimental.do_not_convert\n"
     ]
    },
    {
     "name": "stderr",
     "output_type": "stream",
     "text": [
      "2022-08-14 17:34:38.373857: I tensorflow/stream_executor/platform/default/dso_loader.cc:49] Successfully opened dynamic library libcublas.so.10\n",
      "2022-08-14 17:34:38.478875: I tensorflow/stream_executor/platform/default/dso_loader.cc:49] Successfully opened dynamic library libcudnn.so.7\n"
     ]
    },
    {
     "name": "stdout",
     "output_type": "stream",
     "text": [
      "210/211 [============================>.] - ETA: 0s - loss: 11.7244 - mean_average_precision_metric_4: 0.6034"
     ]
    },
    {
     "name": "stderr",
     "output_type": "stream",
     "text": [
      "2022-08-14 17:34:48.628115: W tensorflow/core/framework/cpu_allocator_impl.cc:80] Allocation of 810000000 exceeds 10% of free system memory.\n"
     ]
    },
    {
     "name": "stdout",
     "output_type": "stream",
     "text": [
      "211/211 [==============================] - 12s 48ms/step - loss: 11.6671 - mean_average_precision_metric_4: 0.6036 - val_loss: 2.9727 - val_mean_average_precision_metric_4: 0.5956\n",
      "Epoch 2/150\n",
      "211/211 [==============================] - 9s 44ms/step - loss: 2.6100 - mean_average_precision_metric_4: 0.6703 - val_loss: 1.8574 - val_mean_average_precision_metric_4: 0.6066\n",
      "Epoch 3/150\n",
      "211/211 [==============================] - 9s 44ms/step - loss: 1.6968 - mean_average_precision_metric_4: 0.6913 - val_loss: 1.1920 - val_mean_average_precision_metric_4: 0.7065\n",
      "Epoch 4/150\n",
      "211/211 [==============================] - 9s 44ms/step - loss: 1.2129 - mean_average_precision_metric_4: 0.7046 - val_loss: 0.8664 - val_mean_average_precision_metric_4: 0.7300\n",
      "Epoch 5/150\n",
      "211/211 [==============================] - 9s 44ms/step - loss: 0.9146 - mean_average_precision_metric_4: 0.7207 - val_loss: 0.6582 - val_mean_average_precision_metric_4: 0.7555\n",
      "Epoch 6/150\n",
      "211/211 [==============================] - 9s 44ms/step - loss: 0.7107 - mean_average_precision_metric_4: 0.7362 - val_loss: 0.5548 - val_mean_average_precision_metric_4: 0.7621\n",
      "Epoch 7/150\n",
      "211/211 [==============================] - 9s 45ms/step - loss: 0.5598 - mean_average_precision_metric_4: 0.7413 - val_loss: 0.4380 - val_mean_average_precision_metric_4: 0.7595\n",
      "Epoch 8/150\n",
      "211/211 [==============================] - 9s 45ms/step - loss: 0.4522 - mean_average_precision_metric_4: 0.7400 - val_loss: 0.3227 - val_mean_average_precision_metric_4: 0.7717\n",
      "Epoch 9/150\n",
      "211/211 [==============================] - 10s 45ms/step - loss: 0.3744 - mean_average_precision_metric_4: 0.7533 - val_loss: 0.3114 - val_mean_average_precision_metric_4: 0.7381\n",
      "Epoch 10/150\n",
      "211/211 [==============================] - 10s 45ms/step - loss: 0.3103 - mean_average_precision_metric_4: 0.7624 - val_loss: 0.2345 - val_mean_average_precision_metric_4: 0.7509\n",
      "Epoch 11/150\n",
      "211/211 [==============================] - 10s 45ms/step - loss: 0.2644 - mean_average_precision_metric_4: 0.7602 - val_loss: 0.2109 - val_mean_average_precision_metric_4: 0.7674\n",
      "Epoch 12/150\n",
      "211/211 [==============================] - 10s 45ms/step - loss: 0.2292 - mean_average_precision_metric_4: 0.7748 - val_loss: 0.1686 - val_mean_average_precision_metric_4: 0.7675\n",
      "Epoch 13/150\n",
      "211/211 [==============================] - 10s 45ms/step - loss: 0.2055 - mean_average_precision_metric_4: 0.7639 - val_loss: 0.1739 - val_mean_average_precision_metric_4: 0.7670\n",
      "Epoch 14/150\n",
      "211/211 [==============================] - 10s 45ms/step - loss: 0.1857 - mean_average_precision_metric_4: 0.7686 - val_loss: 0.1953 - val_mean_average_precision_metric_4: 0.7713\n",
      "Epoch 15/150\n",
      "211/211 [==============================] - 10s 45ms/step - loss: 0.1702 - mean_average_precision_metric_4: 0.7657 - val_loss: 0.1601 - val_mean_average_precision_metric_4: 0.7492\n",
      "Epoch 16/150\n",
      "211/211 [==============================] - 10s 45ms/step - loss: 0.1487 - mean_average_precision_metric_4: 0.7735 - val_loss: 0.2271 - val_mean_average_precision_metric_4: 0.7484\n",
      "Epoch 17/150\n",
      "211/211 [==============================] - 10s 45ms/step - loss: 0.1549 - mean_average_precision_metric_4: 0.7712 - val_loss: 0.1294 - val_mean_average_precision_metric_4: 0.7724\n",
      "Epoch 18/150\n",
      "211/211 [==============================] - 10s 45ms/step - loss: 0.1396 - mean_average_precision_metric_4: 0.7749 - val_loss: 0.1282 - val_mean_average_precision_metric_4: 0.7639\n",
      "Epoch 19/150\n",
      "211/211 [==============================] - 10s 45ms/step - loss: 0.1372 - mean_average_precision_metric_4: 0.7733 - val_loss: 0.1624 - val_mean_average_precision_metric_4: 0.7554\n",
      "Epoch 20/150\n",
      "211/211 [==============================] - 10s 45ms/step - loss: 0.1324 - mean_average_precision_metric_4: 0.7658 - val_loss: 0.1230 - val_mean_average_precision_metric_4: 0.7790\n",
      "Epoch 21/150\n",
      "211/211 [==============================] - 10s 45ms/step - loss: 0.1354 - mean_average_precision_metric_4: 0.7837 - val_loss: 0.1715 - val_mean_average_precision_metric_4: 0.7517\n",
      "Epoch 22/150\n",
      "211/211 [==============================] - 10s 45ms/step - loss: 0.1282 - mean_average_precision_metric_4: 0.7814 - val_loss: 0.1706 - val_mean_average_precision_metric_4: 0.7523\n",
      "Epoch 23/150\n",
      "211/211 [==============================] - 10s 45ms/step - loss: 0.1321 - mean_average_precision_metric_4: 0.7833 - val_loss: 0.1554 - val_mean_average_precision_metric_4: 0.7536\n",
      "Epoch 24/150\n",
      "211/211 [==============================] - 10s 45ms/step - loss: 0.1405 - mean_average_precision_metric_4: 0.7847 - val_loss: 0.2277 - val_mean_average_precision_metric_4: 0.7476\n",
      "Epoch 25/150\n",
      "211/211 [==============================] - 10s 45ms/step - loss: 0.1251 - mean_average_precision_metric_4: 0.7916 - val_loss: 0.2298 - val_mean_average_precision_metric_4: 0.7171\n",
      "Epoch 26/150\n",
      "211/211 [==============================] - 10s 45ms/step - loss: 0.1245 - mean_average_precision_metric_4: 0.7873 - val_loss: 0.1887 - val_mean_average_precision_metric_4: 0.7457\n",
      "Epoch 27/150\n",
      "211/211 [==============================] - 10s 45ms/step - loss: 0.1334 - mean_average_precision_metric_4: 0.7859 - val_loss: 0.1736 - val_mean_average_precision_metric_4: 0.7332\n",
      "Epoch 28/150\n",
      "211/211 [==============================] - 10s 45ms/step - loss: 0.1331 - mean_average_precision_metric_4: 0.7873 - val_loss: 0.1257 - val_mean_average_precision_metric_4: 0.7661\n",
      "Epoch 29/150\n",
      "211/211 [==============================] - 10s 45ms/step - loss: 0.1308 - mean_average_precision_metric_4: 0.7839 - val_loss: 0.1581 - val_mean_average_precision_metric_4: 0.7671\n",
      "Epoch 30/150\n",
      "211/211 [==============================] - 10s 45ms/step - loss: 0.1263 - mean_average_precision_metric_4: 0.7755 - val_loss: 0.1379 - val_mean_average_precision_metric_4: 0.7739\n",
      "Epoch 31/150\n",
      "211/211 [==============================] - 10s 45ms/step - loss: 0.1289 - mean_average_precision_metric_4: 0.7777 - val_loss: 0.1974 - val_mean_average_precision_metric_4: 0.7701\n",
      "Epoch 32/150\n",
      "211/211 [==============================] - 10s 45ms/step - loss: 0.1306 - mean_average_precision_metric_4: 0.7785 - val_loss: 0.1716 - val_mean_average_precision_metric_4: 0.7660\n",
      "Epoch 33/150\n",
      "211/211 [==============================] - 10s 45ms/step - loss: 0.1335 - mean_average_precision_metric_4: 0.7765 - val_loss: 0.3842 - val_mean_average_precision_metric_4: 0.7031\n",
      "Epoch 34/150\n",
      "211/211 [==============================] - 10s 45ms/step - loss: 0.1323 - mean_average_precision_metric_4: 0.7732 - val_loss: 0.1319 - val_mean_average_precision_metric_4: 0.7737\n",
      "Epoch 35/150\n",
      "211/211 [==============================] - 10s 45ms/step - loss: 0.1254 - mean_average_precision_metric_4: 0.7864 - val_loss: 0.1393 - val_mean_average_precision_metric_4: 0.7793\n",
      "Epoch 00035: early stopping\n"
     ]
    }
   ],
   "source": [
    "keras.backend.clear_session()\n",
    "np.random.seed(15)\n",
    "tf.random.set_seed(15)\n",
    "\n",
    "history_1 = model_1.fit(dataGenerator.flow(train_images, train_targets, batch_size=32),\n",
    "                            validation_data=(val_images, val_targets),\n",
    "                            epochs=150, callbacks=es, verbose=1)"
   ]
  },
  {
   "cell_type": "code",
   "execution_count": 35,
   "metadata": {},
   "outputs": [
    {
     "name": "stdout",
     "output_type": "stream",
     "text": [
      "10/27 [==========>...................] - ETA: 0s - loss: 0.1312 - mean_average_precision_metric_4: 0.7933"
     ]
    },
    {
     "name": "stderr",
     "output_type": "stream",
     "text": [
      "2022-08-14 17:44:26.338302: W tensorflow/core/framework/cpu_allocator_impl.cc:80] Allocation of 899640000 exceeds 10% of free system memory.\n"
     ]
    },
    {
     "name": "stdout",
     "output_type": "stream",
     "text": [
      "27/27 [==============================] - 0s 15ms/step - loss: 0.1334 - mean_average_precision_metric_4: 0.7751\n"
     ]
    },
    {
     "data": {
      "text/plain": [
       "[0.13339519500732422, 0.7751099467277527]"
      ]
     },
     "execution_count": 35,
     "metadata": {},
     "output_type": "execute_result"
    }
   ],
   "source": [
    "model_1.evaluate(test_images, test_targets, verbose=1)"
   ]
  },
  {
   "cell_type": "code",
   "execution_count": 41,
   "metadata": {},
   "outputs": [
    {
     "data": {
      "image/png": "[encoded data removed]",
      "text/plain": [
       "<Figure size 432x288 with 1 Axes>"
      ]
     },
     "metadata": {
      "needs_background": "light"
     },
     "output_type": "display_data"
    }
   ],
   "source": [
    "plt.plot(history_1.history['mean_average_precision_metric_4'])\n",
    "plt.plot(history_1.history['val_mean_average_precision_metric_4'])\n",
    "plt.title('Model mean average precision')\n",
    "plt.ylabel('mean average precision')\n",
    "plt.xlabel('epoch')\n",
    "plt.legend(['train', 'val'], loc='lower right')\n",
    "plt.show()"
   ]
  },
  {
   "cell_type": "code",
   "execution_count": 22,
   "metadata": {},
   "outputs": [
    {
     "name": "stdout",
     "output_type": "stream",
     "text": [
      "Model: \"sequential\"\n",
      "_________________________________________________________________\n",
      "Layer (type)                 Output Shape              Param #   \n",
      "=================================================================\n",
      "conv2d (Conv2D)              (None, 298, 298, 16)      448       \n",
      "_________________________________________________________________\n",
      "random_flip (RandomFlip)     (None, 298, 298, 16)      0         \n",
      "_________________________________________________________________\n",
      "batch_normalization (BatchNo (None, 298, 298, 16)      64        \n",
      "_________________________________________________________________\n",
      "max_pooling2d (MaxPooling2D) (None, 149, 149, 16)      0         \n",
      "_________________________________________________________________\n",
      "conv2d_1 (Conv2D)            (None, 147, 147, 32)      4640      \n",
      "_________________________________________________________________\n",
      "batch_normalization_1 (Batch (None, 147, 147, 32)      128       \n",
      "_________________________________________________________________\n",
      "max_pooling2d_1 (MaxPooling2 (None, 73, 73, 32)        0         \n",
      "_________________________________________________________________\n",
      "conv2d_2 (Conv2D)            (None, 71, 71, 64)        18496     \n",
      "_________________________________________________________________\n",
      "batch_normalization_2 (Batch (None, 71, 71, 64)        256       \n",
      "_________________________________________________________________\n",
      "max_pooling2d_2 (MaxPooling2 (None, 35, 35, 64)        0         \n",
      "_________________________________________________________________\n",
      "conv2d_3 (Conv2D)            (None, 33, 33, 64)        36928     \n",
      "_________________________________________________________________\n",
      "batch_normalization_3 (Batch (None, 33, 33, 64)        256       \n",
      "_________________________________________________________________\n",
      "max_pooling2d_3 (MaxPooling2 (None, 16, 16, 64)        0         \n",
      "_________________________________________________________________\n",
      "conv2d_4 (Conv2D)            (None, 14, 14, 128)       73856     \n",
      "_________________________________________________________________\n",
      "max_pooling2d_4 (MaxPooling2 (None, 7, 7, 128)         0         \n",
      "_________________________________________________________________\n",
      "flatten (Flatten)            (None, 6272)              0         \n",
      "_________________________________________________________________\n",
      "dropout (Dropout)            (None, 6272)              0         \n",
      "_________________________________________________________________\n",
      "dense (Dense)                (None, 256)               1605888   \n",
      "_________________________________________________________________\n",
      "dropout_1 (Dropout)          (None, 256)               0         \n",
      "_________________________________________________________________\n",
      "dense_1 (Dense)              (None, 4)                 1028      \n",
      "=================================================================\n",
      "Total params: 1,741,988\n",
      "Trainable params: 1,741,636\n",
      "Non-trainable params: 352\n",
      "_________________________________________________________________\n"
     ]
    },
    {
     "name": "stderr",
     "output_type": "stream",
     "text": [
      "2022-08-14 19:44:57.825470: I tensorflow/compiler/jit/xla_cpu_device.cc:41] Not creating XLA devices, tf_xla_enable_xla_devices not set\n",
      "2022-08-14 19:44:57.825588: I tensorflow/stream_executor/cuda/cuda_gpu_executor.cc:941] successful NUMA node read from SysFS had negative value (-1), but there must be at least one NUMA node, so returning NUMA node zero\n",
      "2022-08-14 19:44:57.825883: I tensorflow/core/common_runtime/gpu/gpu_device.cc:1720] Found device 0 with properties: \n",
      "pciBusID: 0000:01:00.0 name: NVIDIA GeForce RTX 2080 Ti computeCapability: 7.5\n",
      "coreClock: 1.545GHz coreCount: 68 deviceMemorySize: 10.76GiB deviceMemoryBandwidth: 573.69GiB/s\n",
      "2022-08-14 19:44:57.825911: I tensorflow/stream_executor/platform/default/dso_loader.cc:49] Successfully opened dynamic library libcudart.so.10.1\n",
      "2022-08-14 19:44:57.825926: I tensorflow/stream_executor/platform/default/dso_loader.cc:49] Successfully opened dynamic library libcublas.so.10\n",
      "2022-08-14 19:44:57.825936: I tensorflow/stream_executor/platform/default/dso_loader.cc:49] Successfully opened dynamic library libcublasLt.so.10\n",
      "2022-08-14 19:44:57.825945: I tensorflow/stream_executor/platform/default/dso_loader.cc:49] Successfully opened dynamic library libcufft.so.10\n",
      "2022-08-14 19:44:57.825955: I tensorflow/stream_executor/platform/default/dso_loader.cc:49] Successfully opened dynamic library libcurand.so.10\n",
      "2022-08-14 19:44:57.825964: I tensorflow/stream_executor/platform/default/dso_loader.cc:49] Successfully opened dynamic library libcusolver.so.10\n",
      "2022-08-14 19:44:57.825974: I tensorflow/stream_executor/platform/default/dso_loader.cc:49] Successfully opened dynamic library libcusparse.so.10\n",
      "2022-08-14 19:44:57.825983: I tensorflow/stream_executor/platform/default/dso_loader.cc:49] Successfully opened dynamic library libcudnn.so.7\n",
      "2022-08-14 19:44:57.826020: I tensorflow/stream_executor/cuda/cuda_gpu_executor.cc:941] successful NUMA node read from SysFS had negative value (-1), but there must be at least one NUMA node, so returning NUMA node zero\n",
      "2022-08-14 19:44:57.826296: I tensorflow/stream_executor/cuda/cuda_gpu_executor.cc:941] successful NUMA node read from SysFS had negative value (-1), but there must be at least one NUMA node, so returning NUMA node zero\n",
      "2022-08-14 19:44:57.826546: I tensorflow/core/common_runtime/gpu/gpu_device.cc:1862] Adding visible gpu devices: 0\n",
      "2022-08-14 19:44:57.826653: I tensorflow/compiler/jit/xla_gpu_device.cc:99] Not creating XLA devices, tf_xla_enable_xla_devices not set\n",
      "2022-08-14 19:44:57.826696: I tensorflow/stream_executor/cuda/cuda_gpu_executor.cc:941] successful NUMA node read from SysFS had negative value (-1), but there must be at least one NUMA node, so returning NUMA node zero\n",
      "2022-08-14 19:44:57.826950: I tensorflow/core/common_runtime/gpu/gpu_device.cc:1720] Found device 0 with properties: \n",
      "pciBusID: 0000:01:00.0 name: NVIDIA GeForce RTX 2080 Ti computeCapability: 7.5\n",
      "coreClock: 1.545GHz coreCount: 68 deviceMemorySize: 10.76GiB deviceMemoryBandwidth: 573.69GiB/s\n",
      "2022-08-14 19:44:57.826962: I tensorflow/stream_executor/platform/default/dso_loader.cc:49] Successfully opened dynamic library libcudart.so.10.1\n",
      "2022-08-14 19:44:57.826972: I tensorflow/stream_executor/platform/default/dso_loader.cc:49] Successfully opened dynamic library libcublas.so.10\n",
      "2022-08-14 19:44:57.826981: I tensorflow/stream_executor/platform/default/dso_loader.cc:49] Successfully opened dynamic library libcublasLt.so.10\n",
      "2022-08-14 19:44:57.826990: I tensorflow/stream_executor/platform/default/dso_loader.cc:49] Successfully opened dynamic library libcufft.so.10\n",
      "2022-08-14 19:44:57.826999: I tensorflow/stream_executor/platform/default/dso_loader.cc:49] Successfully opened dynamic library libcurand.so.10\n",
      "2022-08-14 19:44:57.827008: I tensorflow/stream_executor/platform/default/dso_loader.cc:49] Successfully opened dynamic library libcusolver.so.10\n",
      "2022-08-14 19:44:57.827017: I tensorflow/stream_executor/platform/default/dso_loader.cc:49] Successfully opened dynamic library libcusparse.so.10\n",
      "2022-08-14 19:44:57.827027: I tensorflow/stream_executor/platform/default/dso_loader.cc:49] Successfully opened dynamic library libcudnn.so.7\n",
      "2022-08-14 19:44:57.827056: I tensorflow/stream_executor/cuda/cuda_gpu_executor.cc:941] successful NUMA node read from SysFS had negative value (-1), but there must be at least one NUMA node, so returning NUMA node zero\n",
      "2022-08-14 19:44:57.827329: I tensorflow/stream_executor/cuda/cuda_gpu_executor.cc:941] successful NUMA node read from SysFS had negative value (-1), but there must be at least one NUMA node, so returning NUMA node zero\n",
      "2022-08-14 19:44:57.827576: I tensorflow/core/common_runtime/gpu/gpu_device.cc:1862] Adding visible gpu devices: 0\n",
      "2022-08-14 19:44:57.827593: I tensorflow/core/common_runtime/gpu/gpu_device.cc:1261] Device interconnect StreamExecutor with strength 1 edge matrix:\n",
      "2022-08-14 19:44:57.827597: I tensorflow/core/common_runtime/gpu/gpu_device.cc:1267]      0 \n",
      "2022-08-14 19:44:57.827599: I tensorflow/core/common_runtime/gpu/gpu_device.cc:1280] 0:   N \n",
      "2022-08-14 19:44:57.827645: I tensorflow/stream_executor/cuda/cuda_gpu_executor.cc:941] successful NUMA node read from SysFS had negative value (-1), but there must be at least one NUMA node, so returning NUMA node zero\n",
      "2022-08-14 19:44:57.827921: I tensorflow/stream_executor/cuda/cuda_gpu_executor.cc:941] successful NUMA node read from SysFS had negative value (-1), but there must be at least one NUMA node, so returning NUMA node zero\n",
      "2022-08-14 19:44:57.828227: I tensorflow/core/common_runtime/gpu/gpu_device.cc:1406] Created TensorFlow device (/job:localhost/replica:0/task:0/device:GPU:0 with 9968 MB memory) -> physical GPU (device: 0, name: NVIDIA GeForce RTX 2080 Ti, pci bus id: 0000:01:00.0, compute capability: 7.5)\n"
     ]
    }
   ],
   "source": [
    "initializer = tf.keras.initializers.HeUniform()\n",
    "\n",
    "model_2 = Sequential()\n",
    "\n",
    "model_2.add(Conv2D(16, (3, 3), activation='relu', input_shape=(300, 300, 3)))\n",
    "model_2.add(RandomFlip(mode='horizontal_and_vertical', seed=None))\n",
    "model_2.add(BatchNormalization())\n",
    "model_2.add(MaxPool2D(pool_size=(2, 2)))\n",
    "# model_1.add(Dropout(0.25))\n",
    "\n",
    "model_2.add(Conv2D(32, (3, 3), activation='relu'))\n",
    "model_2.add(BatchNormalization())\n",
    "model_2.add(MaxPool2D(pool_size=(2, 2)))\n",
    "# model_1.add(Dropout(0.25))\n",
    "\n",
    "model_2.add(Conv2D(64, (3, 3), activation='relu'))\n",
    "model_2.add(BatchNormalization())\n",
    "model_2.add(MaxPool2D(pool_size=(2, 2)))\n",
    "# model_1.add(Dropout(0.25))\n",
    "\n",
    "model_2.add(Conv2D(64, (3, 3), activation='relu'))\n",
    "model_2.add(BatchNormalization())\n",
    "model_2.add(MaxPool2D(pool_size=(2, 2)))\n",
    "# model_1.add(Dropout(0.25))\n",
    "\n",
    "model_2.add(Conv2D(128, (3, 3), activation='relu'))\n",
    "# model_1.add(BatchNormalization())\n",
    "model_2.add(MaxPool2D(pool_size=(2, 2)))\n",
    "# model_1.add(Dropout(0.25))\n",
    "\n",
    "# model_1.add(Conv2D(128, (3, 3), activation='relu'))\n",
    "# model_1.add(MaxPool2D(pool_size=(2, 2)))\n",
    "# model_1.add(Dropout(0.25))\n",
    "\n",
    "model_2.add(Flatten())\n",
    "model_2.add(Dropout(0.35))\n",
    "model_2.add(Dense(256, activation='relu', kernel_regularizer=regularizers.l2(0.1)))\n",
    "model_2.add(Dropout(0.35))\n",
    "\n",
    "model_2.add(Dense(4))\n",
    "\n",
    "model_2.compile(loss='mse', optimizer='adam', metrics=[tfr.keras.metrics.MeanAveragePrecisionMetric()])\n",
    "\n",
    "model_2.summary()"
   ]
  },
  {
   "cell_type": "code",
   "execution_count": 23,
   "metadata": {},
   "outputs": [
    {
     "name": "stderr",
     "output_type": "stream",
     "text": [
      "2022-08-14 19:44:58.850430: I tensorflow/compiler/mlir/mlir_graph_optimization_pass.cc:116] None of the MLIR optimization passes are enabled (registered 2)\n",
      "2022-08-14 19:44:58.868563: I tensorflow/core/platform/profile_utils/cpu_utils.cc:112] CPU Frequency: 3000000000 Hz\n"
     ]
    },
    {
     "name": "stdout",
     "output_type": "stream",
     "text": [
      "Epoch 1/150\n",
      "WARNING:tensorflow:AutoGraph could not transform <bound method MeanAveragePrecisionMetric._compute_impl of <tensorflow_ranking.python.metrics_impl.MeanAveragePrecisionMetric object at 0x7fe1603bbfd0>> and will run it as-is.\n",
      "Please report this to the TensorFlow team. When filing the bug, set the verbosity to 10 (on Linux, `export AUTOGRAPH_VERBOSITY=10`) and attach the full output.\n",
      "Cause: module 'gast' has no attribute 'Index'\n",
      "To silence this warning, decorate the function with @tf.autograph.experimental.do_not_convert\n",
      "WARNING: AutoGraph could not transform <bound method MeanAveragePrecisionMetric._compute_impl of <tensorflow_ranking.python.metrics_impl.MeanAveragePrecisionMetric object at 0x7fe1603bbfd0>> and will run it as-is.\n",
      "Please report this to the TensorFlow team. When filing the bug, set the verbosity to 10 (on Linux, `export AUTOGRAPH_VERBOSITY=10`) and attach the full output.\n",
      "Cause: module 'gast' has no attribute 'Index'\n",
      "To silence this warning, decorate the function with @tf.autograph.experimental.do_not_convert\n"
     ]
    },
    {
     "name": "stderr",
     "output_type": "stream",
     "text": [
      "2022-08-14 19:44:59.664440: I tensorflow/stream_executor/platform/default/dso_loader.cc:49] Successfully opened dynamic library libcublas.so.10\n",
      "2022-08-14 19:44:59.777914: I tensorflow/stream_executor/platform/default/dso_loader.cc:49] Successfully opened dynamic library libcudnn.so.7\n"
     ]
    },
    {
     "name": "stdout",
     "output_type": "stream",
     "text": [
      "106/106 [==============================] - ETA: 0s - loss: 46.2078 - mean_average_precision_metric: 0.6129"
     ]
    },
    {
     "name": "stderr",
     "output_type": "stream",
     "text": [
      "2022-08-14 19:45:09.952580: W tensorflow/core/framework/cpu_allocator_impl.cc:80] Allocation of 810000000 exceeds 10% of free system memory.\n"
     ]
    },
    {
     "name": "stdout",
     "output_type": "stream",
     "text": [
      "106/106 [==============================] - 12s 94ms/step - loss: 46.0347 - mean_average_precision_metric: 0.6131 - val_loss: 12.4521 - val_mean_average_precision_metric: 0.6414\n",
      "Epoch 2/150\n",
      "106/106 [==============================] - 9s 87ms/step - loss: 10.4708 - mean_average_precision_metric: 0.6504 - val_loss: 6.2104 - val_mean_average_precision_metric: 0.5563\n",
      "Epoch 3/150\n",
      "106/106 [==============================] - 9s 87ms/step - loss: 5.3712 - mean_average_precision_metric: 0.6855 - val_loss: 3.4264 - val_mean_average_precision_metric: 0.7009\n",
      "Epoch 4/150\n",
      "106/106 [==============================] - 9s 88ms/step - loss: 2.9861 - mean_average_precision_metric: 0.7088 - val_loss: 1.9981 - val_mean_average_precision_metric: 0.6831\n",
      "Epoch 5/150\n",
      "106/106 [==============================] - 9s 88ms/step - loss: 1.7349 - mean_average_precision_metric: 0.7126 - val_loss: 1.2208 - val_mean_average_precision_metric: 0.7260\n",
      "Epoch 6/150\n",
      "106/106 [==============================] - 9s 88ms/step - loss: 1.0590 - mean_average_precision_metric: 0.7202 - val_loss: 0.7509 - val_mean_average_precision_metric: 0.7006\n",
      "Epoch 7/150\n",
      "106/106 [==============================] - 9s 88ms/step - loss: 0.6871 - mean_average_precision_metric: 0.7266 - val_loss: 0.5377 - val_mean_average_precision_metric: 0.7393\n",
      "Epoch 8/150\n",
      "106/106 [==============================] - 9s 88ms/step - loss: 0.4890 - mean_average_precision_metric: 0.7236 - val_loss: 0.3274 - val_mean_average_precision_metric: 0.7443\n",
      "Epoch 9/150\n",
      "106/106 [==============================] - 9s 88ms/step - loss: 0.3705 - mean_average_precision_metric: 0.7357 - val_loss: 0.3151 - val_mean_average_precision_metric: 0.7059\n",
      "Epoch 10/150\n",
      "106/106 [==============================] - 9s 88ms/step - loss: 0.3166 - mean_average_precision_metric: 0.7223 - val_loss: 0.2351 - val_mean_average_precision_metric: 0.7532\n",
      "Epoch 11/150\n",
      "106/106 [==============================] - 9s 88ms/step - loss: 0.2763 - mean_average_precision_metric: 0.7373 - val_loss: 0.2165 - val_mean_average_precision_metric: 0.7474\n",
      "Epoch 12/150\n",
      "106/106 [==============================] - 9s 88ms/step - loss: 0.2472 - mean_average_precision_metric: 0.7325 - val_loss: 0.2119 - val_mean_average_precision_metric: 0.7246\n",
      "Epoch 13/150\n",
      "106/106 [==============================] - 9s 88ms/step - loss: 0.2574 - mean_average_precision_metric: 0.7353 - val_loss: 0.1765 - val_mean_average_precision_metric: 0.7412\n",
      "Epoch 14/150\n",
      "106/106 [==============================] - 9s 88ms/step - loss: 0.2277 - mean_average_precision_metric: 0.7370 - val_loss: 0.1708 - val_mean_average_precision_metric: 0.7581\n",
      "Epoch 15/150\n",
      "106/106 [==============================] - 9s 88ms/step - loss: 0.2147 - mean_average_precision_metric: 0.7450 - val_loss: 0.1798 - val_mean_average_precision_metric: 0.7462\n",
      "Epoch 16/150\n",
      "106/106 [==============================] - 9s 88ms/step - loss: 0.2113 - mean_average_precision_metric: 0.7432 - val_loss: 0.1897 - val_mean_average_precision_metric: 0.7649\n",
      "Epoch 17/150\n",
      "106/106 [==============================] - 9s 88ms/step - loss: 0.1964 - mean_average_precision_metric: 0.7512 - val_loss: 0.1649 - val_mean_average_precision_metric: 0.7696\n",
      "Epoch 18/150\n",
      "106/106 [==============================] - 9s 88ms/step - loss: 0.1912 - mean_average_precision_metric: 0.7552 - val_loss: 0.1610 - val_mean_average_precision_metric: 0.7615\n",
      "Epoch 19/150\n",
      "106/106 [==============================] - 9s 88ms/step - loss: 0.1869 - mean_average_precision_metric: 0.7639 - val_loss: 0.1615 - val_mean_average_precision_metric: 0.7602\n",
      "Epoch 20/150\n",
      "106/106 [==============================] - 9s 88ms/step - loss: 0.1842 - mean_average_precision_metric: 0.7530 - val_loss: 0.1524 - val_mean_average_precision_metric: 0.7737\n",
      "Epoch 21/150\n",
      "106/106 [==============================] - 9s 88ms/step - loss: 0.1722 - mean_average_precision_metric: 0.7660 - val_loss: 0.1819 - val_mean_average_precision_metric: 0.7512\n",
      "Epoch 22/150\n",
      "106/106 [==============================] - 9s 88ms/step - loss: 0.1790 - mean_average_precision_metric: 0.7632 - val_loss: 0.1609 - val_mean_average_precision_metric: 0.7626\n",
      "Epoch 23/150\n",
      "106/106 [==============================] - 9s 88ms/step - loss: 0.1761 - mean_average_precision_metric: 0.7611 - val_loss: 0.1370 - val_mean_average_precision_metric: 0.7689\n",
      "Epoch 24/150\n",
      "106/106 [==============================] - 9s 88ms/step - loss: 0.1688 - mean_average_precision_metric: 0.7671 - val_loss: 0.1506 - val_mean_average_precision_metric: 0.7678\n",
      "Epoch 25/150\n",
      "106/106 [==============================] - 9s 88ms/step - loss: 0.1699 - mean_average_precision_metric: 0.7558 - val_loss: 0.1414 - val_mean_average_precision_metric: 0.7683\n",
      "Epoch 26/150\n",
      "106/106 [==============================] - 9s 88ms/step - loss: 0.1551 - mean_average_precision_metric: 0.7710 - val_loss: 0.1327 - val_mean_average_precision_metric: 0.7746\n",
      "Epoch 27/150\n",
      "106/106 [==============================] - 9s 88ms/step - loss: 0.1638 - mean_average_precision_metric: 0.7694 - val_loss: 0.1871 - val_mean_average_precision_metric: 0.7656\n",
      "Epoch 28/150\n",
      "106/106 [==============================] - 9s 89ms/step - loss: 0.1655 - mean_average_precision_metric: 0.7695 - val_loss: 0.1861 - val_mean_average_precision_metric: 0.7606\n",
      "Epoch 29/150\n",
      "106/106 [==============================] - 9s 89ms/step - loss: 0.1568 - mean_average_precision_metric: 0.7627 - val_loss: 0.1412 - val_mean_average_precision_metric: 0.7757\n",
      "Epoch 30/150\n",
      "106/106 [==============================] - 9s 88ms/step - loss: 0.1596 - mean_average_precision_metric: 0.7705 - val_loss: 0.1236 - val_mean_average_precision_metric: 0.7694\n",
      "Epoch 31/150\n",
      "106/106 [==============================] - 9s 89ms/step - loss: 0.1649 - mean_average_precision_metric: 0.7700 - val_loss: 0.1247 - val_mean_average_precision_metric: 0.7628\n",
      "Epoch 32/150\n",
      "106/106 [==============================] - 9s 88ms/step - loss: 0.1476 - mean_average_precision_metric: 0.7694 - val_loss: 0.1360 - val_mean_average_precision_metric: 0.7734\n",
      "Epoch 33/150\n",
      "106/106 [==============================] - 9s 89ms/step - loss: 0.1524 - mean_average_precision_metric: 0.7710 - val_loss: 0.1220 - val_mean_average_precision_metric: 0.7725\n",
      "Epoch 34/150\n",
      "106/106 [==============================] - 9s 89ms/step - loss: 0.1486 - mean_average_precision_metric: 0.7715 - val_loss: 0.1473 - val_mean_average_precision_metric: 0.7697\n",
      "Epoch 35/150\n",
      "106/106 [==============================] - 9s 89ms/step - loss: 0.1530 - mean_average_precision_metric: 0.7799 - val_loss: 0.1372 - val_mean_average_precision_metric: 0.7715\n",
      "Epoch 36/150\n",
      "106/106 [==============================] - 9s 89ms/step - loss: 0.1487 - mean_average_precision_metric: 0.7718 - val_loss: 0.1298 - val_mean_average_precision_metric: 0.7743\n",
      "Epoch 37/150\n",
      "106/106 [==============================] - 9s 88ms/step - loss: 0.1462 - mean_average_precision_metric: 0.7784 - val_loss: 0.2170 - val_mean_average_precision_metric: 0.7725\n",
      "Epoch 38/150\n",
      "106/106 [==============================] - 9s 89ms/step - loss: 0.1483 - mean_average_precision_metric: 0.7806 - val_loss: 0.1497 - val_mean_average_precision_metric: 0.7630\n",
      "Epoch 39/150\n",
      "106/106 [==============================] - 9s 89ms/step - loss: 0.1393 - mean_average_precision_metric: 0.7793 - val_loss: 0.2419 - val_mean_average_precision_metric: 0.7517\n",
      "Epoch 40/150\n",
      "106/106 [==============================] - 9s 89ms/step - loss: 0.1440 - mean_average_precision_metric: 0.7762 - val_loss: 0.1137 - val_mean_average_precision_metric: 0.7773\n",
      "Epoch 41/150\n",
      "106/106 [==============================] - 9s 88ms/step - loss: 0.1404 - mean_average_precision_metric: 0.7738 - val_loss: 0.1310 - val_mean_average_precision_metric: 0.7692\n",
      "Epoch 42/150\n",
      "106/106 [==============================] - 9s 89ms/step - loss: 0.1407 - mean_average_precision_metric: 0.7739 - val_loss: 0.1545 - val_mean_average_precision_metric: 0.7734\n",
      "Epoch 43/150\n",
      "106/106 [==============================] - 9s 89ms/step - loss: 0.1449 - mean_average_precision_metric: 0.7723 - val_loss: 0.1412 - val_mean_average_precision_metric: 0.7733\n",
      "Epoch 44/150\n",
      "106/106 [==============================] - 9s 88ms/step - loss: 0.1396 - mean_average_precision_metric: 0.7753 - val_loss: 0.1206 - val_mean_average_precision_metric: 0.7679\n",
      "Epoch 45/150\n",
      "106/106 [==============================] - 9s 89ms/step - loss: 0.1433 - mean_average_precision_metric: 0.7862 - val_loss: 0.1855 - val_mean_average_precision_metric: 0.7574\n",
      "Epoch 46/150\n",
      "106/106 [==============================] - 9s 89ms/step - loss: 0.1414 - mean_average_precision_metric: 0.7794 - val_loss: 0.2054 - val_mean_average_precision_metric: 0.7731\n",
      "Epoch 47/150\n",
      "106/106 [==============================] - 9s 89ms/step - loss: 0.1452 - mean_average_precision_metric: 0.7814 - val_loss: 0.4625 - val_mean_average_precision_metric: 0.7605\n",
      "Epoch 48/150\n",
      "106/106 [==============================] - 9s 89ms/step - loss: 0.1322 - mean_average_precision_metric: 0.7780 - val_loss: 0.1232 - val_mean_average_precision_metric: 0.7760\n",
      "Epoch 49/150\n",
      "106/106 [==============================] - 9s 88ms/step - loss: 0.1433 - mean_average_precision_metric: 0.7817 - val_loss: 0.1921 - val_mean_average_precision_metric: 0.7668\n",
      "Epoch 50/150\n",
      "106/106 [==============================] - 9s 89ms/step - loss: 0.1326 - mean_average_precision_metric: 0.7775 - val_loss: 0.1303 - val_mean_average_precision_metric: 0.7624\n",
      "Epoch 51/150\n",
      "106/106 [==============================] - 9s 88ms/step - loss: 0.1367 - mean_average_precision_metric: 0.7756 - val_loss: 0.5185 - val_mean_average_precision_metric: 0.7559\n",
      "Epoch 52/150\n",
      "106/106 [==============================] - 9s 88ms/step - loss: 0.1379 - mean_average_precision_metric: 0.7833 - val_loss: 0.1354 - val_mean_average_precision_metric: 0.7536\n",
      "Epoch 53/150\n",
      "106/106 [==============================] - 9s 88ms/step - loss: 0.1371 - mean_average_precision_metric: 0.7801 - val_loss: 0.2107 - val_mean_average_precision_metric: 0.7651\n",
      "Epoch 54/150\n",
      "106/106 [==============================] - 9s 88ms/step - loss: 0.1362 - mean_average_precision_metric: 0.7777 - val_loss: 0.1927 - val_mean_average_precision_metric: 0.7676\n",
      "Epoch 55/150\n",
      "106/106 [==============================] - 9s 89ms/step - loss: 0.1338 - mean_average_precision_metric: 0.7694 - val_loss: 0.1307 - val_mean_average_precision_metric: 0.7758\n",
      "Epoch 00055: early stopping\n"
     ]
    }
   ],
   "source": [
    "keras.backend.clear_session()\n",
    "np.random.seed(15)\n",
    "tf.random.set_seed(15)\n",
    "\n",
    "history_2 = model_2.fit(dataGenerator.flow(train_images, train_targets, batch_size=64),\n",
    "                            validation_data=(val_images, val_targets),\n",
    "                            epochs=150, callbacks=es, verbose=1)"
   ]
  },
  {
   "cell_type": "code",
   "execution_count": 24,
   "metadata": {},
   "outputs": [
    {
     "data": {
      "image/png": "[encoded data removed]",
      "text/plain": [
       "<Figure size 432x288 with 1 Axes>"
      ]
     },
     "metadata": {
      "needs_background": "light"
     },
     "output_type": "display_data"
    }
   ],
   "source": [
    "plt.plot(history_2.history['mean_average_precision_metric'])\n",
    "plt.plot(history_2.history['val_mean_average_precision_metric'])\n",
    "plt.title('Model mean average precision')\n",
    "plt.ylabel('mean average precision')\n",
    "plt.xlabel('epoch')\n",
    "plt.legend(['train', 'val'], loc='lower right')\n",
    "plt.show()"
   ]
  },
  {
   "cell_type": "code",
   "execution_count": 23,
   "metadata": {},
   "outputs": [
    {
     "name": "stdout",
     "output_type": "stream",
     "text": [
      "Model: \"sequential_2\"\n",
      "_________________________________________________________________\n",
      "Layer (type)                 Output Shape              Param #   \n",
      "=================================================================\n",
      "conv2d_10 (Conv2D)           (None, 298, 298, 16)      448       \n",
      "_________________________________________________________________\n",
      "random_flip_2 (RandomFlip)   (None, 298, 298, 16)      0         \n",
      "_________________________________________________________________\n",
      "batch_normalization_8 (Batch (None, 298, 298, 16)      64        \n",
      "_________________________________________________________________\n",
      "max_pooling2d_10 (MaxPooling (None, 149, 149, 16)      0         \n",
      "_________________________________________________________________\n",
      "conv2d_11 (Conv2D)           (None, 147, 147, 32)      4640      \n",
      "_________________________________________________________________\n",
      "batch_normalization_9 (Batch (None, 147, 147, 32)      128       \n",
      "_________________________________________________________________\n",
      "max_pooling2d_11 (MaxPooling (None, 73, 73, 32)        0         \n",
      "_________________________________________________________________\n",
      "conv2d_12 (Conv2D)           (None, 71, 71, 64)        18496     \n",
      "_________________________________________________________________\n",
      "batch_normalization_10 (Batc (None, 71, 71, 64)        256       \n",
      "_________________________________________________________________\n",
      "max_pooling2d_12 (MaxPooling (None, 35, 35, 64)        0         \n",
      "_________________________________________________________________\n",
      "conv2d_13 (Conv2D)           (None, 33, 33, 64)        36928     \n",
      "_________________________________________________________________\n",
      "batch_normalization_11 (Batc (None, 33, 33, 64)        256       \n",
      "_________________________________________________________________\n",
      "max_pooling2d_13 (MaxPooling (None, 16, 16, 64)        0         \n",
      "_________________________________________________________________\n",
      "conv2d_14 (Conv2D)           (None, 14, 14, 128)       73856     \n",
      "_________________________________________________________________\n",
      "max_pooling2d_14 (MaxPooling (None, 7, 7, 128)         0         \n",
      "_________________________________________________________________\n",
      "flatten_2 (Flatten)          (None, 6272)              0         \n",
      "_________________________________________________________________\n",
      "dense_4 (Dense)              (None, 256)               1605888   \n",
      "_________________________________________________________________\n",
      "dropout_3 (Dropout)          (None, 256)               0         \n",
      "_________________________________________________________________\n",
      "dense_5 (Dense)              (None, 4)                 1028      \n",
      "=================================================================\n",
      "Total params: 1,741,988\n",
      "Trainable params: 1,741,636\n",
      "Non-trainable params: 352\n",
      "_________________________________________________________________\n"
     ]
    }
   ],
   "source": [
    "# initializer = tf.keras.initializers.HeUniform()\n",
    "model_3 = Sequential()\n",
    "\n",
    "model_3.add(Conv2D(16, (3, 3), activation='relu', input_shape=(300, 300, 3)))\n",
    "model_3.add(RandomFlip(mode='horizontal_and_vertical', seed=None))\n",
    "model_3.add(BatchNormalization())\n",
    "model_3.add(MaxPool2D(pool_size=(2, 2)))\n",
    "# model_1.add(Dropout(0.25))\n",
    "\n",
    "model_3.add(Conv2D(32, (3, 3), activation='relu'))\n",
    "model_3.add(BatchNormalization())\n",
    "model_3.add(MaxPool2D(pool_size=(2, 2)))\n",
    "# model_1.add(Dropout(0.25))\n",
    "\n",
    "model_3.add(Conv2D(64, (3, 3), activation='relu'))\n",
    "model_3.add(BatchNormalization())\n",
    "model_3.add(MaxPool2D(pool_size=(2, 2)))\n",
    "# model_1.add(Dropout(0.25))\n",
    "\n",
    "model_3.add(Conv2D(64, (3, 3), activation='relu'))\n",
    "model_3.add(BatchNormalization())\n",
    "model_3.add(MaxPool2D(pool_size=(2, 2)))\n",
    "# model_1.add(Dropout(0.25))\n",
    "\n",
    "model_3.add(Conv2D(128, (3, 3), activation='relu'))\n",
    "# model_1.add(BatchNormalization())\n",
    "model_3.add(MaxPool2D(pool_size=(2, 2)))\n",
    "# model_1.add(Dropout(0.25))\n",
    "\n",
    "# model_1.add(Conv2D(128, (3, 3), activation='relu'))\n",
    "# model_1.add(MaxPool2D(pool_size=(2, 2)))\n",
    "# model_1.add(Dropout(0.25))\n",
    "\n",
    "model_3.add(Flatten())\n",
    "# model_3.add(Dropout(0.35))\n",
    "model_3.add(Dense(256, activation='relu', kernel_regularizer=regularizers.l2(0.01)))\n",
    "model_3.add(Dropout(0.35))\n",
    "\n",
    "model_3.add(Dense(4))\n",
    "\n",
    "model_3.compile(loss='mse', optimizer='adam', metrics=[tfr.keras.metrics.MeanAveragePrecisionMetric()])\n",
    "\n",
    "model_3.summary()"
   ]
  },
  {
   "cell_type": "code",
   "execution_count": 26,
   "metadata": {},
   "outputs": [
    {
     "name": "stderr",
     "output_type": "stream",
     "text": [
      "2022-08-14 22:17:06.674252: I tensorflow/compiler/mlir/mlir_graph_optimization_pass.cc:116] None of the MLIR optimization passes are enabled (registered 2)\n",
      "2022-08-14 22:17:06.692300: I tensorflow/core/platform/profile_utils/cpu_utils.cc:112] CPU Frequency: 3000000000 Hz\n"
     ]
    },
    {
     "name": "stdout",
     "output_type": "stream",
     "text": [
      "Epoch 1/150\n",
      "WARNING:tensorflow:AutoGraph could not transform <bound method MeanAveragePrecisionMetric._compute_impl of <tensorflow_ranking.python.metrics_impl.MeanAveragePrecisionMetric object at 0x7f7ffc0d3970>> and will run it as-is.\n",
      "Please report this to the TensorFlow team. When filing the bug, set the verbosity to 10 (on Linux, `export AUTOGRAPH_VERBOSITY=10`) and attach the full output.\n",
      "Cause: module 'gast' has no attribute 'Index'\n",
      "To silence this warning, decorate the function with @tf.autograph.experimental.do_not_convert\n",
      "WARNING: AutoGraph could not transform <bound method MeanAveragePrecisionMetric._compute_impl of <tensorflow_ranking.python.metrics_impl.MeanAveragePrecisionMetric object at 0x7f7ffc0d3970>> and will run it as-is.\n",
      "Please report this to the TensorFlow team. When filing the bug, set the verbosity to 10 (on Linux, `export AUTOGRAPH_VERBOSITY=10`) and attach the full output.\n",
      "Cause: module 'gast' has no attribute 'Index'\n",
      "To silence this warning, decorate the function with @tf.autograph.experimental.do_not_convert\n"
     ]
    },
    {
     "name": "stderr",
     "output_type": "stream",
     "text": [
      "2022-08-14 22:17:07.599316: I tensorflow/stream_executor/platform/default/dso_loader.cc:49] Successfully opened dynamic library libcublas.so.10\n",
      "2022-08-14 22:17:07.717533: I tensorflow/stream_executor/platform/default/dso_loader.cc:49] Successfully opened dynamic library libcudnn.so.7\n"
     ]
    },
    {
     "name": "stdout",
     "output_type": "stream",
     "text": [
      "106/106 [==============================] - ETA: 0s - loss: 20.2258 - mean_average_precision_metric_2: 0.5798"
     ]
    },
    {
     "name": "stderr",
     "output_type": "stream",
     "text": [
      "2022-08-14 22:17:18.858767: W tensorflow/core/framework/cpu_allocator_impl.cc:80] Allocation of 810000000 exceeds 10% of free system memory.\n"
     ]
    },
    {
     "name": "stdout",
     "output_type": "stream",
     "text": [
      "106/106 [==============================] - 13s 102ms/step - loss: 20.1146 - mean_average_precision_metric_2: 0.5799 - val_loss: 3.5574 - val_mean_average_precision_metric_2: 0.5931\n",
      "Epoch 2/150\n",
      "106/106 [==============================] - 10s 95ms/step - loss: 3.3383 - mean_average_precision_metric_2: 0.6456 - val_loss: 2.8773 - val_mean_average_precision_metric_2: 0.6014\n",
      "Epoch 3/150\n",
      "106/106 [==============================] - 10s 95ms/step - loss: 2.5378 - mean_average_precision_metric_2: 0.6693 - val_loss: 2.2343 - val_mean_average_precision_metric_2: 0.6617\n",
      "Epoch 4/150\n",
      "106/106 [==============================] - 10s 95ms/step - loss: 2.0864 - mean_average_precision_metric_2: 0.6704 - val_loss: 1.9397 - val_mean_average_precision_metric_2: 0.6750\n",
      "Epoch 5/150\n",
      "106/106 [==============================] - 10s 93ms/step - loss: 1.7801 - mean_average_precision_metric_2: 0.6890 - val_loss: 1.5686 - val_mean_average_precision_metric_2: 0.6820\n",
      "Epoch 6/150\n",
      "106/106 [==============================] - 10s 90ms/step - loss: 1.5372 - mean_average_precision_metric_2: 0.6908 - val_loss: 1.3594 - val_mean_average_precision_metric_2: 0.7034\n",
      "Epoch 7/150\n",
      "106/106 [==============================] - 10s 89ms/step - loss: 1.3368 - mean_average_precision_metric_2: 0.6966 - val_loss: 1.1713 - val_mean_average_precision_metric_2: 0.7293\n",
      "Epoch 8/150\n",
      "106/106 [==============================] - 10s 89ms/step - loss: 1.1732 - mean_average_precision_metric_2: 0.7082 - val_loss: 1.0472 - val_mean_average_precision_metric_2: 0.7467\n",
      "Epoch 9/150\n",
      "106/106 [==============================] - 10s 90ms/step - loss: 1.0471 - mean_average_precision_metric_2: 0.7181 - val_loss: 0.9030 - val_mean_average_precision_metric_2: 0.7439\n",
      "Epoch 10/150\n",
      "106/106 [==============================] - 10s 90ms/step - loss: 0.9142 - mean_average_precision_metric_2: 0.7260 - val_loss: 0.7978 - val_mean_average_precision_metric_2: 0.7450\n",
      "Epoch 11/150\n",
      "106/106 [==============================] - 10s 91ms/step - loss: 0.8123 - mean_average_precision_metric_2: 0.7373 - val_loss: 0.7073 - val_mean_average_precision_metric_2: 0.7495\n",
      "Epoch 12/150\n",
      "106/106 [==============================] - 10s 96ms/step - loss: 0.7207 - mean_average_precision_metric_2: 0.7298 - val_loss: 0.6063 - val_mean_average_precision_metric_2: 0.7642\n",
      "Epoch 13/150\n",
      "106/106 [==============================] - 10s 96ms/step - loss: 0.6373 - mean_average_precision_metric_2: 0.7372 - val_loss: 0.5276 - val_mean_average_precision_metric_2: 0.7572\n",
      "Epoch 14/150\n",
      "106/106 [==============================] - 10s 96ms/step - loss: 0.5667 - mean_average_precision_metric_2: 0.7328 - val_loss: 0.5050 - val_mean_average_precision_metric_2: 0.7656\n",
      "Epoch 15/150\n",
      "106/106 [==============================] - 10s 96ms/step - loss: 0.5035 - mean_average_precision_metric_2: 0.7392 - val_loss: 0.4027 - val_mean_average_precision_metric_2: 0.7700\n",
      "Epoch 16/150\n",
      "106/106 [==============================] - 10s 97ms/step - loss: 0.4524 - mean_average_precision_metric_2: 0.7440 - val_loss: 0.3667 - val_mean_average_precision_metric_2: 0.7520\n",
      "Epoch 17/150\n",
      "106/106 [==============================] - 10s 97ms/step - loss: 0.4037 - mean_average_precision_metric_2: 0.7414 - val_loss: 0.3593 - val_mean_average_precision_metric_2: 0.7563\n",
      "Epoch 18/150\n",
      "106/106 [==============================] - 10s 97ms/step - loss: 0.3650 - mean_average_precision_metric_2: 0.7425 - val_loss: 0.2852 - val_mean_average_precision_metric_2: 0.7653\n",
      "Epoch 19/150\n",
      "106/106 [==============================] - 10s 97ms/step - loss: 0.3250 - mean_average_precision_metric_2: 0.7400 - val_loss: 0.2992 - val_mean_average_precision_metric_2: 0.7594\n",
      "Epoch 20/150\n",
      "106/106 [==============================] - 10s 95ms/step - loss: 0.2965 - mean_average_precision_metric_2: 0.7504 - val_loss: 0.2300 - val_mean_average_precision_metric_2: 0.7637\n",
      "Epoch 21/150\n",
      "106/106 [==============================] - 10s 92ms/step - loss: 0.2672 - mean_average_precision_metric_2: 0.7472 - val_loss: 0.2005 - val_mean_average_precision_metric_2: 0.7613\n",
      "Epoch 22/150\n",
      "106/106 [==============================] - 10s 94ms/step - loss: 0.2384 - mean_average_precision_metric_2: 0.7518 - val_loss: 0.1990 - val_mean_average_precision_metric_2: 0.7569\n",
      "Epoch 23/150\n",
      "106/106 [==============================] - 10s 93ms/step - loss: 0.2265 - mean_average_precision_metric_2: 0.7465 - val_loss: 0.1738 - val_mean_average_precision_metric_2: 0.7567\n",
      "Epoch 24/150\n",
      "106/106 [==============================] - 10s 89ms/step - loss: 0.2100 - mean_average_precision_metric_2: 0.7537 - val_loss: 0.1426 - val_mean_average_precision_metric_2: 0.7673\n",
      "Epoch 25/150\n",
      "106/106 [==============================] - 10s 89ms/step - loss: 0.1800 - mean_average_precision_metric_2: 0.7624 - val_loss: 0.1290 - val_mean_average_precision_metric_2: 0.7587\n",
      "Epoch 26/150\n",
      "106/106 [==============================] - 10s 89ms/step - loss: 0.1745 - mean_average_precision_metric_2: 0.7548 - val_loss: 0.1316 - val_mean_average_precision_metric_2: 0.7629\n",
      "Epoch 27/150\n",
      "106/106 [==============================] - 10s 89ms/step - loss: 0.1623 - mean_average_precision_metric_2: 0.7662 - val_loss: 0.1294 - val_mean_average_precision_metric_2: 0.7585\n",
      "Epoch 28/150\n",
      "106/106 [==============================] - 10s 89ms/step - loss: 0.1469 - mean_average_precision_metric_2: 0.7676 - val_loss: 0.1029 - val_mean_average_precision_metric_2: 0.7644\n",
      "Epoch 29/150\n",
      "106/106 [==============================] - 10s 91ms/step - loss: 0.1356 - mean_average_precision_metric_2: 0.7694 - val_loss: 0.1318 - val_mean_average_precision_metric_2: 0.7717\n",
      "Epoch 30/150\n",
      "106/106 [==============================] - 10s 92ms/step - loss: 0.1341 - mean_average_precision_metric_2: 0.7765 - val_loss: 0.1004 - val_mean_average_precision_metric_2: 0.7686\n",
      "Epoch 31/150\n",
      "106/106 [==============================] - 10s 90ms/step - loss: 0.1261 - mean_average_precision_metric_2: 0.7747 - val_loss: 0.1071 - val_mean_average_precision_metric_2: 0.7716\n",
      "Epoch 32/150\n",
      "106/106 [==============================] - 10s 91ms/step - loss: 0.1210 - mean_average_precision_metric_2: 0.7764 - val_loss: 0.0955 - val_mean_average_precision_metric_2: 0.7687\n",
      "Epoch 33/150\n",
      "106/106 [==============================] - 10s 91ms/step - loss: 0.1139 - mean_average_precision_metric_2: 0.7773 - val_loss: 0.0984 - val_mean_average_precision_metric_2: 0.7745\n",
      "Epoch 34/150\n",
      "106/106 [==============================] - 10s 92ms/step - loss: 0.1071 - mean_average_precision_metric_2: 0.7826 - val_loss: 0.1231 - val_mean_average_precision_metric_2: 0.7671\n",
      "Epoch 35/150\n",
      "106/106 [==============================] - 10s 95ms/step - loss: 0.1052 - mean_average_precision_metric_2: 0.7822 - val_loss: 0.0687 - val_mean_average_precision_metric_2: 0.7816\n",
      "Epoch 36/150\n",
      "106/106 [==============================] - 10s 90ms/step - loss: 0.0986 - mean_average_precision_metric_2: 0.7841 - val_loss: 0.1473 - val_mean_average_precision_metric_2: 0.7731\n",
      "Epoch 37/150\n",
      "106/106 [==============================] - 10s 89ms/step - loss: 0.0955 - mean_average_precision_metric_2: 0.7921 - val_loss: 0.0709 - val_mean_average_precision_metric_2: 0.7854\n",
      "Epoch 38/150\n",
      "106/106 [==============================] - 10s 89ms/step - loss: 0.0899 - mean_average_precision_metric_2: 0.7914 - val_loss: 0.0953 - val_mean_average_precision_metric_2: 0.7747\n",
      "Epoch 39/150\n",
      "106/106 [==============================] - 10s 89ms/step - loss: 0.0954 - mean_average_precision_metric_2: 0.7904 - val_loss: 0.0989 - val_mean_average_precision_metric_2: 0.7742\n",
      "Epoch 40/150\n",
      "106/106 [==============================] - 10s 89ms/step - loss: 0.0871 - mean_average_precision_metric_2: 0.7931 - val_loss: 0.0880 - val_mean_average_precision_metric_2: 0.7727\n",
      "Epoch 41/150\n",
      "106/106 [==============================] - 10s 90ms/step - loss: 0.0826 - mean_average_precision_metric_2: 0.7900 - val_loss: 0.0648 - val_mean_average_precision_metric_2: 0.7803\n",
      "Epoch 42/150\n",
      "106/106 [==============================] - 10s 89ms/step - loss: 0.0867 - mean_average_precision_metric_2: 0.7883 - val_loss: 0.0748 - val_mean_average_precision_metric_2: 0.7763\n",
      "Epoch 43/150\n",
      "106/106 [==============================] - 10s 89ms/step - loss: 0.0823 - mean_average_precision_metric_2: 0.7934 - val_loss: 0.1479 - val_mean_average_precision_metric_2: 0.7734\n",
      "Epoch 44/150\n",
      "106/106 [==============================] - 10s 90ms/step - loss: 0.0817 - mean_average_precision_metric_2: 0.7919 - val_loss: 0.0745 - val_mean_average_precision_metric_2: 0.7752\n",
      "Epoch 45/150\n",
      "106/106 [==============================] - 10s 90ms/step - loss: 0.0754 - mean_average_precision_metric_2: 0.7917 - val_loss: 0.0565 - val_mean_average_precision_metric_2: 0.7825\n",
      "Epoch 46/150\n",
      "106/106 [==============================] - 10s 89ms/step - loss: 0.0750 - mean_average_precision_metric_2: 0.7978 - val_loss: 0.0727 - val_mean_average_precision_metric_2: 0.7786\n",
      "Epoch 47/150\n",
      "106/106 [==============================] - 10s 90ms/step - loss: 0.0757 - mean_average_precision_metric_2: 0.7957 - val_loss: 0.0616 - val_mean_average_precision_metric_2: 0.7856\n",
      "Epoch 48/150\n",
      "106/106 [==============================] - 10s 90ms/step - loss: 0.0743 - mean_average_precision_metric_2: 0.7919 - val_loss: 0.0601 - val_mean_average_precision_metric_2: 0.7859\n",
      "Epoch 49/150\n",
      "106/106 [==============================] - 10s 89ms/step - loss: 0.0751 - mean_average_precision_metric_2: 0.7933 - val_loss: 0.0548 - val_mean_average_precision_metric_2: 0.7842\n",
      "Epoch 50/150\n",
      "106/106 [==============================] - 10s 91ms/step - loss: 0.0727 - mean_average_precision_metric_2: 0.7883 - val_loss: 0.0706 - val_mean_average_precision_metric_2: 0.7725\n",
      "Epoch 51/150\n",
      "106/106 [==============================] - 10s 89ms/step - loss: 0.0711 - mean_average_precision_metric_2: 0.7972 - val_loss: 0.0567 - val_mean_average_precision_metric_2: 0.7781\n",
      "Epoch 52/150\n",
      "106/106 [==============================] - 10s 89ms/step - loss: 0.0740 - mean_average_precision_metric_2: 0.7947 - val_loss: 0.0720 - val_mean_average_precision_metric_2: 0.7840\n",
      "Epoch 53/150\n",
      "106/106 [==============================] - 10s 92ms/step - loss: 0.0704 - mean_average_precision_metric_2: 0.7933 - val_loss: 0.0663 - val_mean_average_precision_metric_2: 0.7806\n",
      "Epoch 54/150\n",
      "106/106 [==============================] - 10s 92ms/step - loss: 0.0714 - mean_average_precision_metric_2: 0.7940 - val_loss: 0.0663 - val_mean_average_precision_metric_2: 0.7805\n",
      "Epoch 55/150\n",
      "106/106 [==============================] - 10s 89ms/step - loss: 0.0689 - mean_average_precision_metric_2: 0.7931 - val_loss: 0.0696 - val_mean_average_precision_metric_2: 0.7830\n",
      "Epoch 56/150\n",
      "106/106 [==============================] - 10s 89ms/step - loss: 0.0685 - mean_average_precision_metric_2: 0.7952 - val_loss: 0.0545 - val_mean_average_precision_metric_2: 0.7788\n",
      "Epoch 57/150\n",
      "106/106 [==============================] - 10s 89ms/step - loss: 0.0717 - mean_average_precision_metric_2: 0.7935 - val_loss: 0.0613 - val_mean_average_precision_metric_2: 0.7843\n",
      "Epoch 58/150\n",
      "106/106 [==============================] - 10s 91ms/step - loss: 0.0704 - mean_average_precision_metric_2: 0.7964 - val_loss: 0.0582 - val_mean_average_precision_metric_2: 0.7797\n",
      "Epoch 59/150\n",
      "106/106 [==============================] - 10s 89ms/step - loss: 0.0694 - mean_average_precision_metric_2: 0.7997 - val_loss: 0.1802 - val_mean_average_precision_metric_2: 0.7505\n",
      "Epoch 60/150\n",
      "106/106 [==============================] - 10s 90ms/step - loss: 0.0680 - mean_average_precision_metric_2: 0.7851 - val_loss: 0.0870 - val_mean_average_precision_metric_2: 0.7757\n",
      "Epoch 61/150\n",
      "106/106 [==============================] - 10s 90ms/step - loss: 0.0730 - mean_average_precision_metric_2: 0.7917 - val_loss: 0.0638 - val_mean_average_precision_metric_2: 0.7784\n",
      "Epoch 62/150\n",
      "106/106 [==============================] - 10s 89ms/step - loss: 0.0671 - mean_average_precision_metric_2: 0.7925 - val_loss: 0.0607 - val_mean_average_precision_metric_2: 0.7850\n",
      "Epoch 63/150\n",
      "106/106 [==============================] - 10s 89ms/step - loss: 0.0725 - mean_average_precision_metric_2: 0.7910 - val_loss: 0.1620 - val_mean_average_precision_metric_2: 0.7632\n",
      "Epoch 64/150\n",
      "106/106 [==============================] - 10s 91ms/step - loss: 0.0700 - mean_average_precision_metric_2: 0.8013 - val_loss: 0.1487 - val_mean_average_precision_metric_2: 0.7591\n",
      "Epoch 65/150\n",
      "106/106 [==============================] - 10s 89ms/step - loss: 0.0660 - mean_average_precision_metric_2: 0.7831 - val_loss: 0.0552 - val_mean_average_precision_metric_2: 0.7853\n",
      "Epoch 66/150\n",
      "106/106 [==============================] - 9s 89ms/step - loss: 0.0684 - mean_average_precision_metric_2: 0.7920 - val_loss: 0.1399 - val_mean_average_precision_metric_2: 0.7483\n",
      "Epoch 67/150\n",
      "106/106 [==============================] - 10s 89ms/step - loss: 0.0736 - mean_average_precision_metric_2: 0.7865 - val_loss: 0.0720 - val_mean_average_precision_metric_2: 0.7794\n",
      "Epoch 68/150\n",
      "106/106 [==============================] - 10s 89ms/step - loss: 0.0720 - mean_average_precision_metric_2: 0.7908 - val_loss: 0.0742 - val_mean_average_precision_metric_2: 0.7765\n",
      "Epoch 69/150\n",
      "106/106 [==============================] - 10s 89ms/step - loss: 0.0668 - mean_average_precision_metric_2: 0.7979 - val_loss: 0.0709 - val_mean_average_precision_metric_2: 0.7826\n",
      "Epoch 70/150\n",
      "106/106 [==============================] - 10s 91ms/step - loss: 0.0660 - mean_average_precision_metric_2: 0.7983 - val_loss: 0.0495 - val_mean_average_precision_metric_2: 0.7873\n",
      "Epoch 71/150\n",
      "106/106 [==============================] - 10s 90ms/step - loss: 0.0634 - mean_average_precision_metric_2: 0.7882 - val_loss: 0.0594 - val_mean_average_precision_metric_2: 0.7781\n",
      "Epoch 72/150\n",
      "106/106 [==============================] - 10s 90ms/step - loss: 0.0683 - mean_average_precision_metric_2: 0.7926 - val_loss: 0.0693 - val_mean_average_precision_metric_2: 0.7755\n",
      "Epoch 73/150\n",
      "106/106 [==============================] - 9s 89ms/step - loss: 0.0666 - mean_average_precision_metric_2: 0.8055 - val_loss: 0.0768 - val_mean_average_precision_metric_2: 0.7794\n",
      "Epoch 74/150\n",
      "106/106 [==============================] - 10s 89ms/step - loss: 0.0678 - mean_average_precision_metric_2: 0.8020 - val_loss: 0.0621 - val_mean_average_precision_metric_2: 0.7820\n",
      "Epoch 75/150\n",
      "106/106 [==============================] - 10s 89ms/step - loss: 0.0684 - mean_average_precision_metric_2: 0.7951 - val_loss: 0.1235 - val_mean_average_precision_metric_2: 0.7741\n",
      "Epoch 76/150\n",
      "106/106 [==============================] - 10s 89ms/step - loss: 0.0692 - mean_average_precision_metric_2: 0.7961 - val_loss: 0.0496 - val_mean_average_precision_metric_2: 0.7843\n",
      "Epoch 77/150\n",
      "106/106 [==============================] - 10s 89ms/step - loss: 0.0628 - mean_average_precision_metric_2: 0.7971 - val_loss: 0.0745 - val_mean_average_precision_metric_2: 0.7818\n",
      "Epoch 78/150\n",
      "106/106 [==============================] - 10s 91ms/step - loss: 0.0632 - mean_average_precision_metric_2: 0.7986 - val_loss: 0.0606 - val_mean_average_precision_metric_2: 0.7865\n",
      "Epoch 79/150\n",
      "106/106 [==============================] - 10s 92ms/step - loss: 0.0676 - mean_average_precision_metric_2: 0.7983 - val_loss: 0.0683 - val_mean_average_precision_metric_2: 0.7771\n",
      "Epoch 80/150\n",
      "106/106 [==============================] - 10s 89ms/step - loss: 0.0654 - mean_average_precision_metric_2: 0.7898 - val_loss: 0.0868 - val_mean_average_precision_metric_2: 0.7793\n",
      "Epoch 81/150\n",
      "106/106 [==============================] - 10s 90ms/step - loss: 0.0643 - mean_average_precision_metric_2: 0.7891 - val_loss: 0.0688 - val_mean_average_precision_metric_2: 0.7881\n",
      "Epoch 82/150\n",
      "106/106 [==============================] - 10s 89ms/step - loss: 0.0662 - mean_average_precision_metric_2: 0.7901 - val_loss: 0.0700 - val_mean_average_precision_metric_2: 0.7812\n",
      "Epoch 83/150\n",
      "106/106 [==============================] - 10s 90ms/step - loss: 0.0653 - mean_average_precision_metric_2: 0.7977 - val_loss: 0.1382 - val_mean_average_precision_metric_2: 0.7567\n",
      "Epoch 84/150\n",
      "106/106 [==============================] - 9s 89ms/step - loss: 0.0656 - mean_average_precision_metric_2: 0.7996 - val_loss: 0.0856 - val_mean_average_precision_metric_2: 0.7819\n",
      "Epoch 85/150\n",
      "106/106 [==============================] - 10s 89ms/step - loss: 0.0654 - mean_average_precision_metric_2: 0.7940 - val_loss: 0.1022 - val_mean_average_precision_metric_2: 0.7749\n",
      "Epoch 00085: early stopping\n"
     ]
    }
   ],
   "source": [
    "keras.backend.clear_session()\n",
    "np.random.seed(15)\n",
    "tf.random.set_seed(15)\n",
    "\n",
    "history_3 = model_3.fit(dataGenerator.flow(train_images, train_targets, batch_size=64),\n",
    "                            validation_data=(val_images, val_targets),\n",
    "                            epochs=150, callbacks=es, verbose=1)"
   ]
  },
  {
   "cell_type": "code",
   "execution_count": 96,
   "metadata": {},
   "outputs": [
    {
     "ename": "NameError",
     "evalue": "name 'history_3' is not defined",
     "output_type": "error",
     "traceback": [
      "\u001b[0;31m---------------------------------------------------------------------------\u001b[0m",
      "\u001b[0;31mNameError\u001b[0m                                 Traceback (most recent call last)",
      "\u001b[1;32m/home/lunet/conm/Desktop/Stenosis-Project/new_model.ipynb Cell 37\u001b[0m in \u001b[0;36m<cell line: 1>\u001b[0;34m()\u001b[0m\n\u001b[0;32m----> <a href='vscode-notebook-cell://ssh-remote%2Blnx-n109-10.lunet.lboro.ac.uk/home/lunet/conm/Desktop/Stenosis-Project/new_model.ipynb#X50sdnNjb2RlLXJlbW90ZQ%3D%3D?line=0'>1</a>\u001b[0m plt\u001b[39m.\u001b[39mplot(history_3\u001b[39m.\u001b[39mhistory[\u001b[39m'\u001b[39m\u001b[39mmean_average_precision_metric_2\u001b[39m\u001b[39m'\u001b[39m])\n\u001b[1;32m      <a href='vscode-notebook-cell://ssh-remote%2Blnx-n109-10.lunet.lboro.ac.uk/home/lunet/conm/Desktop/Stenosis-Project/new_model.ipynb#X50sdnNjb2RlLXJlbW90ZQ%3D%3D?line=1'>2</a>\u001b[0m plt\u001b[39m.\u001b[39mplot(history_3\u001b[39m.\u001b[39mhistory[\u001b[39m'\u001b[39m\u001b[39mval_mean_average_precision_metric_2\u001b[39m\u001b[39m'\u001b[39m])\n\u001b[1;32m      <a href='vscode-notebook-cell://ssh-remote%2Blnx-n109-10.lunet.lboro.ac.uk/home/lunet/conm/Desktop/Stenosis-Project/new_model.ipynb#X50sdnNjb2RlLXJlbW90ZQ%3D%3D?line=2'>3</a>\u001b[0m plt\u001b[39m.\u001b[39mtitle(\u001b[39m'\u001b[39m\u001b[39mModel mean average precision\u001b[39m\u001b[39m'\u001b[39m)\n",
      "\u001b[0;31mNameError\u001b[0m: name 'history_3' is not defined"
     ]
    }
   ],
   "source": [
    "plt.plot(history_3.history['mean_average_precision_metric_2'])\n",
    "plt.plot(history_3.history['val_mean_average_precision_metric_2'])\n",
    "plt.title('Model mean average precision')\n",
    "plt.ylabel('mean average precision')\n",
    "plt.xlabel('epoch')\n",
    "plt.legend(['train', 'val'], loc='lower right')\n",
    "plt.show()"
   ]
  },
  {
   "cell_type": "code",
   "execution_count": 22,
   "metadata": {},
   "outputs": [
    {
     "name": "stderr",
     "output_type": "stream",
     "text": [
      "2022-08-18 06:38:49.896288: I tensorflow/compiler/jit/xla_cpu_device.cc:41] Not creating XLA devices, tf_xla_enable_xla_devices not set\n",
      "2022-08-18 06:38:50.055736: I tensorflow/stream_executor/cuda/cuda_gpu_executor.cc:941] successful NUMA node read from SysFS had negative value (-1), but there must be at least one NUMA node, so returning NUMA node zero\n",
      "2022-08-18 06:38:50.056165: I tensorflow/core/common_runtime/gpu/gpu_device.cc:1720] Found device 0 with properties: \n",
      "pciBusID: 0000:01:00.0 name: NVIDIA GeForce RTX 2080 Ti computeCapability: 7.5\n",
      "coreClock: 1.545GHz coreCount: 68 deviceMemorySize: 10.76GiB deviceMemoryBandwidth: 573.69GiB/s\n",
      "2022-08-18 06:38:50.531044: I tensorflow/stream_executor/platform/default/dso_loader.cc:49] Successfully opened dynamic library libcudart.so.10.1\n",
      "2022-08-18 06:38:50.638677: I tensorflow/stream_executor/platform/default/dso_loader.cc:49] Successfully opened dynamic library libcublas.so.10\n",
      "2022-08-18 06:38:50.657515: I tensorflow/stream_executor/platform/default/dso_loader.cc:49] Successfully opened dynamic library libcublasLt.so.10\n",
      "2022-08-18 06:38:50.660027: I tensorflow/stream_executor/platform/default/dso_loader.cc:49] Successfully opened dynamic library libcufft.so.10\n",
      "2022-08-18 06:38:50.715949: I tensorflow/stream_executor/platform/default/dso_loader.cc:49] Successfully opened dynamic library libcurand.so.10\n",
      "2022-08-18 06:38:50.716092: I tensorflow/stream_executor/platform/default/dso_loader.cc:49] Successfully opened dynamic library libcusolver.so.10\n",
      "2022-08-18 06:38:50.727079: I tensorflow/stream_executor/platform/default/dso_loader.cc:49] Successfully opened dynamic library libcusparse.so.10\n",
      "2022-08-18 06:38:50.737731: I tensorflow/stream_executor/platform/default/dso_loader.cc:49] Successfully opened dynamic library libcudnn.so.7\n",
      "2022-08-18 06:38:50.738019: I tensorflow/stream_executor/cuda/cuda_gpu_executor.cc:941] successful NUMA node read from SysFS had negative value (-1), but there must be at least one NUMA node, so returning NUMA node zero\n",
      "2022-08-18 06:38:50.739562: I tensorflow/stream_executor/cuda/cuda_gpu_executor.cc:941] successful NUMA node read from SysFS had negative value (-1), but there must be at least one NUMA node, so returning NUMA node zero\n",
      "2022-08-18 06:38:50.740903: I tensorflow/core/common_runtime/gpu/gpu_device.cc:1862] Adding visible gpu devices: 0\n",
      "2022-08-18 06:38:50.741944: I tensorflow/compiler/jit/xla_gpu_device.cc:99] Not creating XLA devices, tf_xla_enable_xla_devices not set\n",
      "2022-08-18 06:38:50.742222: I tensorflow/stream_executor/cuda/cuda_gpu_executor.cc:941] successful NUMA node read from SysFS had negative value (-1), but there must be at least one NUMA node, so returning NUMA node zero\n",
      "2022-08-18 06:38:50.742909: I tensorflow/core/common_runtime/gpu/gpu_device.cc:1720] Found device 0 with properties: \n",
      "pciBusID: 0000:01:00.0 name: NVIDIA GeForce RTX 2080 Ti computeCapability: 7.5\n",
      "coreClock: 1.545GHz coreCount: 68 deviceMemorySize: 10.76GiB deviceMemoryBandwidth: 573.69GiB/s\n",
      "2022-08-18 06:38:50.742924: I tensorflow/stream_executor/platform/default/dso_loader.cc:49] Successfully opened dynamic library libcudart.so.10.1\n",
      "2022-08-18 06:38:50.742935: I tensorflow/stream_executor/platform/default/dso_loader.cc:49] Successfully opened dynamic library libcublas.so.10\n",
      "2022-08-18 06:38:50.742944: I tensorflow/stream_executor/platform/default/dso_loader.cc:49] Successfully opened dynamic library libcublasLt.so.10\n",
      "2022-08-18 06:38:50.742954: I tensorflow/stream_executor/platform/default/dso_loader.cc:49] Successfully opened dynamic library libcufft.so.10\n",
      "2022-08-18 06:38:50.742963: I tensorflow/stream_executor/platform/default/dso_loader.cc:49] Successfully opened dynamic library libcurand.so.10\n",
      "2022-08-18 06:38:50.742972: I tensorflow/stream_executor/platform/default/dso_loader.cc:49] Successfully opened dynamic library libcusolver.so.10\n",
      "2022-08-18 06:38:50.742981: I tensorflow/stream_executor/platform/default/dso_loader.cc:49] Successfully opened dynamic library libcusparse.so.10\n",
      "2022-08-18 06:38:50.742990: I tensorflow/stream_executor/platform/default/dso_loader.cc:49] Successfully opened dynamic library libcudnn.so.7\n",
      "2022-08-18 06:38:50.743021: I tensorflow/stream_executor/cuda/cuda_gpu_executor.cc:941] successful NUMA node read from SysFS had negative value (-1), but there must be at least one NUMA node, so returning NUMA node zero\n",
      "2022-08-18 06:38:50.743302: I tensorflow/stream_executor/cuda/cuda_gpu_executor.cc:941] successful NUMA node read from SysFS had negative value (-1), but there must be at least one NUMA node, so returning NUMA node zero\n",
      "2022-08-18 06:38:50.743556: I tensorflow/core/common_runtime/gpu/gpu_device.cc:1862] Adding visible gpu devices: 0\n",
      "2022-08-18 06:38:50.743580: I tensorflow/core/common_runtime/gpu/gpu_device.cc:1261] Device interconnect StreamExecutor with strength 1 edge matrix:\n",
      "2022-08-18 06:38:50.743583: I tensorflow/core/common_runtime/gpu/gpu_device.cc:1267]      0 \n",
      "2022-08-18 06:38:50.743586: I tensorflow/core/common_runtime/gpu/gpu_device.cc:1280] 0:   N \n",
      "2022-08-18 06:38:50.743636: I tensorflow/stream_executor/cuda/cuda_gpu_executor.cc:941] successful NUMA node read from SysFS had negative value (-1), but there must be at least one NUMA node, so returning NUMA node zero\n",
      "2022-08-18 06:38:50.743918: I tensorflow/stream_executor/cuda/cuda_gpu_executor.cc:941] successful NUMA node read from SysFS had negative value (-1), but there must be at least one NUMA node, so returning NUMA node zero\n",
      "2022-08-18 06:38:50.744238: I tensorflow/core/common_runtime/gpu/gpu_device.cc:1406] Created TensorFlow device (/job:localhost/replica:0/task:0/device:GPU:0 with 10020 MB memory) -> physical GPU (device: 0, name: NVIDIA GeForce RTX 2080 Ti, pci bus id: 0000:01:00.0, compute capability: 7.5)\n"
     ]
    },
    {
     "name": "stdout",
     "output_type": "stream",
     "text": [
      "Model: \"sequential\"\n",
      "_________________________________________________________________\n",
      "Layer (type)                 Output Shape              Param #   \n",
      "=================================================================\n",
      "conv2d (Conv2D)              (None, 400, 400, 16)      448       \n",
      "_________________________________________________________________\n",
      "leaky_re_lu (LeakyReLU)      (None, 400, 400, 16)      0         \n",
      "_________________________________________________________________\n",
      "batch_normalization (BatchNo (None, 400, 400, 16)      64        \n",
      "_________________________________________________________________\n",
      "max_pooling2d (MaxPooling2D) (None, 200, 200, 16)      0         \n",
      "_________________________________________________________________\n",
      "conv2d_1 (Conv2D)            (None, 200, 200, 32)      4640      \n",
      "_________________________________________________________________\n",
      "leaky_re_lu_1 (LeakyReLU)    (None, 200, 200, 32)      0         \n",
      "_________________________________________________________________\n",
      "batch_normalization_1 (Batch (None, 200, 200, 32)      128       \n",
      "_________________________________________________________________\n",
      "max_pooling2d_1 (MaxPooling2 (None, 100, 100, 32)      0         \n",
      "_________________________________________________________________\n",
      "conv2d_2 (Conv2D)            (None, 100, 100, 64)      18496     \n",
      "_________________________________________________________________\n",
      "leaky_re_lu_2 (LeakyReLU)    (None, 100, 100, 64)      0         \n",
      "_________________________________________________________________\n",
      "batch_normalization_2 (Batch (None, 100, 100, 64)      256       \n",
      "_________________________________________________________________\n",
      "max_pooling2d_2 (MaxPooling2 (None, 50, 50, 64)        0         \n",
      "_________________________________________________________________\n",
      "conv2d_3 (Conv2D)            (None, 50, 50, 64)        36928     \n",
      "_________________________________________________________________\n",
      "leaky_re_lu_3 (LeakyReLU)    (None, 50, 50, 64)        0         \n",
      "_________________________________________________________________\n",
      "batch_normalization_3 (Batch (None, 50, 50, 64)        256       \n",
      "_________________________________________________________________\n",
      "max_pooling2d_3 (MaxPooling2 (None, 25, 25, 64)        0         \n",
      "_________________________________________________________________\n",
      "conv2d_4 (Conv2D)            (None, 25, 25, 128)       73856     \n",
      "_________________________________________________________________\n",
      "leaky_re_lu_4 (LeakyReLU)    (None, 25, 25, 128)       0         \n",
      "_________________________________________________________________\n",
      "batch_normalization_4 (Batch (None, 25, 25, 128)       512       \n",
      "_________________________________________________________________\n",
      "max_pooling2d_4 (MaxPooling2 (None, 13, 13, 128)       0         \n",
      "_________________________________________________________________\n",
      "conv2d_5 (Conv2D)            (None, 13, 13, 128)       147584    \n",
      "_________________________________________________________________\n",
      "leaky_re_lu_5 (LeakyReLU)    (None, 13, 13, 128)       0         \n",
      "_________________________________________________________________\n",
      "batch_normalization_5 (Batch (None, 13, 13, 128)       512       \n",
      "_________________________________________________________________\n",
      "max_pooling2d_5 (MaxPooling2 (None, 7, 7, 128)         0         \n",
      "_________________________________________________________________\n",
      "conv2d_6 (Conv2D)            (None, 7, 7, 128)         147584    \n",
      "_________________________________________________________________\n",
      "leaky_re_lu_6 (LeakyReLU)    (None, 7, 7, 128)         0         \n",
      "_________________________________________________________________\n",
      "batch_normalization_6 (Batch (None, 7, 7, 128)         512       \n",
      "_________________________________________________________________\n",
      "max_pooling2d_6 (MaxPooling2 (None, 4, 4, 128)         0         \n",
      "_________________________________________________________________\n",
      "conv2d_7 (Conv2D)            (None, 4, 4, 128)         147584    \n",
      "_________________________________________________________________\n",
      "leaky_re_lu_7 (LeakyReLU)    (None, 4, 4, 128)         0         \n",
      "_________________________________________________________________\n",
      "batch_normalization_7 (Batch (None, 4, 4, 128)         512       \n",
      "_________________________________________________________________\n",
      "max_pooling2d_7 (MaxPooling2 (None, 2, 2, 128)         0         \n",
      "_________________________________________________________________\n",
      "conv2d_8 (Conv2D)            (None, 2, 2, 128)         147584    \n",
      "_________________________________________________________________\n",
      "leaky_re_lu_8 (LeakyReLU)    (None, 2, 2, 128)         0         \n",
      "_________________________________________________________________\n",
      "batch_normalization_8 (Batch (None, 2, 2, 128)         512       \n",
      "_________________________________________________________________\n",
      "max_pooling2d_8 (MaxPooling2 (None, 1, 1, 128)         0         \n",
      "_________________________________________________________________\n",
      "conv2d_9 (Conv2D)            (None, 1, 1, 128)         147584    \n",
      "_________________________________________________________________\n",
      "leaky_re_lu_9 (LeakyReLU)    (None, 1, 1, 128)         0         \n",
      "_________________________________________________________________\n",
      "batch_normalization_9 (Batch (None, 1, 1, 128)         512       \n",
      "_________________________________________________________________\n",
      "max_pooling2d_9 (MaxPooling2 (None, 1, 1, 128)         0         \n",
      "_________________________________________________________________\n",
      "conv2d_10 (Conv2D)           (None, 1, 1, 128)         147584    \n",
      "_________________________________________________________________\n",
      "leaky_re_lu_10 (LeakyReLU)   (None, 1, 1, 128)         0         \n",
      "_________________________________________________________________\n",
      "max_pooling2d_10 (MaxPooling (None, 1, 1, 128)         0         \n",
      "_________________________________________________________________\n",
      "flatten (Flatten)            (None, 128)               0         \n",
      "_________________________________________________________________\n",
      "dropout (Dropout)            (None, 128)               0         \n",
      "_________________________________________________________________\n",
      "dense (Dense)                (None, 512)               66048     \n",
      "_________________________________________________________________\n",
      "leaky_re_lu_11 (LeakyReLU)   (None, 512)               0         \n",
      "_________________________________________________________________\n",
      "dropout_1 (Dropout)          (None, 512)               0         \n",
      "_________________________________________________________________\n",
      "dense_1 (Dense)              (None, 4)                 2052      \n",
      "=================================================================\n",
      "Total params: 1,091,748\n",
      "Trainable params: 1,089,860\n",
      "Non-trainable params: 1,888\n",
      "_________________________________________________________________\n"
     ]
    }
   ],
   "source": [
    "model_4 = Sequential()\n",
    "\n",
    "model_4.add(Conv2D(16, (3, 3), input_shape=(400, 400, 3,), padding='same'))\n",
    "model_4.add(LeakyReLU(alpha=0.1))\n",
    "# model_4.add(RandomFlip(mode='horizontal_and_vertical', seed=None))\n",
    "model_4.add(BatchNormalization())\n",
    "model_4.add(MaxPool2D(pool_size=(2, 2), padding='same'))\n",
    "# model_4.add(Dropout(0.35))\n",
    "\n",
    "model_4.add(Conv2D(32, (3, 3), padding='same'))\n",
    "model_4.add(LeakyReLU(alpha=0.1))\n",
    "model_4.add(BatchNormalization())\n",
    "model_4.add(MaxPool2D(pool_size=(2, 2), padding='same'))\n",
    "# model_4.add(Dropout(0.35))\n",
    "\n",
    "model_4.add(Conv2D(64, (3, 3), padding='same'))\n",
    "model_4.add(LeakyReLU(alpha=0.1))\n",
    "model_4.add(BatchNormalization())\n",
    "model_4.add(MaxPool2D(pool_size=(2, 2), padding='same'))\n",
    "# model_4.add(Dropout(0.35))\n",
    "\n",
    "model_4.add(Conv2D(64, (3, 3), padding='same'))\n",
    "model_4.add(LeakyReLU(alpha=0.1))\n",
    "model_4.add(BatchNormalization())\n",
    "model_4.add(MaxPool2D(pool_size=(2, 2), padding='same'))\n",
    "\n",
    "model_4.add(Conv2D(128, (3, 3), padding='same'))\n",
    "model_4.add(LeakyReLU(alpha=0.1))\n",
    "model_4.add(BatchNormalization())\n",
    "model_4.add(MaxPool2D(pool_size=(2, 2), padding='same'))\n",
    "\n",
    "model_4.add(Conv2D(128, (3, 3), padding='same'))\n",
    "model_4.add(LeakyReLU(alpha=0.1))\n",
    "model_4.add(BatchNormalization())\n",
    "model_4.add(MaxPool2D(pool_size=(2, 2), padding='same'))\n",
    "\n",
    "model_4.add(Conv2D(128, (3, 3), padding='same'))\n",
    "model_4.add(LeakyReLU(alpha=0.1))\n",
    "model_4.add(BatchNormalization())\n",
    "model_4.add(MaxPool2D(pool_size=(2, 2), padding='same'))\n",
    "\n",
    "model_4.add(Conv2D(128, (3, 3), padding='same'))\n",
    "model_4.add(LeakyReLU(alpha=0.1))\n",
    "model_4.add(BatchNormalization())\n",
    "model_4.add(MaxPool2D(pool_size=(2, 2), padding='same'))\n",
    "\n",
    "model_4.add(Conv2D(128, (3, 3), padding='same'))\n",
    "model_4.add(LeakyReLU(alpha=0.1))\n",
    "model_4.add(BatchNormalization())\n",
    "model_4.add(MaxPool2D(pool_size=(2, 2), padding='same'))\n",
    "\n",
    "model_4.add(Conv2D(128, (3, 3), padding='same'))\n",
    "model_4.add(LeakyReLU(alpha=0.1))\n",
    "model_4.add(BatchNormalization())\n",
    "model_4.add(MaxPool2D(pool_size=(2, 2), padding='same'))\n",
    "\n",
    "model_4.add(Conv2D(128, (3, 3), padding='same'))\n",
    "model_4.add(LeakyReLU(alpha=0.1))\n",
    "model_4.add(MaxPool2D(pool_size=(2, 2), padding='same'))\n",
    "\n",
    "model_4.add(Flatten())\n",
    "# model_4.add(GlobalAveragePooling2D())\n",
    "model_4.add(Dropout(0.35))\n",
    "model_4.add(Dense(512, kernel_regularizer=regularizers.l2(0.1)))\n",
    "model_4.add(LeakyReLU(alpha=0.1))\n",
    "model_4.add(Dropout(0.35))\n",
    "\n",
    "model_4.add(Dense(4))\n",
    "\n",
    "model_4.compile(loss='mse', optimizer=Adam(learning_rate=0.0001), metrics=[tfr.keras.metrics.MeanAveragePrecisionMetric()])\n",
    "\n",
    "model_4.summary()"
   ]
  },
  {
   "cell_type": "code",
   "execution_count": 23,
   "metadata": {},
   "outputs": [
    {
     "name": "stderr",
     "output_type": "stream",
     "text": [
      "2022-08-18 06:39:33.022335: I tensorflow/compiler/mlir/mlir_graph_optimization_pass.cc:116] None of the MLIR optimization passes are enabled (registered 2)\n",
      "2022-08-18 06:39:33.076467: I tensorflow/core/platform/profile_utils/cpu_utils.cc:112] CPU Frequency: 3000000000 Hz\n"
     ]
    },
    {
     "name": "stdout",
     "output_type": "stream",
     "text": [
      "Epoch 1/250\n",
      "WARNING:tensorflow:AutoGraph could not transform <bound method MeanAveragePrecisionMetric._compute_impl of <tensorflow_ranking.python.metrics_impl.MeanAveragePrecisionMetric object at 0x7f53797096d0>> and will run it as-is.\n",
      "Please report this to the TensorFlow team. When filing the bug, set the verbosity to 10 (on Linux, `export AUTOGRAPH_VERBOSITY=10`) and attach the full output.\n",
      "Cause: module 'gast' has no attribute 'Index'\n",
      "To silence this warning, decorate the function with @tf.autograph.experimental.do_not_convert\n",
      "WARNING: AutoGraph could not transform <bound method MeanAveragePrecisionMetric._compute_impl of <tensorflow_ranking.python.metrics_impl.MeanAveragePrecisionMetric object at 0x7f53797096d0>> and will run it as-is.\n",
      "Please report this to the TensorFlow team. When filing the bug, set the verbosity to 10 (on Linux, `export AUTOGRAPH_VERBOSITY=10`) and attach the full output.\n",
      "Cause: module 'gast' has no attribute 'Index'\n",
      "To silence this warning, decorate the function with @tf.autograph.experimental.do_not_convert\n"
     ]
    },
    {
     "name": "stderr",
     "output_type": "stream",
     "text": [
      "2022-08-18 06:39:35.058201: I tensorflow/stream_executor/platform/default/dso_loader.cc:49] Successfully opened dynamic library libcublas.so.10\n",
      "2022-08-18 06:39:36.651194: I tensorflow/stream_executor/platform/default/dso_loader.cc:49] Successfully opened dynamic library libcudnn.so.7\n"
     ]
    },
    {
     "name": "stdout",
     "output_type": "stream",
     "text": [
      "374/375 [============================>.] - ETA: 0s - loss: 16.7564 - mean_average_precision_metric: 0.6514"
     ]
    },
    {
     "name": "stderr",
     "output_type": "stream",
     "text": [
      "2022-08-18 06:39:59.635776: W tensorflow/core/framework/cpu_allocator_impl.cc:80] Allocation of 2878080000 exceeds 10% of free system memory.\n"
     ]
    },
    {
     "name": "stdout",
     "output_type": "stream",
     "text": [
      "375/375 [==============================] - 29s 54ms/step - loss: 16.7349 - mean_average_precision_metric: 0.6516 - val_loss: 7.1155 - val_mean_average_precision_metric: 0.6716\n",
      "Epoch 2/250\n",
      "375/375 [==============================] - 14s 36ms/step - loss: 4.9630 - mean_average_precision_metric: 0.7454 - val_loss: 1.7613 - val_mean_average_precision_metric: 0.7839\n",
      "Epoch 3/250\n",
      "375/375 [==============================] - 14s 36ms/step - loss: 1.3017 - mean_average_precision_metric: 0.7775 - val_loss: 0.3933 - val_mean_average_precision_metric: 0.7898\n",
      "Epoch 4/250\n",
      "375/375 [==============================] - 14s 36ms/step - loss: 0.3108 - mean_average_precision_metric: 0.7827 - val_loss: 0.0911 - val_mean_average_precision_metric: 0.7943\n",
      "Epoch 5/250\n",
      "375/375 [==============================] - 14s 36ms/step - loss: 0.0922 - mean_average_precision_metric: 0.7877 - val_loss: 0.0539 - val_mean_average_precision_metric: 0.7931\n",
      "Epoch 6/250\n",
      "375/375 [==============================] - 14s 36ms/step - loss: 0.0512 - mean_average_precision_metric: 0.7936 - val_loss: 0.0251 - val_mean_average_precision_metric: 0.8004\n",
      "Epoch 7/250\n",
      "375/375 [==============================] - 14s 36ms/step - loss: 0.0441 - mean_average_precision_metric: 0.7947 - val_loss: 0.0211 - val_mean_average_precision_metric: 0.8012\n",
      "Epoch 8/250\n",
      "375/375 [==============================] - 14s 37ms/step - loss: 0.0407 - mean_average_precision_metric: 0.7977 - val_loss: 0.0219 - val_mean_average_precision_metric: 0.7998\n",
      "Epoch 9/250\n",
      "375/375 [==============================] - 14s 36ms/step - loss: 0.0386 - mean_average_precision_metric: 0.7948 - val_loss: 0.0205 - val_mean_average_precision_metric: 0.7989\n",
      "Epoch 10/250\n",
      "375/375 [==============================] - 14s 36ms/step - loss: 0.0383 - mean_average_precision_metric: 0.7955 - val_loss: 0.0178 - val_mean_average_precision_metric: 0.7991\n",
      "Epoch 11/250\n",
      "375/375 [==============================] - 14s 37ms/step - loss: 0.0358 - mean_average_precision_metric: 0.7941 - val_loss: 0.0176 - val_mean_average_precision_metric: 0.8003\n",
      "Epoch 12/250\n",
      "375/375 [==============================] - 14s 37ms/step - loss: 0.0338 - mean_average_precision_metric: 0.7937 - val_loss: 0.0206 - val_mean_average_precision_metric: 0.7987\n",
      "Epoch 13/250\n",
      "375/375 [==============================] - 14s 37ms/step - loss: 0.0326 - mean_average_precision_metric: 0.8056 - val_loss: 0.0169 - val_mean_average_precision_metric: 0.7980\n",
      "Epoch 14/250\n",
      "375/375 [==============================] - 14s 36ms/step - loss: 0.0318 - mean_average_precision_metric: 0.7937 - val_loss: 0.0180 - val_mean_average_precision_metric: 0.7994\n",
      "Epoch 15/250\n",
      "375/375 [==============================] - 14s 37ms/step - loss: 0.0314 - mean_average_precision_metric: 0.8013 - val_loss: 0.0176 - val_mean_average_precision_metric: 0.7962\n",
      "Epoch 16/250\n",
      "375/375 [==============================] - 14s 37ms/step - loss: 0.0299 - mean_average_precision_metric: 0.8028 - val_loss: 0.0183 - val_mean_average_precision_metric: 0.7980\n",
      "Epoch 17/250\n",
      "375/375 [==============================] - 14s 37ms/step - loss: 0.0286 - mean_average_precision_metric: 0.7982 - val_loss: 0.0163 - val_mean_average_precision_metric: 0.8002\n",
      "Epoch 18/250\n",
      "375/375 [==============================] - 14s 37ms/step - loss: 0.0276 - mean_average_precision_metric: 0.7944 - val_loss: 0.0144 - val_mean_average_precision_metric: 0.8008\n",
      "Epoch 19/250\n",
      "375/375 [==============================] - 14s 37ms/step - loss: 0.0285 - mean_average_precision_metric: 0.7957 - val_loss: 0.0134 - val_mean_average_precision_metric: 0.8009\n",
      "Epoch 20/250\n",
      "375/375 [==============================] - 14s 37ms/step - loss: 0.0274 - mean_average_precision_metric: 0.8012 - val_loss: 0.0138 - val_mean_average_precision_metric: 0.8006\n",
      "Epoch 21/250\n",
      "375/375 [==============================] - 14s 37ms/step - loss: 0.0263 - mean_average_precision_metric: 0.7956 - val_loss: 0.0163 - val_mean_average_precision_metric: 0.8029\n",
      "Epoch 22/250\n",
      "375/375 [==============================] - 14s 37ms/step - loss: 0.0275 - mean_average_precision_metric: 0.7930 - val_loss: 0.0191 - val_mean_average_precision_metric: 0.8013\n",
      "Epoch 23/250\n",
      "375/375 [==============================] - 14s 37ms/step - loss: 0.0255 - mean_average_precision_metric: 0.8013 - val_loss: 0.0153 - val_mean_average_precision_metric: 0.8026\n",
      "Epoch 24/250\n",
      "375/375 [==============================] - 14s 37ms/step - loss: 0.0269 - mean_average_precision_metric: 0.7940 - val_loss: 0.0159 - val_mean_average_precision_metric: 0.8015\n",
      "Epoch 25/250\n",
      "375/375 [==============================] - 14s 37ms/step - loss: 0.0254 - mean_average_precision_metric: 0.7920 - val_loss: 0.0120 - val_mean_average_precision_metric: 0.8024\n",
      "Epoch 26/250\n",
      "375/375 [==============================] - 14s 37ms/step - loss: 0.0241 - mean_average_precision_metric: 0.8032 - val_loss: 0.0162 - val_mean_average_precision_metric: 0.8006\n",
      "Epoch 27/250\n",
      "375/375 [==============================] - 14s 37ms/step - loss: 0.0244 - mean_average_precision_metric: 0.8037 - val_loss: 0.0127 - val_mean_average_precision_metric: 0.8028\n",
      "Epoch 28/250\n",
      "375/375 [==============================] - 14s 37ms/step - loss: 0.0235 - mean_average_precision_metric: 0.7990 - val_loss: 0.0122 - val_mean_average_precision_metric: 0.7989\n",
      "Epoch 29/250\n",
      "375/375 [==============================] - 14s 37ms/step - loss: 0.0230 - mean_average_precision_metric: 0.7966 - val_loss: 0.0114 - val_mean_average_precision_metric: 0.8027\n",
      "Epoch 30/250\n",
      "375/375 [==============================] - 14s 37ms/step - loss: 0.0225 - mean_average_precision_metric: 0.7964 - val_loss: 0.0150 - val_mean_average_precision_metric: 0.7957\n",
      "Epoch 31/250\n",
      "375/375 [==============================] - 14s 37ms/step - loss: 0.0223 - mean_average_precision_metric: 0.8103 - val_loss: 0.0159 - val_mean_average_precision_metric: 0.7990\n",
      "Epoch 32/250\n",
      "375/375 [==============================] - 14s 37ms/step - loss: 0.0226 - mean_average_precision_metric: 0.8070 - val_loss: 0.0126 - val_mean_average_precision_metric: 0.8029\n",
      "Epoch 33/250\n",
      "375/375 [==============================] - 14s 37ms/step - loss: 0.0209 - mean_average_precision_metric: 0.7992 - val_loss: 0.0143 - val_mean_average_precision_metric: 0.8003\n",
      "Epoch 34/250\n",
      "375/375 [==============================] - 14s 37ms/step - loss: 0.0218 - mean_average_precision_metric: 0.7939 - val_loss: 0.0128 - val_mean_average_precision_metric: 0.8030\n",
      "Epoch 35/250\n",
      "375/375 [==============================] - 14s 37ms/step - loss: 0.0222 - mean_average_precision_metric: 0.8057 - val_loss: 0.0112 - val_mean_average_precision_metric: 0.8013\n",
      "Epoch 36/250\n",
      "375/375 [==============================] - 14s 37ms/step - loss: 0.0227 - mean_average_precision_metric: 0.8006 - val_loss: 0.0103 - val_mean_average_precision_metric: 0.8013\n",
      "Epoch 37/250\n",
      "375/375 [==============================] - 14s 37ms/step - loss: 0.0205 - mean_average_precision_metric: 0.8008 - val_loss: 0.0105 - val_mean_average_precision_metric: 0.8039\n",
      "Epoch 38/250\n",
      "375/375 [==============================] - 14s 37ms/step - loss: 0.0201 - mean_average_precision_metric: 0.8109 - val_loss: 0.0120 - val_mean_average_precision_metric: 0.8034\n",
      "Epoch 39/250\n",
      "375/375 [==============================] - 14s 37ms/step - loss: 0.0200 - mean_average_precision_metric: 0.8016 - val_loss: 0.0145 - val_mean_average_precision_metric: 0.8040\n",
      "Epoch 40/250\n",
      "375/375 [==============================] - 14s 37ms/step - loss: 0.0199 - mean_average_precision_metric: 0.8000 - val_loss: 0.0139 - val_mean_average_precision_metric: 0.8024\n",
      "Epoch 41/250\n",
      "375/375 [==============================] - 14s 37ms/step - loss: 0.0215 - mean_average_precision_metric: 0.8042 - val_loss: 0.0106 - val_mean_average_precision_metric: 0.8028\n",
      "Epoch 42/250\n",
      "375/375 [==============================] - 14s 37ms/step - loss: 0.0201 - mean_average_precision_metric: 0.8120 - val_loss: 0.0125 - val_mean_average_precision_metric: 0.8034\n",
      "Epoch 43/250\n",
      "375/375 [==============================] - 14s 37ms/step - loss: 0.0212 - mean_average_precision_metric: 0.8106 - val_loss: 0.0134 - val_mean_average_precision_metric: 0.8045\n",
      "Epoch 44/250\n",
      "375/375 [==============================] - 14s 37ms/step - loss: 0.0198 - mean_average_precision_metric: 0.7989 - val_loss: 0.0124 - val_mean_average_precision_metric: 0.8021\n",
      "Epoch 45/250\n",
      "375/375 [==============================] - 14s 37ms/step - loss: 0.0201 - mean_average_precision_metric: 0.8044 - val_loss: 0.0103 - val_mean_average_precision_metric: 0.8036\n",
      "Epoch 46/250\n",
      "375/375 [==============================] - 14s 37ms/step - loss: 0.0196 - mean_average_precision_metric: 0.8027 - val_loss: 0.0105 - val_mean_average_precision_metric: 0.8023\n",
      "Epoch 00046: early stopping\n"
     ]
    }
   ],
   "source": [
    "keras.backend.clear_session()\n",
    "np.random.seed(15)\n",
    "tf.random.set_seed(15)\n",
    "\n",
    "history_4 = model_4.fit(dataGenerator.flow(train_images, train_targets, batch_size=16),\n",
    "                            validation_data=(val_images, val_targets),\n",
    "                            epochs=250, callbacks=es, verbose=1, shuffle=True)"
   ]
  },
  {
   "cell_type": "code",
   "execution_count": 24,
   "metadata": {},
   "outputs": [
    {
     "data": {
      "image/png": "[encoded data removed]",
      "text/plain": [
       "<Figure size 432x288 with 1 Axes>"
      ]
     },
     "metadata": {
      "needs_background": "light"
     },
     "output_type": "display_data"
    }
   ],
   "source": [
    "plt.plot(history_4.history['mean_average_precision_metric'])\n",
    "plt.plot(history_4.history['val_mean_average_precision_metric'])\n",
    "plt.title('Model mean average precision')\n",
    "plt.ylabel('mean average precision')\n",
    "plt.xlabel('epoch')\n",
    "plt.legend(['train', 'val'], loc='lower right')\n",
    "plt.show()"
   ]
  },
  {
   "cell_type": "code",
   "execution_count": 25,
   "metadata": {},
   "outputs": [
    {
     "name": "stderr",
     "output_type": "stream",
     "text": [
      "2022-08-18 06:50:48.301554: W tensorflow/core/framework/cpu_allocator_impl.cc:80] Allocation of 1599360000 exceeds 10% of free system memory.\n",
      "2022-08-18 06:50:48.565989: W tensorflow/core/framework/cpu_allocator_impl.cc:80] Allocation of 122880000 exceeds 10% of free system memory.\n",
      "2022-08-18 06:50:48.566045: W tensorflow/core/framework/cpu_allocator_impl.cc:80] Allocation of 122880000 exceeds 10% of free system memory.\n",
      "2022-08-18 06:50:48.566048: W tensorflow/core/framework/cpu_allocator_impl.cc:80] Allocation of 122880000 exceeds 10% of free system memory.\n"
     ]
    },
    {
     "name": "stdout",
     "output_type": "stream",
     "text": [
      "14/14 [==============================] - 1s 62ms/step - loss: 0.0104 - mean_average_precision_metric: 0.7965\n"
     ]
    },
    {
     "data": {
      "text/plain": [
       "[0.01044217124581337, 0.7965186238288879]"
      ]
     },
     "execution_count": 25,
     "metadata": {},
     "output_type": "execute_result"
    }
   ],
   "source": [
    "model_4.evaluate(test_images, test_targets, verbose=1, batch_size=64)"
   ]
  },
  {
   "cell_type": "code",
   "execution_count": 26,
   "metadata": {},
   "outputs": [],
   "source": [
    "model_4.save('model_4.h5')"
   ]
  },
  {
   "cell_type": "code",
   "execution_count": 27,
   "metadata": {},
   "outputs": [
    {
     "data": {
      "image/png": "[encoded data removed]",
      "text/plain": [
       "<Figure size 432x288 with 1 Axes>"
      ]
     },
     "metadata": {
      "needs_background": "light"
     },
     "output_type": "display_data"
    }
   ],
   "source": [
    "# Plot the training and validation loss of the model\n",
    "plt.plot(history_4.history['loss'])\n",
    "plt.plot(history_4.history['val_loss'])\n",
    "plt.title('Model loss')\n",
    "plt.ylabel('loss')\n",
    "plt.xlabel('epoch')\n",
    "plt.legend(['train', 'val'], loc='upper right')\n",
    "plt.show()"
   ]
  }
 ],
 "metadata": {
  "kernelspec": {
   "display_name": "Python 3.10.4 ('stenosis')",
   "language": "python",
   "name": "python3"
  },
  "language_info": {
   "codemirror_mode": {
    "name": "ipython",
    "version": 3
   },
   "file_extension": ".py",
   "mimetype": "text/x-python",
   "name": "python",
   "nbconvert_exporter": "python",
   "pygments_lexer": "ipython3",
   "version": "3.10.4"
  },
  "vscode": {
   "interpreter": {
    "hash": "19ff9c7f21e688b0a63937d8e235404e49de4020bbe9a8cd3aa9033c665804ef"
   }
  }
 },
 "nbformat": 4,
 "nbformat_minor": 2
}
