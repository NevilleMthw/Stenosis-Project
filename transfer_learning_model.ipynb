{
 "cells": [
  {
   "cell_type": "code",
   "execution_count": 1,
   "metadata": {},
   "outputs": [
    {
     "name": "stderr",
     "output_type": "stream",
     "text": [
      "2022-08-27 07:20:36.306360: I tensorflow/stream_executor/platform/default/dso_loader.cc:49] Successfully opened dynamic library libcudart.so.10.1\n"
     ]
    }
   ],
   "source": [
    "import os\n",
    "import numpy as np\n",
    "import pandas as pd\n",
    "import cv2\n",
    "import splitfolders\n",
    "import tensorflow as tf\n",
    "import matplotlib.pyplot as plt\n",
    "from tensorflow.python.client import device_lib\n",
    "from tensorflow import keras\n",
    "from tensorflow.keras import regularizers\n",
    "from tensorflow.python.keras import backend as K\n",
    "from tensorflow.keras.layers import Dense, Dropout, Conv2D, MaxPool2D, Flatten, BatchNormalization, LeakyReLU\n",
    "from tensorflow.keras.layers.experimental.preprocessing import RandomFlip\n",
    "from tensorflow.keras.models import Sequential\n",
    "from tensorflow.keras import models\n",
    "from tensorflow.keras.optimizers import Adam as Adam\n",
    "from tensorflow.keras.optimizers import SGD as SGD\n",
    "import shutil\n",
    "from tensorflow.keras.metrics import MeanIoU\n",
    "import tensorflow_ranking as tfr\n",
    "from tensorflow_ranking.python.keras.metrics import MeanAveragePrecisionMetric\n",
    "from tensorflow.keras.preprocessing.image import ImageDataGenerator\n",
    "from tensorflow.keras.optimizers import Adam\n",
    "from tensorflow.keras.callbacks import EarlyStopping\n",
    "from tensorflow.keras import initializers\n",
    "import matplotlib.patches as patches\n",
    "from tensorflow.keras.models import load_model"
   ]
  },
  {
   "cell_type": "code",
   "execution_count": 2,
   "metadata": {},
   "outputs": [
    {
     "name": "stderr",
     "output_type": "stream",
     "text": [
      "2022-08-27 07:20:44.243866: I tensorflow/core/platform/cpu_feature_guard.cc:142] This TensorFlow binary is optimized with oneAPI Deep Neural Network Library (oneDNN) to use the following CPU instructions in performance-critical operations:  SSE4.1 SSE4.2 AVX AVX2 FMA\n",
      "To enable them in other operations, rebuild TensorFlow with the appropriate compiler flags.\n",
      "2022-08-27 07:20:44.244998: I tensorflow/compiler/jit/xla_gpu_device.cc:99] Not creating XLA devices, tf_xla_enable_xla_devices not set\n",
      "2022-08-27 07:20:44.247143: I tensorflow/stream_executor/platform/default/dso_loader.cc:49] Successfully opened dynamic library libcuda.so.1\n",
      "2022-08-27 07:20:44.347577: I tensorflow/stream_executor/cuda/cuda_gpu_executor.cc:941] successful NUMA node read from SysFS had negative value (-1), but there must be at least one NUMA node, so returning NUMA node zero\n",
      "2022-08-27 07:20:44.348354: I tensorflow/core/common_runtime/gpu/gpu_device.cc:1720] Found device 0 with properties: \n",
      "pciBusID: 0000:01:00.0 name: NVIDIA GeForce RTX 2080 Ti computeCapability: 7.5\n",
      "coreClock: 1.545GHz coreCount: 68 deviceMemorySize: 10.76GiB deviceMemoryBandwidth: 573.69GiB/s\n",
      "2022-08-27 07:20:44.348400: I tensorflow/stream_executor/platform/default/dso_loader.cc:49] Successfully opened dynamic library libcudart.so.10.1\n",
      "2022-08-27 07:20:44.371193: I tensorflow/stream_executor/platform/default/dso_loader.cc:49] Successfully opened dynamic library libcublas.so.10\n",
      "2022-08-27 07:20:44.371253: I tensorflow/stream_executor/platform/default/dso_loader.cc:49] Successfully opened dynamic library libcublasLt.so.10\n",
      "2022-08-27 07:20:44.375052: I tensorflow/stream_executor/platform/default/dso_loader.cc:49] Successfully opened dynamic library libcufft.so.10\n",
      "2022-08-27 07:20:44.375407: I tensorflow/stream_executor/platform/default/dso_loader.cc:49] Successfully opened dynamic library libcurand.so.10\n",
      "2022-08-27 07:20:44.384946: I tensorflow/stream_executor/platform/default/dso_loader.cc:49] Successfully opened dynamic library libcusolver.so.10\n",
      "2022-08-27 07:20:44.386181: I tensorflow/stream_executor/platform/default/dso_loader.cc:49] Successfully opened dynamic library libcusparse.so.10\n",
      "2022-08-27 07:20:44.398233: I tensorflow/stream_executor/platform/default/dso_loader.cc:49] Successfully opened dynamic library libcudnn.so.7\n",
      "2022-08-27 07:20:44.398377: I tensorflow/stream_executor/cuda/cuda_gpu_executor.cc:941] successful NUMA node read from SysFS had negative value (-1), but there must be at least one NUMA node, so returning NUMA node zero\n",
      "2022-08-27 07:20:44.399069: I tensorflow/stream_executor/cuda/cuda_gpu_executor.cc:941] successful NUMA node read from SysFS had negative value (-1), but there must be at least one NUMA node, so returning NUMA node zero\n",
      "2022-08-27 07:20:44.399634: I tensorflow/core/common_runtime/gpu/gpu_device.cc:1862] Adding visible gpu devices: 0\n",
      "2022-08-27 07:20:44.399690: I tensorflow/stream_executor/platform/default/dso_loader.cc:49] Successfully opened dynamic library libcudart.so.10.1\n"
     ]
    },
    {
     "name": "stdout",
     "output_type": "stream",
     "text": [
      "== TensorFlow Config options set ==\n",
      "\n",
      "This process will now utilize 0.12 GPU Memeory Fraction\n"
     ]
    },
    {
     "name": "stderr",
     "output_type": "stream",
     "text": [
      "2022-08-27 07:20:44.753469: I tensorflow/core/common_runtime/gpu/gpu_device.cc:1261] Device interconnect StreamExecutor with strength 1 edge matrix:\n",
      "2022-08-27 07:20:44.753515: I tensorflow/core/common_runtime/gpu/gpu_device.cc:1267]      0 \n",
      "2022-08-27 07:20:44.753519: I tensorflow/core/common_runtime/gpu/gpu_device.cc:1280] 0:   N \n",
      "2022-08-27 07:20:44.753702: I tensorflow/stream_executor/cuda/cuda_gpu_executor.cc:941] successful NUMA node read from SysFS had negative value (-1), but there must be at least one NUMA node, so returning NUMA node zero\n",
      "2022-08-27 07:20:44.754088: I tensorflow/stream_executor/cuda/cuda_gpu_executor.cc:941] successful NUMA node read from SysFS had negative value (-1), but there must be at least one NUMA node, so returning NUMA node zero\n",
      "2022-08-27 07:20:44.754400: I tensorflow/stream_executor/cuda/cuda_gpu_executor.cc:941] successful NUMA node read from SysFS had negative value (-1), but there must be at least one NUMA node, so returning NUMA node zero\n",
      "2022-08-27 07:20:44.754694: I tensorflow/core/common_runtime/gpu/gpu_device.cc:1406] Created TensorFlow device (/job:localhost/replica:0/task:0/device:GPU:0 with 1321 MB memory) -> physical GPU (device: 0, name: NVIDIA GeForce RTX 2080 Ti, pci bus id: 0000:01:00.0, compute capability: 7.5)\n"
     ]
    }
   ],
   "source": [
    "def set_tensorflow_config(per_process_gpu_memory_fraction=0.12):\n",
    "    config = tf.compat.v1.ConfigProto()\n",
    "    # config = tf.ConfigProto()\n",
    "    config.gpu_options.per_process_gpu_memory_fraction = per_process_gpu_memory_fraction\n",
    "    config.gpu_options.allow_growth=True\n",
    "    # sess = tf.Session(config=config)\n",
    "    sess = tf.compat.v1.Session(config=config)\n",
    "    \n",
    "    print(\"== TensorFlow Config options set ==\")\n",
    "    print(\"\\nThis process will now utilize {} GPU Memeory Fraction\".format(per_process_gpu_memory_fraction))\n",
    "\n",
    "set_tensorflow_config()"
   ]
  },
  {
   "cell_type": "code",
   "execution_count": 3,
   "metadata": {},
   "outputs": [],
   "source": [
    "# from tensorflow.compat.v1 import ConfigProto\n",
    "# from tensorflow.compat.v1 import InteractiveSession\n",
    "\n",
    "# config = ConfigProto()\n",
    "# config.gpu_options.allow_growth = True\n",
    "# session = InteractiveSession(config=config)"
   ]
  },
  {
   "cell_type": "code",
   "execution_count": 4,
   "metadata": {},
   "outputs": [],
   "source": [
    "# input_data_path =r'C:/Users/conm/Desktop/Stenosis-Project/Stenosis detection/input'\n",
    "\n",
    "train_path = '/home/lunet/conm/Desktop/Stenosis-Project/output/train/stenosis'\n",
    "\n",
    "# train_path1 = r'C:\\Users\\conm\\Desktop\\Stenosis-Project\\train_images'\n",
    "\n",
    "test_path = '/home/lunet/conm/Desktop/Stenosis-Project/test_images'\n",
    "\n",
    "val_path = '/home/lunet/conm/Desktop/Stenosis-Project/output/val/stenosis'\n",
    "\n",
    "train_path2 = '/home/lunet/conm/Desktop/Stenosis-Project/output2/train/stenosis'\n",
    "\n",
    "val_path2 = '/home/lunet/conm/Desktop/Stenosis-Project/output2/val/stenosis'\n",
    "\n",
    "# train_path2 = r'C:\\Users\\conm\\Desktop\\Stenosis-Project\\Dataset_Reduced\\train\\images'"
   ]
  },
  {
   "cell_type": "code",
   "execution_count": 5,
   "metadata": {},
   "outputs": [
    {
     "data": {
      "text/plain": [
       "5993"
      ]
     },
     "execution_count": 5,
     "metadata": {},
     "output_type": "execute_result"
    }
   ],
   "source": [
    "train_labels_csv = pd.read_csv('train_labels.csv')\n",
    "train_labels_csv_3 = pd.read_csv('train_labels_3.csv')\n",
    "len(train_labels_csv_3)"
   ]
  },
  {
   "cell_type": "code",
   "execution_count": 6,
   "metadata": {},
   "outputs": [],
   "source": [
    "test_labels_csv = pd.read_csv('test_labels.csv')"
   ]
  },
  {
   "cell_type": "code",
   "execution_count": 7,
   "metadata": {},
   "outputs": [
    {
     "data": {
      "text/plain": [
       "833"
      ]
     },
     "execution_count": 7,
     "metadata": {},
     "output_type": "execute_result"
    }
   ],
   "source": [
    "len(test_labels_csv)"
   ]
  },
  {
   "cell_type": "code",
   "execution_count": 8,
   "metadata": {},
   "outputs": [
    {
     "data": {
      "text/plain": [
       "1499"
      ]
     },
     "execution_count": 8,
     "metadata": {},
     "output_type": "execute_result"
    }
   ],
   "source": [
    "val_labels_csv = pd.read_csv('val_labels.csv')\n",
    "val_labels_csv_2 = pd.read_csv('val_labels_2.csv')\n",
    "len(val_labels_csv_2)"
   ]
  },
  {
   "cell_type": "code",
   "execution_count": 9,
   "metadata": {},
   "outputs": [],
   "source": [
    "train_images = []\n",
    "train_targets = []\n",
    "\n",
    "val_images = []\n",
    "val_targets = []\n",
    "\n",
    "test_images = []\n",
    "test_targets = []"
   ]
  },
  {
   "cell_type": "code",
   "execution_count": 10,
   "metadata": {},
   "outputs": [],
   "source": [
    "# Train images to read and resize\n",
    "# Train labels rescale according to the same size of the train images\n",
    "for index, row in train_labels_csv_3.iterrows():\n",
    "    (filename, width, height, class_name, xmin, ymin, xmax, ymax) = row\n",
    "\n",
    "    pic = cv2.imread(os.path.join(train_path2,filename))\n",
    "    \n",
    "    x = pic.shape[0]\n",
    "    y = pic.shape[1]\n",
    "\n",
    "    img_Target_size = 224\n",
    "    x_scale = img_Target_size / x\n",
    "    y_scale = img_Target_size / y\n",
    "\n",
    "\n",
    "    pic = cv2.resize(pic, (img_Target_size, img_Target_size))\n",
    "\n",
    "    pic = pic / 255.0\n",
    "\n",
    "    # xmin = float(round(xmin * 224))\n",
    "    # ymin = float(round(ymin * 224))\n",
    "    # xmax = float(round(xmax * 224))\n",
    "    # ymax = float(round(ymax * 224))\n",
    "    x1 = float(np.round(xmin * x_scale))\n",
    "    y1 = float(np.round(ymin * y_scale))\n",
    "    x2 = float(np.round(xmax * x_scale))\n",
    "    y2 = float(np.round(ymax * y_scale))\n",
    "\n",
    "    xmin /= img_Target_size\n",
    "    ymin /= img_Target_size\n",
    "    xmax /= img_Target_size\n",
    "    ymax /= img_Target_size\n",
    "\n",
    "    # x1 /= img_Target_size\n",
    "    # y1 /= img_Target_size\n",
    "    # x2 /= img_Target_size\n",
    "    # y2 /= img_Target_size\n",
    "    \n",
    "    train_images.append(pic)\n",
    "    train_targets.append((x1, y1, x2, y2))"
   ]
  },
  {
   "cell_type": "code",
   "execution_count": 11,
   "metadata": {},
   "outputs": [],
   "source": [
    "# Validation images to read and resize\n",
    "# Validation labels rescale according to the same size of the validation images\n",
    "for index, row in val_labels_csv_2.iterrows():\n",
    "    (filename, width, height, class_name, xmin, ymin, xmax, ymax) = row\n",
    "\n",
    "    pic = cv2.imread(os.path.join(val_path2,filename))\n",
    "    \n",
    "    x = pic.shape[0]\n",
    "    y = pic.shape[1]\n",
    "    \n",
    "    img_Target_size = 224\n",
    "    x_scale = img_Target_size / x\n",
    "    y_scale = img_Target_size / y\n",
    "\n",
    "    pic = cv2.resize(pic, (img_Target_size, img_Target_size))\n",
    "\n",
    "    pic = pic / 255.0\n",
    "\n",
    "    x1 = float(np.round(xmin * x_scale))\n",
    "    y1 = float(np.round(ymin * y_scale))\n",
    "    x2 = float(np.round(xmax * x_scale))\n",
    "    y2 = float(np.round(ymax * y_scale))\n",
    "\n",
    "    xmin /= img_Target_size\n",
    "    ymin /= img_Target_size\n",
    "    xmax /= img_Target_size\n",
    "    ymax /= img_Target_size\n",
    "    # xmin = xmin / img_Target_size\n",
    "    # ymin = ymin / img_Target_size\n",
    "    # xmax = xmax / img_Target_size\n",
    "    # ymax = ymax / img_Target_size\n",
    "    # print(x, y, xmax, ymax)\n",
    "\n",
    "    val_images.append(pic)\n",
    "    val_targets.append((x1, y1, x2, y2))"
   ]
  },
  {
   "cell_type": "code",
   "execution_count": 12,
   "metadata": {},
   "outputs": [],
   "source": [
    "# Test images to read and resize\n",
    "# Test labels rescale according to the same size of the test images\n",
    "for index, row in test_labels_csv.iterrows():\n",
    "    (filename, width, height, class_name, xmin, ymin, xmax, ymax) = row\n",
    "\n",
    "    pic = cv2.imread(os.path.join(test_path,filename))\n",
    "\n",
    "    x = pic.shape[0]\n",
    "    y = pic.shape[1]\n",
    "    \n",
    "    img_Target_size = 224\n",
    "    x_scale = img_Target_size / x\n",
    "    y_scale = img_Target_size / y\n",
    "\n",
    "    pic = cv2.resize(pic, (img_Target_size, img_Target_size))\n",
    "    \n",
    "    pic = pic / 255.0\n",
    "\n",
    "    x1 = float(np.round(xmin * x_scale))\n",
    "    y1 = float(np.round(ymin * y_scale))\n",
    "    x2 = float(np.round(xmax * x_scale))\n",
    "    y2 = float(np.round(ymax * y_scale))\n",
    "\n",
    "    xmin /= img_Target_size\n",
    "    ymin /= img_Target_size\n",
    "    xmax /= img_Target_size\n",
    "    ymax /= img_Target_size\n",
    "    # xmin = xmin / img_Target_size\n",
    "    # ymin = ymin / img_Target_size\n",
    "    # xmax = xmax / img_Target_size\n",
    "    # ymax = ymax / img_Target_size\n",
    "    \n",
    "    # print(x, y, xmax, ymax)\n",
    "\n",
    "    test_images.append(pic)\n",
    "    test_targets.append((x1, y1, x2, y2))"
   ]
  },
  {
   "cell_type": "code",
   "execution_count": 13,
   "metadata": {},
   "outputs": [],
   "source": [
    "# for index, row in train_labels_csv_3.iterrows():\n",
    "#     (filename, width, height, class_name, xmin, ymin, xmax, ymax) = row\n",
    "\n",
    "#     pic = cv2.imread(os.path.join(train_path2,filename))\n",
    "#     pic = cv2.resize(pic, (224, 224))\n",
    "    \n",
    "#     train_images.append(pic)\n",
    "#     train_targets.append((xmin, ymin, xmax, ymax))"
   ]
  },
  {
   "cell_type": "code",
   "execution_count": 14,
   "metadata": {},
   "outputs": [],
   "source": [
    "# for index, row in val_labels_csv_2.iterrows():\n",
    "#     (filename, width, height, class_name, xmin, ymin, xmax, ymax) = row\n",
    "\n",
    "#     pic = cv2.imread(os.path.join(val_path2,filename))\n",
    "#     pic = cv2.resize(pic, (224, 224))\n",
    "\n",
    "#     xmin /= 224\n",
    "#     ymin /= 224\n",
    "#     xmax /= 224\n",
    "#     ymax /= 224\n",
    "    \n",
    "#     val_images.append(pic)\n",
    "#     val_targets.append((xmin, ymin, xmax, ymax))"
   ]
  },
  {
   "cell_type": "code",
   "execution_count": 15,
   "metadata": {},
   "outputs": [],
   "source": [
    "# for index, row in test_labels_csv.iterrows():\n",
    "#     (filename, width, height, class_name, xmin, ymin, xmax, ymax) = row\n",
    "\n",
    "#     pic = cv2.imread(os.path.join(test_path,filename))\n",
    "#     pic = cv2.resize(pic, (224, 224))\n",
    "\n",
    "#     xmin /= 224\n",
    "#     ymin /= 224\n",
    "#     xmax /= 224\n",
    "#     ymax /= 224\n",
    "    \n",
    "#     test_images.append(pic)\n",
    "#     test_targets.append((xmin, ymin, xmax, ymax))"
   ]
  },
  {
   "cell_type": "code",
   "execution_count": 16,
   "metadata": {},
   "outputs": [],
   "source": [
    "train_images = np.array(train_images).astype('float32')\n",
    "train_targets = np.array(train_targets).astype('float32')"
   ]
  },
  {
   "cell_type": "code",
   "execution_count": 17,
   "metadata": {},
   "outputs": [],
   "source": [
    "val_images = np.array(val_images).astype('float32')\n",
    "val_targets = np.array(val_targets).astype('float32')"
   ]
  },
  {
   "cell_type": "code",
   "execution_count": 18,
   "metadata": {},
   "outputs": [],
   "source": [
    "test_images = np.array(test_images).astype('float32')\n",
    "test_targets = np.array(test_targets).astype('float32')"
   ]
  },
  {
   "cell_type": "code",
   "execution_count": 19,
   "metadata": {},
   "outputs": [],
   "source": [
    "# # Normalize the image target values\n",
    "# train_targets[:, 0] /= 224\n",
    "# train_targets[:, 1] /= 224\n",
    "# train_targets[:, 2] /= 224\n",
    "# train_targets[:, 3] /= 224\n",
    "\n",
    "# val_targets[:, 0] /= 224\n",
    "# val_targets[:, 1] /= 224\n",
    "# val_targets[:, 2] /= 224\n",
    "# val_targets[:, 3] /= 224\n",
    "\n",
    "# test_targets[:, 0] /= 224\n",
    "# test_targets[:, 1] /= 224\n",
    "# test_targets[:, 2] /= 224\n",
    "# test_targets[:, 3] /= 224"
   ]
  },
  {
   "cell_type": "code",
   "execution_count": 20,
   "metadata": {},
   "outputs": [
    {
     "data": {
      "text/plain": [
       "array([[ 98.,  76., 105.,  82.],\n",
       "       [ 94.,  73., 103.,  81.],\n",
       "       [ 95.,  72., 103.,  78.],\n",
       "       ...,\n",
       "       [ 65.,  79.,  74.,  93.],\n",
       "       [ 63.,  71.,  71.,  87.],\n",
       "       [ 65.,  70.,  72.,  87.]], dtype=float32)"
      ]
     },
     "execution_count": 20,
     "metadata": {},
     "output_type": "execute_result"
    }
   ],
   "source": [
    "train_targets"
   ]
  },
  {
   "cell_type": "code",
   "execution_count": 21,
   "metadata": {},
   "outputs": [
    {
     "name": "stderr",
     "output_type": "stream",
     "text": [
      "/tmp/ipykernel_2032/4120876742.py:1: DeprecationWarning: an integer is required (got type numpy.float32).  Implicit conversion to integers using __int__ is deprecated, and may be removed in a future version of Python.\n",
      "  image = cv2.rectangle(train_images[1], (train_targets[1][0],train_targets[1][1]), (train_targets[1][2],train_targets[1][3]), color=(0,255,0))\n",
      "Clipping input data to the valid range for imshow with RGB data ([0..1] for floats or [0..255] for integers).\n"
     ]
    },
    {
     "data": {
      "text/plain": [
       "<matplotlib.image.AxesImage at 0x7f90a005c3a0>"
      ]
     },
     "execution_count": 21,
     "metadata": {},
     "output_type": "execute_result"
    },
    {
     "data": {
      "image/png": "[encoded data removed]",
      "text/plain": [
       "<Figure size 432x288 with 1 Axes>"
      ]
     },
     "metadata": {
      "needs_background": "light"
     },
     "output_type": "display_data"
    }
   ],
   "source": [
    "image = cv2.rectangle(train_images[1], (train_targets[1][0],train_targets[1][1]), (train_targets[1][2],train_targets[1][3]), color=(0,255,0))\n",
    "plt.imshow((image))"
   ]
  },
  {
   "cell_type": "code",
   "execution_count": 22,
   "metadata": {},
   "outputs": [],
   "source": [
    "# # # Normalize images\n",
    "# train_images /= 255\n",
    "# val_images /= 255\n",
    "# test_images /= 255"
   ]
  },
  {
   "cell_type": "code",
   "execution_count": 23,
   "metadata": {},
   "outputs": [],
   "source": [
    "dataGenerator = ImageDataGenerator()"
   ]
  },
  {
   "cell_type": "code",
   "execution_count": 24,
   "metadata": {},
   "outputs": [],
   "source": [
    "es = EarlyStopping(monitor='val_loss', mode='min', verbose=1, patience=10)"
   ]
  },
  {
   "cell_type": "code",
   "execution_count": 25,
   "metadata": {},
   "outputs": [],
   "source": [
    "feature_layers = [\n",
    "    Conv2D(32, (3, 3), input_shape=(224, 224, 3,), padding='same'),\n",
    "    LeakyReLU(alpha=0.1),\n",
    "    # RandomFlip(mode='horizontal', seed=None),\n",
    "    # BatchNormalization(),\n",
    "    MaxPool2D(pool_size=(2, 2), padding='same'),\n",
    "\n",
    "    Conv2D(32, (3, 3), padding='same'),\n",
    "    LeakyReLU(alpha=0.1),\n",
    "    # BatchNormalization(),\n",
    "    MaxPool2D(pool_size=(2, 2), padding='same'),\n",
    "\n",
    "    Conv2D(64, (3, 3), padding='same'),\n",
    "    LeakyReLU(alpha=0.1),\n",
    "    # BatchNormalization(),\n",
    "    MaxPool2D(pool_size=(2, 2), padding='same'),\n",
    "\n",
    "    Conv2D(64, (3, 3), padding='same'),\n",
    "    LeakyReLU(alpha=0.1),\n",
    "    # BatchNormalization(),\n",
    "    MaxPool2D(pool_size=(2, 2), padding='same'),\n",
    "\n",
    "    Conv2D(64, (3, 3), padding='same'),\n",
    "    LeakyReLU(alpha=0.1),\n",
    "    # BatchNormalization(),\n",
    "    MaxPool2D(pool_size=(2, 2), padding='same'),\n",
    "\n",
    "    Conv2D(64, (3, 3), padding='same'),\n",
    "    LeakyReLU(alpha=0.1),\n",
    "    # BatchNormalization(),\n",
    "    MaxPool2D(pool_size=(2, 2), padding='same'),\n",
    "\n",
    "    Conv2D(128, (3, 3), padding='same'),\n",
    "    LeakyReLU(alpha=0.1),\n",
    "    # BatchNormalization(),\n",
    "    MaxPool2D(pool_size=(2, 2), padding='same'),\n",
    "\n",
    "    Conv2D(128, (3, 3), padding='same'),\n",
    "    LeakyReLU(alpha=0.1),\n",
    "    # BatchNormalization(),\n",
    "    MaxPool2D(pool_size=(2, 2), padding='same'),\n",
    "\n",
    "    Conv2D(128, (3, 3), padding='same'),\n",
    "    LeakyReLU(alpha=0.1),\n",
    "    # BatchNormalization(),\n",
    "    MaxPool2D(pool_size=(2, 2), padding='same'),\n",
    "\n",
    "    Conv2D(128, (3, 3), padding='same'),\n",
    "    LeakyReLU(alpha=0.1),\n",
    "    # BatchNormalization(),\n",
    "    MaxPool2D(pool_size=(2, 2), padding='same'),\n",
    "\n",
    "    Conv2D(256, (3, 3), padding='same'),\n",
    "    LeakyReLU(alpha=0.1),\n",
    "    # BatchNormalization(),\n",
    "    MaxPool2D(pool_size=(2, 2), padding='same'),\n",
    "\n",
    "    Conv2D(256, (3, 3), padding='same'),\n",
    "    LeakyReLU(alpha=0.1),\n",
    "    # BatchNormalization(),\n",
    "    MaxPool2D(pool_size=(2, 2), padding='same'),\n",
    "\n",
    "    Conv2D(256, (3, 3), padding='same'),\n",
    "    LeakyReLU(alpha=0.1),\n",
    "    MaxPool2D(pool_size=(2, 2), padding='same'),\n",
    "\n",
    "    Conv2D(256, (3, 3), padding='same'),\n",
    "    LeakyReLU(alpha=0.1),\n",
    "    MaxPool2D(pool_size=(2, 2), padding='same'),\n",
    "]\n",
    "\n",
    "classification_layers = [\n",
    "    Flatten(),\n",
    "    Dropout(0.35),\n",
    "    Dense(512, kernel_regularizer=regularizers.l2(0.01)),\n",
    "    LeakyReLU(alpha=0.1),\n",
    "    Dropout(0.35),\n",
    "    Dense(4),\n",
    "]\n"
   ]
  },
  {
   "cell_type": "code",
   "execution_count": 26,
   "metadata": {},
   "outputs": [
    {
     "name": "stderr",
     "output_type": "stream",
     "text": [
      "2022-08-27 07:23:09.763206: I tensorflow/compiler/jit/xla_cpu_device.cc:41] Not creating XLA devices, tf_xla_enable_xla_devices not set\n",
      "2022-08-27 07:23:09.852208: I tensorflow/stream_executor/cuda/cuda_gpu_executor.cc:941] successful NUMA node read from SysFS had negative value (-1), but there must be at least one NUMA node, so returning NUMA node zero\n",
      "2022-08-27 07:23:09.853670: I tensorflow/core/common_runtime/gpu/gpu_device.cc:1720] Found device 0 with properties: \n",
      "pciBusID: 0000:01:00.0 name: NVIDIA GeForce RTX 2080 Ti computeCapability: 7.5\n",
      "coreClock: 1.545GHz coreCount: 68 deviceMemorySize: 10.76GiB deviceMemoryBandwidth: 573.69GiB/s\n",
      "2022-08-27 07:23:09.853783: I tensorflow/stream_executor/platform/default/dso_loader.cc:49] Successfully opened dynamic library libcudart.so.10.1\n",
      "2022-08-27 07:23:09.853854: I tensorflow/stream_executor/platform/default/dso_loader.cc:49] Successfully opened dynamic library libcublas.so.10\n",
      "2022-08-27 07:23:09.853908: I tensorflow/stream_executor/platform/default/dso_loader.cc:49] Successfully opened dynamic library libcublasLt.so.10\n",
      "2022-08-27 07:23:09.853960: I tensorflow/stream_executor/platform/default/dso_loader.cc:49] Successfully opened dynamic library libcufft.so.10\n",
      "2022-08-27 07:23:09.854014: I tensorflow/stream_executor/platform/default/dso_loader.cc:49] Successfully opened dynamic library libcurand.so.10\n",
      "2022-08-27 07:23:09.854066: I tensorflow/stream_executor/platform/default/dso_loader.cc:49] Successfully opened dynamic library libcusolver.so.10\n",
      "2022-08-27 07:23:09.854116: I tensorflow/stream_executor/platform/default/dso_loader.cc:49] Successfully opened dynamic library libcusparse.so.10\n",
      "2022-08-27 07:23:09.854172: I tensorflow/stream_executor/platform/default/dso_loader.cc:49] Successfully opened dynamic library libcudnn.so.7\n",
      "2022-08-27 07:23:09.854354: I tensorflow/stream_executor/cuda/cuda_gpu_executor.cc:941] successful NUMA node read from SysFS had negative value (-1), but there must be at least one NUMA node, so returning NUMA node zero\n",
      "2022-08-27 07:23:09.855844: I tensorflow/stream_executor/cuda/cuda_gpu_executor.cc:941] successful NUMA node read from SysFS had negative value (-1), but there must be at least one NUMA node, so returning NUMA node zero\n",
      "2022-08-27 07:23:09.857146: I tensorflow/core/common_runtime/gpu/gpu_device.cc:1862] Adding visible gpu devices: 0\n",
      "2022-08-27 07:23:09.858567: I tensorflow/compiler/jit/xla_gpu_device.cc:99] Not creating XLA devices, tf_xla_enable_xla_devices not set\n",
      "2022-08-27 07:23:09.858865: I tensorflow/stream_executor/cuda/cuda_gpu_executor.cc:941] successful NUMA node read from SysFS had negative value (-1), but there must be at least one NUMA node, so returning NUMA node zero\n",
      "2022-08-27 07:23:09.860223: I tensorflow/core/common_runtime/gpu/gpu_device.cc:1720] Found device 0 with properties: \n",
      "pciBusID: 0000:01:00.0 name: NVIDIA GeForce RTX 2080 Ti computeCapability: 7.5\n",
      "coreClock: 1.545GHz coreCount: 68 deviceMemorySize: 10.76GiB deviceMemoryBandwidth: 573.69GiB/s\n",
      "2022-08-27 07:23:09.860297: I tensorflow/stream_executor/platform/default/dso_loader.cc:49] Successfully opened dynamic library libcudart.so.10.1\n",
      "2022-08-27 07:23:09.860354: I tensorflow/stream_executor/platform/default/dso_loader.cc:49] Successfully opened dynamic library libcublas.so.10\n",
      "2022-08-27 07:23:09.860406: I tensorflow/stream_executor/platform/default/dso_loader.cc:49] Successfully opened dynamic library libcublasLt.so.10\n",
      "2022-08-27 07:23:09.860457: I tensorflow/stream_executor/platform/default/dso_loader.cc:49] Successfully opened dynamic library libcufft.so.10\n",
      "2022-08-27 07:23:09.860507: I tensorflow/stream_executor/platform/default/dso_loader.cc:49] Successfully opened dynamic library libcurand.so.10\n",
      "2022-08-27 07:23:09.860557: I tensorflow/stream_executor/platform/default/dso_loader.cc:49] Successfully opened dynamic library libcusolver.so.10\n",
      "2022-08-27 07:23:09.860608: I tensorflow/stream_executor/platform/default/dso_loader.cc:49] Successfully opened dynamic library libcusparse.so.10\n",
      "2022-08-27 07:23:09.860659: I tensorflow/stream_executor/platform/default/dso_loader.cc:49] Successfully opened dynamic library libcudnn.so.7\n",
      "2022-08-27 07:23:09.860831: I tensorflow/stream_executor/cuda/cuda_gpu_executor.cc:941] successful NUMA node read from SysFS had negative value (-1), but there must be at least one NUMA node, so returning NUMA node zero\n",
      "2022-08-27 07:23:09.862268: I tensorflow/stream_executor/cuda/cuda_gpu_executor.cc:941] successful NUMA node read from SysFS had negative value (-1), but there must be at least one NUMA node, so returning NUMA node zero\n",
      "2022-08-27 07:23:09.863573: I tensorflow/core/common_runtime/gpu/gpu_device.cc:1862] Adding visible gpu devices: 0\n",
      "2022-08-27 07:23:09.863676: I tensorflow/core/common_runtime/gpu/gpu_device.cc:1261] Device interconnect StreamExecutor with strength 1 edge matrix:\n",
      "2022-08-27 07:23:09.863694: I tensorflow/core/common_runtime/gpu/gpu_device.cc:1267]      0 \n",
      "2022-08-27 07:23:09.863709: I tensorflow/core/common_runtime/gpu/gpu_device.cc:1280] 0:   N \n",
      "2022-08-27 07:23:09.863960: I tensorflow/stream_executor/cuda/cuda_gpu_executor.cc:941] successful NUMA node read from SysFS had negative value (-1), but there must be at least one NUMA node, so returning NUMA node zero\n",
      "2022-08-27 07:23:09.865392: I tensorflow/stream_executor/cuda/cuda_gpu_executor.cc:941] successful NUMA node read from SysFS had negative value (-1), but there must be at least one NUMA node, so returning NUMA node zero\n",
      "2022-08-27 07:23:09.866711: I tensorflow/core/common_runtime/gpu/gpu_device.cc:1406] Created TensorFlow device (/job:localhost/replica:0/task:0/device:GPU:0 with 1321 MB memory) -> physical GPU (device: 0, name: NVIDIA GeForce RTX 2080 Ti, pci bus id: 0000:01:00.0, compute capability: 7.5)\n"
     ]
    }
   ],
   "source": [
    "model = Sequential(feature_layers + classification_layers, name='Stenosis_model')\n",
    "\n",
    "# model.compile(optimizer='adam', loss='mse', metrics=[tf.keras.metrics.MeanIoU(num_classes=5)])\n",
    "model.compile(loss='mse', optimizer=Adam(learning_rate=0.0001), metrics=[tf.keras.metrics.Precision()])\n",
    "\n",
    "# model.summary()"
   ]
  },
  {
   "cell_type": "code",
   "execution_count": 27,
   "metadata": {},
   "outputs": [
    {
     "name": "stderr",
     "output_type": "stream",
     "text": [
      "2022-08-27 07:23:11.224668: I tensorflow/compiler/mlir/mlir_graph_optimization_pass.cc:116] None of the MLIR optimization passes are enabled (registered 2)\n",
      "2022-08-27 07:23:11.267255: I tensorflow/core/platform/profile_utils/cpu_utils.cc:112] CPU Frequency: 3000000000 Hz\n"
     ]
    },
    {
     "name": "stdout",
     "output_type": "stream",
     "text": [
      "Epoch 1/250\n"
     ]
    },
    {
     "name": "stderr",
     "output_type": "stream",
     "text": [
      "2022-08-27 07:23:12.413975: I tensorflow/stream_executor/platform/default/dso_loader.cc:49] Successfully opened dynamic library libcublas.so.10\n",
      "2022-08-27 07:23:13.406665: I tensorflow/stream_executor/platform/default/dso_loader.cc:49] Successfully opened dynamic library libcudnn.so.7\n",
      "2022-08-27 07:23:16.960799: W tensorflow/stream_executor/gpu/asm_compiler.cc:63] Running ptxas --version returned 256\n",
      "2022-08-27 07:23:17.181360: W tensorflow/stream_executor/gpu/redzone_allocator.cc:314] Internal: ptxas exited with non-zero error code 256, output: \n",
      "Relying on driver to perform ptx compilation. \n",
      "Modify $PATH to customize ptxas location.\n",
      "This message will be only logged once.\n"
     ]
    },
    {
     "ename": "InvalidArgumentError",
     "evalue": "2 root error(s) found.\n  (0) Invalid argument:  assertion failed: [predictions must be >= 0] [Condition x >= y did not hold element-wise:] [x (Stenosis_model/dense_1/BiasAdd:0) = ] [[-2.05051947e-06 4.87023726e-06 -2.59475519e-06...]...] [y (Cast_2/x:0) = ] [0]\n\t [[{{node assert_greater_equal/Assert/AssertGuard/else/_1/assert_greater_equal/Assert/AssertGuard/Assert}}]]\n\t [[assert_greater_equal/Assert/AssertGuard/branch_executed/_9/_63]]\n  (1) Invalid argument:  assertion failed: [predictions must be >= 0] [Condition x >= y did not hold element-wise:] [x (Stenosis_model/dense_1/BiasAdd:0) = ] [[-2.05051947e-06 4.87023726e-06 -2.59475519e-06...]...] [y (Cast_2/x:0) = ] [0]\n\t [[{{node assert_greater_equal/Assert/AssertGuard/else/_1/assert_greater_equal/Assert/AssertGuard/Assert}}]]\n0 successful operations.\n0 derived errors ignored. [Op:__inference_train_function_2136]\n\nFunction call stack:\ntrain_function -> train_function\n",
     "output_type": "error",
     "traceback": [
      "\u001b[0;31m---------------------------------------------------------------------------\u001b[0m",
      "\u001b[0;31mInvalidArgumentError\u001b[0m                      Traceback (most recent call last)",
      "\u001b[1;32m/home/lunet/conm/Desktop/Stenosis-Project/transfer_learning_model.ipynb Cell 27\u001b[0m in \u001b[0;36m<cell line: 5>\u001b[0;34m()\u001b[0m\n\u001b[1;32m      <a href='vscode-notebook-cell://ssh-remote%2Blnx-n109-04.lunet.lboro.ac.uk/home/lunet/conm/Desktop/Stenosis-Project/transfer_learning_model.ipynb#X32sdnNjb2RlLXJlbW90ZQ%3D%3D?line=1'>2</a>\u001b[0m np\u001b[39m.\u001b[39mrandom\u001b[39m.\u001b[39mseed(\u001b[39m15\u001b[39m)\n\u001b[1;32m      <a href='vscode-notebook-cell://ssh-remote%2Blnx-n109-04.lunet.lboro.ac.uk/home/lunet/conm/Desktop/Stenosis-Project/transfer_learning_model.ipynb#X32sdnNjb2RlLXJlbW90ZQ%3D%3D?line=2'>3</a>\u001b[0m tf\u001b[39m.\u001b[39mrandom\u001b[39m.\u001b[39mset_seed(\u001b[39m15\u001b[39m)\n\u001b[0;32m----> <a href='vscode-notebook-cell://ssh-remote%2Blnx-n109-04.lunet.lboro.ac.uk/home/lunet/conm/Desktop/Stenosis-Project/transfer_learning_model.ipynb#X32sdnNjb2RlLXJlbW90ZQ%3D%3D?line=4'>5</a>\u001b[0m model_history \u001b[39m=\u001b[39m model\u001b[39m.\u001b[39;49mfit(dataGenerator\u001b[39m.\u001b[39;49mflow(train_images, train_targets, batch_size\u001b[39m=\u001b[39;49m\u001b[39m16\u001b[39;49m),\n\u001b[1;32m      <a href='vscode-notebook-cell://ssh-remote%2Blnx-n109-04.lunet.lboro.ac.uk/home/lunet/conm/Desktop/Stenosis-Project/transfer_learning_model.ipynb#X32sdnNjb2RlLXJlbW90ZQ%3D%3D?line=5'>6</a>\u001b[0m                             validation_data\u001b[39m=\u001b[39;49m(val_images, val_targets), \n\u001b[1;32m      <a href='vscode-notebook-cell://ssh-remote%2Blnx-n109-04.lunet.lboro.ac.uk/home/lunet/conm/Desktop/Stenosis-Project/transfer_learning_model.ipynb#X32sdnNjb2RlLXJlbW90ZQ%3D%3D?line=6'>7</a>\u001b[0m                             epochs\u001b[39m=\u001b[39;49m\u001b[39m250\u001b[39;49m, callbacks\u001b[39m=\u001b[39;49m[es], verbose\u001b[39m=\u001b[39;49m\u001b[39m1\u001b[39;49m, shuffle\u001b[39m=\u001b[39;49m\u001b[39mTrue\u001b[39;49;00m)\n",
      "File \u001b[0;32m~/.conda/envs/stenosis/lib/python3.8/site-packages/tensorflow/python/keras/engine/training.py:1100\u001b[0m, in \u001b[0;36mModel.fit\u001b[0;34m(self, x, y, batch_size, epochs, verbose, callbacks, validation_split, validation_data, shuffle, class_weight, sample_weight, initial_epoch, steps_per_epoch, validation_steps, validation_batch_size, validation_freq, max_queue_size, workers, use_multiprocessing)\u001b[0m\n\u001b[1;32m   1093\u001b[0m \u001b[39mwith\u001b[39;00m trace\u001b[39m.\u001b[39mTrace(\n\u001b[1;32m   1094\u001b[0m     \u001b[39m'\u001b[39m\u001b[39mtrain\u001b[39m\u001b[39m'\u001b[39m,\n\u001b[1;32m   1095\u001b[0m     epoch_num\u001b[39m=\u001b[39mepoch,\n\u001b[1;32m   1096\u001b[0m     step_num\u001b[39m=\u001b[39mstep,\n\u001b[1;32m   1097\u001b[0m     batch_size\u001b[39m=\u001b[39mbatch_size,\n\u001b[1;32m   1098\u001b[0m     _r\u001b[39m=\u001b[39m\u001b[39m1\u001b[39m):\n\u001b[1;32m   1099\u001b[0m   callbacks\u001b[39m.\u001b[39mon_train_batch_begin(step)\n\u001b[0;32m-> 1100\u001b[0m   tmp_logs \u001b[39m=\u001b[39m \u001b[39mself\u001b[39;49m\u001b[39m.\u001b[39;49mtrain_function(iterator)\n\u001b[1;32m   1101\u001b[0m   \u001b[39mif\u001b[39;00m data_handler\u001b[39m.\u001b[39mshould_sync:\n\u001b[1;32m   1102\u001b[0m     context\u001b[39m.\u001b[39masync_wait()\n",
      "File \u001b[0;32m~/.conda/envs/stenosis/lib/python3.8/site-packages/tensorflow/python/eager/def_function.py:828\u001b[0m, in \u001b[0;36mFunction.__call__\u001b[0;34m(self, *args, **kwds)\u001b[0m\n\u001b[1;32m    826\u001b[0m tracing_count \u001b[39m=\u001b[39m \u001b[39mself\u001b[39m\u001b[39m.\u001b[39mexperimental_get_tracing_count()\n\u001b[1;32m    827\u001b[0m \u001b[39mwith\u001b[39;00m trace\u001b[39m.\u001b[39mTrace(\u001b[39mself\u001b[39m\u001b[39m.\u001b[39m_name) \u001b[39mas\u001b[39;00m tm:\n\u001b[0;32m--> 828\u001b[0m   result \u001b[39m=\u001b[39m \u001b[39mself\u001b[39;49m\u001b[39m.\u001b[39;49m_call(\u001b[39m*\u001b[39;49margs, \u001b[39m*\u001b[39;49m\u001b[39m*\u001b[39;49mkwds)\n\u001b[1;32m    829\u001b[0m   compiler \u001b[39m=\u001b[39m \u001b[39m\"\u001b[39m\u001b[39mxla\u001b[39m\u001b[39m\"\u001b[39m \u001b[39mif\u001b[39;00m \u001b[39mself\u001b[39m\u001b[39m.\u001b[39m_experimental_compile \u001b[39melse\u001b[39;00m \u001b[39m\"\u001b[39m\u001b[39mnonXla\u001b[39m\u001b[39m\"\u001b[39m\n\u001b[1;32m    830\u001b[0m   new_tracing_count \u001b[39m=\u001b[39m \u001b[39mself\u001b[39m\u001b[39m.\u001b[39mexperimental_get_tracing_count()\n",
      "File \u001b[0;32m~/.conda/envs/stenosis/lib/python3.8/site-packages/tensorflow/python/eager/def_function.py:888\u001b[0m, in \u001b[0;36mFunction._call\u001b[0;34m(self, *args, **kwds)\u001b[0m\n\u001b[1;32m    884\u001b[0m     \u001b[39mpass\u001b[39;00m  \u001b[39m# Fall through to cond-based initialization.\u001b[39;00m\n\u001b[1;32m    885\u001b[0m   \u001b[39melse\u001b[39;00m:\n\u001b[1;32m    886\u001b[0m     \u001b[39m# Lifting succeeded, so variables are initialized and we can run the\u001b[39;00m\n\u001b[1;32m    887\u001b[0m     \u001b[39m# stateless function.\u001b[39;00m\n\u001b[0;32m--> 888\u001b[0m     \u001b[39mreturn\u001b[39;00m \u001b[39mself\u001b[39;49m\u001b[39m.\u001b[39;49m_stateless_fn(\u001b[39m*\u001b[39;49margs, \u001b[39m*\u001b[39;49m\u001b[39m*\u001b[39;49mkwds)\n\u001b[1;32m    889\u001b[0m \u001b[39melse\u001b[39;00m:\n\u001b[1;32m    890\u001b[0m   _, _, _, filtered_flat_args \u001b[39m=\u001b[39m \\\n\u001b[1;32m    891\u001b[0m       \u001b[39mself\u001b[39m\u001b[39m.\u001b[39m_stateful_fn\u001b[39m.\u001b[39m_function_spec\u001b[39m.\u001b[39mcanonicalize_function_inputs(  \u001b[39m# pylint: disable=protected-access\u001b[39;00m\n\u001b[1;32m    892\u001b[0m           \u001b[39m*\u001b[39margs, \u001b[39m*\u001b[39m\u001b[39m*\u001b[39mkwds)\n",
      "File \u001b[0;32m~/.conda/envs/stenosis/lib/python3.8/site-packages/tensorflow/python/eager/function.py:2942\u001b[0m, in \u001b[0;36mFunction.__call__\u001b[0;34m(self, *args, **kwargs)\u001b[0m\n\u001b[1;32m   2939\u001b[0m \u001b[39mwith\u001b[39;00m \u001b[39mself\u001b[39m\u001b[39m.\u001b[39m_lock:\n\u001b[1;32m   2940\u001b[0m   (graph_function,\n\u001b[1;32m   2941\u001b[0m    filtered_flat_args) \u001b[39m=\u001b[39m \u001b[39mself\u001b[39m\u001b[39m.\u001b[39m_maybe_define_function(args, kwargs)\n\u001b[0;32m-> 2942\u001b[0m \u001b[39mreturn\u001b[39;00m graph_function\u001b[39m.\u001b[39;49m_call_flat(\n\u001b[1;32m   2943\u001b[0m     filtered_flat_args, captured_inputs\u001b[39m=\u001b[39;49mgraph_function\u001b[39m.\u001b[39;49mcaptured_inputs)\n",
      "File \u001b[0;32m~/.conda/envs/stenosis/lib/python3.8/site-packages/tensorflow/python/eager/function.py:1918\u001b[0m, in \u001b[0;36mConcreteFunction._call_flat\u001b[0;34m(self, args, captured_inputs, cancellation_manager)\u001b[0m\n\u001b[1;32m   1914\u001b[0m possible_gradient_type \u001b[39m=\u001b[39m gradients_util\u001b[39m.\u001b[39mPossibleTapeGradientTypes(args)\n\u001b[1;32m   1915\u001b[0m \u001b[39mif\u001b[39;00m (possible_gradient_type \u001b[39m==\u001b[39m gradients_util\u001b[39m.\u001b[39mPOSSIBLE_GRADIENT_TYPES_NONE\n\u001b[1;32m   1916\u001b[0m     \u001b[39mand\u001b[39;00m executing_eagerly):\n\u001b[1;32m   1917\u001b[0m   \u001b[39m# No tape is watching; skip to running the function.\u001b[39;00m\n\u001b[0;32m-> 1918\u001b[0m   \u001b[39mreturn\u001b[39;00m \u001b[39mself\u001b[39m\u001b[39m.\u001b[39m_build_call_outputs(\u001b[39mself\u001b[39;49m\u001b[39m.\u001b[39;49m_inference_function\u001b[39m.\u001b[39;49mcall(\n\u001b[1;32m   1919\u001b[0m       ctx, args, cancellation_manager\u001b[39m=\u001b[39;49mcancellation_manager))\n\u001b[1;32m   1920\u001b[0m forward_backward \u001b[39m=\u001b[39m \u001b[39mself\u001b[39m\u001b[39m.\u001b[39m_select_forward_and_backward_functions(\n\u001b[1;32m   1921\u001b[0m     args,\n\u001b[1;32m   1922\u001b[0m     possible_gradient_type,\n\u001b[1;32m   1923\u001b[0m     executing_eagerly)\n\u001b[1;32m   1924\u001b[0m forward_function, args_with_tangents \u001b[39m=\u001b[39m forward_backward\u001b[39m.\u001b[39mforward()\n",
      "File \u001b[0;32m~/.conda/envs/stenosis/lib/python3.8/site-packages/tensorflow/python/eager/function.py:555\u001b[0m, in \u001b[0;36m_EagerDefinedFunction.call\u001b[0;34m(self, ctx, args, cancellation_manager)\u001b[0m\n\u001b[1;32m    553\u001b[0m \u001b[39mwith\u001b[39;00m _InterpolateFunctionError(\u001b[39mself\u001b[39m):\n\u001b[1;32m    554\u001b[0m   \u001b[39mif\u001b[39;00m cancellation_manager \u001b[39mis\u001b[39;00m \u001b[39mNone\u001b[39;00m:\n\u001b[0;32m--> 555\u001b[0m     outputs \u001b[39m=\u001b[39m execute\u001b[39m.\u001b[39;49mexecute(\n\u001b[1;32m    556\u001b[0m         \u001b[39mstr\u001b[39;49m(\u001b[39mself\u001b[39;49m\u001b[39m.\u001b[39;49msignature\u001b[39m.\u001b[39;49mname),\n\u001b[1;32m    557\u001b[0m         num_outputs\u001b[39m=\u001b[39;49m\u001b[39mself\u001b[39;49m\u001b[39m.\u001b[39;49m_num_outputs,\n\u001b[1;32m    558\u001b[0m         inputs\u001b[39m=\u001b[39;49margs,\n\u001b[1;32m    559\u001b[0m         attrs\u001b[39m=\u001b[39;49mattrs,\n\u001b[1;32m    560\u001b[0m         ctx\u001b[39m=\u001b[39;49mctx)\n\u001b[1;32m    561\u001b[0m   \u001b[39melse\u001b[39;00m:\n\u001b[1;32m    562\u001b[0m     outputs \u001b[39m=\u001b[39m execute\u001b[39m.\u001b[39mexecute_with_cancellation(\n\u001b[1;32m    563\u001b[0m         \u001b[39mstr\u001b[39m(\u001b[39mself\u001b[39m\u001b[39m.\u001b[39msignature\u001b[39m.\u001b[39mname),\n\u001b[1;32m    564\u001b[0m         num_outputs\u001b[39m=\u001b[39m\u001b[39mself\u001b[39m\u001b[39m.\u001b[39m_num_outputs,\n\u001b[0;32m   (...)\u001b[0m\n\u001b[1;32m    567\u001b[0m         ctx\u001b[39m=\u001b[39mctx,\n\u001b[1;32m    568\u001b[0m         cancellation_manager\u001b[39m=\u001b[39mcancellation_manager)\n",
      "File \u001b[0;32m~/.conda/envs/stenosis/lib/python3.8/site-packages/tensorflow/python/eager/execute.py:59\u001b[0m, in \u001b[0;36mquick_execute\u001b[0;34m(op_name, num_outputs, inputs, attrs, ctx, name)\u001b[0m\n\u001b[1;32m     57\u001b[0m \u001b[39mtry\u001b[39;00m:\n\u001b[1;32m     58\u001b[0m   ctx\u001b[39m.\u001b[39mensure_initialized()\n\u001b[0;32m---> 59\u001b[0m   tensors \u001b[39m=\u001b[39m pywrap_tfe\u001b[39m.\u001b[39;49mTFE_Py_Execute(ctx\u001b[39m.\u001b[39;49m_handle, device_name, op_name,\n\u001b[1;32m     60\u001b[0m                                       inputs, attrs, num_outputs)\n\u001b[1;32m     61\u001b[0m \u001b[39mexcept\u001b[39;00m core\u001b[39m.\u001b[39m_NotOkStatusException \u001b[39mas\u001b[39;00m e:\n\u001b[1;32m     62\u001b[0m   \u001b[39mif\u001b[39;00m name \u001b[39mis\u001b[39;00m \u001b[39mnot\u001b[39;00m \u001b[39mNone\u001b[39;00m:\n",
      "\u001b[0;31mInvalidArgumentError\u001b[0m: 2 root error(s) found.\n  (0) Invalid argument:  assertion failed: [predictions must be >= 0] [Condition x >= y did not hold element-wise:] [x (Stenosis_model/dense_1/BiasAdd:0) = ] [[-2.05051947e-06 4.87023726e-06 -2.59475519e-06...]...] [y (Cast_2/x:0) = ] [0]\n\t [[{{node assert_greater_equal/Assert/AssertGuard/else/_1/assert_greater_equal/Assert/AssertGuard/Assert}}]]\n\t [[assert_greater_equal/Assert/AssertGuard/branch_executed/_9/_63]]\n  (1) Invalid argument:  assertion failed: [predictions must be >= 0] [Condition x >= y did not hold element-wise:] [x (Stenosis_model/dense_1/BiasAdd:0) = ] [[-2.05051947e-06 4.87023726e-06 -2.59475519e-06...]...] [y (Cast_2/x:0) = ] [0]\n\t [[{{node assert_greater_equal/Assert/AssertGuard/else/_1/assert_greater_equal/Assert/AssertGuard/Assert}}]]\n0 successful operations.\n0 derived errors ignored. [Op:__inference_train_function_2136]\n\nFunction call stack:\ntrain_function -> train_function\n"
     ]
    }
   ],
   "source": [
    "keras.backend.clear_session()\n",
    "np.random.seed(15)\n",
    "tf.random.set_seed(15)\n",
    "\n",
    "model_history = model.fit(dataGenerator.flow(train_images, train_targets, batch_size=16),\n",
    "                            validation_data=(val_images, val_targets), \n",
    "                            epochs=250, callbacks=[es], verbose=1, shuffle=True)"
   ]
  },
  {
   "cell_type": "code",
   "execution_count": null,
   "metadata": {},
   "outputs": [
    {
     "name": "stdout",
     "output_type": "stream",
     "text": [
      "11/27 [===========>..................] - ETA: 0s - loss: 0.0100 - mean_average_precision_metric: 0.8999 - mean_io_u: 0.8756"
     ]
    },
    {
     "name": "stderr",
     "output_type": "stream",
     "text": [
      "2022-08-22 07:10:20.428948: W tensorflow/core/framework/cpu_allocator_impl.cc:80] Allocation of 501559296 exceeds 10% of free system memory.\n"
     ]
    },
    {
     "name": "stdout",
     "output_type": "stream",
     "text": [
      "27/27 [==============================] - 9s 361ms/step - loss: 0.0099 - mean_average_precision_metric: 0.8908 - mean_io_u: 0.8687\n"
     ]
    },
    {
     "data": {
      "text/plain": [
       "[0.00989551842212677, 0.890756368637085, 0.8686741590499878]"
      ]
     },
     "execution_count": 23,
     "metadata": {},
     "output_type": "execute_result"
    }
   ],
   "source": [
    "model.evaluate(test_images, test_targets, verbose=1, batch_size=32)"
   ]
  },
  {
   "cell_type": "code",
   "execution_count": null,
   "metadata": {},
   "outputs": [
    {
     "data": {
      "image/png": "[encoded data removed]",
      "text/plain": [
       "<Figure size 432x288 with 1 Axes>"
      ]
     },
     "metadata": {
      "needs_background": "light"
     },
     "output_type": "display_data"
    }
   ],
   "source": [
    "plt.plot(model_history.history['mean_average_precision_metric'])\n",
    "plt.plot(model_history.history['val_mean_average_precision_metric'])\n",
    "plt.title('Model mean average precision')\n",
    "plt.ylabel('mean average precision')\n",
    "plt.xlabel('epoch')\n",
    "plt.legend(['train', 'val'], loc='lower right')\n",
    "plt.show()"
   ]
  },
  {
   "cell_type": "code",
   "execution_count": null,
   "metadata": {},
   "outputs": [
    {
     "data": {
      "image/png": "[encoded data removed]",
      "text/plain": [
       "<Figure size 432x288 with 1 Axes>"
      ]
     },
     "metadata": {
      "needs_background": "light"
     },
     "output_type": "display_data"
    }
   ],
   "source": [
    "plt.plot(model_history.history['loss'])\n",
    "plt.plot(model_history.history['val_loss'])\n",
    "plt.title('Model mean average precision')\n",
    "plt.ylabel('mean average precision')\n",
    "plt.xlabel('epoch')\n",
    "plt.legend(['train', 'val'], loc='lower right')\n",
    "plt.show()"
   ]
  },
  {
   "cell_type": "code",
   "execution_count": null,
   "metadata": {},
   "outputs": [],
   "source": [
    "for l in feature_layers:\n",
    "    l.trainable = False"
   ]
  },
  {
   "cell_type": "code",
   "execution_count": null,
   "metadata": {},
   "outputs": [],
   "source": [
    "model_2 = Sequential(feature_layers + classification_layers, name='Stenosis_model_transfer_learning')"
   ]
  },
  {
   "cell_type": "code",
   "execution_count": null,
   "metadata": {},
   "outputs": [
    {
     "name": "stdout",
     "output_type": "stream",
     "text": [
      "Model: \"Stenosis_model_transfer_learning\"\n",
      "_________________________________________________________________\n",
      "Layer (type)                 Output Shape              Param #   \n",
      "=================================================================\n",
      "conv2d (Conv2D)              (None, 224, 224, 32)      896       \n",
      "_________________________________________________________________\n",
      "leaky_re_lu (LeakyReLU)      (None, 224, 224, 32)      0         \n",
      "_________________________________________________________________\n",
      "max_pooling2d (MaxPooling2D) (None, 112, 112, 32)      0         \n",
      "_________________________________________________________________\n",
      "conv2d_1 (Conv2D)            (None, 112, 112, 32)      9248      \n",
      "_________________________________________________________________\n",
      "leaky_re_lu_1 (LeakyReLU)    (None, 112, 112, 32)      0         \n",
      "_________________________________________________________________\n",
      "max_pooling2d_1 (MaxPooling2 (None, 56, 56, 32)        0         \n",
      "_________________________________________________________________\n",
      "conv2d_2 (Conv2D)            (None, 56, 56, 64)        18496     \n",
      "_________________________________________________________________\n",
      "leaky_re_lu_2 (LeakyReLU)    (None, 56, 56, 64)        0         \n",
      "_________________________________________________________________\n",
      "max_pooling2d_2 (MaxPooling2 (None, 28, 28, 64)        0         \n",
      "_________________________________________________________________\n",
      "conv2d_3 (Conv2D)            (None, 28, 28, 64)        36928     \n",
      "_________________________________________________________________\n",
      "leaky_re_lu_3 (LeakyReLU)    (None, 28, 28, 64)        0         \n",
      "_________________________________________________________________\n",
      "max_pooling2d_3 (MaxPooling2 (None, 14, 14, 64)        0         \n",
      "_________________________________________________________________\n",
      "conv2d_4 (Conv2D)            (None, 14, 14, 64)        36928     \n",
      "_________________________________________________________________\n",
      "leaky_re_lu_4 (LeakyReLU)    (None, 14, 14, 64)        0         \n",
      "_________________________________________________________________\n",
      "max_pooling2d_4 (MaxPooling2 (None, 7, 7, 64)          0         \n",
      "_________________________________________________________________\n",
      "conv2d_5 (Conv2D)            (None, 7, 7, 64)          36928     \n",
      "_________________________________________________________________\n",
      "leaky_re_lu_5 (LeakyReLU)    (None, 7, 7, 64)          0         \n",
      "_________________________________________________________________\n",
      "max_pooling2d_5 (MaxPooling2 (None, 4, 4, 64)          0         \n",
      "_________________________________________________________________\n",
      "conv2d_6 (Conv2D)            (None, 4, 4, 128)         73856     \n",
      "_________________________________________________________________\n",
      "leaky_re_lu_6 (LeakyReLU)    (None, 4, 4, 128)         0         \n",
      "_________________________________________________________________\n",
      "max_pooling2d_6 (MaxPooling2 (None, 2, 2, 128)         0         \n",
      "_________________________________________________________________\n",
      "conv2d_7 (Conv2D)            (None, 2, 2, 128)         147584    \n",
      "_________________________________________________________________\n",
      "leaky_re_lu_7 (LeakyReLU)    (None, 2, 2, 128)         0         \n",
      "_________________________________________________________________\n",
      "max_pooling2d_7 (MaxPooling2 (None, 1, 1, 128)         0         \n",
      "_________________________________________________________________\n",
      "conv2d_8 (Conv2D)            (None, 1, 1, 128)         147584    \n",
      "_________________________________________________________________\n",
      "leaky_re_lu_8 (LeakyReLU)    (None, 1, 1, 128)         0         \n",
      "_________________________________________________________________\n",
      "max_pooling2d_8 (MaxPooling2 (None, 1, 1, 128)         0         \n",
      "_________________________________________________________________\n",
      "conv2d_9 (Conv2D)            (None, 1, 1, 128)         147584    \n",
      "_________________________________________________________________\n",
      "leaky_re_lu_9 (LeakyReLU)    (None, 1, 1, 128)         0         \n",
      "_________________________________________________________________\n",
      "max_pooling2d_9 (MaxPooling2 (None, 1, 1, 128)         0         \n",
      "_________________________________________________________________\n",
      "conv2d_10 (Conv2D)           (None, 1, 1, 256)         295168    \n",
      "_________________________________________________________________\n",
      "leaky_re_lu_10 (LeakyReLU)   (None, 1, 1, 256)         0         \n",
      "_________________________________________________________________\n",
      "max_pooling2d_10 (MaxPooling (None, 1, 1, 256)         0         \n",
      "_________________________________________________________________\n",
      "conv2d_11 (Conv2D)           (None, 1, 1, 256)         590080    \n",
      "_________________________________________________________________\n",
      "leaky_re_lu_11 (LeakyReLU)   (None, 1, 1, 256)         0         \n",
      "_________________________________________________________________\n",
      "max_pooling2d_11 (MaxPooling (None, 1, 1, 256)         0         \n",
      "_________________________________________________________________\n",
      "conv2d_12 (Conv2D)           (None, 1, 1, 256)         590080    \n",
      "_________________________________________________________________\n",
      "leaky_re_lu_12 (LeakyReLU)   (None, 1, 1, 256)         0         \n",
      "_________________________________________________________________\n",
      "max_pooling2d_12 (MaxPooling (None, 1, 1, 256)         0         \n",
      "_________________________________________________________________\n",
      "conv2d_13 (Conv2D)           (None, 1, 1, 256)         590080    \n",
      "_________________________________________________________________\n",
      "leaky_re_lu_13 (LeakyReLU)   (None, 1, 1, 256)         0         \n",
      "_________________________________________________________________\n",
      "max_pooling2d_13 (MaxPooling (None, 1, 1, 256)         0         \n",
      "_________________________________________________________________\n",
      "flatten (Flatten)            (None, 256)               0         \n",
      "_________________________________________________________________\n",
      "dropout (Dropout)            (None, 256)               0         \n",
      "_________________________________________________________________\n",
      "dense (Dense)                (None, 512)               131584    \n",
      "_________________________________________________________________\n",
      "leaky_re_lu_14 (LeakyReLU)   (None, 512)               0         \n",
      "_________________________________________________________________\n",
      "dropout_1 (Dropout)          (None, 512)               0         \n",
      "_________________________________________________________________\n",
      "dense_1 (Dense)              (None, 4)                 2052      \n",
      "=================================================================\n",
      "Total params: 2,855,076\n",
      "Trainable params: 133,636\n",
      "Non-trainable params: 2,721,440\n",
      "_________________________________________________________________\n"
     ]
    }
   ],
   "source": [
    "model_2.compile(loss='mse', optimizer=Adam(learning_rate=0.0001), metrics=[tfr.keras.metrics.MeanAveragePrecisionMetric(), tf.keras.metrics.MeanIoU(num_classes=5)])\n",
    "model_2.summary()\n"
   ]
  },
  {
   "cell_type": "code",
   "execution_count": null,
   "metadata": {},
   "outputs": [
    {
     "name": "stdout",
     "output_type": "stream",
     "text": [
      "Epoch 1/150\n",
      "375/375 [==============================] - ETA: 0s - loss: 0.0139 - mean_average_precision_metric: 0.8930 - mean_io_u: 0.7164"
     ]
    },
    {
     "name": "stderr",
     "output_type": "stream",
     "text": [
      "2022-08-22 07:25:37.541048: W tensorflow/core/framework/cpu_allocator_impl.cc:80] Allocation of 902565888 exceeds 10% of free system memory.\n"
     ]
    },
    {
     "name": "stdout",
     "output_type": "stream",
     "text": [
      "375/375 [==============================] - 12s 10ms/step - loss: 0.0139 - mean_average_precision_metric: 0.8930 - mean_io_u: 0.7161 - val_loss: 0.0089 - val_mean_average_precision_metric: 0.8910 - val_mean_io_u: 0.8372\n",
      "Epoch 2/150\n",
      "375/375 [==============================] - 3s 8ms/step - loss: 0.0135 - mean_average_precision_metric: 0.8899 - mean_io_u: 0.7854 - val_loss: 0.0137 - val_mean_average_precision_metric: 0.8912 - val_mean_io_u: 0.7290\n",
      "Epoch 3/150\n",
      "375/375 [==============================] - 3s 8ms/step - loss: 0.0137 - mean_average_precision_metric: 0.8876 - mean_io_u: 0.7559 - val_loss: 0.0083 - val_mean_average_precision_metric: 0.8912 - val_mean_io_u: 0.8625\n",
      "Epoch 4/150\n",
      "375/375 [==============================] - 3s 8ms/step - loss: 0.0135 - mean_average_precision_metric: 0.8893 - mean_io_u: 0.7635 - val_loss: 0.0087 - val_mean_average_precision_metric: 0.8908 - val_mean_io_u: 0.8541\n",
      "Epoch 5/150\n",
      "375/375 [==============================] - 3s 8ms/step - loss: 0.0135 - mean_average_precision_metric: 0.8939 - mean_io_u: 0.7827 - val_loss: 0.0080 - val_mean_average_precision_metric: 0.8911 - val_mean_io_u: 0.8598\n",
      "Epoch 6/150\n",
      "375/375 [==============================] - 3s 8ms/step - loss: 0.0134 - mean_average_precision_metric: 0.8873 - mean_io_u: 0.7684 - val_loss: 0.0103 - val_mean_average_precision_metric: 0.8914 - val_mean_io_u: 0.8082\n",
      "Epoch 7/150\n",
      "375/375 [==============================] - 3s 8ms/step - loss: 0.0142 - mean_average_precision_metric: 0.8970 - mean_io_u: 0.6250 - val_loss: 0.0097 - val_mean_average_precision_metric: 0.8919 - val_mean_io_u: 0.8278\n",
      "Epoch 8/150\n",
      "375/375 [==============================] - 3s 8ms/step - loss: 0.0144 - mean_average_precision_metric: 0.8919 - mean_io_u: 0.6737 - val_loss: 0.0093 - val_mean_average_precision_metric: 0.8913 - val_mean_io_u: 0.8261\n",
      "Epoch 9/150\n",
      "375/375 [==============================] - 3s 8ms/step - loss: 0.0130 - mean_average_precision_metric: 0.8894 - mean_io_u: 0.6667 - val_loss: 0.0100 - val_mean_average_precision_metric: 0.8909 - val_mean_io_u: 0.8334\n",
      "Epoch 10/150\n",
      "375/375 [==============================] - 3s 8ms/step - loss: 0.0131 - mean_average_precision_metric: 0.8795 - mean_io_u: 0.7334 - val_loss: 0.0093 - val_mean_average_precision_metric: 0.8914 - val_mean_io_u: 0.8562\n",
      "Epoch 11/150\n",
      "375/375 [==============================] - 3s 8ms/step - loss: 0.0132 - mean_average_precision_metric: 0.8922 - mean_io_u: 0.7333 - val_loss: 0.0086 - val_mean_average_precision_metric: 0.8912 - val_mean_io_u: 0.8446\n",
      "Epoch 12/150\n",
      "375/375 [==============================] - 3s 8ms/step - loss: 0.0133 - mean_average_precision_metric: 0.8984 - mean_io_u: 0.6266 - val_loss: 0.0081 - val_mean_average_precision_metric: 0.8914 - val_mean_io_u: 0.8661\n",
      "Epoch 13/150\n",
      "375/375 [==============================] - 3s 8ms/step - loss: 0.0129 - mean_average_precision_metric: 0.8895 - mean_io_u: 0.7838 - val_loss: 0.0084 - val_mean_average_precision_metric: 0.8902 - val_mean_io_u: 0.8512\n",
      "Epoch 14/150\n",
      "375/375 [==============================] - 3s 8ms/step - loss: 0.0135 - mean_average_precision_metric: 0.8929 - mean_io_u: 0.6291 - val_loss: 0.0095 - val_mean_average_precision_metric: 0.8915 - val_mean_io_u: 0.8194\n",
      "Epoch 15/150\n",
      "375/375 [==============================] - 3s 8ms/step - loss: 0.0129 - mean_average_precision_metric: 0.8881 - mean_io_u: 0.7681 - val_loss: 0.0084 - val_mean_average_precision_metric: 0.8914 - val_mean_io_u: 0.8477\n",
      "Epoch 00015: early stopping\n"
     ]
    }
   ],
   "source": [
    "keras.backend.clear_session()\n",
    "np.random.seed(15)\n",
    "tf.random.set_seed(15)\n",
    "\n",
    "model_history2 = model_2.fit(dataGenerator.flow(train_images, train_targets, batch_size=16),\n",
    "                            validation_data=(val_images, val_targets), \n",
    "                            epochs=150, callbacks=[es], verbose=1, shuffle=True)"
   ]
  },
  {
   "cell_type": "code",
   "execution_count": null,
   "metadata": {},
   "outputs": [
    {
     "data": {
      "image/png": "[encoded data removed]",
      "text/plain": [
       "<Figure size 432x288 with 1 Axes>"
      ]
     },
     "metadata": {
      "needs_background": "light"
     },
     "output_type": "display_data"
    }
   ],
   "source": [
    "plt.plot(model_history2.history['mean_average_precision_metric'])\n",
    "plt.plot(model_history2.history['val_mean_average_precision_metric'])\n",
    "plt.title('Model mean average precision')\n",
    "plt.ylabel('mean average precision')\n",
    "plt.xlabel('epoch')\n",
    "plt.legend(['train', 'val'], loc='lower right')\n",
    "plt.show()"
   ]
  },
  {
   "cell_type": "code",
   "execution_count": null,
   "metadata": {},
   "outputs": [
    {
     "data": {
      "image/png": "[encoded data removed]",
      "text/plain": [
       "<Figure size 432x288 with 1 Axes>"
      ]
     },
     "metadata": {
      "needs_background": "light"
     },
     "output_type": "display_data"
    }
   ],
   "source": [
    "plt.plot(model_history.history['mean_io_u'])\n",
    "plt.plot(model_history.history['val_mean_io_u'])\n",
    "plt.title('Model mean average precision')\n",
    "plt.ylabel('mean average precision')\n",
    "plt.xlabel('epoch')\n",
    "plt.legend(['train', 'val'], loc='lower right')\n",
    "plt.show()"
   ]
  },
  {
   "cell_type": "code",
   "execution_count": null,
   "metadata": {},
   "outputs": [],
   "source": [
    "model_2.save('stenosis_model_transfer.h5')"
   ]
  },
  {
   "cell_type": "code",
   "execution_count": null,
   "metadata": {},
   "outputs": [
    {
     "name": "stdout",
     "output_type": "stream",
     "text": [
      "WARNING:tensorflow:7 out of the last 11 calls to <function Model.make_predict_function.<locals>.predict_function at 0x7f1835768700> triggered tf.function retracing. Tracing is expensive and the excessive number of tracings could be due to (1) creating @tf.function repeatedly in a loop, (2) passing tensors with different shapes, (3) passing Python objects instead of tensors. For (1), please define your @tf.function outside of the loop. For (2), @tf.function has experimental_relax_shapes=True option that relaxes argument shapes that can avoid unnecessary retracing. For (3), please refer to https://www.tensorflow.org/guide/function#controlling_retracing and https://www.tensorflow.org/api_docs/python/tf/function for  more details.\n"
     ]
    },
    {
     "ename": "TypeError",
     "evalue": "Invalid shape (4,) for image data",
     "output_type": "error",
     "traceback": [
      "\u001b[0;31m---------------------------------------------------------------------------\u001b[0m",
      "\u001b[0;31mTypeError\u001b[0m                                 Traceback (most recent call last)",
      "\u001b[1;32m/home/lunet/conm/Desktop/Stenosis-Project/transfer_learning_model.ipynb Cell 33\u001b[0m in \u001b[0;36m<cell line: 37>\u001b[0;34m()\u001b[0m\n\u001b[1;32m     <a href='vscode-notebook-cell://ssh-remote%2Blnx-n109-04.lunet.lboro.ac.uk/home/lunet/conm/Desktop/Stenosis-Project/transfer_learning_model.ipynb#X44sdnNjb2RlLXJlbW90ZQ%3D%3D?line=50'>51</a>\u001b[0m plt\u001b[39m.\u001b[39mtitle(\u001b[39m'\u001b[39m\u001b[39mTest image\u001b[39m\u001b[39m'\u001b[39m)\n\u001b[1;32m     <a href='vscode-notebook-cell://ssh-remote%2Blnx-n109-04.lunet.lboro.ac.uk/home/lunet/conm/Desktop/Stenosis-Project/transfer_learning_model.ipynb#X44sdnNjb2RlLXJlbW90ZQ%3D%3D?line=51'>52</a>\u001b[0m plt\u001b[39m.\u001b[39msubplot(\u001b[39m1\u001b[39m, \u001b[39m2\u001b[39m, \u001b[39m2\u001b[39m)\n\u001b[0;32m---> <a href='vscode-notebook-cell://ssh-remote%2Blnx-n109-04.lunet.lboro.ac.uk/home/lunet/conm/Desktop/Stenosis-Project/transfer_learning_model.ipynb#X44sdnNjb2RlLXJlbW90ZQ%3D%3D?line=52'>53</a>\u001b[0m plt\u001b[39m.\u001b[39;49mimshow(predicted_mask)\n\u001b[1;32m     <a href='vscode-notebook-cell://ssh-remote%2Blnx-n109-04.lunet.lboro.ac.uk/home/lunet/conm/Desktop/Stenosis-Project/transfer_learning_model.ipynb#X44sdnNjb2RlLXJlbW90ZQ%3D%3D?line=53'>54</a>\u001b[0m plt\u001b[39m.\u001b[39mtitle(\u001b[39m'\u001b[39m\u001b[39mPredicted mask\u001b[39m\u001b[39m'\u001b[39m)\n\u001b[1;32m     <a href='vscode-notebook-cell://ssh-remote%2Blnx-n109-04.lunet.lboro.ac.uk/home/lunet/conm/Desktop/Stenosis-Project/transfer_learning_model.ipynb#X44sdnNjb2RlLXJlbW90ZQ%3D%3D?line=54'>55</a>\u001b[0m plt\u001b[39m.\u001b[39mshow()\n",
      "File \u001b[0;32m~/.conda/envs/stenosis/lib/python3.8/site-packages/matplotlib/_api/deprecation.py:459\u001b[0m, in \u001b[0;36mmake_keyword_only.<locals>.wrapper\u001b[0;34m(*args, **kwargs)\u001b[0m\n\u001b[1;32m    453\u001b[0m \u001b[39mif\u001b[39;00m \u001b[39mlen\u001b[39m(args) \u001b[39m>\u001b[39m name_idx:\n\u001b[1;32m    454\u001b[0m     warn_deprecated(\n\u001b[1;32m    455\u001b[0m         since, message\u001b[39m=\u001b[39m\u001b[39m\"\u001b[39m\u001b[39mPassing the \u001b[39m\u001b[39m%(name)s\u001b[39;00m\u001b[39m \u001b[39m\u001b[39m%(obj_type)s\u001b[39;00m\u001b[39m \u001b[39m\u001b[39m\"\u001b[39m\n\u001b[1;32m    456\u001b[0m         \u001b[39m\"\u001b[39m\u001b[39mpositionally is deprecated since Matplotlib \u001b[39m\u001b[39m%(since)s\u001b[39;00m\u001b[39m; the \u001b[39m\u001b[39m\"\u001b[39m\n\u001b[1;32m    457\u001b[0m         \u001b[39m\"\u001b[39m\u001b[39mparameter will become keyword-only \u001b[39m\u001b[39m%(removal)s\u001b[39;00m\u001b[39m.\u001b[39m\u001b[39m\"\u001b[39m,\n\u001b[1;32m    458\u001b[0m         name\u001b[39m=\u001b[39mname, obj_type\u001b[39m=\u001b[39m\u001b[39mf\u001b[39m\u001b[39m\"\u001b[39m\u001b[39mparameter of \u001b[39m\u001b[39m{\u001b[39;00mfunc\u001b[39m.\u001b[39m\u001b[39m__name__\u001b[39m\u001b[39m}\u001b[39;00m\u001b[39m()\u001b[39m\u001b[39m\"\u001b[39m)\n\u001b[0;32m--> 459\u001b[0m \u001b[39mreturn\u001b[39;00m func(\u001b[39m*\u001b[39;49margs, \u001b[39m*\u001b[39;49m\u001b[39m*\u001b[39;49mkwargs)\n",
      "File \u001b[0;32m~/.conda/envs/stenosis/lib/python3.8/site-packages/matplotlib/pyplot.py:2650\u001b[0m, in \u001b[0;36mimshow\u001b[0;34m(X, cmap, norm, aspect, interpolation, alpha, vmin, vmax, origin, extent, interpolation_stage, filternorm, filterrad, resample, url, data, **kwargs)\u001b[0m\n\u001b[1;32m   2644\u001b[0m \u001b[39m@_copy_docstring_and_deprecators\u001b[39m(Axes\u001b[39m.\u001b[39mimshow)\n\u001b[1;32m   2645\u001b[0m \u001b[39mdef\u001b[39;00m \u001b[39mimshow\u001b[39m(\n\u001b[1;32m   2646\u001b[0m         X, cmap\u001b[39m=\u001b[39m\u001b[39mNone\u001b[39;00m, norm\u001b[39m=\u001b[39m\u001b[39mNone\u001b[39;00m, aspect\u001b[39m=\u001b[39m\u001b[39mNone\u001b[39;00m, interpolation\u001b[39m=\u001b[39m\u001b[39mNone\u001b[39;00m,\n\u001b[1;32m   2647\u001b[0m         alpha\u001b[39m=\u001b[39m\u001b[39mNone\u001b[39;00m, vmin\u001b[39m=\u001b[39m\u001b[39mNone\u001b[39;00m, vmax\u001b[39m=\u001b[39m\u001b[39mNone\u001b[39;00m, origin\u001b[39m=\u001b[39m\u001b[39mNone\u001b[39;00m, extent\u001b[39m=\u001b[39m\u001b[39mNone\u001b[39;00m, \u001b[39m*\u001b[39m,\n\u001b[1;32m   2648\u001b[0m         interpolation_stage\u001b[39m=\u001b[39m\u001b[39mNone\u001b[39;00m, filternorm\u001b[39m=\u001b[39m\u001b[39mTrue\u001b[39;00m, filterrad\u001b[39m=\u001b[39m\u001b[39m4.0\u001b[39m,\n\u001b[1;32m   2649\u001b[0m         resample\u001b[39m=\u001b[39m\u001b[39mNone\u001b[39;00m, url\u001b[39m=\u001b[39m\u001b[39mNone\u001b[39;00m, data\u001b[39m=\u001b[39m\u001b[39mNone\u001b[39;00m, \u001b[39m*\u001b[39m\u001b[39m*\u001b[39mkwargs):\n\u001b[0;32m-> 2650\u001b[0m     __ret \u001b[39m=\u001b[39m gca()\u001b[39m.\u001b[39;49mimshow(\n\u001b[1;32m   2651\u001b[0m         X, cmap\u001b[39m=\u001b[39;49mcmap, norm\u001b[39m=\u001b[39;49mnorm, aspect\u001b[39m=\u001b[39;49maspect,\n\u001b[1;32m   2652\u001b[0m         interpolation\u001b[39m=\u001b[39;49minterpolation, alpha\u001b[39m=\u001b[39;49malpha, vmin\u001b[39m=\u001b[39;49mvmin,\n\u001b[1;32m   2653\u001b[0m         vmax\u001b[39m=\u001b[39;49mvmax, origin\u001b[39m=\u001b[39;49morigin, extent\u001b[39m=\u001b[39;49mextent,\n\u001b[1;32m   2654\u001b[0m         interpolation_stage\u001b[39m=\u001b[39;49minterpolation_stage,\n\u001b[1;32m   2655\u001b[0m         filternorm\u001b[39m=\u001b[39;49mfilternorm, filterrad\u001b[39m=\u001b[39;49mfilterrad, resample\u001b[39m=\u001b[39;49mresample,\n\u001b[1;32m   2656\u001b[0m         url\u001b[39m=\u001b[39;49murl, \u001b[39m*\u001b[39;49m\u001b[39m*\u001b[39;49m({\u001b[39m\"\u001b[39;49m\u001b[39mdata\u001b[39;49m\u001b[39m\"\u001b[39;49m: data} \u001b[39mif\u001b[39;49;00m data \u001b[39mis\u001b[39;49;00m \u001b[39mnot\u001b[39;49;00m \u001b[39mNone\u001b[39;49;00m \u001b[39melse\u001b[39;49;00m {}),\n\u001b[1;32m   2657\u001b[0m         \u001b[39m*\u001b[39;49m\u001b[39m*\u001b[39;49mkwargs)\n\u001b[1;32m   2658\u001b[0m     sci(__ret)\n\u001b[1;32m   2659\u001b[0m     \u001b[39mreturn\u001b[39;00m __ret\n",
      "File \u001b[0;32m~/.conda/envs/stenosis/lib/python3.8/site-packages/matplotlib/_api/deprecation.py:459\u001b[0m, in \u001b[0;36mmake_keyword_only.<locals>.wrapper\u001b[0;34m(*args, **kwargs)\u001b[0m\n\u001b[1;32m    453\u001b[0m \u001b[39mif\u001b[39;00m \u001b[39mlen\u001b[39m(args) \u001b[39m>\u001b[39m name_idx:\n\u001b[1;32m    454\u001b[0m     warn_deprecated(\n\u001b[1;32m    455\u001b[0m         since, message\u001b[39m=\u001b[39m\u001b[39m\"\u001b[39m\u001b[39mPassing the \u001b[39m\u001b[39m%(name)s\u001b[39;00m\u001b[39m \u001b[39m\u001b[39m%(obj_type)s\u001b[39;00m\u001b[39m \u001b[39m\u001b[39m\"\u001b[39m\n\u001b[1;32m    456\u001b[0m         \u001b[39m\"\u001b[39m\u001b[39mpositionally is deprecated since Matplotlib \u001b[39m\u001b[39m%(since)s\u001b[39;00m\u001b[39m; the \u001b[39m\u001b[39m\"\u001b[39m\n\u001b[1;32m    457\u001b[0m         \u001b[39m\"\u001b[39m\u001b[39mparameter will become keyword-only \u001b[39m\u001b[39m%(removal)s\u001b[39;00m\u001b[39m.\u001b[39m\u001b[39m\"\u001b[39m,\n\u001b[1;32m    458\u001b[0m         name\u001b[39m=\u001b[39mname, obj_type\u001b[39m=\u001b[39m\u001b[39mf\u001b[39m\u001b[39m\"\u001b[39m\u001b[39mparameter of \u001b[39m\u001b[39m{\u001b[39;00mfunc\u001b[39m.\u001b[39m\u001b[39m__name__\u001b[39m\u001b[39m}\u001b[39;00m\u001b[39m()\u001b[39m\u001b[39m\"\u001b[39m)\n\u001b[0;32m--> 459\u001b[0m \u001b[39mreturn\u001b[39;00m func(\u001b[39m*\u001b[39;49margs, \u001b[39m*\u001b[39;49m\u001b[39m*\u001b[39;49mkwargs)\n",
      "File \u001b[0;32m~/.conda/envs/stenosis/lib/python3.8/site-packages/matplotlib/__init__.py:1414\u001b[0m, in \u001b[0;36m_preprocess_data.<locals>.inner\u001b[0;34m(ax, data, *args, **kwargs)\u001b[0m\n\u001b[1;32m   1411\u001b[0m \u001b[39m@functools\u001b[39m\u001b[39m.\u001b[39mwraps(func)\n\u001b[1;32m   1412\u001b[0m \u001b[39mdef\u001b[39;00m \u001b[39minner\u001b[39m(ax, \u001b[39m*\u001b[39margs, data\u001b[39m=\u001b[39m\u001b[39mNone\u001b[39;00m, \u001b[39m*\u001b[39m\u001b[39m*\u001b[39mkwargs):\n\u001b[1;32m   1413\u001b[0m     \u001b[39mif\u001b[39;00m data \u001b[39mis\u001b[39;00m \u001b[39mNone\u001b[39;00m:\n\u001b[0;32m-> 1414\u001b[0m         \u001b[39mreturn\u001b[39;00m func(ax, \u001b[39m*\u001b[39;49m\u001b[39mmap\u001b[39;49m(sanitize_sequence, args), \u001b[39m*\u001b[39;49m\u001b[39m*\u001b[39;49mkwargs)\n\u001b[1;32m   1416\u001b[0m     bound \u001b[39m=\u001b[39m new_sig\u001b[39m.\u001b[39mbind(ax, \u001b[39m*\u001b[39margs, \u001b[39m*\u001b[39m\u001b[39m*\u001b[39mkwargs)\n\u001b[1;32m   1417\u001b[0m     auto_label \u001b[39m=\u001b[39m (bound\u001b[39m.\u001b[39marguments\u001b[39m.\u001b[39mget(label_namer)\n\u001b[1;32m   1418\u001b[0m                   \u001b[39mor\u001b[39;00m bound\u001b[39m.\u001b[39mkwargs\u001b[39m.\u001b[39mget(label_namer))\n",
      "File \u001b[0;32m~/.conda/envs/stenosis/lib/python3.8/site-packages/matplotlib/axes/_axes.py:5487\u001b[0m, in \u001b[0;36mAxes.imshow\u001b[0;34m(self, X, cmap, norm, aspect, interpolation, alpha, vmin, vmax, origin, extent, interpolation_stage, filternorm, filterrad, resample, url, **kwargs)\u001b[0m\n\u001b[1;32m   5480\u001b[0m \u001b[39mself\u001b[39m\u001b[39m.\u001b[39mset_aspect(aspect)\n\u001b[1;32m   5481\u001b[0m im \u001b[39m=\u001b[39m mimage\u001b[39m.\u001b[39mAxesImage(\u001b[39mself\u001b[39m, cmap, norm, interpolation,\n\u001b[1;32m   5482\u001b[0m                       origin, extent, filternorm\u001b[39m=\u001b[39mfilternorm,\n\u001b[1;32m   5483\u001b[0m                       filterrad\u001b[39m=\u001b[39mfilterrad, resample\u001b[39m=\u001b[39mresample,\n\u001b[1;32m   5484\u001b[0m                       interpolation_stage\u001b[39m=\u001b[39minterpolation_stage,\n\u001b[1;32m   5485\u001b[0m                       \u001b[39m*\u001b[39m\u001b[39m*\u001b[39mkwargs)\n\u001b[0;32m-> 5487\u001b[0m im\u001b[39m.\u001b[39;49mset_data(X)\n\u001b[1;32m   5488\u001b[0m im\u001b[39m.\u001b[39mset_alpha(alpha)\n\u001b[1;32m   5489\u001b[0m \u001b[39mif\u001b[39;00m im\u001b[39m.\u001b[39mget_clip_path() \u001b[39mis\u001b[39;00m \u001b[39mNone\u001b[39;00m:\n\u001b[1;32m   5490\u001b[0m     \u001b[39m# image does not already have clipping set, clip to axes patch\u001b[39;00m\n",
      "File \u001b[0;32m~/.conda/envs/stenosis/lib/python3.8/site-packages/matplotlib/image.py:715\u001b[0m, in \u001b[0;36m_ImageBase.set_data\u001b[0;34m(self, A)\u001b[0m\n\u001b[1;32m    711\u001b[0m     \u001b[39mself\u001b[39m\u001b[39m.\u001b[39m_A \u001b[39m=\u001b[39m \u001b[39mself\u001b[39m\u001b[39m.\u001b[39m_A[:, :, \u001b[39m0\u001b[39m]\n\u001b[1;32m    713\u001b[0m \u001b[39mif\u001b[39;00m \u001b[39mnot\u001b[39;00m (\u001b[39mself\u001b[39m\u001b[39m.\u001b[39m_A\u001b[39m.\u001b[39mndim \u001b[39m==\u001b[39m \u001b[39m2\u001b[39m\n\u001b[1;32m    714\u001b[0m         \u001b[39mor\u001b[39;00m \u001b[39mself\u001b[39m\u001b[39m.\u001b[39m_A\u001b[39m.\u001b[39mndim \u001b[39m==\u001b[39m \u001b[39m3\u001b[39m \u001b[39mand\u001b[39;00m \u001b[39mself\u001b[39m\u001b[39m.\u001b[39m_A\u001b[39m.\u001b[39mshape[\u001b[39m-\u001b[39m\u001b[39m1\u001b[39m] \u001b[39min\u001b[39;00m [\u001b[39m3\u001b[39m, \u001b[39m4\u001b[39m]):\n\u001b[0;32m--> 715\u001b[0m     \u001b[39mraise\u001b[39;00m \u001b[39mTypeError\u001b[39;00m(\u001b[39m\"\u001b[39m\u001b[39mInvalid shape \u001b[39m\u001b[39m{}\u001b[39;00m\u001b[39m for image data\u001b[39m\u001b[39m\"\u001b[39m\n\u001b[1;32m    716\u001b[0m                     \u001b[39m.\u001b[39mformat(\u001b[39mself\u001b[39m\u001b[39m.\u001b[39m_A\u001b[39m.\u001b[39mshape))\n\u001b[1;32m    718\u001b[0m \u001b[39mif\u001b[39;00m \u001b[39mself\u001b[39m\u001b[39m.\u001b[39m_A\u001b[39m.\u001b[39mndim \u001b[39m==\u001b[39m \u001b[39m3\u001b[39m:\n\u001b[1;32m    719\u001b[0m     \u001b[39m# If the input data has values outside the valid range (after\u001b[39;00m\n\u001b[1;32m    720\u001b[0m     \u001b[39m# normalisation), we issue a warning and then clip X to the bounds\u001b[39;00m\n\u001b[1;32m    721\u001b[0m     \u001b[39m# - otherwise casting wraps extreme values, hiding outliers and\u001b[39;00m\n\u001b[1;32m    722\u001b[0m     \u001b[39m# making reliable interpretation impossible.\u001b[39;00m\n\u001b[1;32m    723\u001b[0m     high \u001b[39m=\u001b[39m \u001b[39m255\u001b[39m \u001b[39mif\u001b[39;00m np\u001b[39m.\u001b[39missubdtype(\u001b[39mself\u001b[39m\u001b[39m.\u001b[39m_A\u001b[39m.\u001b[39mdtype, np\u001b[39m.\u001b[39minteger) \u001b[39melse\u001b[39;00m \u001b[39m1\u001b[39m\n",
      "\u001b[0;31mTypeError\u001b[0m: Invalid shape (4,) for image data"
     ]
    },
    {
     "data": {
      "image/png": "[encoded data removed]",
      "text/plain": [
       "<Figure size 432x288 with 2 Axes>"
      ]
     },
     "metadata": {
      "needs_background": "light"
     },
     "output_type": "display_data"
    }
   ],
   "source": [
    "model_load = load_model('stenosis_model.h5')\n",
    "# To calculate IoU (intersection over union, given two bounding boxes)\n",
    "# To calculate IoU (intersection over union, given two bounding boxes)\n",
    "def bounding_box_intersection_over_union(box_predicted, box_truth):\n",
    "    # get (x, y) coordinates of intersection of bounding boxes\n",
    "    top_x_intersect = max(box_predicted[0], box_truth[0])\n",
    "    top_y_intersect = max(box_predicted[1], box_truth[1])\n",
    "    bottom_x_intersect = min(box_predicted[2], box_truth[2])\n",
    "    bottom_y_intersect = min(box_predicted[3], box_truth[3])\n",
    "\n",
    "    # calculate area of the intersection bb (bounding box)\n",
    "    intersection_area = max(0, bottom_x_intersect - top_x_intersect + 1) * max(\n",
    "        0, bottom_y_intersect - top_y_intersect + 1\n",
    "    )\n",
    "\n",
    "    # calculate area of the prediction bb and ground-truth bb\n",
    "    box_predicted_area = (box_predicted[2] - box_predicted[0] + 1) * (\n",
    "        box_predicted[3] - box_predicted[1] + 1\n",
    "    )\n",
    "    box_truth_area = (box_truth[2] - box_truth[0] + 1) * (\n",
    "        box_truth[3] - box_truth[1] + 1\n",
    "    )\n",
    "\n",
    "    # calculate intersection over union by taking intersection\n",
    "    # area and dividing it by the sum of predicted bb and ground truth\n",
    "    # bb areas subtracted by  the interesection area\n",
    "\n",
    "    # return ioU\n",
    "    return intersection_area / float (\n",
    "        box_predicted_area + box_truth_area - intersection_area\n",
    "    )\n",
    "\n",
    "\n",
    "i, mean_iou = 0, 0\n",
    "\n",
    "# Compare results for 10 images in the test set\n",
    "for input_image in test_images[:5]:\n",
    "    fig, (ax1, ax2) = plt.subplots(1, 2, figsize=(15, 15), sharey=True, sharex=True)\n",
    "    im = input_image\n",
    "    \n",
    "    # plt.margins(x=0, y=0)\n",
    "\n",
    "    # Display the image\n",
    "    ax1.imshow(im, extent=[0,500,0,500])\n",
    "    ax2.imshow(im, extent=[0,500,0,500])\n",
    "\n",
    "    input_image = cv2.resize(\n",
    "        input_image, (224, 224)\n",
    "    )\n",
    "    input_image = np.expand_dims(input_image, axis=0)\n",
    "    preds = model_load.predict(input_image)[0]\n",
    "\n",
    "    (h, w) = (im).shape[0:2]\n",
    "\n",
    "    top_left_x, top_left_y = int(preds[0] * w), int(preds[1] * h)\n",
    "\n",
    "    bottom_right_x, bottom_right_y = int(preds[2] * w), int(preds[3] * h)\n",
    "\n",
    "    box_predicted = [top_left_x, top_left_y, bottom_right_x, bottom_right_y]\n",
    "    # Create the bounding box\n",
    "    rect = patches.Rectangle(\n",
    "        (top_left_x, top_left_y),\n",
    "        bottom_right_x - top_left_x,\n",
    "        bottom_right_y - top_left_y,\n",
    "        facecolor=\"none\",\n",
    "        edgecolor=\"red\",\n",
    "        linewidth=1,\n",
    "    )\n",
    "    # Add the bounding box to the image\n",
    "    ax1.add_patch(rect)\n",
    "    ax1.set_xlabel(\n",
    "        \"Predicted: \"\n",
    "        + str(top_left_x)\n",
    "        + \", \"\n",
    "        + str(top_left_y)\n",
    "        + \", \"\n",
    "        + str(bottom_right_x)\n",
    "        + \", \"\n",
    "        + str(bottom_right_y)\n",
    "    )\n",
    "\n",
    "    top_left_x, top_left_y = int(test_targets[i][0] * w), int(test_targets[i][1] * h)\n",
    "\n",
    "    bottom_right_x, bottom_right_y = int(test_targets[i][2] * w), int(test_targets[i][3] * h)\n",
    "\n",
    "    box_truth = top_left_x, top_left_y, bottom_right_x, bottom_right_y\n",
    "\n",
    "    mean_iou += bounding_box_intersection_over_union(box_predicted, box_truth)\n",
    "    # Create the bounding box\n",
    "    rect = patches.Rectangle(\n",
    "        (top_left_x, top_left_y),\n",
    "        bottom_right_x - top_left_x,\n",
    "        bottom_right_y - top_left_y,\n",
    "        facecolor=\"none\",\n",
    "        edgecolor=\"red\",\n",
    "        linewidth=1,\n",
    "    )\n",
    "    # Add the bounding box to the image\n",
    "    ax2.add_patch(rect)\n",
    "    # print(top_left_x, top_left_y, bottom_right_x,bottom_right_y)\n",
    "    ax2.set_xlabel(\n",
    "        \"Target: \"\n",
    "        + str(top_left_x)\n",
    "        + \", \"\n",
    "        + str(top_left_y)\n",
    "        + \", \"\n",
    "        + str(bottom_right_x)\n",
    "        + \", \"\n",
    "        + str(bottom_right_y)\n",
    "        + \"\\n\"\n",
    "        + \"IoU\"\n",
    "        + str(bounding_box_intersection_over_union(box_predicted, box_truth))\n",
    "    )\n",
    "    print(top_left_x, top_left_y, bottom_right_x,bottom_right_y)\n",
    "    # type(top_left_x)\n",
    "    i = i + 1\n",
    "plt.show()"
   ]
  },
  {
   "cell_type": "code",
   "execution_count": null,
   "metadata": {},
   "outputs": [],
   "source": [
    "# pretrained_model = tf.keras.applications.ResNet101(\n",
    "#         weights='imagenet',\n",
    "#         include_top=False ,\n",
    "#         input_shape=(350, 350, 3)\n",
    "#     )\n",
    "\n",
    "# pretrained_model.trainable = False\n",
    "# inputs = keras.Input(shape=(350, 350, 3))\n",
    "# x = pretrained_model(inputs, training=False)\n",
    "# # Convert features of shape `base_model.output_shape[1:]` to vectors\n",
    "# x = keras.layers.GlobalAveragePooling2D()(x)\n",
    "# # A Dense classifier with a single unit (binary classification)\n",
    "# outputs = keras.layers.Dense(4)(x)\n",
    "# model = keras.Model(inputs, outputs)\n",
    "# # model.load_weights('yolov4.h5')\n",
    "# # model_0 = tf.keras.Sequential([\n",
    "\n",
    "# #         pretrained_model,\n",
    "# #         tf.keras.layers.GlobalAveragePooling2D(),\n",
    "# #     ])"
   ]
  },
  {
   "cell_type": "code",
   "execution_count": null,
   "metadata": {},
   "outputs": [],
   "source": [
    "# model.compile(loss='mse', optimizer=Adam(learning_rate=0.0001), metrics=[tf.keras.metrics.MeanIoU(num_classes=5), tfr.keras.metrics.MeanAveragePrecisionMetric()])\n",
    "# model.summary()"
   ]
  }
 ],
 "metadata": {
  "kernelspec": {
   "display_name": "Python 3.8.0 ('stenosis')",
   "language": "python",
   "name": "python3"
  },
  "language_info": {
   "codemirror_mode": {
    "name": "ipython",
    "version": 3
   },
   "file_extension": ".py",
   "mimetype": "text/x-python",
   "name": "python",
   "nbconvert_exporter": "python",
   "pygments_lexer": "ipython3",
   "version": "3.8.0"
  },
  "orig_nbformat": 4,
  "vscode": {
   "interpreter": {
    "hash": "19ff9c7f21e688b0a63937d8e235404e49de4020bbe9a8cd3aa9033c665804ef"
   }
  }
 },
 "nbformat": 4,
 "nbformat_minor": 2
}
