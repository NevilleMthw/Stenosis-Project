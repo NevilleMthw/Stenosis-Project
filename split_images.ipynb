{
 "cells": [
  {
   "cell_type": "code",
   "execution_count": 9,
   "metadata": {},
   "outputs": [],
   "source": [
    "import os\n",
    "import numpy as np\n",
    "import pandas as pd\n",
    "import pathlib as Path\n",
    "import shutil\n",
    "import splitfolders"
   ]
  },
  {
   "cell_type": "code",
   "execution_count": 109,
   "metadata": {},
   "outputs": [],
   "source": [
    "input_data_path =r'C:/Users/conm/Desktop/Stenosis-Project/Stenosis detection/input/stenosis'\n",
    "\n",
    "train_path = '/home/lunet/conm/Desktop/Stenosis-Project/output2/train/stenosis'\n",
    "\n",
    "val_path = '/home/lunet/conm/Desktop/Stenosis-Project/output2/val/stenosis'"
   ]
  },
  {
   "cell_type": "code",
   "execution_count": 5,
   "metadata": {},
   "outputs": [
    {
     "data": {
      "text/plain": [
       "0       14_029_7_0058.bmp\n",
       "1       14_024_1_0052.bmp\n",
       "2       14_095_2_0075.bmp\n",
       "3       14_075_6_0035.bmp\n",
       "4       14_081_7_0026.bmp\n",
       "              ...        \n",
       "828     14_066_8_0028.bmp\n",
       "829     14_048_1_0057.bmp\n",
       "830     14_051_2_0051.bmp\n",
       "831     14_051_2_0025.bmp\n",
       "832    14_021_16_0077.bmp\n",
       "Name: filename, Length: 833, dtype: object"
      ]
     },
     "execution_count": 5,
     "metadata": {},
     "output_type": "execute_result"
    }
   ],
   "source": [
    "test_labels = pd.read_csv('test_labels.csv')\n",
    "test_labels['filename']"
   ]
  },
  {
   "cell_type": "code",
   "execution_count": 28,
   "metadata": {},
   "outputs": [
    {
     "data": {
      "text/plain": [
       "0       14_024_2_0042.bmp\n",
       "1       14_031_4_0031.bmp\n",
       "2       14_046_5_0066.bmp\n",
       "3       14_010_6_0035.bmp\n",
       "4       14_014_1_0015.bmp\n",
       "              ...        \n",
       "7488    14_066_7_0059.bmp\n",
       "7489    14_088_8_0077.bmp\n",
       "7490    14_095_7_0045.bmp\n",
       "7491    14_051_6_0026.bmp\n",
       "7492    14_029_6_0098.bmp\n",
       "Name: filename, Length: 7493, dtype: object"
      ]
     },
     "execution_count": 28,
     "metadata": {},
     "output_type": "execute_result"
    }
   ],
   "source": [
    "train_labels = pd.read_csv('train_labels_2.csv')\n",
    "train_labels['filename']"
   ]
  },
  {
   "cell_type": "code",
   "execution_count": 24,
   "metadata": {},
   "outputs": [
    {
     "data": {
      "text/html": [
       "<div>\n",
       "<style scoped>\n",
       "    .dataframe tbody tr th:only-of-type {\n",
       "        vertical-align: middle;\n",
       "    }\n",
       "\n",
       "    .dataframe tbody tr th {\n",
       "        vertical-align: top;\n",
       "    }\n",
       "\n",
       "    .dataframe thead th {\n",
       "        text-align: right;\n",
       "    }\n",
       "</style>\n",
       "<table border=\"1\" class=\"dataframe\">\n",
       "  <thead>\n",
       "    <tr style=\"text-align: right;\">\n",
       "      <th></th>\n",
       "      <th>filename</th>\n",
       "      <th>xmin</th>\n",
       "      <th>ymin</th>\n",
       "      <th>xmax</th>\n",
       "      <th>ymax</th>\n",
       "    </tr>\n",
       "  </thead>\n",
       "  <tbody>\n",
       "    <tr>\n",
       "      <th>0</th>\n",
       "      <td>14_029_7_0058.bmp</td>\n",
       "      <td>288</td>\n",
       "      <td>369</td>\n",
       "      <td>328</td>\n",
       "      <td>398</td>\n",
       "    </tr>\n",
       "    <tr>\n",
       "      <th>1</th>\n",
       "      <td>14_024_1_0052.bmp</td>\n",
       "      <td>166</td>\n",
       "      <td>160</td>\n",
       "      <td>202</td>\n",
       "      <td>202</td>\n",
       "    </tr>\n",
       "    <tr>\n",
       "      <th>2</th>\n",
       "      <td>14_095_2_0075.bmp</td>\n",
       "      <td>461</td>\n",
       "      <td>337</td>\n",
       "      <td>492</td>\n",
       "      <td>379</td>\n",
       "    </tr>\n",
       "    <tr>\n",
       "      <th>3</th>\n",
       "      <td>14_075_6_0035.bmp</td>\n",
       "      <td>128</td>\n",
       "      <td>136</td>\n",
       "      <td>189</td>\n",
       "      <td>158</td>\n",
       "    </tr>\n",
       "    <tr>\n",
       "      <th>4</th>\n",
       "      <td>14_081_7_0026.bmp</td>\n",
       "      <td>323</td>\n",
       "      <td>177</td>\n",
       "      <td>351</td>\n",
       "      <td>230</td>\n",
       "    </tr>\n",
       "    <tr>\n",
       "      <th>...</th>\n",
       "      <td>...</td>\n",
       "      <td>...</td>\n",
       "      <td>...</td>\n",
       "      <td>...</td>\n",
       "      <td>...</td>\n",
       "    </tr>\n",
       "    <tr>\n",
       "      <th>8319</th>\n",
       "      <td>14_031_8_0060.bmp</td>\n",
       "      <td>469</td>\n",
       "      <td>184</td>\n",
       "      <td>254</td>\n",
       "      <td>160</td>\n",
       "    </tr>\n",
       "    <tr>\n",
       "      <th>8320</th>\n",
       "      <td>14_088_8_0077.bmp</td>\n",
       "      <td>512</td>\n",
       "      <td>319</td>\n",
       "      <td>576</td>\n",
       "      <td>347</td>\n",
       "    </tr>\n",
       "    <tr>\n",
       "      <th>8321</th>\n",
       "      <td>14_095_7_0045.bmp</td>\n",
       "      <td>199</td>\n",
       "      <td>218</td>\n",
       "      <td>229</td>\n",
       "      <td>273</td>\n",
       "    </tr>\n",
       "    <tr>\n",
       "      <th>8322</th>\n",
       "      <td>14_051_6_0026.bmp</td>\n",
       "      <td>258</td>\n",
       "      <td>181</td>\n",
       "      <td>277</td>\n",
       "      <td>216</td>\n",
       "    </tr>\n",
       "    <tr>\n",
       "      <th>8323</th>\n",
       "      <td>14_029_6_0098.bmp</td>\n",
       "      <td>84</td>\n",
       "      <td>404</td>\n",
       "      <td>114</td>\n",
       "      <td>432</td>\n",
       "    </tr>\n",
       "  </tbody>\n",
       "</table>\n",
       "<p>8324 rows × 5 columns</p>\n",
       "</div>"
      ],
      "text/plain": [
       "               filename  xmin  ymin  xmax  ymax\n",
       "0     14_029_7_0058.bmp   288   369   328   398\n",
       "1     14_024_1_0052.bmp   166   160   202   202\n",
       "2     14_095_2_0075.bmp   461   337   492   379\n",
       "3     14_075_6_0035.bmp   128   136   189   158\n",
       "4     14_081_7_0026.bmp   323   177   351   230\n",
       "...                 ...   ...   ...   ...   ...\n",
       "8319  14_031_8_0060.bmp   469   184   254   160\n",
       "8320  14_088_8_0077.bmp   512   319   576   347\n",
       "8321  14_095_7_0045.bmp   199   218   229   273\n",
       "8322  14_051_6_0026.bmp   258   181   277   216\n",
       "8323  14_029_6_0098.bmp    84   404   114   432\n",
       "\n",
       "[8324 rows x 5 columns]"
      ]
     },
     "execution_count": 24,
     "metadata": {},
     "output_type": "execute_result"
    }
   ],
   "source": [
    "labels_full = pd.read_csv('labels.csv')\n",
    "labels_full['filename']"
   ]
  },
  {
   "cell_type": "code",
   "execution_count": 29,
   "metadata": {},
   "outputs": [
    {
     "data": {
      "text/plain": [
       "7493"
      ]
     },
     "execution_count": 29,
     "metadata": {},
     "output_type": "execute_result"
    }
   ],
   "source": [
    "filenames = []\n",
    "for i in range(len(train_labels)):\n",
    "    filenames.append(train_labels.iloc[i]['filename'])\n",
    "len(filenames)"
   ]
  },
  {
   "cell_type": "code",
   "execution_count": 30,
   "metadata": {},
   "outputs": [],
   "source": [
    "if os.path.exists(r'C:\\Users\\conm\\Desktop\\Stenosis-Project\\test_images'):\n",
    "    shutil.rmtree(r'C:\\Users\\conm\\Desktop\\Stenosis-Project\\test_images')\n",
    "    os.makedirs(r'C:\\Users\\conm\\Desktop\\Stenosis-Project\\test_images')\n",
    "\n",
    "for filename in test_labels['filename']:\n",
    "    shutil.copy(os.path.join(input_data_path, filename), os.path.join(r'C:\\Users\\conm\\Desktop\\Stenosis-Project\\test_images', filename))"
   ]
  },
  {
   "cell_type": "code",
   "execution_count": 133,
   "metadata": {},
   "outputs": [
    {
     "name": "stdout",
     "output_type": "stream",
     "text": [
      "hi\n",
      "hi\n"
     ]
    }
   ],
   "source": [
    "# if os.path.exists(r'C:\\Users\\conm\\Desktop\\Stenosis-Project\\train_images'):\n",
    "#     shutil.rmtree(r'C:\\Users\\conm\\Desktop\\Stenosis-Project\\train_images')\n",
    "#     os.makedirs(r'C:\\Users\\conm\\Desktop\\Stenosis-Project\\train_images')\n",
    "import csv\n",
    "with open('train_labels_2.csv', 'r') as csvfile1:\n",
    "    reader = csv.reader(csvfile1)\n",
    "    print('hi')\n",
    "    with open('train_labels_3.csv', 'w') as csvfile2:\n",
    "        writer = csv.writer(csvfile2)\n",
    "        print('hi')\n",
    "        for row in reader:\n",
    "            # print('hi')\n",
    "        # Check if the filename is in the csv file and if it is, write it to the new csv file\n",
    "            if row[0] in os.listdir(train_path):\n",
    "                writer.writerow(row)\n",
    "                # names1.append(row[0])\n",
    "                # print('hi')\n",
    "            # if os.listdir(val_path) in csvfile1:\n",
    "            # # Add all rows to the new csv file\n",
    "            #     writer.writerow()"
   ]
  },
  {
   "cell_type": "code",
   "execution_count": null,
   "metadata": {},
   "outputs": [],
   "source": [
    "# Pathlib\n",
    "for file in Path.Path(r'C:\\Users\\conm\\Desktop\\Stenosis-Project\\train_images').glob('*'):\n",
    "    print(file.name)"
   ]
  },
  {
   "cell_type": "code",
   "execution_count": 67,
   "metadata": {},
   "outputs": [],
   "source": [
    "splitfolders.ratio('/home/lunet/conm/Desktop/Stenosis-Project/train_images/input', output=\"output2\", ratio=(.8, .2), group_prefix=None, move=False)"
   ]
  }
 ],
 "metadata": {
  "kernelspec": {
   "display_name": "Python 3.9.12 ('stenosispyv')",
   "language": "python",
   "name": "python3"
  },
  "language_info": {
   "codemirror_mode": {
    "name": "ipython",
    "version": 3
   },
   "file_extension": ".py",
   "mimetype": "text/x-python",
   "name": "python",
   "nbconvert_exporter": "python",
   "pygments_lexer": "ipython3",
   "version": "3.9.12"
  },
  "orig_nbformat": 4,
  "vscode": {
   "interpreter": {
    "hash": "0da6bbdad7e7ac120af1fededa8862de78c9ff624c00dc9707da58477229c33e"
   }
  }
 },
 "nbformat": 4,
 "nbformat_minor": 2
}
