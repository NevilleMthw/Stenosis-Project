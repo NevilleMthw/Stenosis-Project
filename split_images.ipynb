{
 "cells": [
  {
   "cell_type": "code",
   "execution_count": 3,
   "metadata": {},
   "outputs": [],
   "source": [
    "import os\n",
    "import numpy as np\n",
    "import pandas as pd\n",
    "import pathlib as Path\n",
    "import shutil\n",
    "import splitfolders\n",
    "import csv"
   ]
  },
  {
   "cell_type": "code",
   "execution_count": 26,
   "metadata": {},
   "outputs": [],
   "source": [
    "input_data_path =r'C:/Users/conm/Desktop/Stenosis-Project/Stenosis detection/input/stenosis'\n",
    "\n",
    "train_path = '/home/lunet/conm/Desktop/Stenosis-Project/output3/train/stenosis'\n",
    "\n",
    "val_path = '/home/lunet/conm/Desktop/Stenosis-Project/output3/val/stenosis'"
   ]
  },
  {
   "cell_type": "code",
   "execution_count": null,
   "metadata": {},
   "outputs": [],
   "source": [
    "test_labels = pd.read_csv('test_labels.csv')\n",
    "test_labels['filename']"
   ]
  },
  {
   "cell_type": "code",
   "execution_count": 28,
   "metadata": {},
   "outputs": [
    {
     "data": {
      "text/plain": [
       "0       14_024_2_0042.bmp\n",
       "1       14_031_4_0031.bmp\n",
       "2       14_046_5_0066.bmp\n",
       "3       14_010_6_0035.bmp\n",
       "4       14_014_1_0015.bmp\n",
       "              ...        \n",
       "7488    14_066_7_0059.bmp\n",
       "7489    14_088_8_0077.bmp\n",
       "7490    14_095_7_0045.bmp\n",
       "7491    14_051_6_0026.bmp\n",
       "7492    14_029_6_0098.bmp\n",
       "Name: filename, Length: 7493, dtype: object"
      ]
     },
     "execution_count": 28,
     "metadata": {},
     "output_type": "execute_result"
    }
   ],
   "source": [
    "train_labels = pd.read_csv('train_labels_2.csv')\n",
    "train_labels['filename']"
   ]
  },
  {
   "cell_type": "code",
   "execution_count": 20,
   "metadata": {},
   "outputs": [
    {
     "data": {
      "text/plain": [
       "0       14_029_7_0058.bmp\n",
       "1       14_024_1_0052.bmp\n",
       "2       14_095_2_0075.bmp\n",
       "3       14_075_6_0035.bmp\n",
       "4       14_081_7_0026.bmp\n",
       "              ...        \n",
       "8319    14_029_1_0068.bmp\n",
       "8320    14_095_2_0035.bmp\n",
       "8321    14_095_1_0080.bmp\n",
       "8322    14_048_3_0074.bmp\n",
       "8323    14_039_4_0021.bmp\n",
       "Name: filename, Length: 8324, dtype: object"
      ]
     },
     "execution_count": 20,
     "metadata": {},
     "output_type": "execute_result"
    }
   ],
   "source": [
    "labels_full = pd.read_csv('labels2.csv')\n",
    "labels_full['filename']"
   ]
  },
  {
   "cell_type": "code",
   "execution_count": 18,
   "metadata": {},
   "outputs": [
    {
     "data": {
      "text/plain": [
       "8324"
      ]
     },
     "execution_count": 18,
     "metadata": {},
     "output_type": "execute_result"
    }
   ],
   "source": [
    "filenames = []\n",
    "for i in range(len(labels_full)):\n",
    "    filenames.append(labels_full.iloc[i]['filename'])\n",
    "len(filenames)"
   ]
  },
  {
   "cell_type": "code",
   "execution_count": 30,
   "metadata": {},
   "outputs": [],
   "source": [
    "if os.path.exists(r'C:\\Users\\conm\\Desktop\\Stenosis-Project\\test_images'):\n",
    "    shutil.rmtree(r'C:\\Users\\conm\\Desktop\\Stenosis-Project\\test_images')\n",
    "    os.makedirs(r'C:\\Users\\conm\\Desktop\\Stenosis-Project\\test_images')\n",
    "\n",
    "for filename in test_labels['filename']:\n",
    "    shutil.copy(os.path.join(input_data_path, filename), os.path.join(r'C:\\Users\\conm\\Desktop\\Stenosis-Project\\test_images', filename))"
   ]
  },
  {
   "cell_type": "code",
   "execution_count": null,
   "metadata": {},
   "outputs": [],
   "source": [
    "with open('labels2.csv', 'r') as csvfile1:\n",
    "    reader = csv.reader(csvfile1)\n",
    "    with open('/home/lunet/conm/Desktop/Stenosis-Project/output3/test_labels.csv', 'w') as csvfile2:\n",
    "        writer = csv.writer(csvfile2)\n",
    "        for row in reader:\n",
    "        # Check if the filename is in the csv file and if it is, write it to the new csv file\n",
    "            if row[0] in os.listdir(val_path):\n",
    "                writer.writerow(row)"
   ]
  },
  {
   "cell_type": "code",
   "execution_count": 6,
   "metadata": {},
   "outputs": [],
   "source": [
    "splitfolders.ratio('/home/lunet/conm/Desktop/Stenosis-Project/Stenosis detection/input', output=\"output3\", ratio=(.8, .2), group_prefix=None, move=False)"
   ]
  }
 ],
 "metadata": {
  "kernelspec": {
   "display_name": "Python 3.9.0 64-bit ('stenosispy')",
   "language": "python",
   "name": "python3"
  },
  "language_info": {
   "codemirror_mode": {
    "name": "ipython",
    "version": 3
   },
   "file_extension": ".py",
   "mimetype": "text/x-python",
   "name": "python",
   "nbconvert_exporter": "python",
   "pygments_lexer": "ipython3",
   "version": "3.9.0"
  },
  "orig_nbformat": 4,
  "vscode": {
   "interpreter": {
    "hash": "c55a89e1812b5d6cc605c372f1b75c3e8696b208a86b6eaf930aa26ac5153a35"
   }
  }
 },
 "nbformat": 4,
 "nbformat_minor": 2
}
