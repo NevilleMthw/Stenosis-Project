{
 "cells": [
  {
   "cell_type": "code",
   "execution_count": 1,
   "metadata": {},
   "outputs": [],
   "source": [
    "import os\n",
    "import numpy as np\n",
    "import pandas as pd\n",
    "import cv2\n",
    "import random\n",
    "import matplotlib.image as mpimg\n",
    "import splitfolders\n",
    "from matplotlib import pyplot as plt\n",
    "import tensorflow as tf\n",
    "from tensorflow import keras\n",
    "from sklearn.metrics import accuracy_score\n",
    "from keras.layers import Dense, Dropout, Conv2D, MaxPool2D, Flatten\n",
    "from keras.utils import np_utils\n",
    "from keras.models import Sequential\n",
    "from keras import models\n",
    "from keras.layers import Dense, Dropout\n",
    "from tensorflow.keras.applications import VGG16\n",
    "from tensorflow.keras.applications.resnet50 import ResNet50\n",
    "import shutil\n",
    "from tensorflow.keras.layers import Flatten\n",
    "from tensorflow.keras.layers import Dense\n",
    "from tensorflow.keras.layers import Input\n",
    "from tensorflow.keras.models import Model\n",
    "from tensorflow.keras.optimizers import Adam\n",
    "from IPython.display import SVG\n",
    "from scipy import ndimage\n",
    "import pathlib as Path"
   ]
  },
  {
   "cell_type": "code",
   "execution_count": 2,
   "metadata": {},
   "outputs": [],
   "source": [
    "input_data_path =r'C:/Users/conm/Desktop/Stenosis-Project/Stenosis detection/input/stenosis'"
   ]
  },
  {
   "cell_type": "code",
   "execution_count": 29,
   "metadata": {},
   "outputs": [
    {
     "data": {
      "text/plain": [
       "0       14_029_7_0058.bmp\n",
       "1       14_024_1_0052.bmp\n",
       "2       14_095_2_0075.bmp\n",
       "3       14_075_6_0035.bmp\n",
       "4       14_081_7_0026.bmp\n",
       "              ...        \n",
       "828     14_066_8_0028.bmp\n",
       "829     14_048_1_0057.bmp\n",
       "830     14_051_2_0051.bmp\n",
       "831     14_051_2_0025.bmp\n",
       "832    14_021_16_0077.bmp\n",
       "Name: filename, Length: 833, dtype: object"
      ]
     },
     "execution_count": 29,
     "metadata": {},
     "output_type": "execute_result"
    }
   ],
   "source": [
    "test_labels = pd.read_csv('test_labels.csv')\n",
    "test_labels['filename']"
   ]
  },
  {
   "cell_type": "code",
   "execution_count": 28,
   "metadata": {},
   "outputs": [
    {
     "data": {
      "text/plain": [
       "0       14_024_2_0042.bmp\n",
       "1       14_031_4_0031.bmp\n",
       "2       14_046_5_0066.bmp\n",
       "3       14_010_6_0035.bmp\n",
       "4       14_014_1_0015.bmp\n",
       "              ...        \n",
       "7488    14_066_7_0059.bmp\n",
       "7489    14_088_8_0077.bmp\n",
       "7490    14_095_7_0045.bmp\n",
       "7491    14_051_6_0026.bmp\n",
       "7492    14_029_6_0098.bmp\n",
       "Name: filename, Length: 7493, dtype: object"
      ]
     },
     "execution_count": 28,
     "metadata": {},
     "output_type": "execute_result"
    }
   ],
   "source": [
    "train_labels = pd.read_csv('train_labels.csv')\n",
    "train_labels['filename']"
   ]
  },
  {
   "cell_type": "code",
   "execution_count": 30,
   "metadata": {},
   "outputs": [],
   "source": [
    "if os.path.exists(r'C:\\Users\\conm\\Desktop\\Stenosis-Project\\test_images'):\n",
    "    shutil.rmtree(r'C:\\Users\\conm\\Desktop\\Stenosis-Project\\test_images')\n",
    "    os.makedirs(r'C:\\Users\\conm\\Desktop\\Stenosis-Project\\test_images')\n",
    "\n",
    "for filename in test_labels['filename']:\n",
    "    shutil.copy(os.path.join(input_data_path, filename), os.path.join(r'C:\\Users\\conm\\Desktop\\Stenosis-Project\\test_images', filename))"
   ]
  },
  {
   "cell_type": "code",
   "execution_count": 31,
   "metadata": {},
   "outputs": [],
   "source": [
    "if os.path.exists(r'C:\\Users\\conm\\Desktop\\Stenosis-Project\\train_images'):\n",
    "    shutil.rmtree(r'C:\\Users\\conm\\Desktop\\Stenosis-Project\\train_images')\n",
    "    os.makedirs(r'C:\\Users\\conm\\Desktop\\Stenosis-Project\\train_images')\n",
    "\n",
    "for filename in train_labels['filename']:\n",
    "    shutil.copy(os.path.join(input_data_path, filename), os.path.join(r'C:\\Users\\conm\\Desktop\\Stenosis-Project\\train_images', filename))"
   ]
  },
  {
   "cell_type": "code",
   "execution_count": null,
   "metadata": {},
   "outputs": [],
   "source": [
    "# Pathlib\n",
    "for file in Path.Path(r'C:\\Users\\conm\\Desktop\\Stenosis-Project\\train_images').glob('*'):\n",
    "    print(file.name)"
   ]
  },
  {
   "cell_type": "code",
   "execution_count": 5,
   "metadata": {},
   "outputs": [],
   "source": [
    "splitfolders.ratio(r\"C:\\Users\\conm\\Desktop\\Stenosis-Project\\train_images\\input\", output=\"output\", seed=1337, ratio=(.9, .1), group_prefix=None, move=False)"
   ]
  }
 ],
 "metadata": {
  "kernelspec": {
   "display_name": "Python 3.10.4 64-bit",
   "language": "python",
   "name": "python3"
  },
  "language_info": {
   "codemirror_mode": {
    "name": "ipython",
    "version": 3
   },
   "file_extension": ".py",
   "mimetype": "text/x-python",
   "name": "python",
   "nbconvert_exporter": "python",
   "pygments_lexer": "ipython3",
   "version": "3.10.4"
  },
  "orig_nbformat": 4,
  "vscode": {
   "interpreter": {
    "hash": "580a8502def8306b861000de92734f56c6d3644d4a2965d907e1addd398d3124"
   }
  }
 },
 "nbformat": 4,
 "nbformat_minor": 2
}
