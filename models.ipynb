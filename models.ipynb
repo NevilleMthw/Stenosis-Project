{
 "cells": [
  {
   "cell_type": "markdown",
   "metadata": {},
   "source": [
    "# Stenosis Project - Coronary Artery Stenosis or Coronary Artery Disease "
   ]
  },
  {
   "cell_type": "markdown",
   "metadata": {},
   "source": [
    "## Import Libraries"
   ]
  },
  {
   "cell_type": "code",
   "execution_count": 11,
   "metadata": {},
   "outputs": [],
   "source": [
    "import os\n",
    "import numpy as np\n",
    "import pandas as pd\n",
    "import cv2\n",
    "import random\n",
    "import matplotlib.image as mpimg\n",
    "import splitfolders\n",
    "from matplotlib import pyplot as plt\n",
    "import tensorflow as tf\n",
    "from tensorflow import keras\n",
    "from sklearn.metrics import accuracy_score\n",
    "from keras.layers import Dense, Dropout, Conv2D, MaxPool2D, Flatten\n",
    "from keras.utils import np_utils\n",
    "from keras.models import Sequential\n",
    "from keras import models\n",
    "from keras.layers import Dense, Dropout\n",
    "from tensorflow.keras.applications import VGG16\n",
    "from tensorflow.keras.applications.resnet50 import ResNet50\n",
    "import shutil\n",
    "from tensorflow.keras.layers import Flatten\n",
    "from tensorflow.keras.layers import Dense\n",
    "from tensorflow.keras.layers import Input\n",
    "from tensorflow.keras.models import Model\n",
    "from tensorflow.keras.optimizers import Adam\n",
    "from IPython.display import SVG\n",
    "from scipy import ndimage\n",
    "import pathlib as Path"
   ]
  },
  {
   "cell_type": "markdown",
   "metadata": {},
   "source": [
    "## Initializing Data Paths"
   ]
  },
  {
   "cell_type": "code",
   "execution_count": 13,
   "metadata": {},
   "outputs": [],
   "source": [
    "input_data_path =r'C:/Users/conm/Desktop/Stenosis-Project/Stenosis detection/input'\n",
    "\n",
    "train_path = r'C:\\Users\\conm\\Desktop\\Stenosis-Project\\output\\train\\stenosis'\n",
    "\n",
    "train_path1 = r'C:\\Users\\conm\\Desktop\\Stenosis-Project\\train_images'\n",
    "\n",
    "test_path = r'C:\\Users\\conm\\Desktop\\Stenosis-Project\\test_images'\n",
    "\n",
    "val_path = r'C:\\Users\\conm\\Desktop\\Stenosis-Project\\output\\val\\stenosis'"
   ]
  },
  {
   "cell_type": "markdown",
   "metadata": {},
   "source": [
    "## Test and Train Labels"
   ]
  },
  {
   "cell_type": "code",
   "execution_count": 12,
   "metadata": {},
   "outputs": [
    {
     "data": {
      "text/html": [
       "<div>\n",
       "<style scoped>\n",
       "    .dataframe tbody tr th:only-of-type {\n",
       "        vertical-align: middle;\n",
       "    }\n",
       "\n",
       "    .dataframe tbody tr th {\n",
       "        vertical-align: top;\n",
       "    }\n",
       "\n",
       "    .dataframe thead th {\n",
       "        text-align: right;\n",
       "    }\n",
       "</style>\n",
       "<table border=\"1\" class=\"dataframe\">\n",
       "  <thead>\n",
       "    <tr style=\"text-align: right;\">\n",
       "      <th></th>\n",
       "      <th>filename</th>\n",
       "      <th>width</th>\n",
       "      <th>height</th>\n",
       "      <th>class</th>\n",
       "      <th>xmin</th>\n",
       "      <th>ymin</th>\n",
       "      <th>xmax</th>\n",
       "      <th>ymax</th>\n",
       "    </tr>\n",
       "  </thead>\n",
       "  <tbody>\n",
       "    <tr>\n",
       "      <th>0</th>\n",
       "      <td>14_029_7_0058.bmp</td>\n",
       "      <td>800</td>\n",
       "      <td>800</td>\n",
       "      <td>Stenosis</td>\n",
       "      <td>288</td>\n",
       "      <td>369</td>\n",
       "      <td>328</td>\n",
       "      <td>398</td>\n",
       "    </tr>\n",
       "    <tr>\n",
       "      <th>1</th>\n",
       "      <td>14_024_1_0052.bmp</td>\n",
       "      <td>800</td>\n",
       "      <td>800</td>\n",
       "      <td>Stenosis</td>\n",
       "      <td>166</td>\n",
       "      <td>160</td>\n",
       "      <td>202</td>\n",
       "      <td>202</td>\n",
       "    </tr>\n",
       "    <tr>\n",
       "      <th>2</th>\n",
       "      <td>14_095_2_0075.bmp</td>\n",
       "      <td>800</td>\n",
       "      <td>800</td>\n",
       "      <td>Stenosis</td>\n",
       "      <td>461</td>\n",
       "      <td>337</td>\n",
       "      <td>492</td>\n",
       "      <td>379</td>\n",
       "    </tr>\n",
       "    <tr>\n",
       "      <th>3</th>\n",
       "      <td>14_075_6_0035.bmp</td>\n",
       "      <td>512</td>\n",
       "      <td>512</td>\n",
       "      <td>Stenosis</td>\n",
       "      <td>128</td>\n",
       "      <td>136</td>\n",
       "      <td>189</td>\n",
       "      <td>158</td>\n",
       "    </tr>\n",
       "    <tr>\n",
       "      <th>4</th>\n",
       "      <td>14_081_7_0026.bmp</td>\n",
       "      <td>800</td>\n",
       "      <td>800</td>\n",
       "      <td>Stenosis</td>\n",
       "      <td>323</td>\n",
       "      <td>177</td>\n",
       "      <td>351</td>\n",
       "      <td>230</td>\n",
       "    </tr>\n",
       "    <tr>\n",
       "      <th>...</th>\n",
       "      <td>...</td>\n",
       "      <td>...</td>\n",
       "      <td>...</td>\n",
       "      <td>...</td>\n",
       "      <td>...</td>\n",
       "      <td>...</td>\n",
       "      <td>...</td>\n",
       "      <td>...</td>\n",
       "    </tr>\n",
       "    <tr>\n",
       "      <th>828</th>\n",
       "      <td>14_066_8_0028.bmp</td>\n",
       "      <td>800</td>\n",
       "      <td>800</td>\n",
       "      <td>Stenosis</td>\n",
       "      <td>125</td>\n",
       "      <td>175</td>\n",
       "      <td>161</td>\n",
       "      <td>216</td>\n",
       "    </tr>\n",
       "    <tr>\n",
       "      <th>829</th>\n",
       "      <td>14_048_1_0057.bmp</td>\n",
       "      <td>1000</td>\n",
       "      <td>1000</td>\n",
       "      <td>Stenosis</td>\n",
       "      <td>264</td>\n",
       "      <td>427</td>\n",
       "      <td>306</td>\n",
       "      <td>458</td>\n",
       "    </tr>\n",
       "    <tr>\n",
       "      <th>830</th>\n",
       "      <td>14_051_2_0051.bmp</td>\n",
       "      <td>512</td>\n",
       "      <td>512</td>\n",
       "      <td>Stenosis</td>\n",
       "      <td>82</td>\n",
       "      <td>297</td>\n",
       "      <td>110</td>\n",
       "      <td>344</td>\n",
       "    </tr>\n",
       "    <tr>\n",
       "      <th>831</th>\n",
       "      <td>14_051_2_0025.bmp</td>\n",
       "      <td>512</td>\n",
       "      <td>512</td>\n",
       "      <td>Stenosis</td>\n",
       "      <td>77</td>\n",
       "      <td>248</td>\n",
       "      <td>102</td>\n",
       "      <td>284</td>\n",
       "    </tr>\n",
       "    <tr>\n",
       "      <th>832</th>\n",
       "      <td>14_021_16_0077.bmp</td>\n",
       "      <td>608</td>\n",
       "      <td>608</td>\n",
       "      <td>Stenosis</td>\n",
       "      <td>110</td>\n",
       "      <td>70</td>\n",
       "      <td>149</td>\n",
       "      <td>116</td>\n",
       "    </tr>\n",
       "  </tbody>\n",
       "</table>\n",
       "<p>833 rows × 8 columns</p>\n",
       "</div>"
      ],
      "text/plain": [
       "               filename  width  height     class  xmin  ymin  xmax  ymax\n",
       "0     14_029_7_0058.bmp    800     800  Stenosis   288   369   328   398\n",
       "1     14_024_1_0052.bmp    800     800  Stenosis   166   160   202   202\n",
       "2     14_095_2_0075.bmp    800     800  Stenosis   461   337   492   379\n",
       "3     14_075_6_0035.bmp    512     512  Stenosis   128   136   189   158\n",
       "4     14_081_7_0026.bmp    800     800  Stenosis   323   177   351   230\n",
       "..                  ...    ...     ...       ...   ...   ...   ...   ...\n",
       "828   14_066_8_0028.bmp    800     800  Stenosis   125   175   161   216\n",
       "829   14_048_1_0057.bmp   1000    1000  Stenosis   264   427   306   458\n",
       "830   14_051_2_0051.bmp    512     512  Stenosis    82   297   110   344\n",
       "831   14_051_2_0025.bmp    512     512  Stenosis    77   248   102   284\n",
       "832  14_021_16_0077.bmp    608     608  Stenosis   110    70   149   116\n",
       "\n",
       "[833 rows x 8 columns]"
      ]
     },
     "execution_count": 12,
     "metadata": {},
     "output_type": "execute_result"
    }
   ],
   "source": [
    "test_labels_csv = pd.read_csv('test_labels.csv')\n",
    "test_labels_csv"
   ]
  },
  {
   "cell_type": "code",
   "execution_count": 15,
   "metadata": {},
   "outputs": [
    {
     "data": {
      "text/html": [
       "<div>\n",
       "<style scoped>\n",
       "    .dataframe tbody tr th:only-of-type {\n",
       "        vertical-align: middle;\n",
       "    }\n",
       "\n",
       "    .dataframe tbody tr th {\n",
       "        vertical-align: top;\n",
       "    }\n",
       "\n",
       "    .dataframe thead th {\n",
       "        text-align: right;\n",
       "    }\n",
       "</style>\n",
       "<table border=\"1\" class=\"dataframe\">\n",
       "  <thead>\n",
       "    <tr style=\"text-align: right;\">\n",
       "      <th></th>\n",
       "      <th>filename</th>\n",
       "      <th>width</th>\n",
       "      <th>height</th>\n",
       "      <th>class</th>\n",
       "      <th>xmin</th>\n",
       "      <th>ymin</th>\n",
       "      <th>xmax</th>\n",
       "      <th>ymax</th>\n",
       "    </tr>\n",
       "  </thead>\n",
       "  <tbody>\n",
       "    <tr>\n",
       "      <th>0</th>\n",
       "      <td>14_024_2_0042.bmp</td>\n",
       "      <td>800</td>\n",
       "      <td>800</td>\n",
       "      <td>Stenosis</td>\n",
       "      <td>235</td>\n",
       "      <td>156</td>\n",
       "      <td>282</td>\n",
       "      <td>192</td>\n",
       "    </tr>\n",
       "    <tr>\n",
       "      <th>1</th>\n",
       "      <td>14_031_4_0031.bmp</td>\n",
       "      <td>800</td>\n",
       "      <td>800</td>\n",
       "      <td>Stenosis</td>\n",
       "      <td>419</td>\n",
       "      <td>319</td>\n",
       "      <td>446</td>\n",
       "      <td>349</td>\n",
       "    </tr>\n",
       "    <tr>\n",
       "      <th>2</th>\n",
       "      <td>14_046_5_0066.bmp</td>\n",
       "      <td>1000</td>\n",
       "      <td>1000</td>\n",
       "      <td>Stenosis</td>\n",
       "      <td>679</td>\n",
       "      <td>307</td>\n",
       "      <td>699</td>\n",
       "      <td>336</td>\n",
       "    </tr>\n",
       "    <tr>\n",
       "      <th>3</th>\n",
       "      <td>14_010_6_0035.bmp</td>\n",
       "      <td>512</td>\n",
       "      <td>512</td>\n",
       "      <td>Stenosis</td>\n",
       "      <td>94</td>\n",
       "      <td>244</td>\n",
       "      <td>126</td>\n",
       "      <td>286</td>\n",
       "    </tr>\n",
       "    <tr>\n",
       "      <th>4</th>\n",
       "      <td>14_014_1_0015.bmp</td>\n",
       "      <td>512</td>\n",
       "      <td>512</td>\n",
       "      <td>Stenosis</td>\n",
       "      <td>163</td>\n",
       "      <td>118</td>\n",
       "      <td>203</td>\n",
       "      <td>151</td>\n",
       "    </tr>\n",
       "    <tr>\n",
       "      <th>...</th>\n",
       "      <td>...</td>\n",
       "      <td>...</td>\n",
       "      <td>...</td>\n",
       "      <td>...</td>\n",
       "      <td>...</td>\n",
       "      <td>...</td>\n",
       "      <td>...</td>\n",
       "      <td>...</td>\n",
       "    </tr>\n",
       "    <tr>\n",
       "      <th>6737</th>\n",
       "      <td>14_066_7_0059.bmp</td>\n",
       "      <td>800</td>\n",
       "      <td>800</td>\n",
       "      <td>Stenosis</td>\n",
       "      <td>229</td>\n",
       "      <td>100</td>\n",
       "      <td>254</td>\n",
       "      <td>160</td>\n",
       "    </tr>\n",
       "    <tr>\n",
       "      <th>6738</th>\n",
       "      <td>14_088_8_0077.bmp</td>\n",
       "      <td>800</td>\n",
       "      <td>800</td>\n",
       "      <td>Stenosis</td>\n",
       "      <td>512</td>\n",
       "      <td>319</td>\n",
       "      <td>576</td>\n",
       "      <td>347</td>\n",
       "    </tr>\n",
       "    <tr>\n",
       "      <th>6739</th>\n",
       "      <td>14_095_7_0045.bmp</td>\n",
       "      <td>800</td>\n",
       "      <td>800</td>\n",
       "      <td>Stenosis</td>\n",
       "      <td>199</td>\n",
       "      <td>218</td>\n",
       "      <td>229</td>\n",
       "      <td>273</td>\n",
       "    </tr>\n",
       "    <tr>\n",
       "      <th>6740</th>\n",
       "      <td>14_051_6_0026.bmp</td>\n",
       "      <td>512</td>\n",
       "      <td>512</td>\n",
       "      <td>Stenosis</td>\n",
       "      <td>258</td>\n",
       "      <td>181</td>\n",
       "      <td>277</td>\n",
       "      <td>216</td>\n",
       "    </tr>\n",
       "    <tr>\n",
       "      <th>6741</th>\n",
       "      <td>14_029_6_0098.bmp</td>\n",
       "      <td>800</td>\n",
       "      <td>800</td>\n",
       "      <td>Stenosis</td>\n",
       "      <td>84</td>\n",
       "      <td>404</td>\n",
       "      <td>114</td>\n",
       "      <td>432</td>\n",
       "    </tr>\n",
       "  </tbody>\n",
       "</table>\n",
       "<p>6742 rows × 8 columns</p>\n",
       "</div>"
      ],
      "text/plain": [
       "               filename  width  height     class  xmin  ymin  xmax  ymax\n",
       "0     14_024_2_0042.bmp    800     800  Stenosis   235   156   282   192\n",
       "1     14_031_4_0031.bmp    800     800  Stenosis   419   319   446   349\n",
       "2     14_046_5_0066.bmp   1000    1000  Stenosis   679   307   699   336\n",
       "3     14_010_6_0035.bmp    512     512  Stenosis    94   244   126   286\n",
       "4     14_014_1_0015.bmp    512     512  Stenosis   163   118   203   151\n",
       "...                 ...    ...     ...       ...   ...   ...   ...   ...\n",
       "6737  14_066_7_0059.bmp    800     800  Stenosis   229   100   254   160\n",
       "6738  14_088_8_0077.bmp    800     800  Stenosis   512   319   576   347\n",
       "6739  14_095_7_0045.bmp    800     800  Stenosis   199   218   229   273\n",
       "6740  14_051_6_0026.bmp    512     512  Stenosis   258   181   277   216\n",
       "6741  14_029_6_0098.bmp    800     800  Stenosis    84   404   114   432\n",
       "\n",
       "[6742 rows x 8 columns]"
      ]
     },
     "execution_count": 15,
     "metadata": {},
     "output_type": "execute_result"
    }
   ],
   "source": [
    "train_labels_csv = pd.read_csv('train_labels.csv')\n",
    "train_labels_csv"
   ]
  },
  {
   "cell_type": "code",
   "execution_count": 14,
   "metadata": {},
   "outputs": [
    {
     "data": {
      "text/html": [
       "<div>\n",
       "<style scoped>\n",
       "    .dataframe tbody tr th:only-of-type {\n",
       "        vertical-align: middle;\n",
       "    }\n",
       "\n",
       "    .dataframe tbody tr th {\n",
       "        vertical-align: top;\n",
       "    }\n",
       "\n",
       "    .dataframe thead th {\n",
       "        text-align: right;\n",
       "    }\n",
       "</style>\n",
       "<table border=\"1\" class=\"dataframe\">\n",
       "  <thead>\n",
       "    <tr style=\"text-align: right;\">\n",
       "      <th></th>\n",
       "      <th>filename</th>\n",
       "      <th>width</th>\n",
       "      <th>height</th>\n",
       "      <th>class</th>\n",
       "      <th>xmin</th>\n",
       "      <th>ymin</th>\n",
       "      <th>xmax</th>\n",
       "      <th>ymax</th>\n",
       "    </tr>\n",
       "  </thead>\n",
       "  <tbody>\n",
       "    <tr>\n",
       "      <th>0</th>\n",
       "      <td>14_029_5_0059.bmp</td>\n",
       "      <td>800</td>\n",
       "      <td>800</td>\n",
       "      <td>Stenosis</td>\n",
       "      <td>192</td>\n",
       "      <td>423</td>\n",
       "      <td>237</td>\n",
       "      <td>459</td>\n",
       "    </tr>\n",
       "    <tr>\n",
       "      <th>1</th>\n",
       "      <td>14_006_1_0138.bmp</td>\n",
       "      <td>800</td>\n",
       "      <td>800</td>\n",
       "      <td>Stenosis</td>\n",
       "      <td>471</td>\n",
       "      <td>438</td>\n",
       "      <td>560</td>\n",
       "      <td>575</td>\n",
       "    </tr>\n",
       "    <tr>\n",
       "      <th>2</th>\n",
       "      <td>14_087_1_0090.bmp</td>\n",
       "      <td>800</td>\n",
       "      <td>800</td>\n",
       "      <td>Stenosis</td>\n",
       "      <td>256</td>\n",
       "      <td>250</td>\n",
       "      <td>335</td>\n",
       "      <td>300</td>\n",
       "    </tr>\n",
       "    <tr>\n",
       "      <th>3</th>\n",
       "      <td>14_021_37_0019.bmp</td>\n",
       "      <td>512</td>\n",
       "      <td>512</td>\n",
       "      <td>Stenosis</td>\n",
       "      <td>187</td>\n",
       "      <td>408</td>\n",
       "      <td>239</td>\n",
       "      <td>431</td>\n",
       "    </tr>\n",
       "    <tr>\n",
       "      <th>4</th>\n",
       "      <td>14_057_3_0061.bmp</td>\n",
       "      <td>1000</td>\n",
       "      <td>1000</td>\n",
       "      <td>Stenosis</td>\n",
       "      <td>389</td>\n",
       "      <td>117</td>\n",
       "      <td>443</td>\n",
       "      <td>174</td>\n",
       "    </tr>\n",
       "    <tr>\n",
       "      <th>...</th>\n",
       "      <td>...</td>\n",
       "      <td>...</td>\n",
       "      <td>...</td>\n",
       "      <td>...</td>\n",
       "      <td>...</td>\n",
       "      <td>...</td>\n",
       "      <td>...</td>\n",
       "      <td>...</td>\n",
       "    </tr>\n",
       "    <tr>\n",
       "      <th>745</th>\n",
       "      <td>14_029_1_0068.bmp</td>\n",
       "      <td>800</td>\n",
       "      <td>800</td>\n",
       "      <td>Stenosis</td>\n",
       "      <td>297</td>\n",
       "      <td>265</td>\n",
       "      <td>356</td>\n",
       "      <td>310</td>\n",
       "    </tr>\n",
       "    <tr>\n",
       "      <th>746</th>\n",
       "      <td>14_095_2_0035.bmp</td>\n",
       "      <td>800</td>\n",
       "      <td>800</td>\n",
       "      <td>Stenosis</td>\n",
       "      <td>435</td>\n",
       "      <td>375</td>\n",
       "      <td>473</td>\n",
       "      <td>416</td>\n",
       "    </tr>\n",
       "    <tr>\n",
       "      <th>747</th>\n",
       "      <td>14_095_1_0080.bmp</td>\n",
       "      <td>800</td>\n",
       "      <td>800</td>\n",
       "      <td>Stenosis</td>\n",
       "      <td>501</td>\n",
       "      <td>498</td>\n",
       "      <td>546</td>\n",
       "      <td>529</td>\n",
       "    </tr>\n",
       "    <tr>\n",
       "      <th>748</th>\n",
       "      <td>14_048_3_0074.bmp</td>\n",
       "      <td>1000</td>\n",
       "      <td>1000</td>\n",
       "      <td>Stenosis</td>\n",
       "      <td>458</td>\n",
       "      <td>181</td>\n",
       "      <td>479</td>\n",
       "      <td>199</td>\n",
       "    </tr>\n",
       "    <tr>\n",
       "      <th>749</th>\n",
       "      <td>14_039_4_0021.bmp</td>\n",
       "      <td>800</td>\n",
       "      <td>800</td>\n",
       "      <td>Stenosis</td>\n",
       "      <td>299</td>\n",
       "      <td>195</td>\n",
       "      <td>318</td>\n",
       "      <td>217</td>\n",
       "    </tr>\n",
       "  </tbody>\n",
       "</table>\n",
       "<p>750 rows × 8 columns</p>\n",
       "</div>"
      ],
      "text/plain": [
       "               filename  width  height     class  xmin  ymin  xmax  ymax\n",
       "0     14_029_5_0059.bmp    800     800  Stenosis   192   423   237   459\n",
       "1     14_006_1_0138.bmp    800     800  Stenosis   471   438   560   575\n",
       "2     14_087_1_0090.bmp    800     800  Stenosis   256   250   335   300\n",
       "3    14_021_37_0019.bmp    512     512  Stenosis   187   408   239   431\n",
       "4     14_057_3_0061.bmp   1000    1000  Stenosis   389   117   443   174\n",
       "..                  ...    ...     ...       ...   ...   ...   ...   ...\n",
       "745   14_029_1_0068.bmp    800     800  Stenosis   297   265   356   310\n",
       "746   14_095_2_0035.bmp    800     800  Stenosis   435   375   473   416\n",
       "747   14_095_1_0080.bmp    800     800  Stenosis   501   498   546   529\n",
       "748   14_048_3_0074.bmp   1000    1000  Stenosis   458   181   479   199\n",
       "749   14_039_4_0021.bmp    800     800  Stenosis   299   195   318   217\n",
       "\n",
       "[750 rows x 8 columns]"
      ]
     },
     "execution_count": 14,
     "metadata": {},
     "output_type": "execute_result"
    }
   ],
   "source": [
    "val_labels_csv = pd.read_csv('val_labels.csv')\n",
    "val_labels_csv"
   ]
  },
  {
   "cell_type": "code",
   "execution_count": 67,
   "metadata": {},
   "outputs": [],
   "source": [
    "# val_files = []\n",
    "# labels = []\n",
    "# img_list = os.listdir(val_path)\n",
    "# for j in range(len(filenames)):\n",
    "#         if filenames[j] in img_list:\n",
    "#             # Add the matching filename with the correct label to the list\n",
    "#             val_files.append(train_labels_csv['filename'])\n"
   ]
  },
  {
   "cell_type": "code",
   "execution_count": null,
   "metadata": {},
   "outputs": [],
   "source": [
    "train_images = []\n",
    "train_targets = []\n",
    "train_labels = []\n",
    "classes = ['Stenosis']\n",
    "\n",
    "for index, row in train_labels_csv.iterrows():\n",
    "    \n",
    "    (filename, width, height, class_name, xmin, ymin, xmax, ymax) = row\n",
    "    \n",
    "    train_image_fullpath = os.path.join(train_path1, filename)\n",
    "    train_img = keras.preprocessing.image.load_img(train_image_fullpath, target_size=(height, width))\n",
    "    train_img_arr = keras.preprocessing.image.img_to_array(train_img)\n",
    "    \n",
    "    xmin = xmin / width\n",
    "    ymin = ymin / height\n",
    "    xmax = xmax / width\n",
    "    ymax = ymax / height\n",
    "    # xmin = round(xmin/ width, 2)\n",
    "    # ymin = round(ymin/ height, 2)\n",
    "    # xmax = round(xmax/ width, 2)\n",
    "    # ymax = round(ymax/ height, 2)\n",
    "    \n",
    "    train_images.append(train_img_arr)\n",
    "    train_targets.append((xmin, ymin, xmax, ymax))\n",
    "    train_labels.append(class_name)"
   ]
  },
  {
   "cell_type": "code",
   "execution_count": null,
   "metadata": {},
   "outputs": [],
   "source": [
    "val_images = []\n",
    "val_targets = []\n",
    "val_labels = []\n",
    "classes = ['Stenosis']\n",
    "\n",
    "for index, row in val_files.iterrows():\n",
    "    \n",
    "    (filename, width, height, class_name, xmin, ymin, xmax, ymax) = row\n",
    "    \n",
    "    train_image_fullpath = os.path.join(train_path1, filename)\n",
    "    train_img = keras.preprocessing.image.load_img(train_image_fullpath, target_size=(height, width))\n",
    "    train_img_arr = keras.preprocessing.image.img_to_array(train_img)\n",
    "    \n",
    "    # Normalise the xmin, ymin, xmax, ymax values\n",
    "    xmin = xmin / width\n",
    "    ymin = ymin / height\n",
    "    xmax = xmax / width\n",
    "    ymax = ymax / height\n",
    "    # xmin = round(xmin/ width, 2)\n",
    "    # ymin = round(ymin/ height, 2)\n",
    "    # xmax = round(xmax/ width, 2)\n",
    "    # ymax = round(ymax/ height, 2)\n",
    "    \n",
    "    val_images.append(train_img_arr)\n",
    "    val_targets.append((xmin, ymin, xmax, ymax))\n",
    "    val_labels.append(class_name)"
   ]
  },
  {
   "cell_type": "code",
   "execution_count": 10,
   "metadata": {},
   "outputs": [
    {
     "data": {
      "text/plain": [
       "(0.679, 0.307, 0.699, 0.336)"
      ]
     },
     "execution_count": 10,
     "metadata": {},
     "output_type": "execute_result"
    }
   ],
   "source": [
    "train_targets[2]"
   ]
  },
  {
   "cell_type": "markdown",
   "metadata": {},
   "source": [
    "## Normalise Bounding Box dimensions for test and train images"
   ]
  },
  {
   "cell_type": "code",
   "execution_count": null,
   "metadata": {},
   "outputs": [],
   "source": [
    "# Extract xmin, ymin, xmax and ymax from train labels and stroe them in a list\n",
    "train_label_dimensions = []\n",
    "for i in range(len(train_labels)):\n",
    "    train_label_dimensions.append([train_labels.iloc[i]['xmin'], train_labels.iloc[i]['ymin'], train_labels.iloc[i]['xmax'], train_labels.iloc[i]['ymax']])\n",
    "\n",
    "# Scale the dimensions of the train labels\n",
    "train_label_dimensions_scaled = []\n",
    "for i in range(len(train_label_dimensions)):\n",
    "    train_label_dimensions_scaled.append([train_label_dimensions[i][0]/1000, train_label_dimensions[i][1]/1000, train_label_dimensions[i][2]/1000, train_label_dimensions[i][3]/1000])\n",
    "train_label_dimensions_scaled"
   ]
  },
  {
   "cell_type": "code",
   "execution_count": null,
   "metadata": {},
   "outputs": [],
   "source": [
    "# Extract xmin, ymin, xmax and ymax from test labels and store them in a list\n",
    "test_label_dimensions = []\n",
    "for i in range(len(test_labels)):\n",
    "    test_label_dimensions.append([test_labels.iloc[i]['xmin'], test_labels.iloc[i]['ymin'], test_labels.iloc[i]['xmax'], test_labels.iloc[i]['ymax']])\n",
    "\n",
    "# Scale the dimensions of the test labels\n",
    "test_label_dimensions_scaled = []\n",
    "for i in range(len(test_label_dimensions)):\n",
    "    test_label_dimensions_scaled.append([test_label_dimensions[i][0]/1000, test_label_dimensions[i][1]/1000, test_label_dimensions[i][2]/1000, test_label_dimensions[i][3]/1000])\n",
    "test_label_dimensions_scaled"
   ]
  },
  {
   "cell_type": "code",
   "execution_count": 40,
   "metadata": {},
   "outputs": [
    {
     "data": {
      "text/plain": [
       "7493"
      ]
     },
     "execution_count": 40,
     "metadata": {},
     "output_type": "execute_result"
    }
   ],
   "source": [
    "# Last element of the list is the class name\n",
    "len(train_label_dimensions_scaled)"
   ]
  },
  {
   "cell_type": "markdown",
   "metadata": {},
   "source": [
    "## Extract image filenames"
   ]
  },
  {
   "cell_type": "code",
   "execution_count": 11,
   "metadata": {},
   "outputs": [
    {
     "data": {
      "text/plain": [
       "7493"
      ]
     },
     "execution_count": 11,
     "metadata": {},
     "output_type": "execute_result"
    }
   ],
   "source": [
    "# # Extract the image names from the train_labels.csv file and store them in a list\n",
    "filenames = []\n",
    "for i in range(len(train_labels_csv)):\n",
    "    filenames.append(train_labels_csv.iloc[i]['filename'])\n",
    "len(filenames)"
   ]
  },
  {
   "cell_type": "markdown",
   "metadata": {},
   "source": [
    "## Load Training Data"
   ]
  },
  {
   "cell_type": "code",
   "execution_count": 9,
   "metadata": {},
   "outputs": [],
   "source": [
    "training_data = []\n",
    "for img in os.listdir(train_path):\n",
    "    pic = cv2.imread(os.path.join(train_path, img))\n",
    "    training_data.append(pic)"
   ]
  },
  {
   "cell_type": "code",
   "execution_count": 10,
   "metadata": {},
   "outputs": [
    {
     "data": {
      "text/plain": [
       "(512, 512, 3)"
      ]
     },
     "execution_count": 10,
     "metadata": {},
     "output_type": "execute_result"
    }
   ],
   "source": [
    "training_data[0].shape"
   ]
  },
  {
   "cell_type": "code",
   "execution_count": 19,
   "metadata": {},
   "outputs": [
    {
     "data": {
      "text/plain": [
       "5993"
      ]
     },
     "execution_count": 19,
     "metadata": {},
     "output_type": "execute_result"
    }
   ],
   "source": [
    "len(training_data)"
   ]
  },
  {
   "cell_type": "code",
   "execution_count": 18,
   "metadata": {},
   "outputs": [
    {
     "data": {
      "text/plain": [
       "<matplotlib.image.AxesImage at 0x239e6777490>"
      ]
     },
     "execution_count": 18,
     "metadata": {},
     "output_type": "execute_result"
    },
    {
     "data": {
      "image/png": "[encoded data removed]",
      "text/plain": [
       "<Figure size 432x288 with 1 Axes>"
      ]
     },
     "metadata": {
      "needs_background": "light"
     },
     "output_type": "display_data"
    }
   ],
   "source": [
    "plt.imshow(training_data[0])"
   ]
  },
  {
   "cell_type": "code",
   "execution_count": 195,
   "metadata": {},
   "outputs": [],
   "source": [
    "# training_labels = []\n",
    "# remain_labels = []\n",
    "# training_filenames = []\n",
    "# img_list = os.listdir(train_path)\n",
    "# for j in range(len(filenames)):\n",
    "#         if filenames[j] in img_list:\n",
    "#             training_labels.append(label_dimensions_scaled[j])\n",
    "#             training_filenames.append(filenames[j])\n",
    "#         else:\n",
    "#             remain_labels.append(filenames[j])"
   ]
  },
  {
   "cell_type": "code",
   "execution_count": 180,
   "metadata": {},
   "outputs": [],
   "source": [
    "# test123 = []\n",
    "# for j in range(len(filenames)):\n",
    "#         if filenames[j] not in img_list:\n",
    "#             test123.append(filenames[j])"
   ]
  },
  {
   "cell_type": "code",
   "execution_count": 181,
   "metadata": {},
   "outputs": [],
   "source": [
    "# test_labels = []\n",
    "# img_list1 = os.listdir(test_path)\n",
    "# for j in range(len(filenames)):\n",
    "#         if filenames[j] in img_list1:\n",
    "#             test_labels.append(label_dimensions_scaled[j])"
   ]
  },
  {
   "cell_type": "code",
   "execution_count": 8,
   "metadata": {},
   "outputs": [
    {
     "name": "stdout",
     "output_type": "stream",
     "text": [
      "['14_080_2_0087.bmp', '14_039_4_0077.bmp', '14_031_3_0055.bmp', '14_070_5_0048.bmp', '14_053_5_0041.bmp', '14_018_8_0033.bmp', '14_066_7_0039.bmp', '14_028_3_0068.bmp', '14_083_1_0048.bmp', '14_085_4_0030.bmp', '14_064_3_0031.bmp', '14_029_7_0059.bmp', '14_021_37_0031.bmp', '14_006_1_0086.bmp', '14_021_31_0031.bmp', '14_019_5_0033.bmp', '14_016_1_0034.bmp', '14_042_3_0058.bmp', '14_022_7_0030.bmp', '14_083_1_0060.bmp', '14_058_3_0060.bmp', '14_087_2_0074.bmp', '14_087_1_0076.bmp', '14_007_8_0044.bmp', '14_096_4_0046.bmp', '14_022_6_0063.bmp', '14_039_2_0036.bmp', '14_057_2_0073.bmp', '14_021_35_0024.bmp', '14_039_5_0046.bmp', '14_055_8_0008.bmp', '14_064_3_0036.bmp', '14_085_4_0045.bmp', '14_023_3_0052.bmp', '14_021_6_0059.bmp', '14_022_6_0071.bmp', '14_068_2_0030.bmp', '14_021_37_0043.bmp', '14_039_4_0021.bmp', '14_064_2_0069.bmp', '14_024_4_0052.bmp', '14_029_6_0079.bmp', '14_039_4_0052.bmp', '14_088_6_0044.bmp', '14_087_3_0040.bmp', '14_075_3_0028.bmp', '14_069_1_0089.bmp', '14_084_7_0032.bmp', '14_087_3_0062.bmp', '14_032_4_0040.bmp', '14_083_1_0050.bmp', '14_023_2_0066.bmp', '14_094_3_0040.bmp', '14_059_2_0056.bmp', '14_023_2_0115.bmp', '14_024_5_0072.bmp', '14_029_1_0038.bmp', '14_087_3_0068.bmp', '14_028_3_0067.bmp', '14_026_2_0106.bmp', '14_021_6_0024.bmp', '14_062_5_0051.bmp', '14_042_2_0051.bmp', '14_081_7_0028.bmp', '14_085_2_0068.bmp', '14_050_8_0054.bmp', '14_007_5_0099.bmp', '14_069_1_0084.bmp', '14_087_1_0049.bmp', '14_021_16_0066.bmp', '14_021_37_0019.bmp', '14_050_6_0025.bmp', '14_042_3_0020.bmp', '14_024_4_0029.bmp', '14_057_3_0062.bmp', '14_007_8_0110.bmp', '14_021_38_0022.bmp', '14_022_6_0044.bmp', '14_085_1_0077.bmp', '14_024_3_0027.bmp', '14_029_2_0057.bmp', '14_026_2_0091.bmp', '14_003_1_0015.bmp', '14_077_5_0030.bmp', '14_095_4_0066.bmp', '14_069_1_0066.bmp', '14_016_1_0072.bmp', '14_096_6_0053.bmp', '14_083_6_0045.bmp', '14_031_8_0054.bmp', '14_087_2_0051.bmp', '14_039_4_0049.bmp', '14_050_4_0031.bmp', '14_039_7_0061.bmp', '14_042_3_0059.bmp', '14_048_4_0041.bmp', '14_094_2_0046.bmp', '14_064_3_0017.bmp', '14_075_3_0027.bmp', '14_029_5_0058.bmp', '14_053_2_0060.bmp', '14_075_8_0033.bmp', '14_095_2_0079.bmp', '14_007_3_0067.bmp', '14_007_3_0032.bmp', '14_032_7_0023.bmp', '14_007_10_0052.bmp', '14_002_5_0017.bmp', '14_015_1_0026.bmp', '14_031_6_0030.bmp', '14_021_37_0046.bmp', '14_024_5_0070.bmp', '14_042_5_0052.bmp', '14_048_5_0043.bmp', '14_087_2_0089.bmp', '14_075_1_0027.bmp', '14_028_1_0039.bmp', '14_049_3_0022.bmp', '14_064_3_0027.bmp', '14_050_10_0049.bmp', '14_026_2_0070.bmp', '14_066_8_0043.bmp', '14_088_2_0017.bmp', '14_007_5_0072.bmp', '14_068_3_0027.bmp', '14_034_7_0043.bmp', '14_010_1_0050.bmp', '14_029_5_0092.bmp', '14_095_2_0080.bmp', '14_024_6_0059.bmp', '14_085_4_0063.bmp', '14_050_6_0024.bmp', '14_087_2_0039.bmp', '14_029_6_0063.bmp', '14_083_6_0041.bmp', '14_084_7_0035.bmp', '14_007_10_0070.bmp', '14_059_2_0053.bmp', '14_021_38_0031.bmp', '14_094_2_0069.bmp', '14_023_2_0080.bmp', '14_033_3_0065.bmp', '14_032_7_0030.bmp', '14_066_8_0060.bmp', '14_039_1_0027.bmp', '14_021_30_0019.bmp', '14_075_6_0021.bmp', '14_088_5_0045.bmp', '14_096_6_0061.bmp', '14_007_5_0050.bmp', '14_018_6_0058.bmp', '14_067_7_0014.bmp', '14_026_2_0040.bmp', '14_066_8_0029.bmp', '14_069_1_0094.bmp', '14_077_6_0085.bmp', '14_031_5_0028.bmp', '14_085_2_0052.bmp', '14_073_1_0060.bmp', '14_070_4_0048.bmp', '14_077_6_0092.bmp', '14_007_8_0081.bmp', '14_021_32_0015.bmp', '14_057_2_0048.bmp', '14_087_1_0090.bmp', '14_031_6_0057.bmp', '14_028_2_0075.bmp', '14_048_3_0074.bmp', '14_096_6_0041.bmp', '14_083_7_0024.bmp', '14_031_4_0017.bmp', '14_059_2_0072.bmp', '14_081_10_0044.bmp', '14_006_1_0131.bmp', '14_062_5_0041.bmp', '14_022_7_0026.bmp', '14_010_1_0040.bmp', '14_064_3_0012.bmp', '14_006_1_0136.bmp', '14_021_37_0054.bmp', '14_046_3_0055.bmp', '14_019_5_0056.bmp', '14_028_3_0080.bmp', '14_050_8_0024.bmp', '14_095_5_0043.bmp', '14_049_1_0030.bmp', '14_096_3_0044.bmp', '14_053_5_0073.bmp', '14_046_3_0061.bmp', '14_039_7_0051.bmp', '14_081_10_0036.bmp', '14_024_1_0045.bmp', '14_066_7_0037.bmp', '14_069_1_0100.bmp', '14_080_2_0054.bmp', '14_016_1_0032.bmp', '14_021_37_0017.bmp', '14_097_1_0026.bmp', '14_081_3_0012.bmp', '14_040_1_0027.bmp', '14_066_8_0061.bmp', '14_070_3_0043.bmp', '14_057_2_0040.bmp', '14_062_3_0057.bmp', '14_015_1_0064.bmp', '14_028_3_0064.bmp', '14_051_2_0056.bmp', '14_007_5_0091.bmp', '14_095_8_0054.bmp', '14_042_4_0032.bmp', '14_084_3_0032.bmp', '14_088_8_0044.bmp', '14_019_5_0050.bmp', '14_066_8_0069.bmp', '14_031_5_0039.bmp', '14_029_2_0068.bmp', '14_057_2_0041.bmp', '14_051_8_0034.bmp', '14_094_3_0036.bmp', '14_053_1_0030.bmp', '14_080_3_0023.bmp', '14_070_4_0054.bmp', '14_075_6_0028.bmp', '14_084_5_0045.bmp', '14_007_8_0049.bmp', '14_076_4_0026.bmp', '14_083_1_0056.bmp', '14_039_5_0060.bmp', '14_010_6_0048.bmp', '14_022_7_0050.bmp', '14_028_2_0058.bmp', '14_096_6_0063.bmp', '14_075_2_0034.bmp', '14_057_3_0063.bmp', '14_021_15_0065.bmp', '14_006_1_0053.bmp', '14_039_4_0048.bmp', '14_097_1_0032.bmp', '14_031_4_0024.bmp', '14_033_4_0087.bmp', '14_062_3_0052.bmp', '14_077_5_0034.bmp', '14_007_3_0044.bmp', '14_068_1_0023.bmp', '14_002_5_0043.bmp', '14_029_7_0036.bmp', '14_039_1_0060.bmp', '14_046_3_0059.bmp', '14_022_3_0046.bmp', '14_096_3_0045.bmp', '14_087_3_0041.bmp', '14_087_3_0059.bmp', '14_066_7_0050.bmp', '14_031_3_0051.bmp', '14_039_7_0059.bmp', '14_051_5_0027.bmp', '14_023_3_0058.bmp', '14_066_9_0055.bmp', '14_039_5_0065.bmp', '14_031_7_0028.bmp', '14_046_3_0054.bmp', '14_068_6_0039.bmp', '14_029_5_0059.bmp', '14_073_1_0046.bmp', '14_042_4_0064.bmp', '14_029_2_0079.bmp', '14_053_1_0058.bmp', '14_031_5_0038.bmp', '14_051_8_0019.bmp', '14_007_8_0058.bmp', '14_077_5_0067.bmp', '14_084_9_0029.bmp', '14_024_1_0047.bmp', '14_048_3_0046.bmp', '14_018_8_0019.bmp', '14_032_4_0039.bmp', '14_087_3_0039.bmp', '14_029_7_0065.bmp', '14_051_2_0050.bmp', '14_046_3_0029.bmp', '14_088_6_0051.bmp', '14_021_4_0048.bmp', '14_021_38_0038.bmp', '14_039_1_0059.bmp', '14_024_6_0064.bmp', '14_087_3_0070.bmp', '14_066_8_0051.bmp', '14_031_7_0054.bmp', '14_058_3_0063.bmp', '14_066_7_0036.bmp', '14_096_3_0071.bmp', '14_024_1_0051.bmp', '14_033_4_0046.bmp', '14_021_37_0023.bmp', '14_024_5_0049.bmp', '14_053_1_0047.bmp', '14_002_5_0038.bmp', '14_064_2_0056.bmp', '14_028_2_0098.bmp', '14_029_6_0057.bmp', '14_042_3_0025.bmp', '14_080_2_0066.bmp', '14_051_2_0046.bmp', '14_010_6_0026.bmp', '14_096_3_0055.bmp', '14_007_10_0075.bmp', '14_023_2_0117.bmp', '14_029_7_0054.bmp', '14_085_2_0040.bmp', '14_080_2_0097.bmp', '14_087_3_0030.bmp', '14_048_2_0079.bmp', '14_049_1_0025.bmp', '14_096_3_0049.bmp', '14_010_1_0044.bmp', '14_064_3_0020.bmp', '14_007_5_0118.bmp', '14_021_1_0058.bmp', '14_077_6_0056.bmp', '14_088_8_0069.bmp', '14_039_2_0048.bmp', '14_051_2_0057.bmp', '14_031_5_0053.bmp', '14_006_1_0060.bmp', '14_022_7_0022.bmp', '14_053_5_0071.bmp', '14_007_3_0049.bmp', '14_031_5_0021.bmp', '14_007_5_0086.bmp', '14_022_7_0039.bmp', '14_053_4_0086.bmp', '14_022_3_0066.bmp', '14_021_1_0061.bmp', '14_031_3_0070.bmp', '14_095_1_0035.bmp', '14_088_5_0044.bmp', '14_095_1_0080.bmp', '14_022_6_0065.bmp', '14_094_2_0057.bmp', '14_034_6_0029.bmp', '14_006_1_0107.bmp', '14_087_1_0069.bmp', '14_033_3_0058.bmp', '14_057_3_0061.bmp', '14_053_2_0035.bmp', '14_096_2_0022.bmp', '14_062_2_0044.bmp', '14_007_6_0075.bmp', '14_033_4_0028.bmp', '14_095_2_0041.bmp', '14_006_1_0080.bmp', '14_097_2_0027.bmp', '14_019_5_0043.bmp', '14_048_5_0029.bmp', '14_012_3_0024.bmp', '14_055_8_0009.bmp', '14_070_3_0039.bmp', '14_042_1_0056.bmp', '14_096_2_0057.bmp', '14_066_7_0067.bmp', '14_053_1_0040.bmp', '14_050_6_0038.bmp', '14_095_7_0039.bmp', '14_066_2_0042.bmp', '14_026_2_0033.bmp', '14_046_3_0027.bmp', '14_024_2_0057.bmp', '14_077_5_0069.bmp', '14_016_1_0038.bmp', '14_085_4_0041.bmp', '14_044_3_0040.bmp', '14_083_7_0019.bmp', '14_024_3_0050.bmp', '14_046_6_0061.bmp', '14_051_10_0025.bmp', '14_073_1_0057.bmp', '14_095_1_0065.bmp', '14_029_6_0081.bmp', '14_098_4_0025.bmp', '14_007_5_0094.bmp', '14_019_5_0096.bmp', '14_059_1_0052.bmp', '14_044_5_0037.bmp', '14_053_2_0040.bmp', '14_064_3_0013.bmp', '14_024_5_0068.bmp', '14_007_6_0064.bmp', '14_084_5_0052.bmp', '14_050_10_0048.bmp', '14_095_2_0036.bmp', '14_021_34_0032.bmp', '14_006_1_0138.bmp', '14_039_2_0056.bmp', '14_066_8_0041.bmp', '14_044_1_0044.bmp', '14_050_4_0025.bmp', '14_084_5_0050.bmp', '14_087_2_0075.bmp', '14_080_2_0090.bmp', '14_022_6_0060.bmp', '14_042_4_0038.bmp', '14_062_5_0045.bmp', '14_080_2_0074.bmp', '14_042_2_0042.bmp', '14_046_3_0042.bmp', '14_096_5_0076.bmp', '14_026_2_0092.bmp', '14_007_6_0059.bmp', '14_039_1_0032.bmp', '14_084_9_0047.bmp', '14_022_6_0038.bmp', '14_095_4_0033.bmp', '14_062_2_0035.bmp', '14_028_1_0056.bmp', '14_081_10_0030.bmp', '14_051_10_0015.bmp', '14_022_7_0052.bmp', '14_021_32_0025.bmp', '14_007_10_0051.bmp', '14_064_2_0078.bmp', '14_053_1_0036.bmp', '14_021_5_0050.bmp', '14_096_2_0030.bmp', '14_042_4_0070.bmp', '14_057_3_0067.bmp', '14_053_5_0059.bmp', '14_021_34_0026.bmp', '14_024_2_0051.bmp', '14_022_2_0054.bmp', '14_099_5_0015.bmp', '14_066_3_0064.bmp', '14_042_3_0043.bmp', '14_007_8_0078.bmp', '14_084_3_0047.bmp', '14_048_2_0092.bmp', '14_053_5_0033.bmp', '14_058_4_0030.bmp', '14_022_3_0058.bmp', '14_031_8_0057.bmp', '14_042_4_0043.bmp', '14_095_7_0024.bmp', '14_032_6_0044.bmp', '14_031_7_0047.bmp', '14_053_1_0043.bmp', '14_021_30_0021.bmp', '14_007_3_0035.bmp', '14_042_1_0045.bmp', '14_021_6_0026.bmp', '14_018_8_0031.bmp', '14_051_8_0024.bmp', '14_012_4_0015.bmp', '14_050_10_0050.bmp', '14_046_5_0090.bmp', '14_023_2_0083.bmp', '14_066_2_0070.bmp', '14_084_5_0021.bmp', '14_029_5_0094.bmp', '14_040_3_0014.bmp', '14_050_8_0042.bmp', '14_059_2_0042.bmp', '14_073_1_0050.bmp', '14_066_10_0080.bmp', '14_007_6_0093.bmp', '14_080_2_0049.bmp', '14_015_1_0002.bmp', '14_062_5_0052.bmp', '14_064_2_0059.bmp', '14_095_5_0039.bmp', '14_075_2_0025.bmp', '14_040_7_0009.bmp', '14_007_8_0046.bmp', '14_002_5_0016.bmp', '14_098_4_0035.bmp', '14_033_3_0089.bmp', '14_085_4_0054.bmp', '14_021_6_0035.bmp', '14_021_4_0050.bmp', '14_029_6_0097.bmp', '14_068_1_0022.bmp', '14_007_10_0055.bmp', '14_073_1_0048.bmp', '14_092_1_0075.bmp', '14_032_7_0037.bmp', '14_021_35_0030.bmp', '14_015_1_0065.bmp', '14_053_5_0072.bmp', '14_029_5_0072.bmp', '14_068_6_0050.bmp', '14_075_8_0027.bmp', '14_092_1_0058.bmp', '14_026_2_0127.bmp', '14_007_6_0092.bmp', '14_040_3_0028.bmp', '14_029_6_0042.bmp', '14_033_4_0089.bmp', '14_039_2_0039.bmp', '14_010_1_0045.bmp', '14_012_4_0016.bmp', '14_051_2_0034.bmp', '14_088_8_0042.bmp', '14_039_7_0071.bmp', '14_048_3_0047.bmp', '14_081_7_0050.bmp', '14_087_1_0078.bmp', '14_018_6_0039.bmp', '14_096_5_0042.bmp', '14_021_35_0012.bmp', '14_018_8_0024.bmp', '14_034_6_0022.bmp', '14_059_1_0076.bmp', '14_015_1_0036.bmp', '14_042_2_0066.bmp', '14_007_5_0058.bmp', '14_048_2_0047.bmp', '14_042_4_0060.bmp', '14_095_8_0046.bmp', '14_075_2_0026.bmp', '14_007_5_0100.bmp', '14_033_3_0069.bmp', '14_031_5_0031.bmp', '14_062_3_0074.bmp', '14_095_1_0038.bmp', '14_084_1_0047.bmp', '14_088_2_0028.bmp', '14_021_4_0037.bmp', '14_062_3_0055.bmp', '14_084_9_0026.bmp', '14_095_4_0036.bmp', '14_062_5_0063.bmp', '14_087_1_0079.bmp', '14_084_9_0038.bmp', '14_051_2_0045.bmp', '14_068_3_0012.bmp', '14_042_4_0065.bmp', '14_039_5_0090.bmp', '14_088_1_0029.bmp', '14_024_3_0013.bmp', '14_026_2_0026.bmp', '14_007_6_0080.bmp', '14_088_1_0038.bmp', '14_032_6_0035.bmp', '14_042_2_0057.bmp', '14_075_2_0033.bmp', '14_029_2_0075.bmp', '14_083_6_0025.bmp', '14_088_5_0047.bmp', '14_095_2_0035.bmp', '14_024_1_0027.bmp', '14_048_2_0097.bmp', '14_084_7_0062.bmp', '14_080_2_0063.bmp', '14_059_1_0050.bmp', '14_081_10_0038.bmp', '14_064_2_0060.bmp', '14_032_6_0056.bmp', '14_081_10_0041.bmp', '14_081_3_0018.bmp', '14_087_3_0036.bmp', '14_096_6_0027.bmp', '14_050_6_0028.bmp', '14_032_4_0031.bmp', '14_048_4_0022.bmp', '14_015_1_0001.bmp', '14_062_3_0071.bmp', '14_021_4_0045.bmp', '14_023_2_0069.bmp', '14_087_1_0086.bmp', '14_092_1_0067.bmp', '14_048_2_0067.bmp', '14_022_1_0047.bmp', '14_029_6_0100.bmp', '14_080_2_0078.bmp', '14_023_4_0081.bmp', '14_080_2_0073.bmp', '14_084_7_0055.bmp', '14_084_3_0048.bmp', '14_024_1_0028.bmp', '14_006_1_0103.bmp', '14_059_2_0071.bmp', '14_085_5_0065.bmp', '14_085_5_0033.bmp', '14_010_1_0023.bmp', '14_066_9_0050.bmp', '14_088_5_0040.bmp', '14_034_7_0038.bmp', '14_053_5_0061.bmp', '14_006_1_0057.bmp', '14_053_2_0081.bmp', '14_096_2_0042.bmp', '14_022_7_0054.bmp', '14_087_1_0055.bmp', '14_048_4_0020.bmp', '14_099_5_0012.bmp', '14_028_1_0037.bmp', '14_073_1_0068.bmp', '14_018_6_0037.bmp', '14_046_3_0024.bmp', '14_069_1_0074.bmp', '14_095_1_0062.bmp', '14_042_1_0039.bmp', '14_044_3_0045.bmp', '14_077_5_0053.bmp', '14_050_9_0033.bmp', '14_066_8_0026.bmp', '14_048_3_0035.bmp', '14_014_1_0014.bmp', '14_029_6_0093.bmp', '14_057_3_0100.bmp', '14_048_4_0065.bmp', '14_007_5_0052.bmp', '14_066_8_0054.bmp', '14_092_1_0061.bmp', '14_084_3_0040.bmp', '14_021_15_0032.bmp', '14_081_6_0027.bmp', '14_046_6_0053.bmp', '14_080_2_0051.bmp', '14_044_5_0049.bmp', '14_033_4_0037.bmp', '14_021_6_0019.bmp', '14_083_7_0016.bmp', '14_021_31_0026.bmp', '14_010_1_0036.bmp', '14_022_6_0043.bmp', '14_039_4_0061.bmp', '14_081_10_0046.bmp', '14_040_1_0013.bmp', '14_084_9_0043.bmp', '14_028_2_0060.bmp', '14_087_2_0082.bmp', '14_039_5_0056.bmp', '14_075_1_0019.bmp', '14_088_5_0049.bmp', '14_032_6_0038.bmp', '14_032_7_0059.bmp', '14_022_2_0038.bmp', '14_081_7_0025.bmp', '14_015_1_0020.bmp', '14_062_5_0046.bmp', '14_075_6_0027.bmp', '14_077_5_0059.bmp', '14_064_2_0050.bmp', '14_031_7_0056.bmp', '14_021_1_0047.bmp', '14_084_9_0039.bmp', '14_050_8_0036.bmp', '14_066_8_0067.bmp', '14_042_1_0025.bmp', '14_095_2_0053.bmp', '14_033_3_0068.bmp', '14_077_5_0071.bmp', '14_046_3_0053.bmp', '14_034_7_0039.bmp', '14_053_4_0044.bmp', '14_057_2_0039.bmp', '14_007_8_0056.bmp', '14_021_1_0074.bmp', '14_057_3_0073.bmp', '14_050_9_0027.bmp', '14_068_6_0046.bmp', '14_049_4_0039.bmp', '14_087_2_0048.bmp', '14_085_4_0053.bmp', '14_053_4_0038.bmp', '14_034_6_0042.bmp', '14_084_9_0031.bmp', '14_031_7_0027.bmp', '14_031_3_0062.bmp', '14_048_5_0039.bmp', '14_050_4_0024.bmp', '14_085_1_0078.bmp', '14_077_6_0065.bmp', '14_083_6_0046.bmp', '14_021_38_0035.bmp', '14_095_8_0052.bmp', '14_042_4_0041.bmp', '14_046_6_0060.bmp', '14_053_4_0049.bmp', '14_066_2_0068.bmp', '14_029_4_0078.bmp', '14_046_5_0063.bmp', '14_031_6_0056.bmp', '14_068_3_0033.bmp', '14_088_1_0032.bmp', '14_026_2_0017.bmp', '14_049_3_0037.bmp', '14_048_3_0087.bmp', '14_085_4_0044.bmp', '14_029_1_0068.bmp', '14_032_7_0038.bmp', '14_042_2_0039.bmp', '14_024_1_0023.bmp', '14_019_5_0028.bmp', '14_024_3_0008.bmp', '14_026_3_0052.bmp', '14_067_4_0012.bmp', '14_048_2_0049.bmp', '14_028_1_0075.bmp', '14_032_4_0041.bmp', '14_024_3_0055.bmp', '14_031_8_0069.bmp', '14_066_10_0040.bmp', '14_084_3_0046.bmp', '14_085_5_0069.bmp', '14_051_10_0026.bmp', '14_080_2_0104.bmp', '14_031_3_0042.bmp', '14_050_4_0030.bmp', '14_033_3_0048.bmp', '14_077_5_0051.bmp', '14_018_6_0057.bmp', '14_040_1_0024.bmp', '14_059_2_0043.bmp', '14_016_1_0023.bmp', '14_032_7_0032.bmp', '14_062_2_0061.bmp', '14_007_10_0080.bmp', '14_032_6_0043.bmp', '14_021_16_0048.bmp', '14_070_4_0039.bmp', '14_096_5_0068.bmp', '14_039_4_0026.bmp', '14_039_5_0027.bmp', '14_040_5_0023.bmp', '14_007_8_0115.bmp', '14_021_29_0029.bmp', '14_040_1_0035.bmp', '14_028_1_0069.bmp', '14_050_8_0037.bmp', '14_059_1_0062.bmp', '14_016_1_0047.bmp', '14_022_3_0069.bmp', '14_053_5_0044.bmp', '14_053_1_0033.bmp', '14_075_4_0053.bmp', '14_096_4_0074.bmp', '14_021_1_0071.bmp', '14_007_5_0038.bmp', '14_053_1_0073.bmp', '14_042_3_0030.bmp', '14_022_1_0079.bmp', '14_006_1_0098.bmp', '14_012_4_0017.bmp', '14_040_7_0006.bmp', '14_034_7_0041.bmp', '14_007_8_0106.bmp', '14_026_2_0080.bmp', '14_021_29_0024.bmp', '14_029_1_0062.bmp', '14_039_5_0062.bmp']\n"
     ]
    }
   ],
   "source": [
    "def common(lst1, lst2): \n",
    "    return list(set(lst1) & set(lst2))\n",
    "val_common_names = []\n",
    "val_common_names=common(train_labels_csv['filename'], img_list)\n",
    "print(val_common_names)"
   ]
  },
  {
   "cell_type": "code",
   "execution_count": 9,
   "metadata": {},
   "outputs": [],
   "source": [
    "# Print the val_common_names list to a csv file\n",
    "with open('val_common_names.csv', 'w') as f:\n",
    "    for item in val_common_names:\n",
    "        f.write(\"%s\\n\" % item)\n",
    "        "
   ]
  },
  {
   "cell_type": "code",
   "execution_count": 10,
   "metadata": {},
   "outputs": [
    {
     "data": {
      "text/plain": [
       "750"
      ]
     },
     "execution_count": 10,
     "metadata": {},
     "output_type": "execute_result"
    }
   ],
   "source": [
    "len(val_common_names)"
   ]
  },
  {
   "cell_type": "markdown",
   "metadata": {},
   "source": [
    "## Load Test Data"
   ]
  },
  {
   "cell_type": "code",
   "execution_count": 22,
   "metadata": {},
   "outputs": [],
   "source": [
    "test_data = []\n",
    "for img in os.listdir(test_path):\n",
    "    pic = cv2.imread(os.path.join(test_path,img))\n",
    "    test_data.append(pic)"
   ]
  },
  {
   "cell_type": "code",
   "execution_count": 25,
   "metadata": {},
   "outputs": [
    {
     "data": {
      "text/plain": [
       "833"
      ]
     },
     "execution_count": 25,
     "metadata": {},
     "output_type": "execute_result"
    }
   ],
   "source": [
    "len(test_data)"
   ]
  },
  {
   "cell_type": "markdown",
   "metadata": {},
   "source": [
    "## Load Validation Data"
   ]
  },
  {
   "cell_type": "code",
   "execution_count": 23,
   "metadata": {},
   "outputs": [],
   "source": [
    "val_data = []\n",
    "for img in os.listdir(val_path):\n",
    "    pic = cv2.imread(os.path.join(val_path,img))\n",
    "    val_data.append(pic)"
   ]
  },
  {
   "cell_type": "code",
   "execution_count": 24,
   "metadata": {},
   "outputs": [
    {
     "data": {
      "text/plain": [
       "750"
      ]
     },
     "execution_count": 24,
     "metadata": {},
     "output_type": "execute_result"
    }
   ],
   "source": [
    "len(val_data)"
   ]
  },
  {
   "cell_type": "code",
   "execution_count": 24,
   "metadata": {},
   "outputs": [],
   "source": [
    "# # Load the val data as numpy array\n",
    "# val_data = []\n",
    "# for i in range(len(filenames)):\n",
    "#     imagePath2 = os.path.sep.join([r'C:\\Users\\conm\\Desktop\\Stenosis-Project\\output\\val\\stenosis', f'{filenames[i]}'])\n",
    "#     image2 = cv2.imread(imagePath2)\n",
    "#     val_data.append(image2)"
   ]
  },
  {
   "cell_type": "code",
   "execution_count": 75,
   "metadata": {},
   "outputs": [
    {
     "data": {
      "text/plain": [
       "(8327, 4)"
      ]
     },
     "execution_count": 75,
     "metadata": {},
     "output_type": "execute_result"
    }
   ],
   "source": [
    "# # Create numpty arrays for labels and for the dimensions of the labels\n",
    "# label_dimensions_scaled = np.array(label_dimensions_scaled)\n",
    "# test_labels = np.array(labels)\n",
    "# val_labels = np.array(labels)\n",
    "# label_dimensions_scaled.shape"
   ]
  },
  {
   "cell_type": "code",
   "execution_count": 67,
   "metadata": {},
   "outputs": [],
   "source": [
    "train_data_scaled = []\n",
    "for i in range(training_data):\n",
    "    train_data_scaled.append(cv2.resize(i, (224, 224)))"
   ]
  },
  {
   "cell_type": "code",
   "execution_count": 92,
   "metadata": {},
   "outputs": [
    {
     "ename": "ValueError",
     "evalue": "setting an array element with a sequence. The requested array has an inhomogeneous shape after 1 dimensions. The detected shape was (8327,) + inhomogeneous part.",
     "output_type": "error",
     "traceback": [
      "\u001b[1;31m---------------------------------------------------------------------------\u001b[0m",
      "\u001b[1;31mValueError\u001b[0m                                Traceback (most recent call last)",
      "\u001b[1;32mc:\\Users\\conm\\Desktop\\Stenosis-Project\\models.ipynb Cell 16\u001b[0m in \u001b[0;36m<cell line: 1>\u001b[1;34m()\u001b[0m\n\u001b[1;32m----> <a href='vscode-notebook-cell:/c%3A/Users/conm/Desktop/Stenosis-Project/models.ipynb#ch0000020?line=0'>1</a>\u001b[0m train_X \u001b[39m=\u001b[39m preprocess_image_input(train_data)\n\u001b[0;32m      <a href='vscode-notebook-cell:/c%3A/Users/conm/Desktop/Stenosis-Project/models.ipynb#ch0000020?line=1'>2</a>\u001b[0m valid_X \u001b[39m=\u001b[39m preprocess_image_input(val_data)\n",
      "\u001b[1;32mc:\\Users\\conm\\Desktop\\Stenosis-Project\\models.ipynb Cell 16\u001b[0m in \u001b[0;36mpreprocess_image_input\u001b[1;34m(input_images)\u001b[0m\n\u001b[0;32m      <a href='vscode-notebook-cell:/c%3A/Users/conm/Desktop/Stenosis-Project/models.ipynb#ch0000020?line=0'>1</a>\u001b[0m \u001b[39mdef\u001b[39;00m \u001b[39mpreprocess_image_input\u001b[39m(input_images):\n\u001b[1;32m----> <a href='vscode-notebook-cell:/c%3A/Users/conm/Desktop/Stenosis-Project/models.ipynb#ch0000020?line=1'>2</a>\u001b[0m   input_images \u001b[39m=\u001b[39m np\u001b[39m.\u001b[39;49marray(input_images, dtype\u001b[39m=\u001b[39;49mnp\u001b[39m.\u001b[39;49mfloat32)\n\u001b[0;32m      <a href='vscode-notebook-cell:/c%3A/Users/conm/Desktop/Stenosis-Project/models.ipynb#ch0000020?line=2'>3</a>\u001b[0m   output_ims \u001b[39m=\u001b[39m tf\u001b[39m.\u001b[39mkeras\u001b[39m.\u001b[39mapplications\u001b[39m.\u001b[39mresnet50\u001b[39m.\u001b[39mpreprocess_input(input_images)\n\u001b[0;32m      <a href='vscode-notebook-cell:/c%3A/Users/conm/Desktop/Stenosis-Project/models.ipynb#ch0000020?line=3'>4</a>\u001b[0m   \u001b[39mreturn\u001b[39;00m output_ims\n",
      "\u001b[1;31mValueError\u001b[0m: setting an array element with a sequence. The requested array has an inhomogeneous shape after 1 dimensions. The detected shape was (8327,) + inhomogeneous part."
     ]
    }
   ],
   "source": [
    "train_X = preprocess_image_input(train_data)\n",
    "valid_X = preprocess_image_input(val_data)"
   ]
  },
  {
   "cell_type": "markdown",
   "metadata": {},
   "source": [
    "## Visualize Data"
   ]
  },
  {
   "cell_type": "code",
   "execution_count": 31,
   "metadata": {},
   "outputs": [
    {
     "data": {
      "image/png": "[encoded data removed]",
      "text/plain": [
       "<Figure size 432x288 with 5 Axes>"
      ]
     },
     "metadata": {
      "needs_background": "light"
     },
     "output_type": "display_data"
    }
   ],
   "source": [
    "# Visualize five images in the train data\n",
    "for i in range(5):\n",
    "    plt.subplot(1, 5, i+1)\n",
    "    plt.imshow(train_data[i])\n",
    "    plt.axis('off')\n",
    "    # plt.title(filenames[i])\n",
    "plt.show()\n",
    "# plt.imshow(train_data[0:5])"
   ]
  },
  {
   "cell_type": "markdown",
   "metadata": {},
   "source": [
    "## Split Dataset"
   ]
  },
  {
   "cell_type": "markdown",
   "metadata": {},
   "source": [
    "Image Augmentation"
   ]
  },
  {
   "cell_type": "code",
   "execution_count": 34,
   "metadata": {},
   "outputs": [
    {
     "ename": "ValueError",
     "evalue": "input array should be at least 2D",
     "output_type": "error",
     "traceback": [
      "\u001b[1;31m---------------------------------------------------------------------------\u001b[0m",
      "\u001b[1;31mValueError\u001b[0m                                Traceback (most recent call last)",
      "\u001b[1;32mc:\\Users\\conm\\Desktop\\Stenosis-Project\\models.ipynb Cell 15\u001b[0m in \u001b[0;36m<cell line: 2>\u001b[1;34m()\u001b[0m\n\u001b[0;32m      <a href='vscode-notebook-cell:/c%3A/Users/conm/Desktop/Stenosis-Project/models.ipynb#ch0000014?line=0'>1</a>\u001b[0m \u001b[39m# Rotation of images to 180 degrees through the use of a list comprehension.\u001b[39;00m\n\u001b[1;32m----> <a href='vscode-notebook-cell:/c%3A/Users/conm/Desktop/Stenosis-Project/models.ipynb#ch0000014?line=1'>2</a>\u001b[0m rotated_train_img \u001b[39m=\u001b[39m np\u001b[39m.\u001b[39marray([ndimage\u001b[39m.\u001b[39mrotate(\n\u001b[0;32m      <a href='vscode-notebook-cell:/c%3A/Users/conm/Desktop/Stenosis-Project/models.ipynb#ch0000014?line=2'>3</a>\u001b[0m     train_rotate_imgs, angle\u001b[39m=\u001b[39m\u001b[39m180\u001b[39m) \u001b[39mfor\u001b[39;00m train_rotate_imgs \u001b[39min\u001b[39;00m output_train_data_path])\n\u001b[0;32m      <a href='vscode-notebook-cell:/c%3A/Users/conm/Desktop/Stenosis-Project/models.ipynb#ch0000014?line=3'>4</a>\u001b[0m rotated_test_img \u001b[39m=\u001b[39m np\u001b[39m.\u001b[39marray([ndimage\u001b[39m.\u001b[39mrotate(\n\u001b[0;32m      <a href='vscode-notebook-cell:/c%3A/Users/conm/Desktop/Stenosis-Project/models.ipynb#ch0000014?line=4'>5</a>\u001b[0m     test_rotate_imgs, angle\u001b[39m=\u001b[39m\u001b[39m180\u001b[39m) \u001b[39mfor\u001b[39;00m test_rotate_imgs \u001b[39min\u001b[39;00m normalized_test_img])\n\u001b[0;32m      <a href='vscode-notebook-cell:/c%3A/Users/conm/Desktop/Stenosis-Project/models.ipynb#ch0000014?line=5'>6</a>\u001b[0m plt\u001b[39m.\u001b[39mimshow(rotated_train_img[\u001b[39m0\u001b[39m])\n",
      "\u001b[1;32mc:\\Users\\conm\\Desktop\\Stenosis-Project\\models.ipynb Cell 15\u001b[0m in \u001b[0;36m<listcomp>\u001b[1;34m(.0)\u001b[0m\n\u001b[0;32m      <a href='vscode-notebook-cell:/c%3A/Users/conm/Desktop/Stenosis-Project/models.ipynb#ch0000014?line=0'>1</a>\u001b[0m \u001b[39m# Rotation of images to 180 degrees through the use of a list comprehension.\u001b[39;00m\n\u001b[1;32m----> <a href='vscode-notebook-cell:/c%3A/Users/conm/Desktop/Stenosis-Project/models.ipynb#ch0000014?line=1'>2</a>\u001b[0m rotated_train_img \u001b[39m=\u001b[39m np\u001b[39m.\u001b[39marray([ndimage\u001b[39m.\u001b[39;49mrotate(\n\u001b[0;32m      <a href='vscode-notebook-cell:/c%3A/Users/conm/Desktop/Stenosis-Project/models.ipynb#ch0000014?line=2'>3</a>\u001b[0m     train_rotate_imgs, angle\u001b[39m=\u001b[39;49m\u001b[39m180\u001b[39;49m) \u001b[39mfor\u001b[39;00m train_rotate_imgs \u001b[39min\u001b[39;00m output_train_data_path])\n\u001b[0;32m      <a href='vscode-notebook-cell:/c%3A/Users/conm/Desktop/Stenosis-Project/models.ipynb#ch0000014?line=3'>4</a>\u001b[0m rotated_test_img \u001b[39m=\u001b[39m np\u001b[39m.\u001b[39marray([ndimage\u001b[39m.\u001b[39mrotate(\n\u001b[0;32m      <a href='vscode-notebook-cell:/c%3A/Users/conm/Desktop/Stenosis-Project/models.ipynb#ch0000014?line=4'>5</a>\u001b[0m     test_rotate_imgs, angle\u001b[39m=\u001b[39m\u001b[39m180\u001b[39m) \u001b[39mfor\u001b[39;00m test_rotate_imgs \u001b[39min\u001b[39;00m normalized_test_img])\n\u001b[0;32m      <a href='vscode-notebook-cell:/c%3A/Users/conm/Desktop/Stenosis-Project/models.ipynb#ch0000014?line=5'>6</a>\u001b[0m plt\u001b[39m.\u001b[39mimshow(rotated_train_img[\u001b[39m0\u001b[39m])\n",
      "File \u001b[1;32mc:\\Users\\conm\\AppData\\Local\\Programs\\Python\\Python310\\lib\\site-packages\\scipy\\ndimage\\_interpolation.py:891\u001b[0m, in \u001b[0;36mrotate\u001b[1;34m(input, angle, axes, reshape, output, order, mode, cval, prefilter)\u001b[0m\n\u001b[0;32m    888\u001b[0m ndim \u001b[39m=\u001b[39m input_arr\u001b[39m.\u001b[39mndim\n\u001b[0;32m    890\u001b[0m \u001b[39mif\u001b[39;00m ndim \u001b[39m<\u001b[39m \u001b[39m2\u001b[39m:\n\u001b[1;32m--> 891\u001b[0m     \u001b[39mraise\u001b[39;00m \u001b[39mValueError\u001b[39;00m(\u001b[39m'\u001b[39m\u001b[39minput array should be at least 2D\u001b[39m\u001b[39m'\u001b[39m)\n\u001b[0;32m    893\u001b[0m axes \u001b[39m=\u001b[39m \u001b[39mlist\u001b[39m(axes)\n\u001b[0;32m    895\u001b[0m \u001b[39mif\u001b[39;00m \u001b[39mlen\u001b[39m(axes) \u001b[39m!=\u001b[39m \u001b[39m2\u001b[39m:\n",
      "\u001b[1;31mValueError\u001b[0m: input array should be at least 2D"
     ]
    }
   ],
   "source": [
    "# Rotation of images to 180 degrees through the use of a list comprehension.\n",
    "rotated_train_img = np.array([ndimage.rotate(\n",
    "    train_rotate_imgs, angle=180) for train_rotate_imgs in output_train_data_path])\n",
    "rotated_test_img = np.array([ndimage.rotate(\n",
    "    test_rotate_imgs, angle=180) for test_rotate_imgs in normalized_test_img])\n",
    "plt.imshow(rotated_train_img[0])"
   ]
  },
  {
   "cell_type": "markdown",
   "metadata": {},
   "source": [
    "## Training Model"
   ]
  },
  {
   "cell_type": "code",
   "execution_count": null,
   "metadata": {},
   "outputs": [
    {
     "name": "stdout",
     "output_type": "stream",
     "text": [
      "Downloading data from https://storage.googleapis.com/tensorflow/keras-applications/vgg16/vgg16_weights_tf_dim_ordering_tf_kernels_notop.h5\n"
     ]
    },
    {
     "name": "stderr",
     "output_type": "stream",
     "text": [
      "2022-07-11 20:40:09.129267: W tensorflow/stream_executor/platform/default/dso_loader.cc:64] Could not load dynamic library 'libcuda.so.1'; dlerror: libcuda.so.1: cannot open shared object file: No such file or directory; LD_LIBRARY_PATH: /home/nevillemthw/.local/lib/python3.8/site-packages/cv2/../../lib64:\n",
      "2022-07-11 20:40:09.129809: W tensorflow/stream_executor/cuda/cuda_driver.cc:269] failed call to cuInit: UNKNOWN ERROR (303)\n",
      "2022-07-11 20:40:09.130780: I tensorflow/stream_executor/cuda/cuda_diagnostics.cc:156] kernel driver does not appear to be running on this host (Neville-PC): /proc/driver/nvidia/version does not exist\n",
      "2022-07-11 20:40:09.133193: I tensorflow/core/platform/cpu_feature_guard.cc:193] This TensorFlow binary is optimized with oneAPI Deep Neural Network Library (oneDNN) to use the following CPU instructions in performance-critical operations:  AVX2 FMA\n",
      "To enable them in other operations, rebuild TensorFlow with the appropriate compiler flags.\n"
     ]
    },
    {
     "name": "stdout",
     "output_type": "stream",
     "text": [
      "58889256/58889256 [==============================] - 3s 0us/step\n"
     ]
    }
   ],
   "source": [
    "# load the VGG16 network, ensuring the head FC layers are left off\n",
    "vgg = VGG16(weights=\"imagenet\", include_top=False,\n",
    "\tinput_tensor=Input(shape=(224, 224, 3)))\n",
    "# freeze all VGG layers so they will *not* be updated during the\n",
    "# training process\n",
    "vgg.trainable = False\n",
    "# flatten the max-pooling output of VGG\n",
    "flatten = vgg.output\n",
    "flatten = Flatten()(flatten)\n",
    "# construct a fully-connected layer header to output the predicted\n",
    "# bounding box coordinates\n",
    "bboxHead = Dense(128, activation=\"relu\")(flatten)\n",
    "bboxHead = Dense(64, activation=\"relu\")(bboxHead)\n",
    "bboxHead = Dense(32, activation=\"relu\")(bboxHead)\n",
    "bboxHead = Dense(4, activation=\"sigmoid\")(bboxHead)\n",
    "# construct the model we will fine-tune for bounding box regression\n",
    "model = Model(inputs=vgg.input, outputs=bboxHead)"
   ]
  },
  {
   "cell_type": "code",
   "execution_count": null,
   "metadata": {},
   "outputs": [],
   "source": [
    "# initialize the optimizer, compile the model, and show the model\n",
    "# summary\n",
    "opt = Adam(lr='le-4')\n",
    "model.compile(loss=\"mse\", optimizer=opt)\n",
    "print(model.summary())\n",
    "# train the network for bounding box regression\n",
    "print(\"[INFO] training bounding box regressor...\")\n",
    "H = model.fit(\n",
    "\ttrainImages, trainTargets,\n",
    "\tvalidation_data=(testImages, testTargets),\n",
    "\tbatch_size=32,\n",
    "\tepochs=25,\n",
    "\tverbose=1)"
   ]
  }
 ],
 "metadata": {
  "kernelspec": {
   "display_name": "Python 3",
   "language": "python",
   "name": "python3"
  },
  "language_info": {
   "codemirror_mode": {
    "name": "ipython",
    "version": 3
   },
   "file_extension": ".py",
   "mimetype": "text/x-python",
   "name": "python",
   "nbconvert_exporter": "python",
   "pygments_lexer": "ipython3",
   "version": "3.6.9"
  },
  "vscode": {
   "interpreter": {
    "hash": "31f2aee4e71d21fbe5cf8b01ff0e069b9275f58929596ceb00d14d90e3e16cd6"
   }
  }
 },
 "nbformat": 4,
 "nbformat_minor": 4
}
