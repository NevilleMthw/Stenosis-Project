{
 "cells": [
  {
   "cell_type": "code",
   "execution_count": 1,
   "metadata": {},
   "outputs": [
    {
     "name": "stderr",
     "output_type": "stream",
     "text": [
      "2022-08-25 23:27:44.852230: I tensorflow/stream_executor/platform/default/dso_loader.cc:49] Successfully opened dynamic library libcudart.so.10.1\n"
     ]
    }
   ],
   "source": [
    "import os\n",
    "import numpy as np\n",
    "import pandas as pd\n",
    "import cv2\n",
    "import splitfolders\n",
    "import tensorflow as tf\n",
    "import matplotlib.pyplot as plt\n",
    "import matplotlib.patches as patches\n",
    "import shutil\n",
    "import tensorflow_ranking as tfr\n",
    "from tensorflow.python.client import device_lib\n",
    "from tensorflow import keras\n",
    "from tensorflow.keras import regularizers\n",
    "from tensorflow.python.keras import backend as K\n",
    "from tensorflow.keras import layers\n",
    "from tensorflow.keras.layers import Dense, Dropout, Conv2D, Add, GlobalAveragePooling2D, ZeroPadding2D\n",
    "from tensorflow.keras.layers import Activation, Input, MaxPool2D, concatenate\n",
    "from tensorflow.keras.layers import Reshape, Lambda, Flatten, BatchNormalization, LeakyReLU\n",
    "from tensorflow.keras.layers.experimental.preprocessing import RandomFlip\n",
    "from tensorflow.keras.models import Sequential, Model\n",
    "from tensorflow.keras import models\n",
    "from tensorflow.keras.optimizers import Adam as Adam\n",
    "from tensorflow.keras.metrics import MeanIoU\n",
    "from tensorflow_ranking.python.keras.metrics import MeanAveragePrecisionMetric\n",
    "from tensorflow.keras.preprocessing.image import ImageDataGenerator\n",
    "from tensorflow.keras.optimizers import Adam\n",
    "from tensorflow.keras.callbacks import EarlyStopping\n",
    "from tensorflow.keras import initializers\n",
    "from tensorflow.keras.models import load_model"
   ]
  },
  {
   "cell_type": "code",
   "execution_count": 2,
   "metadata": {},
   "outputs": [
    {
     "name": "stderr",
     "output_type": "stream",
     "text": [
      "2022-08-25 23:27:53.491416: I tensorflow/core/platform/cpu_feature_guard.cc:142] This TensorFlow binary is optimized with oneAPI Deep Neural Network Library (oneDNN) to use the following CPU instructions in performance-critical operations:  SSE4.1 SSE4.2 AVX AVX2 FMA\n",
      "To enable them in other operations, rebuild TensorFlow with the appropriate compiler flags.\n",
      "2022-08-25 23:27:53.492370: I tensorflow/compiler/jit/xla_gpu_device.cc:99] Not creating XLA devices, tf_xla_enable_xla_devices not set\n",
      "2022-08-25 23:27:53.494713: I tensorflow/stream_executor/platform/default/dso_loader.cc:49] Successfully opened dynamic library libcuda.so.1\n",
      "2022-08-25 23:27:53.610737: I tensorflow/stream_executor/cuda/cuda_gpu_executor.cc:941] successful NUMA node read from SysFS had negative value (-1), but there must be at least one NUMA node, so returning NUMA node zero\n",
      "2022-08-25 23:27:53.611278: I tensorflow/core/common_runtime/gpu/gpu_device.cc:1720] Found device 0 with properties: \n",
      "pciBusID: 0000:01:00.0 name: NVIDIA GeForce RTX 2080 Ti computeCapability: 7.5\n",
      "coreClock: 1.545GHz coreCount: 68 deviceMemorySize: 10.76GiB deviceMemoryBandwidth: 573.69GiB/s\n",
      "2022-08-25 23:27:53.611310: I tensorflow/stream_executor/platform/default/dso_loader.cc:49] Successfully opened dynamic library libcudart.so.10.1\n",
      "2022-08-25 23:27:53.653778: I tensorflow/stream_executor/platform/default/dso_loader.cc:49] Successfully opened dynamic library libcublas.so.10\n",
      "2022-08-25 23:27:53.653842: I tensorflow/stream_executor/platform/default/dso_loader.cc:49] Successfully opened dynamic library libcublasLt.so.10\n",
      "2022-08-25 23:27:53.658283: I tensorflow/stream_executor/platform/default/dso_loader.cc:49] Successfully opened dynamic library libcufft.so.10\n",
      "2022-08-25 23:27:53.663801: I tensorflow/stream_executor/platform/default/dso_loader.cc:49] Successfully opened dynamic library libcurand.so.10\n",
      "2022-08-25 23:27:53.695075: I tensorflow/stream_executor/platform/default/dso_loader.cc:49] Successfully opened dynamic library libcusolver.so.10\n",
      "2022-08-25 23:27:53.709467: I tensorflow/stream_executor/platform/default/dso_loader.cc:49] Successfully opened dynamic library libcusparse.so.10\n",
      "2022-08-25 23:27:53.724736: I tensorflow/stream_executor/platform/default/dso_loader.cc:49] Successfully opened dynamic library libcudnn.so.7\n",
      "2022-08-25 23:27:53.724833: I tensorflow/stream_executor/cuda/cuda_gpu_executor.cc:941] successful NUMA node read from SysFS had negative value (-1), but there must be at least one NUMA node, so returning NUMA node zero\n",
      "2022-08-25 23:27:53.725177: I tensorflow/stream_executor/cuda/cuda_gpu_executor.cc:941] successful NUMA node read from SysFS had negative value (-1), but there must be at least one NUMA node, so returning NUMA node zero\n",
      "2022-08-25 23:27:53.725437: I tensorflow/core/common_runtime/gpu/gpu_device.cc:1862] Adding visible gpu devices: 0\n",
      "2022-08-25 23:27:53.725467: I tensorflow/stream_executor/platform/default/dso_loader.cc:49] Successfully opened dynamic library libcudart.so.10.1\n",
      "2022-08-25 23:27:54.051694: I tensorflow/core/common_runtime/gpu/gpu_device.cc:1261] Device interconnect StreamExecutor with strength 1 edge matrix:\n",
      "2022-08-25 23:27:54.051718: I tensorflow/core/common_runtime/gpu/gpu_device.cc:1267]      0 \n",
      "2022-08-25 23:27:54.051746: I tensorflow/core/common_runtime/gpu/gpu_device.cc:1280] 0:   N \n",
      "2022-08-25 23:27:54.051929: I tensorflow/stream_executor/cuda/cuda_gpu_executor.cc:941] successful NUMA node read from SysFS had negative value (-1), but there must be at least one NUMA node, so returning NUMA node zero\n",
      "2022-08-25 23:27:54.052309: I tensorflow/stream_executor/cuda/cuda_gpu_executor.cc:941] successful NUMA node read from SysFS had negative value (-1), but there must be at least one NUMA node, so returning NUMA node zero\n",
      "2022-08-25 23:27:54.052618: I tensorflow/stream_executor/cuda/cuda_gpu_executor.cc:941] successful NUMA node read from SysFS had negative value (-1), but there must be at least one NUMA node, so returning NUMA node zero\n",
      "2022-08-25 23:27:54.052910: I tensorflow/core/common_runtime/gpu/gpu_device.cc:1406] Created TensorFlow device (/job:localhost/replica:0/task:0/device:GPU:0 with 10020 MB memory) -> physical GPU (device: 0, name: NVIDIA GeForce RTX 2080 Ti, pci bus id: 0000:01:00.0, compute capability: 7.5)\n"
     ]
    }
   ],
   "source": [
    "from tensorflow.compat.v1 import ConfigProto\n",
    "from tensorflow.compat.v1 import InteractiveSession\n",
    "\n",
    "config = ConfigProto()\n",
    "config.gpu_options.allow_growth = True\n",
    "session = InteractiveSession(config=config)"
   ]
  },
  {
   "cell_type": "code",
   "execution_count": 3,
   "metadata": {},
   "outputs": [],
   "source": [
    "# input_data_path =r'C:/Users/conm/Desktop/Stenosis-Project/Stenosis detection/input'\n",
    "\n",
    "train_path = '/home/lunet/conm/Desktop/Stenosis-Project/output/train/stenosis'\n",
    "\n",
    "# train_path1 = r'C:\\Users\\conm\\Desktop\\Stenosis-Project\\train_images'\n",
    "\n",
    "test_path = '/home/lunet/conm/Desktop/Stenosis-Project/test_images'\n",
    "\n",
    "val_path = '/home/lunet/conm/Desktop/Stenosis-Project/output/val/stenosis'\n",
    "\n",
    "train_path2 = '/home/lunet/conm/Desktop/Stenosis-Project/output2/train/stenosis'\n",
    "\n",
    "val_path2 = '/home/lunet/conm/Desktop/Stenosis-Project/output2/val/stenosis'\n",
    "\n",
    "# train_path2 = r'C:\\Users\\conm\\Desktop\\Stenosis-Project\\Dataset_Reduced\\train\\images'"
   ]
  },
  {
   "cell_type": "code",
   "execution_count": 4,
   "metadata": {},
   "outputs": [
    {
     "data": {
      "text/plain": [
       "5993"
      ]
     },
     "execution_count": 4,
     "metadata": {},
     "output_type": "execute_result"
    }
   ],
   "source": [
    "train_labels_csv = pd.read_csv('train_labels.csv')\n",
    "train_labels_csv_3 = pd.read_csv('train_labels_3.csv')\n",
    "len(train_labels_csv_3)"
   ]
  },
  {
   "cell_type": "code",
   "execution_count": 5,
   "metadata": {},
   "outputs": [],
   "source": [
    "test_labels_csv = pd.read_csv('test_labels.csv')"
   ]
  },
  {
   "cell_type": "code",
   "execution_count": 6,
   "metadata": {},
   "outputs": [],
   "source": [
    "val_labels_csv = pd.read_csv('val_labels.csv')\n",
    "val_labels_csv_2 = pd.read_csv('val_labels_2.csv')"
   ]
  },
  {
   "cell_type": "code",
   "execution_count": 7,
   "metadata": {},
   "outputs": [],
   "source": [
    "train_images = []\n",
    "train_targets = []\n",
    "\n",
    "val_images = []\n",
    "val_targets = []\n",
    "\n",
    "test_images = []\n",
    "test_targets = []"
   ]
  },
  {
   "cell_type": "code",
   "execution_count": 8,
   "metadata": {},
   "outputs": [],
   "source": [
    "for index, row in train_labels_csv_3.iterrows():\n",
    "    (filename, width, height, class_name, xmin, ymin, xmax, ymax) = row\n",
    "\n",
    "    pic = cv2.imread(os.path.join(train_path2,filename))\n",
    "    \n",
    "    x = pic.shape[0]\n",
    "    y = pic.shape[1]\n",
    "\n",
    "    img_Target_size = 224\n",
    "    x_scale = img_Target_size / x\n",
    "    y_scale = img_Target_size / y\n",
    "\n",
    "\n",
    "    pic = cv2.resize(pic, (img_Target_size, img_Target_size))\n",
    "\n",
    "    pic = pic / x\n",
    "\n",
    "    xmin = float(xmin * x_scale)\n",
    "    ymin = float(ymin * y_scale)\n",
    "    xmax = float(xmax * x_scale)\n",
    "    ymax = float(ymax * y_scale)\n",
    "\n",
    "    # xmin = xmin / 224 \n",
    "    # ymin = ymin / 224\n",
    "    # xmax = xmax / 224\n",
    "    # ymax = ymax / 224\n",
    "    \n",
    "    train_images.append(pic)\n",
    "    train_targets.append((xmin, ymin, xmax, ymax))"
   ]
  },
  {
   "cell_type": "code",
   "execution_count": 9,
   "metadata": {},
   "outputs": [],
   "source": [
    "for index, row in val_labels_csv_2.iterrows():\n",
    "    (filename, width, height, class_name, xmin, ymin, xmax, ymax) = row\n",
    "\n",
    "    pic = cv2.imread(os.path.join(val_path2,filename))\n",
    "    \n",
    "    x = pic.shape[0]\n",
    "    y = pic.shape[1]\n",
    "    \n",
    "    img_Target_size = 224\n",
    "    x_scale = img_Target_size / x\n",
    "    y_scale = img_Target_size / y\n",
    "\n",
    "    pic = cv2.resize(pic, (img_Target_size, img_Target_size))\n",
    "\n",
    "    pic = pic / x\n",
    "\n",
    "    xmin = float(xmin * x_scale)\n",
    "    ymin = float(ymin * y_scale)\n",
    "    xmax = float(xmax * x_scale)\n",
    "    ymax = float(ymax * y_scale)\n",
    "\n",
    "    # xmin = xmin / img_Target_size\n",
    "    # ymin = ymin / img_Target_size\n",
    "    # xmax = xmax / img_Target_size\n",
    "    # ymax = ymax / img_Target_size\n",
    "    # print(x, y, xmax, ymax)\n",
    "\n",
    "    val_images.append(pic)\n",
    "    val_targets.append((xmin, ymin, xmax, ymax))"
   ]
  },
  {
   "cell_type": "code",
   "execution_count": 10,
   "metadata": {},
   "outputs": [],
   "source": [
    "for index, row in test_labels_csv.iterrows():\n",
    "    (filename, width, height, class_name, xmin, ymin, xmax, ymax) = row\n",
    "\n",
    "    pic = cv2.imread(os.path.join(test_path,filename))\n",
    "\n",
    "    x = pic.shape[0]\n",
    "    y = pic.shape[1]\n",
    "    \n",
    "    img_Target_size = 224\n",
    "    x_scale = img_Target_size / x\n",
    "    y_scale = img_Target_size / y\n",
    "\n",
    "    pic = cv2.resize(pic, (img_Target_size, img_Target_size))\n",
    "    \n",
    "    pic = pic / x\n",
    "\n",
    "    xmin = float(xmin * x_scale)\n",
    "    ymin = float(ymin * y_scale)\n",
    "    xmax = float(xmax * x_scale)\n",
    "    ymax = float(ymax * y_scale)\n",
    "\n",
    "    # xmin = xmin / img_Target_size\n",
    "    # ymin = ymin / img_Target_size\n",
    "    # xmax = xmax / img_Target_size\n",
    "    # ymax = ymax / img_Target_size\n",
    "    \n",
    "    # print(x, y, xmax, ymax)\n",
    "\n",
    "    test_images.append(pic)\n",
    "    test_targets.append((xmin, ymin, xmax, ymax))"
   ]
  },
  {
   "cell_type": "code",
   "execution_count": 11,
   "metadata": {},
   "outputs": [],
   "source": [
    "train_images = np.array(train_images).astype('float32')\n",
    "train_targets = np.array(train_targets).astype('float32')"
   ]
  },
  {
   "cell_type": "code",
   "execution_count": 12,
   "metadata": {},
   "outputs": [],
   "source": [
    "val_images = np.array(val_images).astype('float32')\n",
    "val_targets = np.array(val_targets).astype('float32')"
   ]
  },
  {
   "cell_type": "code",
   "execution_count": 13,
   "metadata": {},
   "outputs": [],
   "source": [
    "test_images = np.array(test_images).astype('float32')\n",
    "test_targets = np.array(test_targets).astype('float32')"
   ]
  },
  {
   "cell_type": "code",
   "execution_count": 14,
   "metadata": {},
   "outputs": [],
   "source": [
    "# val_images /= 255.0\n",
    "# train_images /= 255.0\n",
    "# test_images /= 255.0"
   ]
  },
  {
   "cell_type": "code",
   "execution_count": 15,
   "metadata": {},
   "outputs": [
    {
     "data": {
      "text/plain": [
       "array([ 97.5625,  76.125 , 105.    ,  81.8125])"
      ]
     },
     "execution_count": 15,
     "metadata": {},
     "output_type": "execute_result"
    }
   ],
   "source": [
    "train_targets[0]"
   ]
  },
  {
   "cell_type": "code",
   "execution_count": 16,
   "metadata": {},
   "outputs": [
    {
     "data": {
      "image/png": "[encoded data removed]",
      "text/plain": [
       "<Figure size 432x288 with 1 Axes>"
      ]
     },
     "metadata": {
      "needs_background": "light"
     },
     "output_type": "display_data"
    }
   ],
   "source": [
    "plt.imshow(train_images[0].astype('float32'))\n",
    "plt.show()"
   ]
  },
  {
   "cell_type": "code",
   "execution_count": 17,
   "metadata": {},
   "outputs": [],
   "source": [
    "# Calculate average precision\n",
    "def calculate_ap(actual, predicted):\n",
    "    actual = np.array(actual)\n",
    "    predicted = np.array(predicted)\n",
    "\n",
    "    true_positives = np.sum(np.round(actual[:, 0]) * np.round(predicted[:, 0]))\n",
    "    false_positives = np.sum(np.round(actual[:, 0]) * np.round(predicted[:, 1]))\n",
    "    false_negatives = np.sum(np.round(actual[:, 1]) * np.round(predicted[:, 0]))\n",
    "\n",
    "    precision = true_positives / (true_positives + false_positives)\n",
    "    recall = true_positives / (true_positives + false_negatives)\n",
    "\n",
    "    return (precision, recall)\n",
    "    \n",
    "def perf_measure(y_actual, y_hat):\n",
    "    TP = 0\n",
    "    FP = 0\n",
    "    TN = 0\n",
    "    FN = 0\n",
    "\n",
    "    for i in range(len(y_hat)): \n",
    "        if y_actual[i]==y_hat[i]==1:\n",
    "           TP += 1\n",
    "        if y_hat[i]==1 and y_actual[i]!=y_hat[i]:\n",
    "           FP += 1\n",
    "        if y_actual[i]==y_hat[i]==0:\n",
    "           TN += 1\n",
    "        if y_hat[i]==0 and y_actual[i]!=y_hat[i]:\n",
    "           FN += 1\n",
    "\n",
    "    return(TP, FP, TN, FN)\n",
    "\n",
    "# def mean_average_precision():\n"
   ]
  },
  {
   "cell_type": "code",
   "execution_count": 18,
   "metadata": {},
   "outputs": [
    {
     "data": {
      "text/plain": [
       "(5993, 4)"
      ]
     },
     "execution_count": 18,
     "metadata": {},
     "output_type": "execute_result"
    }
   ],
   "source": [
    "train_targets.shape"
   ]
  },
  {
   "cell_type": "code",
   "execution_count": 19,
   "metadata": {},
   "outputs": [],
   "source": [
    "dataGenerator = ImageDataGenerator()"
   ]
  },
  {
   "cell_type": "code",
   "execution_count": 20,
   "metadata": {},
   "outputs": [],
   "source": [
    "es = EarlyStopping(monitor='val_loss', mode='min', verbose=1, patience=10)"
   ]
  },
  {
   "cell_type": "code",
   "execution_count": 21,
   "metadata": {},
   "outputs": [
    {
     "name": "stderr",
     "output_type": "stream",
     "text": [
      "2022-08-25 23:30:01.335296: I tensorflow/compiler/jit/xla_cpu_device.cc:41] Not creating XLA devices, tf_xla_enable_xla_devices not set\n",
      "2022-08-25 23:30:01.368141: I tensorflow/stream_executor/cuda/cuda_gpu_executor.cc:941] successful NUMA node read from SysFS had negative value (-1), but there must be at least one NUMA node, so returning NUMA node zero\n",
      "2022-08-25 23:30:01.369616: I tensorflow/core/common_runtime/gpu/gpu_device.cc:1720] Found device 0 with properties: \n",
      "pciBusID: 0000:01:00.0 name: NVIDIA GeForce RTX 2080 Ti computeCapability: 7.5\n",
      "coreClock: 1.545GHz coreCount: 68 deviceMemorySize: 10.76GiB deviceMemoryBandwidth: 573.69GiB/s\n",
      "2022-08-25 23:30:01.369732: I tensorflow/stream_executor/platform/default/dso_loader.cc:49] Successfully opened dynamic library libcudart.so.10.1\n",
      "2022-08-25 23:30:01.369805: I tensorflow/stream_executor/platform/default/dso_loader.cc:49] Successfully opened dynamic library libcublas.so.10\n",
      "2022-08-25 23:30:01.369861: I tensorflow/stream_executor/platform/default/dso_loader.cc:49] Successfully opened dynamic library libcublasLt.so.10\n",
      "2022-08-25 23:30:01.369914: I tensorflow/stream_executor/platform/default/dso_loader.cc:49] Successfully opened dynamic library libcufft.so.10\n",
      "2022-08-25 23:30:01.369969: I tensorflow/stream_executor/platform/default/dso_loader.cc:49] Successfully opened dynamic library libcurand.so.10\n",
      "2022-08-25 23:30:01.370022: I tensorflow/stream_executor/platform/default/dso_loader.cc:49] Successfully opened dynamic library libcusolver.so.10\n",
      "2022-08-25 23:30:01.370074: I tensorflow/stream_executor/platform/default/dso_loader.cc:49] Successfully opened dynamic library libcusparse.so.10\n",
      "2022-08-25 23:30:01.370131: I tensorflow/stream_executor/platform/default/dso_loader.cc:49] Successfully opened dynamic library libcudnn.so.7\n",
      "2022-08-25 23:30:01.370322: I tensorflow/stream_executor/cuda/cuda_gpu_executor.cc:941] successful NUMA node read from SysFS had negative value (-1), but there must be at least one NUMA node, so returning NUMA node zero\n",
      "2022-08-25 23:30:01.371806: I tensorflow/stream_executor/cuda/cuda_gpu_executor.cc:941] successful NUMA node read from SysFS had negative value (-1), but there must be at least one NUMA node, so returning NUMA node zero\n",
      "2022-08-25 23:30:01.373104: I tensorflow/core/common_runtime/gpu/gpu_device.cc:1862] Adding visible gpu devices: 0\n",
      "2022-08-25 23:30:01.373820: I tensorflow/compiler/jit/xla_gpu_device.cc:99] Not creating XLA devices, tf_xla_enable_xla_devices not set\n",
      "2022-08-25 23:30:01.374097: I tensorflow/stream_executor/cuda/cuda_gpu_executor.cc:941] successful NUMA node read from SysFS had negative value (-1), but there must be at least one NUMA node, so returning NUMA node zero\n",
      "2022-08-25 23:30:01.375482: I tensorflow/core/common_runtime/gpu/gpu_device.cc:1720] Found device 0 with properties: \n",
      "pciBusID: 0000:01:00.0 name: NVIDIA GeForce RTX 2080 Ti computeCapability: 7.5\n",
      "coreClock: 1.545GHz coreCount: 68 deviceMemorySize: 10.76GiB deviceMemoryBandwidth: 573.69GiB/s\n",
      "2022-08-25 23:30:01.375559: I tensorflow/stream_executor/platform/default/dso_loader.cc:49] Successfully opened dynamic library libcudart.so.10.1\n",
      "2022-08-25 23:30:01.375618: I tensorflow/stream_executor/platform/default/dso_loader.cc:49] Successfully opened dynamic library libcublas.so.10\n",
      "2022-08-25 23:30:01.375675: I tensorflow/stream_executor/platform/default/dso_loader.cc:49] Successfully opened dynamic library libcublasLt.so.10\n",
      "2022-08-25 23:30:01.375728: I tensorflow/stream_executor/platform/default/dso_loader.cc:49] Successfully opened dynamic library libcufft.so.10\n",
      "2022-08-25 23:30:01.375782: I tensorflow/stream_executor/platform/default/dso_loader.cc:49] Successfully opened dynamic library libcurand.so.10\n",
      "2022-08-25 23:30:01.375835: I tensorflow/stream_executor/platform/default/dso_loader.cc:49] Successfully opened dynamic library libcusolver.so.10\n",
      "2022-08-25 23:30:01.375889: I tensorflow/stream_executor/platform/default/dso_loader.cc:49] Successfully opened dynamic library libcusparse.so.10\n",
      "2022-08-25 23:30:01.375943: I tensorflow/stream_executor/platform/default/dso_loader.cc:49] Successfully opened dynamic library libcudnn.so.7\n",
      "2022-08-25 23:30:01.376120: I tensorflow/stream_executor/cuda/cuda_gpu_executor.cc:941] successful NUMA node read from SysFS had negative value (-1), but there must be at least one NUMA node, so returning NUMA node zero\n",
      "2022-08-25 23:30:01.377564: I tensorflow/stream_executor/cuda/cuda_gpu_executor.cc:941] successful NUMA node read from SysFS had negative value (-1), but there must be at least one NUMA node, so returning NUMA node zero\n",
      "2022-08-25 23:30:01.378868: I tensorflow/core/common_runtime/gpu/gpu_device.cc:1862] Adding visible gpu devices: 0\n",
      "2022-08-25 23:30:01.378969: I tensorflow/core/common_runtime/gpu/gpu_device.cc:1261] Device interconnect StreamExecutor with strength 1 edge matrix:\n",
      "2022-08-25 23:30:01.378987: I tensorflow/core/common_runtime/gpu/gpu_device.cc:1267]      0 \n",
      "2022-08-25 23:30:01.379001: I tensorflow/core/common_runtime/gpu/gpu_device.cc:1280] 0:   N \n",
      "2022-08-25 23:30:01.379260: I tensorflow/stream_executor/cuda/cuda_gpu_executor.cc:941] successful NUMA node read from SysFS had negative value (-1), but there must be at least one NUMA node, so returning NUMA node zero\n",
      "2022-08-25 23:30:01.380702: I tensorflow/stream_executor/cuda/cuda_gpu_executor.cc:941] successful NUMA node read from SysFS had negative value (-1), but there must be at least one NUMA node, so returning NUMA node zero\n",
      "2022-08-25 23:30:01.382024: I tensorflow/core/common_runtime/gpu/gpu_device.cc:1406] Created TensorFlow device (/job:localhost/replica:0/task:0/device:GPU:0 with 10020 MB memory) -> physical GPU (device: 0, name: NVIDIA GeForce RTX 2080 Ti, pci bus id: 0000:01:00.0, compute capability: 7.5)\n"
     ]
    }
   ],
   "source": [
    "visible = Input(shape=(224, 224, 3))\n",
    "\n",
    "x = Conv2D(64, 3, padding='same', name='conv_1')(visible)\n",
    "x = LeakyReLU(alpha=0.1)(x)\n",
    "# x = RandomFlip(mode='horizontal', seed=None)(x)\n",
    "x = BatchNormalization()(x)\n",
    "block_1 = MaxPool2D(3)(x)\n",
    "\n",
    "x = Conv2D(64, (3, 3), padding='same', name='conv_2')(block_1)\n",
    "x = LeakyReLU(alpha=0.1)(x)\n",
    "x = BatchNormalization()(x)\n",
    "block_2 = Add()([x, block_1])\n",
    "\n",
    "x = Conv2D(64, (3, 3), padding='same', name='conv_3')(block_2)\n",
    "x = LeakyReLU(alpha=0.1)(x)\n",
    "x = BatchNormalization()(x)\n",
    "# x = MaxPool2D(pool_size=(2, 2), padding='same')(x)\n",
    "block_3 = Add()([x, block_2])\n",
    "\n",
    "x = Conv2D(64, (3, 3), padding='same', name='conv_4')(block_3)\n",
    "x = LeakyReLU(alpha=0.1)(x)\n",
    "x = BatchNormalization()(x)\n",
    "# x = MaxPool2D(pool_size=(2, 2), padding='same')(x)\n",
    "block_4 = Add()([x, block_3])\n",
    "\n",
    "x = Conv2D(64, (3, 3), padding='same', name='conv_5')(block_4)\n",
    "x = LeakyReLU(alpha=0.1)(x)\n",
    "x = BatchNormalization()(x)\n",
    "# x = MaxPool2D(pool_size=(2, 2), padding='same')(x)\n",
    "block_5 = Add()([x, block_4])\n",
    "\n",
    "x = Conv2D(64, (3, 3), padding='same', name='conv_6')(block_5)\n",
    "x = LeakyReLU(alpha=0.1)(x)\n",
    "x = BatchNormalization()(x)\n",
    "# x = MaxPool2D(pool_size=(2, 2), padding='same')(x)\n",
    "block_6 = Add()([x, block_5])\n",
    "\n",
    "x = Conv2D(64, (3, 3), padding='same', name='conv_7')(block_6)\n",
    "x = LeakyReLU(alpha=0.1)(x)\n",
    "x = BatchNormalization()(x)\n",
    "# x = MaxPool2D(pool_size=(2, 2), padding='same')(x)\n",
    "block_7 = Add()([x, block_6])\n",
    "\n",
    "x = Conv2D(64, (3, 3), padding='same', name='conv_8')(block_7)\n",
    "x = LeakyReLU(alpha=0.1)(x)\n",
    "x = BatchNormalization()(x)\n",
    "# x = MaxPool2D(pool_size=(2, 2), padding='same')(x)\n",
    "block_8 = Add()([x, block_7])\n",
    "\n",
    "x = Conv2D(64, (3, 3), padding='same', name='conv_9')(block_8)\n",
    "x = LeakyReLU(alpha=0.1)(x)\n",
    "x = BatchNormalization()(x)\n",
    "# x = MaxPool2D(pool_size=(2, 2), padding='same')(x)\n",
    "block_9 = Add()([x, block_8])\n",
    "\n",
    "x = Conv2D(64, (3, 3), padding='same', name='conv_10')(block_9)\n",
    "x = LeakyReLU(alpha=0.1)(x)\n",
    "x = BatchNormalization()(x)\n",
    "# x = MaxPool2D(pool_size=(2, 2), padding='same')(x)\n",
    "block_10 = Add()([x, block_9])\n",
    "\n",
    "x = Conv2D(64, (3, 3), padding='same', name='conv_11')(block_10)\n",
    "x = LeakyReLU(alpha=0.1)(x)\n",
    "x = BatchNormalization()(x)\n",
    "# x = MaxPool2D(pool_size=(2, 2), padding='same')(x)\n",
    "block_11 = Add()([x, block_10])\n",
    "\n",
    "x = Conv2D(64, (3, 3), padding='same', name='conv_12')(block_11)\n",
    "x = LeakyReLU(alpha=0.1)(x)\n",
    "x = BatchNormalization()(x)\n",
    "# x = MaxPool2D(pool_size=(2, 2), padding='same')(x)\n",
    "block_12 = Add()([x, block_11])\n",
    "\n",
    "x = Conv2D(64, (3, 3), padding='same', name='conv_13')(block_12)\n",
    "x = LeakyReLU(alpha=0.1)(x)\n",
    "x = BatchNormalization()(x)\n",
    "# x = MaxPool2D(pool_size=(2, 2), padding='same')(x)\n",
    "block_13 = Add()([x, block_12])\n",
    "\n",
    "x = Conv2D(64, (3, 3), padding='same', name='conv_14')(block_13)\n",
    "x = LeakyReLU(alpha=0.1)(x)\n",
    "x = BatchNormalization()(x)\n",
    "# x = MaxPool2D(pool_size=(2, 2), padding='same')(x)\n",
    "block_14 = Add()([x, block_13])\n",
    "\n",
    "glob_layer = GlobalAveragePooling2D()(block_14)\n",
    "# flat_layer = Flatten()(block_14)\n",
    "x = Dropout(0.35)(glob_layer)\n",
    "x = Dense(256, kernel_regularizer=regularizers.l2(0.1))(x)\n",
    "x = LeakyReLU(alpha=0.1)(x)\n",
    "x = Dropout(0.35)(x)\n",
    "\n",
    "outputs = Dense(4)(x)\n",
    "\n",
    "model = Model(visible, outputs, name='Functional_Model')\n",
    "\n",
    "# model.summary()"
   ]
  },
  {
   "cell_type": "code",
   "execution_count": 22,
   "metadata": {},
   "outputs": [],
   "source": [
    "def get_iou(ground_truth, pred):\n",
    "    # coordinates of the area of intersection.\n",
    "    ix1 = np.maximum(ground_truth[0], pred[0])\n",
    "    iy1 = np.maximum(ground_truth[1], pred[1])\n",
    "    ix2 = np.minimum(ground_truth[2], pred[2])\n",
    "    iy2 = np.minimum(ground_truth[3], pred[3])\n",
    "    \n",
    "    # Intersection height and width.\n",
    "    i_height = np.maximum(iy2 - iy1 + 1, np.array(0.))\n",
    "    i_width = np.maximum(ix2 - ix1 + 1, np.array(0.))\n",
    "    \n",
    "    area_of_intersection = i_height * i_width\n",
    "    \n",
    "    # Ground Truth dimensions.\n",
    "    gt_height = ground_truth[3] - ground_truth[1] + 1\n",
    "    gt_width = ground_truth[2] - ground_truth[0] + 1\n",
    "    \n",
    "    # Prediction dimensions.\n",
    "    pd_height = pred[3] - pred[1] + 1\n",
    "    pd_width = pred[2] - pred[0] + 1\n",
    "    \n",
    "    area_of_union = gt_height * gt_width + pd_height * pd_width - area_of_intersection\n",
    "    \n",
    "    iou = area_of_intersection / area_of_union\n",
    "    \n",
    "    return iou"
   ]
  },
  {
   "cell_type": "code",
   "execution_count": 26,
   "metadata": {},
   "outputs": [],
   "source": [
    "# Use mean average precision function in compile model\n",
    "model.compile(loss='mse', optimizer='adam', metrics=[tf.keras.metrics.MeanIoU(num_classes=5)])\n"
   ]
  },
  {
   "cell_type": "code",
   "execution_count": 27,
   "metadata": {},
   "outputs": [
    {
     "name": "stdout",
     "output_type": "stream",
     "text": [
      "Epoch 1/250\n"
     ]
    },
    {
     "ename": "InvalidArgumentError",
     "evalue": "2 root error(s) found.\n  (0) Invalid argument:  assertion failed: [`predictions` contains negative values] [Condition x >= 0 did not hold element-wise:] [x (confusion_matrix/Cast:0) = ] [1 -4 2...]\n\t [[{{node confusion_matrix/assert_non_negative_1/assert_less_equal/Assert/AssertGuard/else/_10/confusion_matrix/assert_non_negative_1/assert_less_equal/Assert/AssertGuard/Assert}}]]\n\t [[confusion_matrix/assert_less_1/All/_122]]\n  (1) Invalid argument:  assertion failed: [`predictions` contains negative values] [Condition x >= 0 did not hold element-wise:] [x (confusion_matrix/Cast:0) = ] [1 -4 2...]\n\t [[{{node confusion_matrix/assert_non_negative_1/assert_less_equal/Assert/AssertGuard/else/_10/confusion_matrix/assert_non_negative_1/assert_less_equal/Assert/AssertGuard/Assert}}]]\n0 successful operations.\n0 derived errors ignored. [Op:__inference_train_function_7371]\n\nFunction call stack:\ntrain_function -> train_function\n",
     "output_type": "error",
     "traceback": [
      "\u001b[0;31m---------------------------------------------------------------------------\u001b[0m",
      "\u001b[0;31mInvalidArgumentError\u001b[0m                      Traceback (most recent call last)",
      "\u001b[1;32m/home/lunet/conm/Desktop/Stenosis-Project/functional.ipynb Cell 24\u001b[0m in \u001b[0;36m<cell line: 5>\u001b[0;34m()\u001b[0m\n\u001b[1;32m      <a href='vscode-notebook-cell://ssh-remote%2Blnx-n109-04.lunet.lboro.ac.uk/home/lunet/conm/Desktop/Stenosis-Project/functional.ipynb#X31sdnNjb2RlLXJlbW90ZQ%3D%3D?line=1'>2</a>\u001b[0m np\u001b[39m.\u001b[39mrandom\u001b[39m.\u001b[39mseed(\u001b[39m15\u001b[39m)\n\u001b[1;32m      <a href='vscode-notebook-cell://ssh-remote%2Blnx-n109-04.lunet.lboro.ac.uk/home/lunet/conm/Desktop/Stenosis-Project/functional.ipynb#X31sdnNjb2RlLXJlbW90ZQ%3D%3D?line=2'>3</a>\u001b[0m tf\u001b[39m.\u001b[39mrandom\u001b[39m.\u001b[39mset_seed(\u001b[39m15\u001b[39m)\n\u001b[0;32m----> <a href='vscode-notebook-cell://ssh-remote%2Blnx-n109-04.lunet.lboro.ac.uk/home/lunet/conm/Desktop/Stenosis-Project/functional.ipynb#X31sdnNjb2RlLXJlbW90ZQ%3D%3D?line=4'>5</a>\u001b[0m model_history \u001b[39m=\u001b[39m model\u001b[39m.\u001b[39;49mfit(dataGenerator\u001b[39m.\u001b[39;49mflow(train_images, train_targets, batch_size\u001b[39m=\u001b[39;49m\u001b[39m32\u001b[39;49m),\n\u001b[1;32m      <a href='vscode-notebook-cell://ssh-remote%2Blnx-n109-04.lunet.lboro.ac.uk/home/lunet/conm/Desktop/Stenosis-Project/functional.ipynb#X31sdnNjb2RlLXJlbW90ZQ%3D%3D?line=5'>6</a>\u001b[0m                             validation_data\u001b[39m=\u001b[39;49m(val_images, val_targets), \n\u001b[1;32m      <a href='vscode-notebook-cell://ssh-remote%2Blnx-n109-04.lunet.lboro.ac.uk/home/lunet/conm/Desktop/Stenosis-Project/functional.ipynb#X31sdnNjb2RlLXJlbW90ZQ%3D%3D?line=6'>7</a>\u001b[0m                             epochs\u001b[39m=\u001b[39;49m\u001b[39m250\u001b[39;49m, callbacks\u001b[39m=\u001b[39;49m[es], verbose\u001b[39m=\u001b[39;49m\u001b[39m1\u001b[39;49m, shuffle\u001b[39m=\u001b[39;49m\u001b[39mTrue\u001b[39;49;00m)\n",
      "File \u001b[0;32m~/.conda/envs/stenosis/lib/python3.8/site-packages/tensorflow/python/keras/engine/training.py:1100\u001b[0m, in \u001b[0;36mModel.fit\u001b[0;34m(self, x, y, batch_size, epochs, verbose, callbacks, validation_split, validation_data, shuffle, class_weight, sample_weight, initial_epoch, steps_per_epoch, validation_steps, validation_batch_size, validation_freq, max_queue_size, workers, use_multiprocessing)\u001b[0m\n\u001b[1;32m   1093\u001b[0m \u001b[39mwith\u001b[39;00m trace\u001b[39m.\u001b[39mTrace(\n\u001b[1;32m   1094\u001b[0m     \u001b[39m'\u001b[39m\u001b[39mtrain\u001b[39m\u001b[39m'\u001b[39m,\n\u001b[1;32m   1095\u001b[0m     epoch_num\u001b[39m=\u001b[39mepoch,\n\u001b[1;32m   1096\u001b[0m     step_num\u001b[39m=\u001b[39mstep,\n\u001b[1;32m   1097\u001b[0m     batch_size\u001b[39m=\u001b[39mbatch_size,\n\u001b[1;32m   1098\u001b[0m     _r\u001b[39m=\u001b[39m\u001b[39m1\u001b[39m):\n\u001b[1;32m   1099\u001b[0m   callbacks\u001b[39m.\u001b[39mon_train_batch_begin(step)\n\u001b[0;32m-> 1100\u001b[0m   tmp_logs \u001b[39m=\u001b[39m \u001b[39mself\u001b[39;49m\u001b[39m.\u001b[39;49mtrain_function(iterator)\n\u001b[1;32m   1101\u001b[0m   \u001b[39mif\u001b[39;00m data_handler\u001b[39m.\u001b[39mshould_sync:\n\u001b[1;32m   1102\u001b[0m     context\u001b[39m.\u001b[39masync_wait()\n",
      "File \u001b[0;32m~/.conda/envs/stenosis/lib/python3.8/site-packages/tensorflow/python/eager/def_function.py:828\u001b[0m, in \u001b[0;36mFunction.__call__\u001b[0;34m(self, *args, **kwds)\u001b[0m\n\u001b[1;32m    826\u001b[0m tracing_count \u001b[39m=\u001b[39m \u001b[39mself\u001b[39m\u001b[39m.\u001b[39mexperimental_get_tracing_count()\n\u001b[1;32m    827\u001b[0m \u001b[39mwith\u001b[39;00m trace\u001b[39m.\u001b[39mTrace(\u001b[39mself\u001b[39m\u001b[39m.\u001b[39m_name) \u001b[39mas\u001b[39;00m tm:\n\u001b[0;32m--> 828\u001b[0m   result \u001b[39m=\u001b[39m \u001b[39mself\u001b[39;49m\u001b[39m.\u001b[39;49m_call(\u001b[39m*\u001b[39;49margs, \u001b[39m*\u001b[39;49m\u001b[39m*\u001b[39;49mkwds)\n\u001b[1;32m    829\u001b[0m   compiler \u001b[39m=\u001b[39m \u001b[39m\"\u001b[39m\u001b[39mxla\u001b[39m\u001b[39m\"\u001b[39m \u001b[39mif\u001b[39;00m \u001b[39mself\u001b[39m\u001b[39m.\u001b[39m_experimental_compile \u001b[39melse\u001b[39;00m \u001b[39m\"\u001b[39m\u001b[39mnonXla\u001b[39m\u001b[39m\"\u001b[39m\n\u001b[1;32m    830\u001b[0m   new_tracing_count \u001b[39m=\u001b[39m \u001b[39mself\u001b[39m\u001b[39m.\u001b[39mexperimental_get_tracing_count()\n",
      "File \u001b[0;32m~/.conda/envs/stenosis/lib/python3.8/site-packages/tensorflow/python/eager/def_function.py:888\u001b[0m, in \u001b[0;36mFunction._call\u001b[0;34m(self, *args, **kwds)\u001b[0m\n\u001b[1;32m    884\u001b[0m     \u001b[39mpass\u001b[39;00m  \u001b[39m# Fall through to cond-based initialization.\u001b[39;00m\n\u001b[1;32m    885\u001b[0m   \u001b[39melse\u001b[39;00m:\n\u001b[1;32m    886\u001b[0m     \u001b[39m# Lifting succeeded, so variables are initialized and we can run the\u001b[39;00m\n\u001b[1;32m    887\u001b[0m     \u001b[39m# stateless function.\u001b[39;00m\n\u001b[0;32m--> 888\u001b[0m     \u001b[39mreturn\u001b[39;00m \u001b[39mself\u001b[39;49m\u001b[39m.\u001b[39;49m_stateless_fn(\u001b[39m*\u001b[39;49margs, \u001b[39m*\u001b[39;49m\u001b[39m*\u001b[39;49mkwds)\n\u001b[1;32m    889\u001b[0m \u001b[39melse\u001b[39;00m:\n\u001b[1;32m    890\u001b[0m   _, _, _, filtered_flat_args \u001b[39m=\u001b[39m \\\n\u001b[1;32m    891\u001b[0m       \u001b[39mself\u001b[39m\u001b[39m.\u001b[39m_stateful_fn\u001b[39m.\u001b[39m_function_spec\u001b[39m.\u001b[39mcanonicalize_function_inputs(  \u001b[39m# pylint: disable=protected-access\u001b[39;00m\n\u001b[1;32m    892\u001b[0m           \u001b[39m*\u001b[39margs, \u001b[39m*\u001b[39m\u001b[39m*\u001b[39mkwds)\n",
      "File \u001b[0;32m~/.conda/envs/stenosis/lib/python3.8/site-packages/tensorflow/python/eager/function.py:2942\u001b[0m, in \u001b[0;36mFunction.__call__\u001b[0;34m(self, *args, **kwargs)\u001b[0m\n\u001b[1;32m   2939\u001b[0m \u001b[39mwith\u001b[39;00m \u001b[39mself\u001b[39m\u001b[39m.\u001b[39m_lock:\n\u001b[1;32m   2940\u001b[0m   (graph_function,\n\u001b[1;32m   2941\u001b[0m    filtered_flat_args) \u001b[39m=\u001b[39m \u001b[39mself\u001b[39m\u001b[39m.\u001b[39m_maybe_define_function(args, kwargs)\n\u001b[0;32m-> 2942\u001b[0m \u001b[39mreturn\u001b[39;00m graph_function\u001b[39m.\u001b[39;49m_call_flat(\n\u001b[1;32m   2943\u001b[0m     filtered_flat_args, captured_inputs\u001b[39m=\u001b[39;49mgraph_function\u001b[39m.\u001b[39;49mcaptured_inputs)\n",
      "File \u001b[0;32m~/.conda/envs/stenosis/lib/python3.8/site-packages/tensorflow/python/eager/function.py:1918\u001b[0m, in \u001b[0;36mConcreteFunction._call_flat\u001b[0;34m(self, args, captured_inputs, cancellation_manager)\u001b[0m\n\u001b[1;32m   1914\u001b[0m possible_gradient_type \u001b[39m=\u001b[39m gradients_util\u001b[39m.\u001b[39mPossibleTapeGradientTypes(args)\n\u001b[1;32m   1915\u001b[0m \u001b[39mif\u001b[39;00m (possible_gradient_type \u001b[39m==\u001b[39m gradients_util\u001b[39m.\u001b[39mPOSSIBLE_GRADIENT_TYPES_NONE\n\u001b[1;32m   1916\u001b[0m     \u001b[39mand\u001b[39;00m executing_eagerly):\n\u001b[1;32m   1917\u001b[0m   \u001b[39m# No tape is watching; skip to running the function.\u001b[39;00m\n\u001b[0;32m-> 1918\u001b[0m   \u001b[39mreturn\u001b[39;00m \u001b[39mself\u001b[39m\u001b[39m.\u001b[39m_build_call_outputs(\u001b[39mself\u001b[39;49m\u001b[39m.\u001b[39;49m_inference_function\u001b[39m.\u001b[39;49mcall(\n\u001b[1;32m   1919\u001b[0m       ctx, args, cancellation_manager\u001b[39m=\u001b[39;49mcancellation_manager))\n\u001b[1;32m   1920\u001b[0m forward_backward \u001b[39m=\u001b[39m \u001b[39mself\u001b[39m\u001b[39m.\u001b[39m_select_forward_and_backward_functions(\n\u001b[1;32m   1921\u001b[0m     args,\n\u001b[1;32m   1922\u001b[0m     possible_gradient_type,\n\u001b[1;32m   1923\u001b[0m     executing_eagerly)\n\u001b[1;32m   1924\u001b[0m forward_function, args_with_tangents \u001b[39m=\u001b[39m forward_backward\u001b[39m.\u001b[39mforward()\n",
      "File \u001b[0;32m~/.conda/envs/stenosis/lib/python3.8/site-packages/tensorflow/python/eager/function.py:555\u001b[0m, in \u001b[0;36m_EagerDefinedFunction.call\u001b[0;34m(self, ctx, args, cancellation_manager)\u001b[0m\n\u001b[1;32m    553\u001b[0m \u001b[39mwith\u001b[39;00m _InterpolateFunctionError(\u001b[39mself\u001b[39m):\n\u001b[1;32m    554\u001b[0m   \u001b[39mif\u001b[39;00m cancellation_manager \u001b[39mis\u001b[39;00m \u001b[39mNone\u001b[39;00m:\n\u001b[0;32m--> 555\u001b[0m     outputs \u001b[39m=\u001b[39m execute\u001b[39m.\u001b[39;49mexecute(\n\u001b[1;32m    556\u001b[0m         \u001b[39mstr\u001b[39;49m(\u001b[39mself\u001b[39;49m\u001b[39m.\u001b[39;49msignature\u001b[39m.\u001b[39;49mname),\n\u001b[1;32m    557\u001b[0m         num_outputs\u001b[39m=\u001b[39;49m\u001b[39mself\u001b[39;49m\u001b[39m.\u001b[39;49m_num_outputs,\n\u001b[1;32m    558\u001b[0m         inputs\u001b[39m=\u001b[39;49margs,\n\u001b[1;32m    559\u001b[0m         attrs\u001b[39m=\u001b[39;49mattrs,\n\u001b[1;32m    560\u001b[0m         ctx\u001b[39m=\u001b[39;49mctx)\n\u001b[1;32m    561\u001b[0m   \u001b[39melse\u001b[39;00m:\n\u001b[1;32m    562\u001b[0m     outputs \u001b[39m=\u001b[39m execute\u001b[39m.\u001b[39mexecute_with_cancellation(\n\u001b[1;32m    563\u001b[0m         \u001b[39mstr\u001b[39m(\u001b[39mself\u001b[39m\u001b[39m.\u001b[39msignature\u001b[39m.\u001b[39mname),\n\u001b[1;32m    564\u001b[0m         num_outputs\u001b[39m=\u001b[39m\u001b[39mself\u001b[39m\u001b[39m.\u001b[39m_num_outputs,\n\u001b[0;32m   (...)\u001b[0m\n\u001b[1;32m    567\u001b[0m         ctx\u001b[39m=\u001b[39mctx,\n\u001b[1;32m    568\u001b[0m         cancellation_manager\u001b[39m=\u001b[39mcancellation_manager)\n",
      "File \u001b[0;32m~/.conda/envs/stenosis/lib/python3.8/site-packages/tensorflow/python/eager/execute.py:59\u001b[0m, in \u001b[0;36mquick_execute\u001b[0;34m(op_name, num_outputs, inputs, attrs, ctx, name)\u001b[0m\n\u001b[1;32m     57\u001b[0m \u001b[39mtry\u001b[39;00m:\n\u001b[1;32m     58\u001b[0m   ctx\u001b[39m.\u001b[39mensure_initialized()\n\u001b[0;32m---> 59\u001b[0m   tensors \u001b[39m=\u001b[39m pywrap_tfe\u001b[39m.\u001b[39;49mTFE_Py_Execute(ctx\u001b[39m.\u001b[39;49m_handle, device_name, op_name,\n\u001b[1;32m     60\u001b[0m                                       inputs, attrs, num_outputs)\n\u001b[1;32m     61\u001b[0m \u001b[39mexcept\u001b[39;00m core\u001b[39m.\u001b[39m_NotOkStatusException \u001b[39mas\u001b[39;00m e:\n\u001b[1;32m     62\u001b[0m   \u001b[39mif\u001b[39;00m name \u001b[39mis\u001b[39;00m \u001b[39mnot\u001b[39;00m \u001b[39mNone\u001b[39;00m:\n",
      "\u001b[0;31mInvalidArgumentError\u001b[0m: 2 root error(s) found.\n  (0) Invalid argument:  assertion failed: [`predictions` contains negative values] [Condition x >= 0 did not hold element-wise:] [x (confusion_matrix/Cast:0) = ] [1 -4 2...]\n\t [[{{node confusion_matrix/assert_non_negative_1/assert_less_equal/Assert/AssertGuard/else/_10/confusion_matrix/assert_non_negative_1/assert_less_equal/Assert/AssertGuard/Assert}}]]\n\t [[confusion_matrix/assert_less_1/All/_122]]\n  (1) Invalid argument:  assertion failed: [`predictions` contains negative values] [Condition x >= 0 did not hold element-wise:] [x (confusion_matrix/Cast:0) = ] [1 -4 2...]\n\t [[{{node confusion_matrix/assert_non_negative_1/assert_less_equal/Assert/AssertGuard/else/_10/confusion_matrix/assert_non_negative_1/assert_less_equal/Assert/AssertGuard/Assert}}]]\n0 successful operations.\n0 derived errors ignored. [Op:__inference_train_function_7371]\n\nFunction call stack:\ntrain_function -> train_function\n"
     ]
    }
   ],
   "source": [
    "keras.backend.clear_session()\n",
    "np.random.seed(15)\n",
    "tf.random.set_seed(15)\n",
    "\n",
    "model_history = model.fit(dataGenerator.flow(train_images, train_targets, batch_size=32),\n",
    "                            validation_data=(val_images, val_targets), \n",
    "                            epochs=250, callbacks=[es], verbose=1, shuffle=True)"
   ]
  },
  {
   "cell_type": "code",
   "execution_count": null,
   "metadata": {},
   "outputs": [
    {
     "data": {
      "image/png": "[encoded data removed]",
      "text/plain": [
       "<Figure size 432x288 with 1 Axes>"
      ]
     },
     "metadata": {
      "needs_background": "light"
     },
     "output_type": "display_data"
    }
   ],
   "source": [
    "plt.plot(model_history.history['mean_average_precision_metric'])\n",
    "plt.plot(model_history.history['val_mean_average_precision_metric'])\n",
    "plt.title('Model mean average precision')\n",
    "plt.ylabel('mean average precision')\n",
    "plt.xlabel('epoch')\n",
    "plt.legend(['train', 'val'], loc='lower right')\n",
    "plt.show()"
   ]
  },
  {
   "cell_type": "code",
   "execution_count": null,
   "metadata": {},
   "outputs": [
    {
     "name": "stdout",
     "output_type": "stream",
     "text": [
      "27/27 [==============================] - 1s 40ms/step - loss: 0.5013 - mean_average_precision_metric: 0.7510\n"
     ]
    },
    {
     "data": {
      "text/plain": [
       "[0.5012810826301575, 0.7509669661521912]"
      ]
     },
     "execution_count": 26,
     "metadata": {},
     "output_type": "execute_result"
    }
   ],
   "source": [
    "model.evaluate(test_images, test_targets, verbose=1, batch_size=32)\n"
   ]
  },
  {
   "cell_type": "code",
   "execution_count": null,
   "metadata": {},
   "outputs": [
    {
     "data": {
      "text/plain": [
       "array([[ 80., 103.,  91., 111.],\n",
       "       [ 46.,  44.,  56.,  56.],\n",
       "       [129.,  94., 137., 106.],\n",
       "       ...,\n",
       "       [ 35., 129.,  48., 150.],\n",
       "       [ 33., 108.,  44., 124.],\n",
       "       [ 40.,  25.,  54.,  42.]], dtype=float32)"
      ]
     },
     "execution_count": 24,
     "metadata": {},
     "output_type": "execute_result"
    }
   ],
   "source": [
    "test_targets"
   ]
  },
  {
   "cell_type": "code",
   "execution_count": null,
   "metadata": {},
   "outputs": [
    {
     "name": "stdout",
     "output_type": "stream",
     "text": [
      "27/27 [==============================] - 1s 35ms/step\n"
     ]
    },
    {
     "data": {
      "text/plain": [
       "array([[ 0.453582  , -0.77037424,  0.18388225, -0.5058354 ],\n",
       "       [ 0.46199664, -0.8105623 ,  0.18144496, -0.53760207],\n",
       "       [ 0.44983238, -0.7860531 ,  0.17520867, -0.51882756],\n",
       "       ...,\n",
       "       [ 0.14568879, -0.2676347 , -0.0451306 , -0.07486263],\n",
       "       [ 0.15167573, -0.28793648, -0.04400159, -0.0922803 ],\n",
       "       [ 0.32220957, -0.59563893,  0.06939319, -0.3598003 ]],\n",
       "      dtype=float32)"
      ]
     },
     "execution_count": 27,
     "metadata": {},
     "output_type": "execute_result"
    }
   ],
   "source": [
    "model.save('dummy.h5')\n",
    "model_load = load_model('dummy.h5')\n",
    "model_load.predict(test_images, verbose=1, batch_size=32)\n"
   ]
  },
  {
   "cell_type": "code",
   "execution_count": null,
   "metadata": {},
   "outputs": [
    {
     "name": "stdout",
     "output_type": "stream",
     "text": [
      "287 369 328 398\n",
      "165 160 202 202\n",
      "460 336 491 378\n",
      "128 136 189 157\n",
      "322 177 350 230\n"
     ]
    },
    {
     "data": {
      "image/png": "[encoded data removed]",
      "text/plain": [
       "<Figure size 1080x1080 with 2 Axes>"
      ]
     },
     "metadata": {
      "needs_background": "light"
     },
     "output_type": "display_data"
    },
    {
     "data": {
      "image/png": "[encoded data removed]",
      "text/plain": [
       "<Figure size 1080x1080 with 2 Axes>"
      ]
     },
     "metadata": {
      "needs_background": "light"
     },
     "output_type": "display_data"
    },
    {
     "data": {
      "image/png": "[encoded data removed]",
      "text/plain": [
       "<Figure size 1080x1080 with 2 Axes>"
      ]
     },
     "metadata": {
      "needs_background": "light"
     },
     "output_type": "display_data"
    },
    {
     "data": {
      "image/png": "[encoded data removed]",
      "text/plain": [
       "<Figure size 1080x1080 with 2 Axes>"
      ]
     },
     "metadata": {
      "needs_background": "light"
     },
     "output_type": "display_data"
    },
    {
     "data": {
      "image/png": "[encoded data removed]",
      "text/plain": [
       "<Figure size 1080x1080 with 2 Axes>"
      ]
     },
     "metadata": {
      "needs_background": "light"
     },
     "output_type": "display_data"
    }
   ],
   "source": [
    "# To calculate IoU (intersection over union, given two bounding boxes)\n",
    "# To calculate IoU (intersection over union, given two bounding boxes)\n",
    "def bounding_box_intersection_over_union(box_predicted, box_truth):\n",
    "    # get (x, y) coordinates of intersection of bounding boxes\n",
    "    top_x_intersect = max(box_predicted[0], box_truth[0])\n",
    "    top_y_intersect = max(box_predicted[1], box_truth[1])\n",
    "    bottom_x_intersect = min(box_predicted[2], box_truth[2])\n",
    "    bottom_y_intersect = min(box_predicted[3], box_truth[3])\n",
    "\n",
    "    # calculate area of the intersection bb (bounding box)\n",
    "    intersection_area = max(0, bottom_x_intersect - top_x_intersect + 1) * max(\n",
    "        0, bottom_y_intersect - top_y_intersect + 1\n",
    "    )\n",
    "\n",
    "    # calculate area of the prediction bb and ground-truth bb\n",
    "    box_predicted_area = (box_predicted[2] - box_predicted[0] + 1) * (\n",
    "        box_predicted[3] - box_predicted[1] + 1\n",
    "    )\n",
    "    box_truth_area = (box_truth[2] - box_truth[0] + 1) * (\n",
    "        box_truth[3] - box_truth[1] + 1\n",
    "    )\n",
    "\n",
    "    # calculate intersection over union by taking intersection\n",
    "    # area and dividing it by the sum of predicted bb and ground truth\n",
    "    # bb areas subtracted by  the interesection area\n",
    "\n",
    "    # return ioU\n",
    "    return intersection_area / float (\n",
    "        box_predicted_area + box_truth_area - intersection_area\n",
    "    )\n",
    "\n",
    "\n",
    "i, mean_iou = 0, 0\n",
    "\n",
    "# Compare results for 10 images in the test set\n",
    "for input_image in test_images[:5]:\n",
    "    fig, (ax1, ax2) = plt.subplots(1, 2, figsize=(15, 15), sharey=True, sharex=True)\n",
    "    im = input_image\n",
    "    \n",
    "    # plt.margins(x=0, y=0)\n",
    "\n",
    "    # Display the image\n",
    "    ax1.imshow(im)\n",
    "    ax2.imshow(im)\n",
    "\n",
    "    input_image = cv2.resize(\n",
    "        input_image, (224, 224)\n",
    "    )\n",
    "    input_image = np.expand_dims(input_image, axis=0)\n",
    "    preds = model_load.predict(input_image)[0]\n",
    "\n",
    "    (h, w) = (im).shape[0:2]\n",
    "\n",
    "    top_left_x, top_left_y = int(preds[0] * w), int(preds[1] * h)\n",
    "\n",
    "    bottom_right_x, bottom_right_y = int(preds[2] * w), int(preds[3] * h)\n",
    "\n",
    "    box_predicted = [top_left_x, top_left_y, bottom_right_x, bottom_right_y]\n",
    "    # Create the bounding box\n",
    "    rect = patches.Rectangle(\n",
    "        (top_left_x, top_left_y),\n",
    "        bottom_right_x - top_left_x,\n",
    "        bottom_right_y - top_left_y,\n",
    "        facecolor=\"none\",\n",
    "        edgecolor=\"red\",\n",
    "        linewidth=1,\n",
    "    )\n",
    "    # Add the bounding box to the image\n",
    "    ax1.add_patch(rect)\n",
    "    ax1.set_xlabel(\n",
    "        \"Predicted: \"\n",
    "        + str(top_left_x)\n",
    "        + \", \"\n",
    "        + str(top_left_y)\n",
    "        + \", \"\n",
    "        + str(bottom_right_x)\n",
    "        + \", \"\n",
    "        + str(bottom_right_y)\n",
    "    )\n",
    "\n",
    "    top_left_x, top_left_y = int(test_targets[i][0] * w), int(test_targets[i][1] * h)\n",
    "\n",
    "    bottom_right_x, bottom_right_y = int(test_targets[i][2] * w), int(test_targets[i][3] * h)\n",
    "\n",
    "    box_truth = top_left_x, top_left_y, bottom_right_x, bottom_right_y\n",
    "\n",
    "    mean_iou += bounding_box_intersection_over_union(box_predicted, box_truth)\n",
    "    # Create the bounding box\n",
    "    rect = patches.Rectangle(\n",
    "        (top_left_x, top_left_y),\n",
    "        bottom_right_x - top_left_x,\n",
    "        bottom_right_y - top_left_y,\n",
    "        facecolor=\"none\",\n",
    "        edgecolor=\"red\",\n",
    "        linewidth=1,\n",
    "    )\n",
    "    # Add the bounding box to the image\n",
    "    ax2.add_patch(rect)\n",
    "    # print(top_left_x, top_left_y, bottom_right_x,bottom_right_y)\n",
    "    ax2.set_xlabel(\n",
    "        \"Target: \"\n",
    "        + str(top_left_x)\n",
    "        + \", \"\n",
    "        + str(top_left_y)\n",
    "        + \", \"\n",
    "        + str(bottom_right_x)\n",
    "        + \", \"\n",
    "        + str(bottom_right_y)\n",
    "        + \"\\n\"\n",
    "        + \"IoU\"\n",
    "        + str(bounding_box_intersection_over_union(box_predicted, box_truth))\n",
    "    )\n",
    "    print(top_left_x, top_left_y, bottom_right_x,bottom_right_y)\n",
    "    # type(top_left_x)\n",
    "    i = i + 1\n",
    "plt.show()"
   ]
  },
  {
   "cell_type": "code",
   "execution_count": null,
   "metadata": {},
   "outputs": [
    {
     "ename": "TypeError",
     "evalue": "argument for rectangle() given by name ('color') and position (3)",
     "output_type": "error",
     "traceback": [
      "\u001b[0;31m---------------------------------------------------------------------------\u001b[0m",
      "\u001b[0;31mTypeError\u001b[0m                                 Traceback (most recent call last)",
      "\u001b[1;32m/home/lunet/conm/Desktop/Stenosis-Project/functional.ipynb Cell 28\u001b[0m in \u001b[0;36m<cell line: 1>\u001b[0;34m()\u001b[0m\n\u001b[0;32m----> <a href='vscode-notebook-cell://ssh-remote%2Blnx-n109-04.lunet.lboro.ac.uk/home/lunet/conm/Desktop/Stenosis-Project/functional.ipynb#X41sdnNjb2RlLXJlbW90ZQ%3D%3D?line=0'>1</a>\u001b[0m image \u001b[39m=\u001b[39m cv2\u001b[39m.\u001b[39;49mrectangle(train_images[\u001b[39m1\u001b[39;49m], (train_targets[\u001b[39m1\u001b[39;49m][\u001b[39m0\u001b[39;49m],train_targets[\u001b[39m1\u001b[39;49m][\u001b[39m1\u001b[39;49m]), (train_targets[\u001b[39m1\u001b[39;49m][\u001b[39m2\u001b[39;49m],train_targets[\u001b[39m1\u001b[39;49m][\u001b[39m3\u001b[39;49m]), color\u001b[39m=\u001b[39;49m(\u001b[39m0\u001b[39;49m,\u001b[39m255\u001b[39;49m,\u001b[39m0\u001b[39;49m))\n\u001b[1;32m      <a href='vscode-notebook-cell://ssh-remote%2Blnx-n109-04.lunet.lboro.ac.uk/home/lunet/conm/Desktop/Stenosis-Project/functional.ipynb#X41sdnNjb2RlLXJlbW90ZQ%3D%3D?line=1'>2</a>\u001b[0m plt\u001b[39m.\u001b[39mimshow((image)\u001b[39m.\u001b[39mastype(\u001b[39m'\u001b[39m\u001b[39mfloat32\u001b[39m\u001b[39m'\u001b[39m))\n",
      "\u001b[0;31mTypeError\u001b[0m: argument for rectangle() given by name ('color') and position (3)"
     ]
    }
   ],
   "source": [
    "image = cv2.rectangle(train_images[1], (train_targets[1][0],train_targets[1][1]), (train_targets[1][2],train_targets[1][3]), color=(0,255,0))\n",
    "plt.imshow((image).astype('float32'))"
   ]
  },
  {
   "cell_type": "code",
   "execution_count": null,
   "metadata": {},
   "outputs": [
    {
     "name": "stdout",
     "output_type": "stream",
     "text": [
      "(512, 512, 3)\n",
      "512\n",
      "0.4375 0.4375\n",
      "(224, 224, 3)\n",
      "78.0 65.0 90.0 73.0\n"
     ]
    }
   ],
   "source": [
    "def drawBox(boxes, image):\n",
    "    for i in range(0, len(boxes)):\n",
    "        # changed color and width to make it visible\n",
    "        cv2.rectangle(image, (boxes[i][2], boxes[i][3]), (boxes[i][4], boxes[i][5]), (255, 0, 0), 1)\n",
    "    plt.imshow(\"img\", image)\n",
    "    # cv2.waitKey(0)\n",
    "    # cv2.destroyAllWindows()\n",
    "\n",
    "\n",
    "def cvTest():\n",
    "    # imageToPredict = cv2.imread(\"img.jpg\", 3)\n",
    "    imageToPredict = cv2.imread(\"/home/lunet/conm/Desktop/Stenosis-Project/output2/val/stenosis/14_002_5_0016.bmp\", 3)\n",
    "    print(imageToPredict.shape)\n",
    "\n",
    "    # Note: flipped comparing to your original code!\n",
    "    # x_ = imageToPredict.shape[0]\n",
    "    # y_ = imageToPredict.shape[1]\n",
    "    y_ = imageToPredict.shape[0]\n",
    "    print(y_)\n",
    "    x_ = imageToPredict.shape[1]\n",
    "\n",
    "    targetSize = 224\n",
    "    x_scale = targetSize / x_\n",
    "    y_scale = targetSize / y_\n",
    "    print(x_scale, y_scale)\n",
    "    img = cv2.resize(imageToPredict, (targetSize, targetSize));\n",
    "    print(img.shape)\n",
    "    img = np.array(img);\n",
    "\n",
    "    # original frame as named values\n",
    "    (origLeft, origTop, origRight, origBottom) = (179,148,206,167)\n",
    "\n",
    "    x = float(np.round(origLeft * x_scale))\n",
    "    y = float(np.round(origTop * y_scale))\n",
    "    xmax = float(np.round(origRight * x_scale))\n",
    "    ymax = float(np.round(origBottom * y_scale))\n",
    "    print(x, y, xmax, ymax)\n",
    "    # Box.drawBox([[1, 0, x, y, xmax, ymax]], img)\n",
    "    # drawBox([[1, 0, x, y, xmax, ymax]], img)\n",
    "\n",
    "\n",
    "cvTest()"
   ]
  },
  {
   "cell_type": "code",
   "execution_count": null,
   "metadata": {},
   "outputs": [],
   "source": [
    "# val_images = []\n",
    "# val_targets = []"
   ]
  },
  {
   "cell_type": "code",
   "execution_count": null,
   "metadata": {},
   "outputs": [],
   "source": [
    "# for index, row in val_labels_csv_2.iterrows():\n",
    "#     (filename, width, height, class_name, xmin, ymin, xmax, ymax) = row\n",
    "\n",
    "#     pic = cv2.imread(os.path.join(val_path2,filename))\n",
    "#     # Resize the images according to the original image size dimensions\n",
    "#     pic = cv2.resize(pic, (224, 224))\n",
    "\n",
    "\n",
    "#     # xmin *= 224\n",
    "#     # ymin *= 224\n",
    "#     # xmax *= 224\n",
    "#     # ymax *= 224\n",
    "    \n",
    "#     val_images.append(pic)\n",
    "#     val_targets.append((xmin, ymin, xmax, ymax))"
   ]
  },
  {
   "cell_type": "code",
   "execution_count": null,
   "metadata": {},
   "outputs": [
    {
     "data": {
      "text/plain": [
       "(78.0, 65.0, 90.0, 73.0)"
      ]
     },
     "execution_count": 48,
     "metadata": {},
     "output_type": "execute_result"
    }
   ],
   "source": [
    "# val_targets[0]"
   ]
  },
  {
   "cell_type": "code",
   "execution_count": null,
   "metadata": {},
   "outputs": [
    {
     "data": {
      "text/plain": [
       "array([78., 65., 90., 73.], dtype=float32)"
      ]
     },
     "execution_count": 52,
     "metadata": {},
     "output_type": "execute_result"
    }
   ],
   "source": [
    "# val_targets[0]"
   ]
  },
  {
   "cell_type": "code",
   "execution_count": null,
   "metadata": {},
   "outputs": [],
   "source": [
    "# val_images = np.array(val_images).astype('float32')\n",
    "# val_targets = np.array(val_targets).astype('float32')"
   ]
  }
 ],
 "metadata": {
  "kernelspec": {
   "display_name": "Python 3.8.0 ('stenosis')",
   "language": "python",
   "name": "python3"
  },
  "language_info": {
   "codemirror_mode": {
    "name": "ipython",
    "version": 3
   },
   "file_extension": ".py",
   "mimetype": "text/x-python",
   "name": "python",
   "nbconvert_exporter": "python",
   "pygments_lexer": "ipython3",
   "version": "3.8.0"
  },
  "orig_nbformat": 4,
  "vscode": {
   "interpreter": {
    "hash": "19ff9c7f21e688b0a63937d8e235404e49de4020bbe9a8cd3aa9033c665804ef"
   }
  }
 },
 "nbformat": 4,
 "nbformat_minor": 2
}
